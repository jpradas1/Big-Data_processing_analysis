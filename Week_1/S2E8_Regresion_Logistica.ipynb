{
 "cells": [
  {
   "cell_type": "markdown",
   "metadata": {
    "collapsed": true
   },
   "source": [
    "# Modelo de Regresión Logística"
   ]
  },
  {
   "cell_type": "code",
   "execution_count": 1,
   "metadata": {
    "collapsed": true
   },
   "outputs": [],
   "source": [
    "#from pyspark import SparkContext\n",
    "#sc = SparkContext()\n",
    "#from pyspark.sql import SQLContext\n",
    "#sqlContext=SQLContext(sc)"
   ]
  },
  {
   "cell_type": "code",
   "execution_count": 2,
   "metadata": {
    "collapsed": true
   },
   "outputs": [],
   "source": [
    "bd5 = sqlContext.read.format(\n",
    "    \"com.databricks.spark.csv\"\n",
    ").option(\"header\", \"true\").load(\"bd5.csv\", inferSchema=True)\n",
    "sqlContext.registerDataFrameAsTable(bd5, \"bd5\")"
   ]
  },
  {
   "cell_type": "code",
   "execution_count": 3,
   "metadata": {
    "collapsed": true
   },
   "outputs": [],
   "source": [
    "from pyspark.ml.feature import VectorAssembler\n",
    "\n",
    "bd5 = bd5.withColumn('Horario1',(bd5.Horario==1) \n",
    ").withColumn('Horario2',(bd5.Horario==2) \n",
    ").withColumn('Horario3',(bd5.Horario==3))\n",
    "\n",
    "# Términos cuadráticos añadidos manualmente\n",
    "bd5 = bd5.withColumn('DepDelay2',(bd5.DepDelay**2)\n",
    ").withColumn('DepD_Distance',(bd5.DepDelay * bd5.Distance)) "
   ]
  },
  {
   "cell_type": "markdown",
   "metadata": {},
   "source": [
    "## Descripción Previa de la Base de Datos"
   ]
  },
  {
   "cell_type": "markdown",
   "metadata": {},
   "source": [
    "Resumen Numérico"
   ]
  },
  {
   "cell_type": "code",
   "execution_count": 4,
   "metadata": {
    "collapsed": false
   },
   "outputs": [
    {
     "name": "stdout",
     "output_type": "stream",
     "text": [
      "+-------+-------------------+\n",
      "|summary|            Retraso|\n",
      "+-------+-------------------+\n",
      "|  count|              30466|\n",
      "|   mean| 0.2757500164117377|\n",
      "| stddev|0.44689875846318494|\n",
      "|    min|                  0|\n",
      "|    max|                  1|\n",
      "+-------+-------------------+\n",
      "\n"
     ]
    }
   ],
   "source": [
    "bd5.select('Retraso').describe().show()"
   ]
  },
  {
   "cell_type": "code",
   "execution_count": 5,
   "metadata": {
    "collapsed": false
   },
   "outputs": [
    {
     "data": {
      "text/html": [
       "<div>\n",
       "<table border=\"1\" class=\"dataframe\">\n",
       "  <thead>\n",
       "    <tr style=\"text-align: right;\">\n",
       "      <th></th>\n",
       "      <th>Retraso</th>\n",
       "      <th>ArrDelay</th>\n",
       "      <th>DepDelay</th>\n",
       "      <th>DayOfWeek</th>\n",
       "      <th>CRSDepTime</th>\n",
       "    </tr>\n",
       "  </thead>\n",
       "  <tbody>\n",
       "    <tr>\n",
       "      <th>Retraso</th>\n",
       "      <td>1.000000</td>\n",
       "      <td>0.650456</td>\n",
       "      <td>0.572242</td>\n",
       "      <td>0.044640</td>\n",
       "      <td>0.179658</td>\n",
       "    </tr>\n",
       "    <tr>\n",
       "      <th>ArrDelay</th>\n",
       "      <td>0.650456</td>\n",
       "      <td>1.000000</td>\n",
       "      <td>0.959762</td>\n",
       "      <td>0.055259</td>\n",
       "      <td>0.171944</td>\n",
       "    </tr>\n",
       "    <tr>\n",
       "      <th>DepDelay</th>\n",
       "      <td>0.572242</td>\n",
       "      <td>0.959762</td>\n",
       "      <td>1.000000</td>\n",
       "      <td>0.052946</td>\n",
       "      <td>0.156121</td>\n",
       "    </tr>\n",
       "    <tr>\n",
       "      <th>DayOfWeek</th>\n",
       "      <td>0.044640</td>\n",
       "      <td>0.055259</td>\n",
       "      <td>0.052946</td>\n",
       "      <td>1.000000</td>\n",
       "      <td>-0.022926</td>\n",
       "    </tr>\n",
       "    <tr>\n",
       "      <th>CRSDepTime</th>\n",
       "      <td>0.179658</td>\n",
       "      <td>0.171944</td>\n",
       "      <td>0.156121</td>\n",
       "      <td>-0.022926</td>\n",
       "      <td>1.000000</td>\n",
       "    </tr>\n",
       "  </tbody>\n",
       "</table>\n",
       "</div>"
      ],
      "text/plain": [
       "             Retraso  ArrDelay  DepDelay  DayOfWeek  CRSDepTime\n",
       "Retraso     1.000000  0.650456  0.572242   0.044640    0.179658\n",
       "ArrDelay    0.650456  1.000000  0.959762   0.055259    0.171944\n",
       "DepDelay    0.572242  0.959762  1.000000   0.052946    0.156121\n",
       "DayOfWeek   0.044640  0.055259  0.052946   1.000000   -0.022926\n",
       "CRSDepTime  0.179658  0.171944  0.156121  -0.022926    1.000000"
      ]
     },
     "execution_count": 5,
     "metadata": {},
     "output_type": "execute_result"
    }
   ],
   "source": [
    "pdf5 = bd5.sample(False, 0.1, 0).select('Retraso','ArrDelay','DepDelay','DayOfWeek','CRSDepTime').toPandas()\n",
    "pdf5.corr()"
   ]
  },
  {
   "cell_type": "code",
   "execution_count": 6,
   "metadata": {
    "collapsed": false
   },
   "outputs": [
    {
     "data": {
      "text/plain": [
       "<matplotlib.axes._subplots.AxesSubplot at 0x7f8c1ef6ea90>"
      ]
     },
     "execution_count": 6,
     "metadata": {},
     "output_type": "execute_result"
    },
    {
     "data": {
      "image/png": "[encoded data removed]",
      "text/plain": [
       "<matplotlib.figure.Figure at 0x7f8c57105ac8>"
      ]
     },
     "metadata": {},
     "output_type": "display_data"
    }
   ],
   "source": [
    "import seaborn as sns\n",
    "%matplotlib inline\n",
    "\n",
    "sns.boxplot(x='Retraso',y='DepDelay',data=pdf5)"
   ]
  },
  {
   "cell_type": "markdown",
   "metadata": {},
   "source": [
    "Configuración de la Base de Datos"
   ]
  },
  {
   "cell_type": "code",
   "execution_count": 7,
   "metadata": {
    "collapsed": false
   },
   "outputs": [],
   "source": [
    "from pyspark.sql.functions import col\n",
    "\n",
    "a1  = VectorAssembler(\n",
    "    inputCols=['DepDelay','Distance','DayOfWeek',\n",
    "               'CRSDepTime','Horario1','Horario2',\n",
    "               'Horario3','DepDelay2','DepD_Distance'],\n",
    "    outputCol='features')\n",
    "\n",
    "bd6 = a1.transform(bd5).select(col(\"Retraso\").cast('double').alias(\"label\"),'features')"
   ]
  },
  {
   "cell_type": "code",
   "execution_count": 8,
   "metadata": {
    "collapsed": false
   },
   "outputs": [
    {
     "name": "stdout",
     "output_type": "stream",
     "text": [
      "+-----+--------------------+\n",
      "|label|            features|\n",
      "+-----+--------------------+\n",
      "|  0.0|[-5.0,1235.0,4.0,...|\n",
      "|  0.0|[5.0,1235.0,5.0,8...|\n",
      "|  0.0|[-3.0,1235.0,6.0,...|\n",
      "|  0.0|[-7.0,1235.0,7.0,...|\n",
      "|  0.0|[-6.0,1235.0,1.0,...|\n",
      "|  0.0|[-1.0,1235.0,2.0,...|\n",
      "|  0.0|(9,[1,2,3,5],[123...|\n",
      "|  0.0|(9,[1,2,3,5],[123...|\n",
      "|  0.0|[-1.0,1235.0,5.0,...|\n",
      "|  0.0|[-1.0,1235.0,6.0,...|\n",
      "|  0.0|[1.0,1235.0,7.0,8...|\n",
      "|  0.0|[-2.0,1235.0,1.0,...|\n",
      "|  0.0|[-4.0,1235.0,2.0,...|\n",
      "|  0.0|[-1.0,1235.0,3.0,...|\n",
      "|  0.0|(9,[1,2,3,5],[123...|\n",
      "|  0.0|(9,[1,2,3,5],[123...|\n",
      "|  0.0|[13.0,1235.0,6.0,...|\n",
      "|  0.0|[17.0,1235.0,7.0,...|\n",
      "|  0.0|[12.0,1235.0,1.0,...|\n",
      "|  0.0|[19.0,1235.0,2.0,...|\n",
      "+-----+--------------------+\n",
      "only showing top 20 rows\n",
      "\n"
     ]
    }
   ],
   "source": [
    "bd6.show()"
   ]
  },
  {
   "cell_type": "markdown",
   "metadata": {},
   "source": [
    "## Ajuste del modelo"
   ]
  },
  {
   "cell_type": "code",
   "execution_count": 9,
   "metadata": {
    "collapsed": false
   },
   "outputs": [],
   "source": [
    "from pyspark.ml.classification import LogisticRegression\n",
    "\n",
    "lgr = LogisticRegression(maxIter=10, \n",
    "     labelCol=\"label\", \n",
    "     featuresCol=\"features\",\n",
    "     threshold=0.5)\n",
    "                        \n",
    "model = lgr.fit(bd6)"
   ]
  },
  {
   "cell_type": "code",
   "execution_count": 10,
   "metadata": {
    "collapsed": false
   },
   "outputs": [
    {
     "name": "stdout",
     "output_type": "stream",
     "text": [
      "-1.6228762950366733 [0.0174818630425,-0.000153907645432,0.00622037724017,0.000243814478493,-0.18527035429,0.0280656797875,0.0553254124157,1.4042617353e-06,9.64852764749e-06]\n"
     ]
    }
   ],
   "source": [
    "print(model.intercept,model.coefficients)"
   ]
  },
  {
   "cell_type": "markdown",
   "metadata": {},
   "source": [
    "Los valores predichos se obtienen de:\n",
    "\n",
    "$p_i = \\frac{e^{X_i\\beta}}{1+e^{X_i\\beta}}$\n",
    "\n",
    "Siendo $X_i\\beta  = \\beta_0 + \\beta_1 X_{1i} + ... \\beta_p X_{pi}$ los valores de raw_prediction.\n",
    "\n",
    "Los valores de raw_prediction se obtienen a partir de los coeficientes del modelo y las correspondientes variables explicativas"
   ]
  },
  {
   "cell_type": "code",
   "execution_count": 11,
   "metadata": {
    "collapsed": false
   },
   "outputs": [
    {
     "name": "stderr",
     "output_type": "stream",
     "text": [
      "/usr/lib/spark/python/pyspark/ml/classification.py:207: UserWarning: weights is deprecated. Use coefficients instead.\n",
      "  warnings.warn(\"weights is deprecated. Use coefficients instead.\")\n"
     ]
    },
    {
     "name": "stdout",
     "output_type": "stream",
     "text": [
      "+--------------------+--------------------+\n",
      "|       rawPrediction|         probability|\n",
      "+--------------------+--------------------+\n",
      "|[1.70093568096363...|[0.84565690072126...|\n",
      "|[1.40073735685147...|[0.80230086988420...|\n",
      "|[1.62972180529665...|[0.83613152532732...|\n",
      "|[1.74103643633586...|[0.85081866429966...|\n",
      "|[1.74897916049225...|[0.85182399800571...|\n",
      "|[1.59581895897683...|[0.83143321551653...|\n",
      "|[1.56020219131119...|[0.82638236420325...|\n",
      "|[1.55398181407102...|[0.82548808566343...|\n",
      "|[1.57715782725631...|[0.82880162030731...|\n",
      "|[1.57093745001614...|[0.82791720811509...|\n",
      "|[1.50592148340157...|[0.81845598417189...|\n",
      "|[1.63143291811899...|[0.83636583964822...|\n",
      "|[1.68399127911239...|[0.84343231920939...|\n",
      "|[1.58959858173665...|[0.83055961883374...|\n",
      "|[1.55398181407102...|[0.82548808566343...|\n",
      "|[1.54776143683085...|[0.82459017857110...|\n",
      "|[1.15913240842384...|[0.76117503319022...|\n",
      "|[1.03515234102664...|[0.73791356457766...|\n",
      "|[1.21966719585528...|[0.77200497677627...|\n",
      "|[1.00735753100816...|[0.73250269548236...|\n",
      "+--------------------+--------------------+\n",
      "only showing top 20 rows\n",
      "\n"
     ]
    }
   ],
   "source": [
    "pred = model.transform(bd6)\n",
    "pred.select('rawPrediction','probability').show(20)\n"
   ]
  },
  {
   "cell_type": "markdown",
   "metadata": {},
   "source": [
    "Los valores de *probability* son transformados a *prediction* empleando un punto de corte. \n",
    "\n",
    "Por defecto: 0.5"
   ]
  },
  {
   "cell_type": "code",
   "execution_count": 12,
   "metadata": {
    "collapsed": false
   },
   "outputs": [
    {
     "name": "stdout",
     "output_type": "stream",
     "text": [
      "+-----+----------+--------------------+\n",
      "|label|prediction|         probability|\n",
      "+-----+----------+--------------------+\n",
      "|  0.0|       0.0|[0.84565690072126...|\n",
      "|  0.0|       0.0|[0.80230086988420...|\n",
      "|  0.0|       0.0|[0.83613152532732...|\n",
      "|  0.0|       0.0|[0.85081866429966...|\n",
      "|  0.0|       0.0|[0.85182399800571...|\n",
      "|  0.0|       0.0|[0.83143321551653...|\n",
      "|  0.0|       0.0|[0.82638236420325...|\n",
      "|  0.0|       0.0|[0.82548808566343...|\n",
      "|  0.0|       0.0|[0.82880162030731...|\n",
      "|  0.0|       0.0|[0.82791720811509...|\n",
      "|  0.0|       0.0|[0.81845598417189...|\n",
      "|  0.0|       0.0|[0.83636583964822...|\n",
      "|  0.0|       0.0|[0.84343231920939...|\n",
      "|  0.0|       0.0|[0.83055961883374...|\n",
      "|  0.0|       0.0|[0.82548808566343...|\n",
      "|  0.0|       0.0|[0.82459017857110...|\n",
      "|  0.0|       0.0|[0.76117503319022...|\n",
      "|  0.0|       0.0|[0.73791356457766...|\n",
      "|  0.0|       0.0|[0.77200497677627...|\n",
      "|  0.0|       0.0|[0.73250269548236...|\n",
      "+-----+----------+--------------------+\n",
      "only showing top 20 rows\n",
      "\n"
     ]
    }
   ],
   "source": [
    "pred.select('label','prediction','probability').show(20)"
   ]
  },
  {
   "cell_type": "code",
   "execution_count": 13,
   "metadata": {
    "collapsed": false
   },
   "outputs": [
    {
     "name": "stdout",
     "output_type": "stream",
     "text": [
      "+-------+-------------------+-------------------+\n",
      "|summary|              label|         prediction|\n",
      "+-------+-------------------+-------------------+\n",
      "|  count|              30466|              30466|\n",
      "|   mean| 0.2757500164117377|0.10802205737543491|\n",
      "| stddev|0.44689875846318494| 0.3104133619056151|\n",
      "|    min|                0.0|                0.0|\n",
      "|    max|                1.0|                1.0|\n",
      "+-------+-------------------+-------------------+\n",
      "\n"
     ]
    }
   ],
   "source": [
    "pred.describe().show()"
   ]
  },
  {
   "cell_type": "markdown",
   "metadata": {},
   "source": [
    "### Ajuste"
   ]
  },
  {
   "cell_type": "code",
   "execution_count": 14,
   "metadata": {
    "collapsed": false
   },
   "outputs": [
    {
     "data": {
      "text/plain": [
       "0.9053308831809781"
      ]
     },
     "execution_count": 14,
     "metadata": {},
     "output_type": "execute_result"
    }
   ],
   "source": [
    "from pyspark.ml.evaluation import BinaryClassificationEvaluator as BCE\n",
    "\n",
    "evaluator=BCE(rawPredictionCol='rawPrediction',labelCol='label',\n",
    "              metricName = \"areaUnderROC\")\n",
    "#areaUnderPR\n",
    "evaluator.evaluate(pred)"
   ]
  },
  {
   "cell_type": "markdown",
   "metadata": {},
   "source": [
    "## Regularización y Selección de Variables"
   ]
  },
  {
   "cell_type": "markdown",
   "metadata": {},
   "source": [
    "regParam=0, sin penalización (OLS).\n",
    "\n",
    "elasticNetParam = 0, penalización L2 (Ridge). \n",
    "\n",
    "elasticNetParam = 1, penalización L1 (Lasso)."
   ]
  },
  {
   "cell_type": "markdown",
   "metadata": {},
   "source": [
    "Ridge Regression"
   ]
  },
  {
   "cell_type": "code",
   "execution_count": 21,
   "metadata": {
    "collapsed": false
   },
   "outputs": [
    {
     "name": "stdout",
     "output_type": "stream",
     "text": [
      "-1.3010322347928496 [0.00626416445529,-4.69845926539e-05,0.00776377758017,0.000137146605245,-0.108290451465,-0.00892144636168,0.0343034531299,9.52349580712e-07,3.75833657102e-06]\n"
     ]
    },
    {
     "name": "stderr",
     "output_type": "stream",
     "text": [
      "/usr/lib/spark/python/pyspark/ml/classification.py:207: UserWarning: weights is deprecated. Use coefficients instead.\n",
      "  warnings.warn(\"weights is deprecated. Use coefficients instead.\")\n"
     ]
    }
   ],
   "source": [
    "lgr = LogisticRegression(maxIter=10, \n",
    "     labelCol=\"label\", \n",
    "     featuresCol=\"features\",\n",
    "     regParam=0.5,\n",
    "     elasticNetParam=0.0)\n",
    "                        \n",
    "model = lgr.fit(bd6)\n",
    "pred = model.transform(bd6)\n",
    "print(model.intercept,model.coefficients)"
   ]
  },
  {
   "cell_type": "markdown",
   "metadata": {},
   "source": [
    "Lasso Regression"
   ]
  },
  {
   "cell_type": "code",
   "execution_count": 16,
   "metadata": {
    "collapsed": false
   },
   "outputs": [
    {
     "name": "stdout",
     "output_type": "stream",
     "text": [
      "-1.6402992418889197 (9,[0,1,2,8],[0.070204446606,-0.000311812101592,-0.014813395958,7.53966187492e-06])\n"
     ]
    },
    {
     "name": "stderr",
     "output_type": "stream",
     "text": [
      "/usr/lib/spark/python/pyspark/ml/classification.py:207: UserWarning: weights is deprecated. Use coefficients instead.\n",
      "  warnings.warn(\"weights is deprecated. Use coefficients instead.\")\n"
     ]
    }
   ],
   "source": [
    "lgr = LogisticRegression(maxIter=10, \n",
    "     labelCol=\"label\", \n",
    "     featuresCol=\"features\",\n",
    "     regParam=0.02,\n",
    "     elasticNetParam=1.0)\n",
    "                        \n",
    "model = lgr.fit(bd6)\n",
    "pred = model.transform(bd6)\n",
    "print(model.intercept,model.coefficients)"
   ]
  }
 ],
 "metadata": {
  "anaconda-cloud": {},
  "kernelspec": {
   "display_name": "Python [default]",
   "language": "python",
   "name": "python3"
  },
  "language_info": {
   "codemirror_mode": {
    "name": "ipython",
    "version": 3
   },
   "file_extension": ".py",
   "mimetype": "text/x-python",
   "name": "python",
   "nbconvert_exporter": "python",
   "pygments_lexer": "ipython3",
   "version": "3.5.2"
  }
 },
 "nbformat": 4,
 "nbformat_minor": 2
}
