{
 "cells": [
  {
   "cell_type": "markdown",
   "metadata": {
    "collapsed": true
   },
   "source": [
    "# Lectura de datos e Inspección inicial"
   ]
  },
  {
   "cell_type": "markdown",
   "metadata": {},
   "source": [
    "Definir SparkContext y SQLContext"
   ]
  },
  {
   "cell_type": "code",
   "execution_count": 1,
   "metadata": {
    "collapsed": true
   },
   "outputs": [
    {
     "name": "stderr",
     "output_type": "stream",
     "text": [
      "Setting default log level to \"WARN\".\n",
      "To adjust logging level use sc.setLogLevel(newLevel). For SparkR, use setLogLevel(newLevel).\n",
      "23/05/03 15:22:03 WARN NativeCodeLoader: Unable to load native-hadoop library for your platform... using builtin-java classes where applicable\n",
      "/home/uqbar/Desktop/Data-Science/Big-Data/Big-Data_procesamiento_analisis/bigdata/lib64/python3.10/site-packages/pyspark/sql/context.py:112: FutureWarning: Deprecated in 3.0.0. Use SparkSession.builder.getOrCreate() instead.\n",
      "  warnings.warn(\n"
     ]
    }
   ],
   "source": [
    "from pyspark import SparkContext\n",
    "sc = SparkContext()\n",
    "from pyspark.sql import SQLContext\n",
    "sqlContext=SQLContext(sc)"
   ]
  },
  {
   "cell_type": "code",
   "execution_count": 2,
   "metadata": {
    "collapsed": false
   },
   "outputs": [
    {
     "data": {
      "text/plain": [
       "'3.4.0'"
      ]
     },
     "execution_count": 2,
     "metadata": {},
     "output_type": "execute_result"
    }
   ],
   "source": [
    "sc.version"
   ]
  },
  {
   "cell_type": "markdown",
   "metadata": {},
   "source": [
    "Lectura del fichero de trabajo"
   ]
  },
  {
   "cell_type": "code",
   "execution_count": 3,
   "metadata": {
    "collapsed": false
   },
   "outputs": [
    {
     "ename": "AnalysisException",
     "evalue": "[PATH_NOT_FOUND] Path does not exist: file:/home/uqbar/Desktop/Data-Science/Big-Data/Big-Data_procesamiento_analisis/Modulo_1/notebooks/On_Time_On_Time_Performance_2016_12.csv.",
     "output_type": "error",
     "traceback": [
      "\u001b[0;31m---------------------------------------------------------------------------\u001b[0m",
      "\u001b[0;31mAnalysisException\u001b[0m                         Traceback (most recent call last)",
      "Cell \u001b[0;32mIn[3], line 1\u001b[0m\n\u001b[0;32m----> 1\u001b[0m bd \u001b[39m=\u001b[39m sqlContext\u001b[39m.\u001b[39;49mread\u001b[39m.\u001b[39;49mformat(\u001b[39m\"\u001b[39;49m\u001b[39mcom.databricks.spark.csv\u001b[39;49m\u001b[39m\"\u001b[39;49m\n\u001b[1;32m      2\u001b[0m )\u001b[39m.\u001b[39;49moption(\u001b[39m\"\u001b[39;49m\u001b[39mheader\u001b[39;49m\u001b[39m\"\u001b[39;49m, \u001b[39m\"\u001b[39;49m\u001b[39mtrue\u001b[39;49m\u001b[39m\"\u001b[39;49m\n\u001b[1;32m      3\u001b[0m )\u001b[39m.\u001b[39;49mload(\u001b[39m\"\u001b[39;49m\u001b[39mOn_Time_On_Time_Performance_2016_12.csv\u001b[39;49m\u001b[39m\"\u001b[39;49m, inferSchema\u001b[39m=\u001b[39;49m\u001b[39mTrue\u001b[39;49;00m\n\u001b[1;32m      4\u001b[0m )\n",
      "File \u001b[0;32m~/Desktop/Data-Science/Big-Data/Big-Data_procesamiento_analisis/bigdata/lib64/python3.10/site-packages/pyspark/sql/readwriter.py:300\u001b[0m, in \u001b[0;36mDataFrameReader.load\u001b[0;34m(self, path, format, schema, **options)\u001b[0m\n\u001b[1;32m    298\u001b[0m \u001b[39mself\u001b[39m\u001b[39m.\u001b[39moptions(\u001b[39m*\u001b[39m\u001b[39m*\u001b[39moptions)\n\u001b[1;32m    299\u001b[0m \u001b[39mif\u001b[39;00m \u001b[39misinstance\u001b[39m(path, \u001b[39mstr\u001b[39m):\n\u001b[0;32m--> 300\u001b[0m     \u001b[39mreturn\u001b[39;00m \u001b[39mself\u001b[39m\u001b[39m.\u001b[39m_df(\u001b[39mself\u001b[39;49m\u001b[39m.\u001b[39;49m_jreader\u001b[39m.\u001b[39;49mload(path))\n\u001b[1;32m    301\u001b[0m \u001b[39melif\u001b[39;00m path \u001b[39mis\u001b[39;00m \u001b[39mnot\u001b[39;00m \u001b[39mNone\u001b[39;00m:\n\u001b[1;32m    302\u001b[0m     \u001b[39mif\u001b[39;00m \u001b[39mtype\u001b[39m(path) \u001b[39m!=\u001b[39m \u001b[39mlist\u001b[39m:\n",
      "File \u001b[0;32m~/Desktop/Data-Science/Big-Data/Big-Data_procesamiento_analisis/bigdata/lib64/python3.10/site-packages/py4j/java_gateway.py:1322\u001b[0m, in \u001b[0;36mJavaMember.__call__\u001b[0;34m(self, *args)\u001b[0m\n\u001b[1;32m   1316\u001b[0m command \u001b[39m=\u001b[39m proto\u001b[39m.\u001b[39mCALL_COMMAND_NAME \u001b[39m+\u001b[39m\\\n\u001b[1;32m   1317\u001b[0m     \u001b[39mself\u001b[39m\u001b[39m.\u001b[39mcommand_header \u001b[39m+\u001b[39m\\\n\u001b[1;32m   1318\u001b[0m     args_command \u001b[39m+\u001b[39m\\\n\u001b[1;32m   1319\u001b[0m     proto\u001b[39m.\u001b[39mEND_COMMAND_PART\n\u001b[1;32m   1321\u001b[0m answer \u001b[39m=\u001b[39m \u001b[39mself\u001b[39m\u001b[39m.\u001b[39mgateway_client\u001b[39m.\u001b[39msend_command(command)\n\u001b[0;32m-> 1322\u001b[0m return_value \u001b[39m=\u001b[39m get_return_value(\n\u001b[1;32m   1323\u001b[0m     answer, \u001b[39mself\u001b[39;49m\u001b[39m.\u001b[39;49mgateway_client, \u001b[39mself\u001b[39;49m\u001b[39m.\u001b[39;49mtarget_id, \u001b[39mself\u001b[39;49m\u001b[39m.\u001b[39;49mname)\n\u001b[1;32m   1325\u001b[0m \u001b[39mfor\u001b[39;00m temp_arg \u001b[39min\u001b[39;00m temp_args:\n\u001b[1;32m   1326\u001b[0m     \u001b[39mif\u001b[39;00m \u001b[39mhasattr\u001b[39m(temp_arg, \u001b[39m\"\u001b[39m\u001b[39m_detach\u001b[39m\u001b[39m\"\u001b[39m):\n",
      "File \u001b[0;32m~/Desktop/Data-Science/Big-Data/Big-Data_procesamiento_analisis/bigdata/lib64/python3.10/site-packages/pyspark/errors/exceptions/captured.py:175\u001b[0m, in \u001b[0;36mcapture_sql_exception.<locals>.deco\u001b[0;34m(*a, **kw)\u001b[0m\n\u001b[1;32m    171\u001b[0m converted \u001b[39m=\u001b[39m convert_exception(e\u001b[39m.\u001b[39mjava_exception)\n\u001b[1;32m    172\u001b[0m \u001b[39mif\u001b[39;00m \u001b[39mnot\u001b[39;00m \u001b[39misinstance\u001b[39m(converted, UnknownException):\n\u001b[1;32m    173\u001b[0m     \u001b[39m# Hide where the exception came from that shows a non-Pythonic\u001b[39;00m\n\u001b[1;32m    174\u001b[0m     \u001b[39m# JVM exception message.\u001b[39;00m\n\u001b[0;32m--> 175\u001b[0m     \u001b[39mraise\u001b[39;00m converted \u001b[39mfrom\u001b[39;00m \u001b[39mNone\u001b[39;00m\n\u001b[1;32m    176\u001b[0m \u001b[39melse\u001b[39;00m:\n\u001b[1;32m    177\u001b[0m     \u001b[39mraise\u001b[39;00m\n",
      "\u001b[0;31mAnalysisException\u001b[0m: [PATH_NOT_FOUND] Path does not exist: file:/home/uqbar/Desktop/Data-Science/Big-Data/Big-Data_procesamiento_analisis/Modulo_1/notebooks/On_Time_On_Time_Performance_2016_12.csv."
     ]
    }
   ],
   "source": [
    "bd = sqlContext.read.format(\"com.databricks.spark.csv\"\n",
    ").option(\"header\", \"true\"\n",
    ").load(\"On_Time_On_Time_Performance_2016_12.csv\", inferSchema=True\n",
    ")"
   ]
  },
  {
   "cell_type": "markdown",
   "metadata": {},
   "source": [
    "## Inspección inicial"
   ]
  },
  {
   "cell_type": "markdown",
   "metadata": {},
   "source": [
    "Inspección de las variables"
   ]
  },
  {
   "cell_type": "code",
   "execution_count": 4,
   "metadata": {
    "collapsed": false
   },
   "outputs": [
    {
     "data": {
      "text/plain": [
       "[('Year', 'int'),\n",
       " ('Quarter', 'int'),\n",
       " ('Month', 'int'),\n",
       " ('DayofMonth', 'int'),\n",
       " ('DayOfWeek', 'int'),\n",
       " ('FlightDate', 'string'),\n",
       " ('UniqueCarrier', 'string'),\n",
       " ('AirlineID', 'int'),\n",
       " ('Carrier', 'string'),\n",
       " ('TailNum', 'string'),\n",
       " ('FlightNum', 'int'),\n",
       " ('OriginAirportID', 'int'),\n",
       " ('OriginAirportSeqID', 'int'),\n",
       " ('OriginCityMarketID', 'int'),\n",
       " ('Origin', 'string'),\n",
       " ('OriginCityName', 'string'),\n",
       " ('OriginState', 'string'),\n",
       " ('OriginStateFips', 'int'),\n",
       " ('OriginStateName', 'string'),\n",
       " ('OriginWac', 'int'),\n",
       " ('DestAirportID', 'int'),\n",
       " ('DestAirportSeqID', 'int'),\n",
       " ('DestCityMarketID', 'int'),\n",
       " ('Dest', 'string'),\n",
       " ('DestCityName', 'string'),\n",
       " ('DestState', 'string'),\n",
       " ('DestStateFips', 'int'),\n",
       " ('DestStateName', 'string'),\n",
       " ('DestWac', 'int'),\n",
       " ('CRSDepTime', 'int'),\n",
       " ('DepTime', 'int'),\n",
       " ('DepDelay', 'double'),\n",
       " ('DepDelayMinutes', 'double'),\n",
       " ('DepDel15', 'double'),\n",
       " ('DepartureDelayGroups', 'int'),\n",
       " ('DepTimeBlk', 'string'),\n",
       " ('TaxiOut', 'double'),\n",
       " ('WheelsOff', 'int'),\n",
       " ('WheelsOn', 'int'),\n",
       " ('TaxiIn', 'double'),\n",
       " ('CRSArrTime', 'int'),\n",
       " ('ArrTime', 'int'),\n",
       " ('ArrDelay', 'double'),\n",
       " ('ArrDelayMinutes', 'double'),\n",
       " ('ArrDel15', 'double'),\n",
       " ('ArrivalDelayGroups', 'int'),\n",
       " ('ArrTimeBlk', 'string'),\n",
       " ('Cancelled', 'double'),\n",
       " ('CancellationCode', 'string'),\n",
       " ('Diverted', 'double'),\n",
       " ('CRSElapsedTime', 'double'),\n",
       " ('ActualElapsedTime', 'double'),\n",
       " ('AirTime', 'double'),\n",
       " ('Flights', 'double'),\n",
       " ('Distance', 'double'),\n",
       " ('DistanceGroup', 'int'),\n",
       " ('CarrierDelay', 'double'),\n",
       " ('WeatherDelay', 'double'),\n",
       " ('NASDelay', 'double'),\n",
       " ('SecurityDelay', 'double'),\n",
       " ('LateAircraftDelay', 'double'),\n",
       " ('FirstDepTime', 'int'),\n",
       " ('TotalAddGTime', 'double'),\n",
       " ('LongestAddGTime', 'double'),\n",
       " ('DivAirportLandings', 'int'),\n",
       " ('DivReachedDest', 'double'),\n",
       " ('DivActualElapsedTime', 'double'),\n",
       " ('DivArrDelay', 'double'),\n",
       " ('DivDistance', 'double'),\n",
       " ('Div1Airport', 'string'),\n",
       " ('Div1AirportID', 'int'),\n",
       " ('Div1AirportSeqID', 'int'),\n",
       " ('Div1WheelsOn', 'int'),\n",
       " ('Div1TotalGTime', 'double'),\n",
       " ('Div1LongestGTime', 'double'),\n",
       " ('Div1WheelsOff', 'int'),\n",
       " ('Div1TailNum', 'string'),\n",
       " ('Div2Airport', 'string'),\n",
       " ('Div2AirportID', 'int'),\n",
       " ('Div2AirportSeqID', 'int'),\n",
       " ('Div2WheelsOn', 'int'),\n",
       " ('Div2TotalGTime', 'double'),\n",
       " ('Div2LongestGTime', 'double'),\n",
       " ('Div2WheelsOff', 'int'),\n",
       " ('Div2TailNum', 'string'),\n",
       " ('Div3Airport', 'string'),\n",
       " ('Div3AirportID', 'string'),\n",
       " ('Div3AirportSeqID', 'string'),\n",
       " ('Div3WheelsOn', 'string'),\n",
       " ('Div3TotalGTime', 'string'),\n",
       " ('Div3LongestGTime', 'string'),\n",
       " ('Div3WheelsOff', 'string'),\n",
       " ('Div3TailNum', 'string'),\n",
       " ('Div4Airport', 'string'),\n",
       " ('Div4AirportID', 'string'),\n",
       " ('Div4AirportSeqID', 'string'),\n",
       " ('Div4WheelsOn', 'string'),\n",
       " ('Div4TotalGTime', 'string'),\n",
       " ('Div4LongestGTime', 'string'),\n",
       " ('Div4WheelsOff', 'string'),\n",
       " ('Div4TailNum', 'string'),\n",
       " ('Div5Airport', 'string'),\n",
       " ('Div5AirportID', 'string'),\n",
       " ('Div5AirportSeqID', 'string'),\n",
       " ('Div5WheelsOn', 'string'),\n",
       " ('Div5TotalGTime', 'string'),\n",
       " ('Div5LongestGTime', 'string'),\n",
       " ('Div5WheelsOff', 'string'),\n",
       " ('Div5TailNum', 'string'),\n",
       " ('', 'string')]"
      ]
     },
     "execution_count": 4,
     "metadata": {},
     "output_type": "execute_result"
    }
   ],
   "source": [
    "bd.dtypes"
   ]
  },
  {
   "cell_type": "markdown",
   "metadata": {},
   "source": [
    "Información sobre las variables más relevantes\n",
    "\n",
    "http://stat-computing.org/dataexpo/2009/the-data.html\n"
   ]
  },
  {
   "cell_type": "markdown",
   "metadata": {},
   "source": [
    "Selección de Variables de interés"
   ]
  },
  {
   "cell_type": "code",
   "execution_count": 5,
   "metadata": {
    "collapsed": true
   },
   "outputs": [],
   "source": [
    "bd=bd.select('Year','Month','DayofMonth','DayOfWeek','CRSDepTime','UniqueCarrier',\n",
    "             'TailNum', 'ArrDelay','DepDelay','Origin','Dest','Distance','Cancelled', 'Diverted',\n",
    "             'CarrierDelay','WeatherDelay','NASDelay','SecurityDelay','LateAircraftDelay') "
   ]
  },
  {
   "cell_type": "markdown",
   "metadata": {},
   "source": [
    "Herramientas de gestión de datos disponibles"
   ]
  },
  {
   "cell_type": "code",
   "execution_count": 6,
   "metadata": {
    "collapsed": true
   },
   "outputs": [],
   "source": [
    "#bd\n",
    "#bd.dtypes\n",
    "#bd.columns\n",
    "#bd.head(3)\n",
    "#bd.show(3)\n",
    "#bd.collect()\n",
    "#bd.select('ArrDelay','DepDelay')\n",
    "#bd.select(bd.ArrDelay)\n",
    "#bd.drop('Year','Month')\n",
    "#bd.describe('ArrDelay') \n",
    "#bd.count()\n",
    "#bd.filter(bd.ArrDelay>120)\n",
    "#bd.filter(bd.ArrDelay>120).show()\n",
    "#bd.filter(bd.ArrDelay>120).count()\n",
    "#bd.withColumn('RetrasoNeto', bd.ArrDelay-bd.DepDelay)\n",
    "#bd.withColumn('RetrasoNeto', bd.ArrDelay-bd.DepDelay).describe('RetrasoNeto').show()"
   ]
  },
  {
   "cell_type": "markdown",
   "metadata": {},
   "source": [
    "Contenido de la base de datos: Variables"
   ]
  },
  {
   "cell_type": "code",
   "execution_count": 7,
   "metadata": {
    "collapsed": false
   },
   "outputs": [
    {
     "data": {
      "text/plain": [
       "['Year',\n",
       " 'Month',\n",
       " 'DayofMonth',\n",
       " 'DayOfWeek',\n",
       " 'CRSDepTime',\n",
       " 'UniqueCarrier',\n",
       " 'TailNum',\n",
       " 'ArrDelay',\n",
       " 'DepDelay',\n",
       " 'Origin',\n",
       " 'Dest',\n",
       " 'Distance',\n",
       " 'Cancelled',\n",
       " 'Diverted',\n",
       " 'CarrierDelay',\n",
       " 'WeatherDelay',\n",
       " 'NASDelay',\n",
       " 'SecurityDelay',\n",
       " 'LateAircraftDelay']"
      ]
     },
     "execution_count": 7,
     "metadata": {},
     "output_type": "execute_result"
    }
   ],
   "source": [
    "bd.columns"
   ]
  },
  {
   "cell_type": "code",
   "execution_count": 8,
   "metadata": {
    "collapsed": false
   },
   "outputs": [
    {
     "data": {
      "text/plain": [
       "[('Year', 'int'),\n",
       " ('Month', 'int'),\n",
       " ('DayofMonth', 'int'),\n",
       " ('DayOfWeek', 'int'),\n",
       " ('CRSDepTime', 'int'),\n",
       " ('UniqueCarrier', 'string'),\n",
       " ('TailNum', 'string'),\n",
       " ('ArrDelay', 'double'),\n",
       " ('DepDelay', 'double'),\n",
       " ('Origin', 'string'),\n",
       " ('Dest', 'string'),\n",
       " ('Distance', 'double'),\n",
       " ('Cancelled', 'double'),\n",
       " ('Diverted', 'double'),\n",
       " ('CarrierDelay', 'double'),\n",
       " ('WeatherDelay', 'double'),\n",
       " ('NASDelay', 'double'),\n",
       " ('SecurityDelay', 'double'),\n",
       " ('LateAircraftDelay', 'double')]"
      ]
     },
     "execution_count": 8,
     "metadata": {},
     "output_type": "execute_result"
    }
   ],
   "source": [
    "bd.dtypes"
   ]
  },
  {
   "cell_type": "markdown",
   "metadata": {},
   "source": [
    "Contenido de la base de datos: Registros"
   ]
  },
  {
   "cell_type": "code",
   "execution_count": 9,
   "metadata": {
    "collapsed": false
   },
   "outputs": [
    {
     "data": {
      "text/plain": [
       "[Row(Year=2016, Month=12, DayofMonth=18, DayOfWeek=7, CRSDepTime=1558, UniqueCarrier='AA', TailNum='N3JHAA', ArrDelay=20.0, DepDelay=-2.0, Origin='MSP', Dest='ORD', Distance=334.0, Cancelled=0.0, Diverted=0.0, CarrierDelay=0.0, WeatherDelay=0.0, NASDelay=20.0, SecurityDelay=0.0, LateAircraftDelay=0.0),\n",
       " Row(Year=2016, Month=12, DayofMonth=19, DayOfWeek=1, CRSDepTime=1558, UniqueCarrier='AA', TailNum='N3DPAA', ArrDelay=20.0, DepDelay=-3.0, Origin='MSP', Dest='ORD', Distance=334.0, Cancelled=0.0, Diverted=0.0, CarrierDelay=0.0, WeatherDelay=0.0, NASDelay=20.0, SecurityDelay=0.0, LateAircraftDelay=0.0),\n",
       " Row(Year=2016, Month=12, DayofMonth=20, DayOfWeek=2, CRSDepTime=1558, UniqueCarrier='AA', TailNum='N3KUAA', ArrDelay=-3.0, DepDelay=-3.0, Origin='MSP', Dest='ORD', Distance=334.0, Cancelled=0.0, Diverted=0.0, CarrierDelay=None, WeatherDelay=None, NASDelay=None, SecurityDelay=None, LateAircraftDelay=None)]"
      ]
     },
     "execution_count": 9,
     "metadata": {},
     "output_type": "execute_result"
    }
   ],
   "source": [
    "bd.head(3)"
   ]
  },
  {
   "cell_type": "code",
   "execution_count": 10,
   "metadata": {
    "collapsed": false
   },
   "outputs": [
    {
     "name": "stdout",
     "output_type": "stream",
     "text": [
      "+----+-----+----------+---------+----------+-------------+-------+--------+--------+------+----+--------+---------+--------+------------+------------+--------+-------------+-----------------+\n",
      "|Year|Month|DayofMonth|DayOfWeek|CRSDepTime|UniqueCarrier|TailNum|ArrDelay|DepDelay|Origin|Dest|Distance|Cancelled|Diverted|CarrierDelay|WeatherDelay|NASDelay|SecurityDelay|LateAircraftDelay|\n",
      "+----+-----+----------+---------+----------+-------------+-------+--------+--------+------+----+--------+---------+--------+------------+------------+--------+-------------+-----------------+\n",
      "|2016|   12|        18|        7|      1558|           AA| N3JHAA|    20.0|    -2.0|   MSP| ORD|   334.0|      0.0|     0.0|         0.0|         0.0|    20.0|          0.0|              0.0|\n",
      "|2016|   12|        19|        1|      1558|           AA| N3DPAA|    20.0|    -3.0|   MSP| ORD|   334.0|      0.0|     0.0|         0.0|         0.0|    20.0|          0.0|              0.0|\n",
      "|2016|   12|        20|        2|      1558|           AA| N3KUAA|    -3.0|    -3.0|   MSP| ORD|   334.0|      0.0|     0.0|        null|        null|    null|         null|             null|\n",
      "+----+-----+----------+---------+----------+-------------+-------+--------+--------+------+----+--------+---------+--------+------------+------------+--------+-------------+-----------------+\n",
      "only showing top 3 rows\n",
      "\n"
     ]
    }
   ],
   "source": [
    "bd.show(3)"
   ]
  },
  {
   "cell_type": "markdown",
   "metadata": {},
   "source": [
    "Funciones de gestión de datos"
   ]
  },
  {
   "cell_type": "code",
   "execution_count": 11,
   "metadata": {
    "collapsed": false
   },
   "outputs": [
    {
     "data": {
      "text/plain": [
       "460949"
      ]
     },
     "execution_count": 11,
     "metadata": {},
     "output_type": "execute_result"
    }
   ],
   "source": [
    "bd.count()"
   ]
  },
  {
   "cell_type": "code",
   "execution_count": 12,
   "metadata": {
    "collapsed": false
   },
   "outputs": [
    {
     "data": {
      "text/plain": [
       "103593"
      ]
     },
     "execution_count": 12,
     "metadata": {},
     "output_type": "execute_result"
    }
   ],
   "source": [
    "bd.dropna().count()"
   ]
  },
  {
   "cell_type": "code",
   "execution_count": 13,
   "metadata": {
    "collapsed": false
   },
   "outputs": [
    {
     "data": {
      "text/plain": [
       "452229"
      ]
     },
     "execution_count": 13,
     "metadata": {},
     "output_type": "execute_result"
    }
   ],
   "source": [
    "bd.select('ArrDelay').dropna().count()"
   ]
  },
  {
   "cell_type": "code",
   "execution_count": 14,
   "metadata": {
    "collapsed": false
   },
   "outputs": [
    {
     "data": {
      "text/plain": [
       "187744"
      ]
     },
     "execution_count": 14,
     "metadata": {},
     "output_type": "execute_result"
    }
   ],
   "source": [
    "bd.filter(bd.ArrDelay > 0).count()"
   ]
  },
  {
   "cell_type": "code",
   "execution_count": 15,
   "metadata": {
    "collapsed": false
   },
   "outputs": [
    {
     "data": {
      "text/plain": [
       "297"
      ]
     },
     "execution_count": 15,
     "metadata": {},
     "output_type": "execute_result"
    }
   ],
   "source": [
    "bd.select(\"Dest\").distinct().count()"
   ]
  },
  {
   "cell_type": "code",
   "execution_count": 16,
   "metadata": {
    "collapsed": false
   },
   "outputs": [
    {
     "data": {
      "text/plain": [
       "12"
      ]
     },
     "execution_count": 16,
     "metadata": {},
     "output_type": "execute_result"
    }
   ],
   "source": [
    "bd.select(\"UniqueCarrier\").distinct().count()"
   ]
  },
  {
   "cell_type": "code",
   "execution_count": 17,
   "metadata": {
    "collapsed": false
   },
   "outputs": [
    {
     "name": "stdout",
     "output_type": "stream",
     "text": [
      "+-----------------+\n",
      "|    avg(ArrDelay)|\n",
      "+-----------------+\n",
      "|8.664734017499983|\n",
      "+-----------------+\n",
      "\n"
     ]
    }
   ],
   "source": [
    "bd.select('ArrDelay').groupBy().mean().show()"
   ]
  },
  {
   "cell_type": "code",
   "execution_count": 18,
   "metadata": {
    "collapsed": false
   },
   "outputs": [
    {
     "name": "stdout",
     "output_type": "stream",
     "text": [
      "+----+-------------------+\n",
      "|Dest|      avg(ArrDelay)|\n",
      "+----+-------------------+\n",
      "| IAH|  6.127755692085291|\n",
      "| GEG| 13.471534653465346|\n",
      "| YUM|-0.4661016949152542|\n",
      "| TUS| 13.864431486880466|\n",
      "| STL|   4.74719932361023|\n",
      "| SNA|   8.28191027496382|\n",
      "| CMH|  5.406797116374872|\n",
      "| GRI|  3.018181818181818|\n",
      "| LRD| 19.526315789473685|\n",
      "| INL|  8.254901960784315|\n",
      "| BRO| 18.324324324324323|\n",
      "| ADK|-0.4444444444444444|\n",
      "| MSN| 11.121904761904762|\n",
      "| SAF|  6.507575757575758|\n",
      "| GRK|  11.89344262295082|\n",
      "| BET|             4.8625|\n",
      "| MSO| 13.456410256410257|\n",
      "| SGU|  9.777777777777779|\n",
      "| MFR| 18.756410256410255|\n",
      "| MSP| 12.884301732925586|\n",
      "+----+-------------------+\n",
      "only showing top 20 rows\n",
      "\n"
     ]
    }
   ],
   "source": [
    "bd.select('Dest','ArrDelay').groupBy('Dest').mean().show()"
   ]
  },
  {
   "cell_type": "code",
   "execution_count": 19,
   "metadata": {
    "collapsed": false
   },
   "outputs": [
    {
     "name": "stdout",
     "output_type": "stream",
     "text": [
      "+-------+-----------------+\n",
      "|summary|         ArrDelay|\n",
      "+-------+-----------------+\n",
      "|  count|           452229|\n",
      "|   mean|8.664734017499983|\n",
      "| stddev|49.81367422727647|\n",
      "|    min|            -73.0|\n",
      "|    max|           2028.0|\n",
      "+-------+-----------------+\n",
      "\n"
     ]
    }
   ],
   "source": [
    "bd.describe('ArrDelay').show()"
   ]
  },
  {
   "cell_type": "markdown",
   "metadata": {},
   "source": [
    "## Inspección inicial a través de SQL"
   ]
  },
  {
   "cell_type": "markdown",
   "metadata": {},
   "source": [
    "Es necesario registrar la base de datos como tabla"
   ]
  },
  {
   "cell_type": "code",
   "execution_count": 20,
   "metadata": {
    "collapsed": true
   },
   "outputs": [],
   "source": [
    "sqlContext.registerDataFrameAsTable(bd, \"bd\")"
   ]
  },
  {
   "cell_type": "markdown",
   "metadata": {},
   "source": [
    "Consultas a través de sintaxis SQL estándard"
   ]
  },
  {
   "cell_type": "code",
   "execution_count": 21,
   "metadata": {
    "collapsed": false
   },
   "outputs": [
    {
     "name": "stdout",
     "output_type": "stream",
     "text": [
      "+----+-----+\n",
      "|Dest|    n|\n",
      "+----+-----+\n",
      "| ATL|30643|\n",
      "| ORD|18786|\n",
      "| DEN|18160|\n",
      "| LAX|17895|\n",
      "| DFW|15471|\n",
      "| SFO|14139|\n",
      "| PHX|13627|\n",
      "| LAS|12086|\n",
      "| IAH|11220|\n",
      "| MCO|11102|\n",
      "| SEA|10633|\n",
      "| EWR| 9960|\n",
      "| MSP| 9957|\n",
      "| DTW| 9709|\n",
      "| BOS| 9361|\n",
      "| SLC| 9108|\n",
      "| CLT| 8978|\n",
      "| BWI| 8327|\n",
      "| JFK| 8072|\n",
      "| FLL| 7885|\n",
      "+----+-----+\n",
      "only showing top 20 rows\n",
      "\n"
     ]
    }
   ],
   "source": [
    "sqlContext.sql(\"select Dest, count(*) as n \\\n",
    "                from bd \\\n",
    "                group by Dest \\\n",
    "                order by n desc\").show()"
   ]
  },
  {
   "cell_type": "code",
   "execution_count": 22,
   "metadata": {
    "collapsed": false
   },
   "outputs": [
    {
     "name": "stdout",
     "output_type": "stream",
     "text": [
      "+----+------+----+\n",
      "|Dest|Origin|   n|\n",
      "+----+------+----+\n",
      "| LAX|   SFO|1324|\n",
      "| SFO|   LAX|1285|\n",
      "| JFK|   LAX|1056|\n",
      "| LAX|   JFK|1056|\n",
      "| LAX|   LAS| 998|\n",
      "| LAS|   LAX| 994|\n",
      "| LAX|   SEA| 807|\n",
      "| SEA|   LAX| 806|\n",
      "| ORD|   LGA| 798|\n",
      "| LGA|   ORD| 790|\n",
      "| ORD|   LAX| 778|\n",
      "| MCO|   ATL| 757|\n",
      "| ATL|   MCO| 751|\n",
      "| LAX|   ORD| 742|\n",
      "| HNL|   OGG| 737|\n",
      "| OGG|   HNL| 737|\n",
      "| SEA|   SFO| 729|\n",
      "| SFO|   SEA| 727|\n",
      "| ATL|   LGA| 727|\n",
      "| LGA|   ATL| 726|\n",
      "+----+------+----+\n",
      "only showing top 20 rows\n",
      "\n"
     ]
    }
   ],
   "source": [
    "sqlContext.sql(\"select Dest, Origin, count(*) as n \\\n",
    "                from bd \\\n",
    "                group by Dest, Origin \\\n",
    "                order by n desc\").show()"
   ]
  },
  {
   "cell_type": "code",
   "execution_count": 23,
   "metadata": {
    "collapsed": false
   },
   "outputs": [
    {
     "name": "stdout",
     "output_type": "stream",
     "text": [
      "+-----------------+\n",
      "|              _c0|\n",
      "+-----------------+\n",
      "|8.664734017499983|\n",
      "+-----------------+\n",
      "\n"
     ]
    }
   ],
   "source": [
    "sqlContext.sql(\"select avg(ArrDelay) from bd\" ).show()"
   ]
  },
  {
   "cell_type": "code",
   "execution_count": 24,
   "metadata": {
    "collapsed": false
   },
   "outputs": [
    {
     "name": "stdout",
     "output_type": "stream",
     "text": [
      "+----+------------------+---+\n",
      "|Dest|         mArrDelay|  n|\n",
      "+----+------------------+---+\n",
      "| BTM| 38.65384615384615| 56|\n",
      "| BGM| 35.30909090909091| 56|\n",
      "| JAC| 33.95637583892618|310|\n",
      "| EGE| 32.86590038314176|268|\n",
      "| TYR| 30.41176470588235| 17|\n",
      "| HDN|             30.36|157|\n",
      "| ITH|29.512820512820515| 85|\n",
      "| SPS|29.029850746268657| 69|\n",
      "| APN|28.695652173913043| 52|\n",
      "| GGG|28.333333333333332| 44|\n",
      "| ASE| 28.30346232179226|566|\n",
      "| SBN| 26.31782945736434|406|\n",
      "| MQT| 26.09433962264151| 56|\n",
      "| ABI| 25.88888888888889| 27|\n",
      "| FWA|25.273809523809526|350|\n",
      "| PLN|            24.625| 80|\n",
      "| SUN|            24.475|132|\n",
      "| CHA|24.445040214477213|386|\n",
      "| LCH|         24.078125|133|\n",
      "| ESC| 23.71153846153846| 53|\n",
      "+----+------------------+---+\n",
      "only showing top 20 rows\n",
      "\n"
     ]
    }
   ],
   "source": [
    "sqlContext.sql(\"select Dest, avg(ArrDelay) as mArrDelay , count(*) as n\\\n",
    "                from bd \\\n",
    "                group by Dest\\\n",
    "                order by mArrDelay DESC\" ).show()"
   ]
  }
 ],
 "metadata": {
  "anaconda-cloud": {},
  "kernelspec": {
   "display_name": "Python [default]",
   "language": "python",
   "name": "python3"
  },
  "language_info": {
   "codemirror_mode": {
    "name": "ipython",
    "version": 3
   },
   "file_extension": ".py",
   "mimetype": "text/x-python",
   "name": "python",
   "nbconvert_exporter": "python",
   "pygments_lexer": "ipython3",
   "version": "3.10.8"
  }
 },
 "nbformat": 4,
 "nbformat_minor": 2
}
