{
 "cells": [
  {
   "cell_type": "markdown",
   "metadata": {
    "collapsed": true
   },
   "source": [
    "# Lectura de datos e Inspección inicial"
   ]
  },
  {
   "cell_type": "markdown",
   "metadata": {},
   "source": [
    "Definir SparkContext y SQLContext"
   ]
  },
  {
   "cell_type": "code",
   "execution_count": 1,
   "metadata": {
    "collapsed": false
   },
   "outputs": [],
   "source": [
    "# from pyspark import SparkContext\n",
    "# sc = SparkContext()\n",
    "# from pyspark.sql import SQLContext\n",
    "# sqlContext=SQLContext(sc)"
   ]
  },
  {
   "cell_type": "code",
   "execution_count": 2,
   "metadata": {
    "collapsed": false
   },
   "outputs": [
    {
     "data": {
      "text/plain": [
       "'1.6.0'"
      ]
     },
     "execution_count": 2,
     "metadata": {},
     "output_type": "execute_result"
    }
   ],
   "source": [
    "sc.version"
   ]
  },
  {
   "cell_type": "markdown",
   "metadata": {},
   "source": [
    "Lectura del fichero de trabajo"
   ]
  },
  {
   "cell_type": "code",
   "execution_count": 3,
   "metadata": {
    "collapsed": false
   },
   "outputs": [],
   "source": [
    "bd = sqlContext.read.format(\"com.databricks.spark.csv\"\n",
    ").option(\"header\", \"true\"\n",
    ").load(\"On_Time_On_Time_Performance_2016_12.csv\", inferSchema=True)"
   ]
  },
  {
   "cell_type": "markdown",
   "metadata": {},
   "source": [
    "## Inspección inicial"
   ]
  },
  {
   "cell_type": "markdown",
   "metadata": {},
   "source": [
    "Inspección de las variables"
   ]
  },
  {
   "cell_type": "code",
   "execution_count": 4,
   "metadata": {
    "collapsed": false
   },
   "outputs": [
    {
     "data": {
      "text/plain": [
       "[('YEAR', 'int'),\n",
       " ('QUARTER', 'int'),\n",
       " ('MONTH', 'int'),\n",
       " ('DAY_OF_MONTH', 'int'),\n",
       " ('DAY_OF_WEEK', 'int'),\n",
       " ('FL_DATE', 'string'),\n",
       " ('OP_UNIQUE_CARRIER', 'string'),\n",
       " ('OP_CARRIER_AIRLINE_ID', 'int'),\n",
       " ('OP_CARRIER', 'string'),\n",
       " ('TAIL_NUM', 'string'),\n",
       " ('OP_CARRIER_FL_NUM', 'int'),\n",
       " ('ORIGIN_AIRPORT_ID', 'int'),\n",
       " ('ORIGIN_AIRPORT_SEQ_ID', 'int'),\n",
       " ('ORIGIN_CITY_MARKET_ID', 'int'),\n",
       " ('ORIGIN', 'string'),\n",
       " ('ORIGIN_CITY_NAME', 'string'),\n",
       " ('ORIGIN_STATE_ABR', 'string'),\n",
       " ('ORIGIN_STATE_FIPS', 'int'),\n",
       " ('ORIGIN_STATE_NM', 'string'),\n",
       " ('ORIGIN_WAC', 'int'),\n",
       " ('DEST_AIRPORT_ID', 'int'),\n",
       " ('DEST_AIRPORT_SEQ_ID', 'int'),\n",
       " ('DEST_CITY_MARKET_ID', 'int'),\n",
       " ('DEST', 'string'),\n",
       " ('DEST_CITY_NAME', 'string'),\n",
       " ('DEST_STATE_ABR', 'string'),\n",
       " ('DEST_STATE_FIPS', 'int'),\n",
       " ('DEST_STATE_NM', 'string'),\n",
       " ('DEST_WAC', 'int'),\n",
       " ('CRS_DEP_TIME', 'int'),\n",
       " ('DEP_TIME', 'int'),\n",
       " ('DEP_DELAY', 'double'),\n",
       " ('DEP_DELAY_NEW', 'double'),\n",
       " ('DEP_DEL15', 'double'),\n",
       " ('DEP_DELAY_GROUP', 'int'),\n",
       " ('DEP_TIME_BLK', 'string'),\n",
       " ('TAXI_OUT', 'double'),\n",
       " ('WHEELS_OFF', 'int'),\n",
       " ('WHEELS_ON', 'int'),\n",
       " ('TAXI_IN', 'double'),\n",
       " ('CRS_ARR_TIME', 'int'),\n",
       " ('ARR_TIME', 'int'),\n",
       " ('ARR_DELAY', 'double'),\n",
       " ('ARR_DELAY_NEW', 'double'),\n",
       " ('ARR_DEL15', 'double'),\n",
       " ('ARR_DELAY_GROUP', 'int'),\n",
       " ('ARR_TIME_BLK', 'string'),\n",
       " ('CANCELLED', 'double'),\n",
       " ('CANCELLATION_CODE', 'string'),\n",
       " ('DIVERTED', 'double'),\n",
       " ('CRS_ELAPSED_TIME', 'double'),\n",
       " ('ACTUAL_ELAPSED_TIME', 'double'),\n",
       " ('AIR_TIME', 'double'),\n",
       " ('FLIGHTS', 'double'),\n",
       " ('DISTANCE', 'double'),\n",
       " ('DISTANCE_GROUP', 'int'),\n",
       " ('CARRIER_DELAY', 'double'),\n",
       " ('WEATHER_DELAY', 'double'),\n",
       " ('NAS_DELAY', 'double'),\n",
       " ('SECURITY_DELAY', 'double'),\n",
       " ('LATE_AIRCRAFT_DELAY', 'double'),\n",
       " ('FIRST_DEP_TIME', 'int'),\n",
       " ('TOTAL_ADD_GTIME', 'double'),\n",
       " ('LONGEST_ADD_GTIME', 'double'),\n",
       " ('DIV_AIRPORT_LANDINGS', 'int'),\n",
       " ('DIV_REACHED_DEST', 'double'),\n",
       " ('DIV_ACTUAL_ELAPSED_TIME', 'double'),\n",
       " ('DIV_ARR_DELAY', 'double'),\n",
       " ('DIV_DISTANCE', 'double'),\n",
       " ('DIV1_AIRPORT', 'string'),\n",
       " ('DIV1_AIRPORT_ID', 'int'),\n",
       " ('DIV1_AIRPORT_SEQ_ID', 'int'),\n",
       " ('DIV1_WHEELS_ON', 'int'),\n",
       " ('DIV1_TOTAL_GTIME', 'double'),\n",
       " ('DIV1_LONGEST_GTIME', 'double'),\n",
       " ('DIV1_WHEELS_OFF', 'int'),\n",
       " ('DIV1_TAIL_NUM', 'string'),\n",
       " ('DIV2_AIRPORT', 'string'),\n",
       " ('DIV2_AIRPORT_ID', 'int'),\n",
       " ('DIV2_AIRPORT_SEQ_ID', 'int'),\n",
       " ('DIV2_WHEELS_ON', 'int'),\n",
       " ('DIV2_TOTAL_GTIME', 'double'),\n",
       " ('DIV2_LONGEST_GTIME', 'double'),\n",
       " ('DIV2_WHEELS_OFF', 'int'),\n",
       " ('DIV2_TAIL_NUM', 'string'),\n",
       " ('DIV3_AIRPORT', 'string'),\n",
       " ('DIV3_AIRPORT_ID', 'string'),\n",
       " ('DIV3_AIRPORT_SEQ_ID', 'string'),\n",
       " ('DIV3_WHEELS_ON', 'string'),\n",
       " ('DIV3_TOTAL_GTIME', 'string'),\n",
       " ('DIV3_LONGEST_GTIME', 'string'),\n",
       " ('DIV3_WHEELS_OFF', 'string'),\n",
       " ('DIV3_TAIL_NUM', 'string'),\n",
       " ('DIV4_AIRPORT', 'string'),\n",
       " ('DIV4_AIRPORT_ID', 'string'),\n",
       " ('DIV4_AIRPORT_SEQ_ID', 'string'),\n",
       " ('DIV4_WHEELS_ON', 'string'),\n",
       " ('DIV4_TOTAL_GTIME', 'string'),\n",
       " ('DIV4_LONGEST_GTIME', 'string'),\n",
       " ('DIV4_WHEELS_OFF', 'string'),\n",
       " ('DIV4_TAIL_NUM', 'string'),\n",
       " ('DIV5_AIRPORT', 'string'),\n",
       " ('DIV5_AIRPORT_ID', 'string'),\n",
       " ('DIV5_AIRPORT_SEQ_ID', 'string'),\n",
       " ('DIV5_WHEELS_ON', 'string'),\n",
       " ('DIV5_TOTAL_GTIME', 'string'),\n",
       " ('DIV5_LONGEST_GTIME', 'string'),\n",
       " ('DIV5_WHEELS_OFF', 'string'),\n",
       " ('DIV5_TAIL_NUM', 'string')]"
      ]
     },
     "execution_count": 4,
     "metadata": {},
     "output_type": "execute_result"
    }
   ],
   "source": [
    "bd.dtypes"
   ]
  },
  {
   "cell_type": "markdown",
   "metadata": {},
   "source": [
    "Información sobre las variables más relevantes\n",
    "\n",
    "http://stat-computing.org/dataexpo/2009/the-data.html\n"
   ]
  },
  {
   "cell_type": "markdown",
   "metadata": {},
   "source": [
    "Selección de Variables de interés"
   ]
  },
  {
   "cell_type": "code",
   "execution_count": 7,
   "metadata": {
    "collapsed": false
   },
   "outputs": [],
   "source": [
    "bd=bd.select('YEAR','MONTH','DAY_OF_MONTH','DAY_OF_WEEK','CRS_DEP_TIME','OP_UNIQUE_CARRIER',\n",
    "             'TAIL_NUM', 'ARR_DELAY','DEP_DELAY','ORIGIN','DEST','DISTANCE','CANCELLED', 'DIVERTED',\n",
    "             'CARRIER_DELAY','WEATHER_DELAY','NAS_DELAY','SECURITY_DELAY','LATE_AIRCRAFT_DELAY') "
   ]
  },
  {
   "cell_type": "markdown",
   "metadata": {},
   "source": [
    "Herramientas de gestión de datos disponibles"
   ]
  },
  {
   "cell_type": "code",
   "execution_count": 8,
   "metadata": {
    "collapsed": true
   },
   "outputs": [],
   "source": [
    "#bd\n",
    "#bd.dtypes\n",
    "#bd.columns\n",
    "#bd.head(3)\n",
    "#bd.show(3)\n",
    "#bd.collect()\n",
    "#bd.select('ArrDelay','DepDelay')\n",
    "#bd.select(bd.ArrDelay)\n",
    "#bd.drop('Year','Month')\n",
    "#bd.describe('ArrDelay') \n",
    "#bd.count()\n",
    "#bd.filter(bd.ArrDelay>120)\n",
    "#bd.filter(bd.ArrDelay>120).show()\n",
    "#bd.filter(bd.ArrDelay>120).count()\n",
    "#bd.withColumn('RetrasoNeto', bd.ArrDelay-bd.DepDelay)\n",
    "#bd.withColumn('RetrasoNeto', bd.ArrDelay-bd.DepDelay).describe('RetrasoNeto').show()"
   ]
  },
  {
   "cell_type": "markdown",
   "metadata": {},
   "source": [
    "Contenido de la base de datos: Variables"
   ]
  },
  {
   "cell_type": "code",
   "execution_count": 9,
   "metadata": {
    "collapsed": false
   },
   "outputs": [
    {
     "data": {
      "text/plain": [
       "['YEAR',\n",
       " 'MONTH',\n",
       " 'DAY_OF_MONTH',\n",
       " 'DAY_OF_WEEK',\n",
       " 'CRS_DEP_TIME',\n",
       " 'OP_UNIQUE_CARRIER',\n",
       " 'TAIL_NUM',\n",
       " 'ARR_DELAY',\n",
       " 'DEP_DELAY',\n",
       " 'ORIGIN',\n",
       " 'DEST',\n",
       " 'DISTANCE',\n",
       " 'CANCELLED',\n",
       " 'DIVERTED',\n",
       " 'CARRIER_DELAY',\n",
       " 'WEATHER_DELAY',\n",
       " 'NAS_DELAY',\n",
       " 'SECURITY_DELAY',\n",
       " 'LATE_AIRCRAFT_DELAY']"
      ]
     },
     "execution_count": 9,
     "metadata": {},
     "output_type": "execute_result"
    }
   ],
   "source": [
    "bd.columns"
   ]
  },
  {
   "cell_type": "code",
   "execution_count": 10,
   "metadata": {
    "collapsed": false
   },
   "outputs": [
    {
     "data": {
      "text/plain": [
       "[('YEAR', 'int'),\n",
       " ('MONTH', 'int'),\n",
       " ('DAY_OF_MONTH', 'int'),\n",
       " ('DAY_OF_WEEK', 'int'),\n",
       " ('CRS_DEP_TIME', 'int'),\n",
       " ('OP_UNIQUE_CARRIER', 'string'),\n",
       " ('TAIL_NUM', 'string'),\n",
       " ('ARR_DELAY', 'double'),\n",
       " ('DEP_DELAY', 'double'),\n",
       " ('ORIGIN', 'string'),\n",
       " ('DEST', 'string'),\n",
       " ('DISTANCE', 'double'),\n",
       " ('CANCELLED', 'double'),\n",
       " ('DIVERTED', 'double'),\n",
       " ('CARRIER_DELAY', 'double'),\n",
       " ('WEATHER_DELAY', 'double'),\n",
       " ('NAS_DELAY', 'double'),\n",
       " ('SECURITY_DELAY', 'double'),\n",
       " ('LATE_AIRCRAFT_DELAY', 'double')]"
      ]
     },
     "execution_count": 10,
     "metadata": {},
     "output_type": "execute_result"
    }
   ],
   "source": [
    "bd.dtypes"
   ]
  },
  {
   "cell_type": "markdown",
   "metadata": {},
   "source": [
    "Contenido de la base de datos: Registros"
   ]
  },
  {
   "cell_type": "code",
   "execution_count": 11,
   "metadata": {
    "collapsed": false
   },
   "outputs": [
    {
     "data": {
      "text/plain": [
       "[Row(YEAR=2016, MONTH=12, DAY_OF_MONTH=1, DAY_OF_WEEK=4, CRS_DEP_TIME=615, OP_UNIQUE_CARRIER='AA', TAIL_NUM='N001AA', ARR_DELAY=-10.0, DEP_DELAY=-8.0, ORIGIN='SAT', DEST='MIA', DISTANCE=1143.0, CANCELLED=0.0, DIVERTED=0.0, CARRIER_DELAY=None, WEATHER_DELAY=None, NAS_DELAY=None, SECURITY_DELAY=None, LATE_AIRCRAFT_DELAY=None),\n",
       " Row(YEAR=2016, MONTH=12, DAY_OF_MONTH=1, DAY_OF_WEEK=4, CRS_DEP_TIME=2028, OP_UNIQUE_CARRIER='AA', TAIL_NUM='N001AA', ARR_DELAY=27.0, DEP_DELAY=3.0, ORIGIN='MIA', DEST='IAH', DISTANCE=964.0, CANCELLED=0.0, DIVERTED=0.0, CARRIER_DELAY=3.0, WEATHER_DELAY=0.0, NAS_DELAY=24.0, SECURITY_DELAY=0.0, LATE_AIRCRAFT_DELAY=0.0),\n",
       " Row(YEAR=2016, MONTH=12, DAY_OF_MONTH=1, DAY_OF_WEEK=4, CRS_DEP_TIME=800, OP_UNIQUE_CARRIER='AA', TAIL_NUM='N002AA', ARR_DELAY=22.0, DEP_DELAY=-4.0, ORIGIN='ATL', DEST='MIA', DISTANCE=594.0, CANCELLED=0.0, DIVERTED=0.0, CARRIER_DELAY=0.0, WEATHER_DELAY=0.0, NAS_DELAY=22.0, SECURITY_DELAY=0.0, LATE_AIRCRAFT_DELAY=0.0)]"
      ]
     },
     "execution_count": 11,
     "metadata": {},
     "output_type": "execute_result"
    }
   ],
   "source": [
    "bd.head(3)"
   ]
  },
  {
   "cell_type": "code",
   "execution_count": 12,
   "metadata": {
    "collapsed": false
   },
   "outputs": [
    {
     "name": "stdout",
     "output_type": "stream",
     "text": [
      "+----+-----+------------+-----------+------------+-----------------+--------+---------+---------+------+----+--------+---------+--------+-------------+-------------+---------+--------------+-------------------+\n",
      "|YEAR|MONTH|DAY_OF_MONTH|DAY_OF_WEEK|CRS_DEP_TIME|OP_UNIQUE_CARRIER|TAIL_NUM|ARR_DELAY|DEP_DELAY|ORIGIN|DEST|DISTANCE|CANCELLED|DIVERTED|CARRIER_DELAY|WEATHER_DELAY|NAS_DELAY|SECURITY_DELAY|LATE_AIRCRAFT_DELAY|\n",
      "+----+-----+------------+-----------+------------+-----------------+--------+---------+---------+------+----+--------+---------+--------+-------------+-------------+---------+--------------+-------------------+\n",
      "|2016|   12|           1|          4|         615|               AA|  N001AA|    -10.0|     -8.0|   SAT| MIA|  1143.0|      0.0|     0.0|         null|         null|     null|          null|               null|\n",
      "|2016|   12|           1|          4|        2028|               AA|  N001AA|     27.0|      3.0|   MIA| IAH|   964.0|      0.0|     0.0|          3.0|          0.0|     24.0|           0.0|                0.0|\n",
      "|2016|   12|           1|          4|         800|               AA|  N002AA|     22.0|     -4.0|   ATL| MIA|   594.0|      0.0|     0.0|          0.0|          0.0|     22.0|           0.0|                0.0|\n",
      "+----+-----+------------+-----------+------------+-----------------+--------+---------+---------+------+----+--------+---------+--------+-------------+-------------+---------+--------------+-------------------+\n",
      "only showing top 3 rows\n",
      "\n"
     ]
    }
   ],
   "source": [
    "bd.show(3)"
   ]
  },
  {
   "cell_type": "markdown",
   "metadata": {},
   "source": [
    "Funciones de gestión de datos"
   ]
  },
  {
   "cell_type": "code",
   "execution_count": 13,
   "metadata": {
    "collapsed": false
   },
   "outputs": [
    {
     "data": {
      "text/plain": [
       "460949"
      ]
     },
     "execution_count": 13,
     "metadata": {},
     "output_type": "execute_result"
    }
   ],
   "source": [
    "bd.count()"
   ]
  },
  {
   "cell_type": "code",
   "execution_count": 14,
   "metadata": {
    "collapsed": false
   },
   "outputs": [
    {
     "data": {
      "text/plain": [
       "103593"
      ]
     },
     "execution_count": 14,
     "metadata": {},
     "output_type": "execute_result"
    }
   ],
   "source": [
    "bd.dropna().count()"
   ]
  },
  {
   "cell_type": "code",
   "execution_count": 16,
   "metadata": {
    "collapsed": false
   },
   "outputs": [
    {
     "data": {
      "text/plain": [
       "452229"
      ]
     },
     "execution_count": 16,
     "metadata": {},
     "output_type": "execute_result"
    }
   ],
   "source": [
    "bd.select('ARR_DELAY').dropna().count()"
   ]
  },
  {
   "cell_type": "code",
   "execution_count": 18,
   "metadata": {
    "collapsed": false
   },
   "outputs": [
    {
     "data": {
      "text/plain": [
       "187744"
      ]
     },
     "execution_count": 18,
     "metadata": {},
     "output_type": "execute_result"
    }
   ],
   "source": [
    "bd.filter(bd.ARR_DELAY > 0).count()"
   ]
  },
  {
   "cell_type": "code",
   "execution_count": 19,
   "metadata": {
    "collapsed": false
   },
   "outputs": [
    {
     "data": {
      "text/plain": [
       "297"
      ]
     },
     "execution_count": 19,
     "metadata": {},
     "output_type": "execute_result"
    }
   ],
   "source": [
    "bd.select(\"DEST\").distinct().count()"
   ]
  },
  {
   "cell_type": "code",
   "execution_count": 20,
   "metadata": {
    "collapsed": false
   },
   "outputs": [
    {
     "data": {
      "text/plain": [
       "12"
      ]
     },
     "execution_count": 20,
     "metadata": {},
     "output_type": "execute_result"
    }
   ],
   "source": [
    "bd.select(\"OP_UNIQUE_CARRIER\").distinct().count()"
   ]
  },
  {
   "cell_type": "code",
   "execution_count": 22,
   "metadata": {
    "collapsed": false
   },
   "outputs": [
    {
     "name": "stdout",
     "output_type": "stream",
     "text": [
      "+-----------------+\n",
      "|   avg(ARR_DELAY)|\n",
      "+-----------------+\n",
      "|8.664734017499983|\n",
      "+-----------------+\n",
      "\n"
     ]
    }
   ],
   "source": [
    "bd.select('ARR_DELAY').groupBy().mean().show()"
   ]
  },
  {
   "cell_type": "code",
   "execution_count": 23,
   "metadata": {
    "collapsed": false
   },
   "outputs": [
    {
     "name": "stdout",
     "output_type": "stream",
     "text": [
      "+----+-------------------+\n",
      "|DEST|     avg(ARR_DELAY)|\n",
      "+----+-------------------+\n",
      "| IAH|  6.127755692085291|\n",
      "| GEG| 13.471534653465346|\n",
      "| YUM|-0.4661016949152542|\n",
      "| TUS| 13.864431486880466|\n",
      "| STL|   4.74719932361023|\n",
      "| SNA|   8.28191027496382|\n",
      "| CMH|  5.406797116374872|\n",
      "| LRD| 19.526315789473685|\n",
      "| GRI|  3.018181818181818|\n",
      "| BRO| 18.324324324324323|\n",
      "| INL|  8.254901960784315|\n",
      "| ADK|-0.4444444444444444|\n",
      "| MSN| 11.121904761904762|\n",
      "| GRK|  11.89344262295082|\n",
      "| SAF|  6.507575757575758|\n",
      "| BET|             4.8625|\n",
      "| MSO| 13.456410256410257|\n",
      "| MFR| 18.756410256410255|\n",
      "| SGU|  9.777777777777779|\n",
      "| MSP| 12.884301732925586|\n",
      "+----+-------------------+\n",
      "only showing top 20 rows\n",
      "\n"
     ]
    }
   ],
   "source": [
    "bd.select('DEST','ARR_DELAY').groupBy('DEST').mean().show()"
   ]
  },
  {
   "cell_type": "code",
   "execution_count": 24,
   "metadata": {
    "collapsed": false
   },
   "outputs": [
    {
     "name": "stdout",
     "output_type": "stream",
     "text": [
      "+-------+-----------------+\n",
      "|summary|        ARR_DELAY|\n",
      "+-------+-----------------+\n",
      "|  count|           452229|\n",
      "|   mean|8.664734017499983|\n",
      "| stddev|49.81367422727689|\n",
      "|    min|            -73.0|\n",
      "|    max|           2028.0|\n",
      "+-------+-----------------+\n",
      "\n"
     ]
    }
   ],
   "source": [
    "bd.describe('ARR_DELAY').show()"
   ]
  },
  {
   "cell_type": "markdown",
   "metadata": {},
   "source": [
    "## Inspección inicial a través de SQL"
   ]
  },
  {
   "cell_type": "markdown",
   "metadata": {},
   "source": [
    "Es necesario registrar la base de datos como tabla"
   ]
  },
  {
   "cell_type": "code",
   "execution_count": 25,
   "metadata": {
    "collapsed": true
   },
   "outputs": [],
   "source": [
    "sqlContext.registerDataFrameAsTable(bd, \"bd\")"
   ]
  },
  {
   "cell_type": "markdown",
   "metadata": {},
   "source": [
    "Consultas a través de sintaxis SQL estándard"
   ]
  },
  {
   "cell_type": "code",
   "execution_count": 27,
   "metadata": {
    "collapsed": false
   },
   "outputs": [
    {
     "name": "stdout",
     "output_type": "stream",
     "text": [
      "+----+-----+\n",
      "|DEST|    n|\n",
      "+----+-----+\n",
      "| ATL|30643|\n",
      "| ORD|18786|\n",
      "| DEN|18160|\n",
      "| LAX|17895|\n",
      "| DFW|15471|\n",
      "| SFO|14139|\n",
      "| PHX|13627|\n",
      "| LAS|12086|\n",
      "| IAH|11220|\n",
      "| MCO|11102|\n",
      "| SEA|10633|\n",
      "| EWR| 9960|\n",
      "| MSP| 9957|\n",
      "| DTW| 9709|\n",
      "| BOS| 9361|\n",
      "| SLC| 9108|\n",
      "| CLT| 8978|\n",
      "| BWI| 8327|\n",
      "| JFK| 8072|\n",
      "| FLL| 7885|\n",
      "+----+-----+\n",
      "only showing top 20 rows\n",
      "\n"
     ]
    }
   ],
   "source": [
    "sqlContext.sql(\"select DEST, count(*) as n \\\n",
    "                from bd \\\n",
    "                group by DEST \\\n",
    "                order by n desc\").show()"
   ]
  },
  {
   "cell_type": "code",
   "execution_count": 28,
   "metadata": {
    "collapsed": false
   },
   "outputs": [
    {
     "name": "stdout",
     "output_type": "stream",
     "text": [
      "+----+------+----+\n",
      "|DEST|ORIGIN|   n|\n",
      "+----+------+----+\n",
      "| LAX|   SFO|1324|\n",
      "| SFO|   LAX|1285|\n",
      "| JFK|   LAX|1056|\n",
      "| LAX|   JFK|1056|\n",
      "| LAX|   LAS| 998|\n",
      "| LAS|   LAX| 994|\n",
      "| LAX|   SEA| 807|\n",
      "| SEA|   LAX| 806|\n",
      "| ORD|   LGA| 798|\n",
      "| LGA|   ORD| 790|\n",
      "| ORD|   LAX| 778|\n",
      "| MCO|   ATL| 757|\n",
      "| ATL|   MCO| 751|\n",
      "| LAX|   ORD| 742|\n",
      "| HNL|   OGG| 737|\n",
      "| OGG|   HNL| 737|\n",
      "| SEA|   SFO| 729|\n",
      "| SFO|   SEA| 727|\n",
      "| ATL|   LGA| 727|\n",
      "| LGA|   ATL| 726|\n",
      "+----+------+----+\n",
      "only showing top 20 rows\n",
      "\n"
     ]
    }
   ],
   "source": [
    "sqlContext.sql(\"select DEST, ORIGIN, count(*) as n \\\n",
    "                from bd \\\n",
    "                group by DEST, ORIGIN \\\n",
    "                order by n desc\").show()"
   ]
  },
  {
   "cell_type": "code",
   "execution_count": 29,
   "metadata": {
    "collapsed": false
   },
   "outputs": [
    {
     "name": "stdout",
     "output_type": "stream",
     "text": [
      "+-----------------+\n",
      "|              _c0|\n",
      "+-----------------+\n",
      "|8.664734017499983|\n",
      "+-----------------+\n",
      "\n"
     ]
    }
   ],
   "source": [
    "sqlContext.sql(\"select avg(ARR_DELAY) from bd\" ).show()"
   ]
  },
  {
   "cell_type": "code",
   "execution_count": 30,
   "metadata": {
    "collapsed": false
   },
   "outputs": [
    {
     "name": "stdout",
     "output_type": "stream",
     "text": [
      "+----+------------------+---+\n",
      "|DEST|         mArrDelay|  n|\n",
      "+----+------------------+---+\n",
      "| BTM| 38.65384615384615| 56|\n",
      "| BGM| 35.30909090909091| 56|\n",
      "| JAC| 33.95637583892618|310|\n",
      "| EGE| 32.86590038314176|268|\n",
      "| TYR| 30.41176470588235| 17|\n",
      "| HDN|             30.36|157|\n",
      "| ITH|29.512820512820515| 85|\n",
      "| SPS|29.029850746268657| 69|\n",
      "| APN|28.695652173913043| 52|\n",
      "| GGG|28.333333333333332| 44|\n",
      "| ASE| 28.30346232179226|566|\n",
      "| SBN| 26.31782945736434|406|\n",
      "| MQT| 26.09433962264151| 56|\n",
      "| ABI| 25.88888888888889| 27|\n",
      "| FWA|25.273809523809526|350|\n",
      "| PLN|            24.625| 80|\n",
      "| SUN|            24.475|132|\n",
      "| CHA|24.445040214477213|386|\n",
      "| LCH|         24.078125|133|\n",
      "| ESC| 23.71153846153846| 53|\n",
      "+----+------------------+---+\n",
      "only showing top 20 rows\n",
      "\n"
     ]
    }
   ],
   "source": [
    "sqlContext.sql(\"select DEST, avg(ARR_DELAY) as mArrDelay , count(*) as n\\\n",
    "                from bd \\\n",
    "                group by DEST\\\n",
    "                order by mArrDelay DESC\" ).show()"
   ]
  },
  {
   "cell_type": "markdown",
   "metadata": {},
   "source": [
    "# Quiz 1"
   ]
  },
  {
   "cell_type": "code",
   "execution_count": null,
   "metadata": {
    "collapsed": true
   },
   "outputs": [],
   "source": []
  }
 ],
 "metadata": {
  "anaconda-cloud": {},
  "kernelspec": {
   "display_name": "Python [default]",
   "language": "python",
   "name": "python3"
  },
  "language_info": {
   "codemirror_mode": {
    "name": "ipython",
    "version": 3
   },
   "file_extension": ".py",
   "mimetype": "text/x-python",
   "name": "python",
   "nbconvert_exporter": "python",
   "pygments_lexer": "ipython3",
   "version": "3.5.2"
  }
 },
 "nbformat": 4,
 "nbformat_minor": 2
}
