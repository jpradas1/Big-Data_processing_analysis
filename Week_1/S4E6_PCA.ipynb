{
 "cells": [
  {
   "cell_type": "markdown",
   "metadata": {
    "collapsed": true
   },
   "source": [
    "# Reducción de la dimensionalidad"
   ]
  },
  {
   "cell_type": "code",
   "execution_count": 1,
   "metadata": {
    "collapsed": false
   },
   "outputs": [],
   "source": [
    "#from pyspark import SparkContext\n",
    "#sc = SparkContext()\n",
    "#from pyspark.sql import SQLContext\n",
    "#sqlContext=SQLContext(sc)"
   ]
  },
  {
   "cell_type": "code",
   "execution_count": 2,
   "metadata": {
    "collapsed": true
   },
   "outputs": [],
   "source": [
    "bd5 = sqlContext.read.format(\n",
    "    \"com.databricks.spark.csv\"\n",
    ").option(\"header\", \"true\").load(\"bd5.csv\", inferSchema=True)\n",
    "sqlContext.registerDataFrameAsTable(bd5, \"bd5\")"
   ]
  },
  {
   "cell_type": "markdown",
   "metadata": {},
   "source": [
    "## Reducción de dimensionalidad: PCA"
   ]
  },
  {
   "cell_type": "code",
   "execution_count": 3,
   "metadata": {
    "collapsed": false
   },
   "outputs": [
    {
     "data": {
      "text/plain": [
       "[('Year', 'int'),\n",
       " ('Month', 'int'),\n",
       " ('DayofMonth', 'int'),\n",
       " ('DayOfWeek', 'int'),\n",
       " ('CRSDepTime', 'int'),\n",
       " ('UniqueCarrier', 'string'),\n",
       " ('TailNum', 'string'),\n",
       " ('ArrDelay', 'double'),\n",
       " ('DepDelay', 'double'),\n",
       " ('Origin', 'string'),\n",
       " ('Dest', 'string'),\n",
       " ('Distance', 'double'),\n",
       " ('Cancelled', 'double'),\n",
       " ('Diverted', 'double'),\n",
       " ('CarrierDelay', 'double'),\n",
       " ('WeatherDelay', 'double'),\n",
       " ('NASDelay', 'double'),\n",
       " ('SecurityDelay', 'double'),\n",
       " ('LateAircraftDelay', 'double'),\n",
       " ('LogD', 'double'),\n",
       " ('Retraso', 'int'),\n",
       " ('RetrasoNeto', 'double'),\n",
       " ('Horario', 'int')]"
      ]
     },
     "execution_count": 3,
     "metadata": {},
     "output_type": "execute_result"
    }
   ],
   "source": [
    "bd5.dtypes"
   ]
  },
  {
   "cell_type": "code",
   "execution_count": 4,
   "metadata": {
    "collapsed": true
   },
   "outputs": [],
   "source": [
    "from pyspark.ml.feature import VectorAssembler\n",
    "\n",
    "a1  = VectorAssembler(\n",
    "    inputCols=['DepDelay','Distance','DayOfWeek',\n",
    "               'CRSDepTime','Horario','LogD'],\n",
    "    outputCol='features')\n",
    "\n",
    "bd6 = a1.transform(bd5)"
   ]
  },
  {
   "cell_type": "code",
   "execution_count": 5,
   "metadata": {
    "collapsed": false
   },
   "outputs": [
    {
     "data": {
      "text/plain": [
       "DataFrame[Year: int, Month: int, DayofMonth: int, DayOfWeek: int, CRSDepTime: int, UniqueCarrier: string, TailNum: string, ArrDelay: double, DepDelay: double, Origin: string, Dest: string, Distance: double, Cancelled: double, Diverted: double, CarrierDelay: double, WeatherDelay: double, NASDelay: double, SecurityDelay: double, LateAircraftDelay: double, LogD: double, Retraso: int, RetrasoNeto: double, Horario: int, features: vector]"
      ]
     },
     "execution_count": 5,
     "metadata": {},
     "output_type": "execute_result"
    }
   ],
   "source": [
    "bd6"
   ]
  },
  {
   "cell_type": "markdown",
   "metadata": {},
   "source": [
    "## PCA sin estandarización"
   ]
  },
  {
   "cell_type": "code",
   "execution_count": 6,
   "metadata": {
    "collapsed": true
   },
   "outputs": [],
   "source": [
    "from pyspark.ml.feature import PCA\n",
    "\n",
    "#2 componentes\n",
    "pca=PCA(k=2,inputCol='features',outputCol='pca_features')"
   ]
  },
  {
   "cell_type": "code",
   "execution_count": 7,
   "metadata": {
    "collapsed": false
   },
   "outputs": [
    {
     "name": "stdout",
     "output_type": "stream",
     "text": [
      "+--------------------+--------------------+\n",
      "|            features|        pca_features|\n",
      "+--------------------+--------------------+\n",
      "|[-5.0,1235.0,4.0,...|[778.181012013560...|\n",
      "|[5.0,1235.0,5.0,8...|[778.140019681721...|\n",
      "|[-3.0,1235.0,6.0,...|[778.172787156525...|\n",
      "|[-7.0,1235.0,7.0,...|[778.189163563186...|\n",
      "|[-6.0,1235.0,1.0,...|[778.185153765040...|\n",
      "|[-1.0,1235.0,2.0,...|[778.164650268380...|\n",
      "|[0.0,1235.0,3.0,8...|[778.160537839863...|\n",
      "|[0.0,1235.0,4.0,8...|[778.160523178381...|\n",
      "|[-1.0,1235.0,5.0,...|[778.164606283936...|\n",
      "|[-1.0,1235.0,6.0,...|[778.164591622454...|\n",
      "|[1.0,1235.0,7.0,8...|[778.156381426901...|\n",
      "|[-2.0,1235.0,1.0,...|[778.168762696897...|\n",
      "|[-4.0,1235.0,2.0,...|[778.176943569487...|\n",
      "|[-1.0,1235.0,3.0,...|[778.164635606899...|\n",
      "|[0.0,1235.0,4.0,8...|[778.160523178381...|\n",
      "|[0.0,1235.0,5.0,8...|[778.160508516900...|\n",
      "|[13.0,1235.0,6.0,...|[778.107222883954...|\n",
      "|[17.0,1235.0,7.0,...|[778.090817154330...|\n",
      "|[12.0,1235.0,1.0,...|[778.111393958398...|\n",
      "|[19.0,1235.0,2.0,...|[778.082694927667...|\n",
      "+--------------------+--------------------+\n",
      "only showing top 20 rows\n",
      "\n"
     ]
    }
   ],
   "source": [
    "model=pca.fit(bd6)\n",
    "bd6pca=model.transform(bd6)\n",
    "bd6pca.select('features','pca_features').show()"
   ]
  },
  {
   "cell_type": "code",
   "execution_count": 8,
   "metadata": {
    "collapsed": false
   },
   "outputs": [],
   "source": [
    "#Extraemos la primera y segunda componentes\n",
    "\n",
    "from pyspark.sql.functions import udf\n",
    "from pyspark.sql.types import FloatType\n",
    "\n",
    "p1=udf(lambda v:float(v[0]),FloatType())\n",
    "p2=udf(lambda v:float(v[1]),FloatType())\n",
    "\n",
    "bd6pca=bd6pca.withColumn('pca1',p1('pca_features')).withColumn('pca2',p2('pca_features'))\n"
   ]
  },
  {
   "cell_type": "code",
   "execution_count": 9,
   "metadata": {
    "collapsed": false
   },
   "outputs": [
    {
     "name": "stdout",
     "output_type": "stream",
     "text": [
      "+-------+------------------+-------------------+\n",
      "|summary|              pca1|               pca2|\n",
      "+-------+------------------+-------------------+\n",
      "|  count|             30466|              30466|\n",
      "|   mean|300.93254488836135|-1601.4748862329209|\n",
      "| stddev| 557.2501211351527|  495.7211976411699|\n",
      "|    min|        -731.57623|         -2935.9211|\n",
      "|    max|          1751.152|         -487.57773|\n",
      "+-------+------------------+-------------------+\n",
      "\n"
     ]
    }
   ],
   "source": [
    "bd6pca.select('pca1','pca2').describe().show()"
   ]
  },
  {
   "cell_type": "markdown",
   "metadata": {},
   "source": [
    "## PCA con estandarización"
   ]
  },
  {
   "cell_type": "code",
   "execution_count": 10,
   "metadata": {
    "collapsed": false
   },
   "outputs": [
    {
     "name": "stdout",
     "output_type": "stream",
     "text": [
      "+--------------------+--------------------+\n",
      "|            features|      scaledFeatures|\n",
      "+--------------------+--------------------+\n",
      "|[-5.0,1235.0,4.0,...|[-0.4459454808573...|\n",
      "|[5.0,1235.0,5.0,8...|[-0.2452533483159...|\n",
      "|[-3.0,1235.0,6.0,...|[-0.4058070543490...|\n",
      "|[-7.0,1235.0,7.0,...|[-0.4860839073656...|\n",
      "|[-6.0,1235.0,1.0,...|[-0.4660146941114...|\n",
      "|[-1.0,1235.0,2.0,...|[-0.3656686278407...|\n",
      "|[0.0,1235.0,3.0,8...|[-0.3455994145866...|\n",
      "|[0.0,1235.0,4.0,8...|[-0.3455994145866...|\n",
      "|[-1.0,1235.0,5.0,...|[-0.3656686278407...|\n",
      "|[-1.0,1235.0,6.0,...|[-0.3656686278407...|\n",
      "|[1.0,1235.0,7.0,8...|[-0.3255302013325...|\n",
      "|[-2.0,1235.0,1.0,...|[-0.3857378410949...|\n",
      "|[-4.0,1235.0,2.0,...|[-0.4258762676032...|\n",
      "|[-1.0,1235.0,3.0,...|[-0.3656686278407...|\n",
      "|[0.0,1235.0,4.0,8...|[-0.3455994145866...|\n",
      "|[0.0,1235.0,5.0,8...|[-0.3455994145866...|\n",
      "|[13.0,1235.0,6.0,...|[-0.0846996422828...|\n",
      "|[17.0,1235.0,7.0,...|[-0.0044227892663...|\n",
      "|[12.0,1235.0,1.0,...|[-0.1047688555370...|\n",
      "|[19.0,1235.0,2.0,...|[0.03571563724193...|\n",
      "+--------------------+--------------------+\n",
      "only showing top 20 rows\n",
      "\n"
     ]
    }
   ],
   "source": [
    "from pyspark.ml.feature import StandardScaler\n",
    "\n",
    "scaler = StandardScaler(inputCol=\"features\", outputCol=\"scaledFeatures\",\n",
    "                        withStd=True, withMean=True)\n",
    "scalerModel = scaler.fit(bd6)\n",
    "bd6std = scalerModel.transform(bd6)\n",
    "\n",
    "bd6std.select('features','scaledFeatures').show()"
   ]
  },
  {
   "cell_type": "code",
   "execution_count": 11,
   "metadata": {
    "collapsed": true
   },
   "outputs": [],
   "source": [
    "from pyspark.ml.feature import PCA\n",
    "\n",
    "#2 componentes\n",
    "pca2=PCA(k=2,inputCol='scaledFeatures',outputCol='pca_scaledfeatures')"
   ]
  },
  {
   "cell_type": "code",
   "execution_count": 16,
   "metadata": {
    "collapsed": false
   },
   "outputs": [
    {
     "name": "stdout",
     "output_type": "stream",
     "text": [
      "+--------------------+\n",
      "|  pca_scaledfeatures|\n",
      "+--------------------+\n",
      "|[1.25667411910508...|\n",
      "|[1.23672540371479...|\n",
      "|[1.24059964059000...|\n",
      "|[1.23917988807288...|\n",
      "|[1.27813884218153...|\n",
      "|[1.26480761353166...|\n",
      "|[1.25677037427412...|\n",
      "|[1.25005663236466...|\n",
      "|[1.24466638780329...|\n",
      "|[1.23795264589383...|\n",
      "|[1.22859190928821...|\n",
      "|[1.27284485278920...|\n",
      "|[1.26877810557591...|\n",
      "|[1.25809387162220...|\n",
      "|[1.25005663236466...|\n",
      "|[1.24334289045521...|\n",
      "|[1.21942368302067...|\n",
      "|[1.20741595171888...|\n",
      "|[1.25431588991603...|\n",
      "|[1.23833766656999...|\n",
      "+--------------------+\n",
      "only showing top 20 rows\n",
      "\n"
     ]
    }
   ],
   "source": [
    "model2=pca2.fit(bd6std)\n",
    "bd6pca2=model2.transform(bd6std)\n",
    "bd6pca2.select('pca_scaledfeatures').show()\n"
   ]
  },
  {
   "cell_type": "code",
   "execution_count": 13,
   "metadata": {
    "collapsed": false
   },
   "outputs": [
    {
     "data": {
      "text/html": [
       "<div>\n",
       "<table border=\"1\" class=\"dataframe\">\n",
       "  <thead>\n",
       "    <tr style=\"text-align: right;\">\n",
       "      <th></th>\n",
       "      <th>summary</th>\n",
       "      <th>pca1</th>\n",
       "      <th>pca2</th>\n",
       "    </tr>\n",
       "  </thead>\n",
       "  <tbody>\n",
       "    <tr>\n",
       "      <th>0</th>\n",
       "      <td>count</td>\n",
       "      <td>30466</td>\n",
       "      <td>30466</td>\n",
       "    </tr>\n",
       "    <tr>\n",
       "      <th>1</th>\n",
       "      <td>mean</td>\n",
       "      <td>1.4992589980211245E-10</td>\n",
       "      <td>-2.386263811770431E-11</td>\n",
       "    </tr>\n",
       "    <tr>\n",
       "      <th>2</th>\n",
       "      <td>stddev</td>\n",
       "      <td>1.4247512515634884</td>\n",
       "      <td>1.2476208654224727</td>\n",
       "    </tr>\n",
       "    <tr>\n",
       "      <th>3</th>\n",
       "      <td>min</td>\n",
       "      <td>-3.9466622</td>\n",
       "      <td>-9.316214</td>\n",
       "    </tr>\n",
       "    <tr>\n",
       "      <th>4</th>\n",
       "      <td>max</td>\n",
       "      <td>3.2699375</td>\n",
       "      <td>2.831249</td>\n",
       "    </tr>\n",
       "  </tbody>\n",
       "</table>\n",
       "</div>"
      ],
      "text/plain": [
       "  summary                    pca1                    pca2\n",
       "0   count                   30466                   30466\n",
       "1    mean  1.4992589980211245E-10  -2.386263811770431E-11\n",
       "2  stddev      1.4247512515634884      1.2476208654224727\n",
       "3     min              -3.9466622               -9.316214\n",
       "4     max               3.2699375                2.831249"
      ]
     },
     "execution_count": 13,
     "metadata": {},
     "output_type": "execute_result"
    }
   ],
   "source": [
    "bd6pca2=bd6pca2.withColumn('pca1',p1('pca_scaledfeatures')).withColumn('pca2',p2('pca_scaledfeatures')) \n",
    "bd6pca2.select('pca1','pca2').describe().toPandas()"
   ]
  },
  {
   "cell_type": "markdown",
   "metadata": {},
   "source": [
    "Nota: Las componentes obtenidas también se pueden estandarizar de nuevo."
   ]
  },
  {
   "cell_type": "code",
   "execution_count": 14,
   "metadata": {
    "collapsed": false
   },
   "outputs": [
    {
     "data": {
      "text/html": [
       "<div>\n",
       "<table border=\"1\" class=\"dataframe\">\n",
       "  <thead>\n",
       "    <tr style=\"text-align: right;\">\n",
       "      <th></th>\n",
       "      <th>DepDelay</th>\n",
       "      <th>Distance</th>\n",
       "      <th>DayOfWeek</th>\n",
       "      <th>CRSDepTime</th>\n",
       "      <th>Horario</th>\n",
       "      <th>LogD</th>\n",
       "      <th>pca1</th>\n",
       "      <th>pca2</th>\n",
       "    </tr>\n",
       "  </thead>\n",
       "  <tbody>\n",
       "    <tr>\n",
       "      <th>DepDelay</th>\n",
       "      <td>1.000000</td>\n",
       "      <td>-0.000737</td>\n",
       "      <td>0.000761</td>\n",
       "      <td>0.124187</td>\n",
       "      <td>0.120019</td>\n",
       "      <td>-0.005971</td>\n",
       "      <td>-0.094481</td>\n",
       "      <td>-0.313865</td>\n",
       "    </tr>\n",
       "    <tr>\n",
       "      <th>Distance</th>\n",
       "      <td>-0.000737</td>\n",
       "      <td>1.000000</td>\n",
       "      <td>-0.029890</td>\n",
       "      <td>-0.078393</td>\n",
       "      <td>-0.049484</td>\n",
       "      <td>0.957456</td>\n",
       "      <td>0.926898</td>\n",
       "      <td>-0.359012</td>\n",
       "    </tr>\n",
       "    <tr>\n",
       "      <th>DayOfWeek</th>\n",
       "      <td>0.000761</td>\n",
       "      <td>-0.029890</td>\n",
       "      <td>1.000000</td>\n",
       "      <td>-0.010417</td>\n",
       "      <td>0.016774</td>\n",
       "      <td>-0.035493</td>\n",
       "      <td>-0.040535</td>\n",
       "      <td>-0.010466</td>\n",
       "    </tr>\n",
       "    <tr>\n",
       "      <th>CRSDepTime</th>\n",
       "      <td>0.124187</td>\n",
       "      <td>-0.078393</td>\n",
       "      <td>-0.010417</td>\n",
       "      <td>1.000000</td>\n",
       "      <td>0.579708</td>\n",
       "      <td>-0.088783</td>\n",
       "      <td>-0.385502</td>\n",
       "      <td>-0.777299</td>\n",
       "    </tr>\n",
       "    <tr>\n",
       "      <th>Horario</th>\n",
       "      <td>0.120019</td>\n",
       "      <td>-0.049484</td>\n",
       "      <td>0.016774</td>\n",
       "      <td>0.579708</td>\n",
       "      <td>1.000000</td>\n",
       "      <td>-0.046617</td>\n",
       "      <td>-0.349004</td>\n",
       "      <td>-0.792548</td>\n",
       "    </tr>\n",
       "    <tr>\n",
       "      <th>LogD</th>\n",
       "      <td>-0.005971</td>\n",
       "      <td>0.957456</td>\n",
       "      <td>-0.035493</td>\n",
       "      <td>-0.088783</td>\n",
       "      <td>-0.046617</td>\n",
       "      <td>1.000000</td>\n",
       "      <td>0.928783</td>\n",
       "      <td>-0.353973</td>\n",
       "    </tr>\n",
       "    <tr>\n",
       "      <th>pca1</th>\n",
       "      <td>-0.094481</td>\n",
       "      <td>0.926898</td>\n",
       "      <td>-0.040535</td>\n",
       "      <td>-0.385502</td>\n",
       "      <td>-0.349004</td>\n",
       "      <td>0.928783</td>\n",
       "      <td>1.000000</td>\n",
       "      <td>-0.015296</td>\n",
       "    </tr>\n",
       "    <tr>\n",
       "      <th>pca2</th>\n",
       "      <td>-0.313865</td>\n",
       "      <td>-0.359012</td>\n",
       "      <td>-0.010466</td>\n",
       "      <td>-0.777299</td>\n",
       "      <td>-0.792548</td>\n",
       "      <td>-0.353973</td>\n",
       "      <td>-0.015296</td>\n",
       "      <td>1.000000</td>\n",
       "    </tr>\n",
       "  </tbody>\n",
       "</table>\n",
       "</div>"
      ],
      "text/plain": [
       "            DepDelay  Distance  DayOfWeek  CRSDepTime   Horario      LogD  \\\n",
       "DepDelay    1.000000 -0.000737   0.000761    0.124187  0.120019 -0.005971   \n",
       "Distance   -0.000737  1.000000  -0.029890   -0.078393 -0.049484  0.957456   \n",
       "DayOfWeek   0.000761 -0.029890   1.000000   -0.010417  0.016774 -0.035493   \n",
       "CRSDepTime  0.124187 -0.078393  -0.010417    1.000000  0.579708 -0.088783   \n",
       "Horario     0.120019 -0.049484   0.016774    0.579708  1.000000 -0.046617   \n",
       "LogD       -0.005971  0.957456  -0.035493   -0.088783 -0.046617  1.000000   \n",
       "pca1       -0.094481  0.926898  -0.040535   -0.385502 -0.349004  0.928783   \n",
       "pca2       -0.313865 -0.359012  -0.010466   -0.777299 -0.792548 -0.353973   \n",
       "\n",
       "                pca1      pca2  \n",
       "DepDelay   -0.094481 -0.313865  \n",
       "Distance    0.926898 -0.359012  \n",
       "DayOfWeek  -0.040535 -0.010466  \n",
       "CRSDepTime -0.385502 -0.777299  \n",
       "Horario    -0.349004 -0.792548  \n",
       "LogD        0.928783 -0.353973  \n",
       "pca1        1.000000 -0.015296  \n",
       "pca2       -0.015296  1.000000  "
      ]
     },
     "execution_count": 14,
     "metadata": {},
     "output_type": "execute_result"
    }
   ],
   "source": [
    "pdf6 = bd6pca2.sample(False,0.1).select('DepDelay','Distance','DayOfWeek',\n",
    "               'CRSDepTime','Horario','LogD','pca1','pca2').toPandas()\n",
    "\n",
    "pdf6.corr()"
   ]
  }
 ],
 "metadata": {
  "anaconda-cloud": {},
  "kernelspec": {
   "display_name": "Python [default]",
   "language": "python",
   "name": "python3"
  },
  "language_info": {
   "codemirror_mode": {
    "name": "ipython",
    "version": 3
   },
   "file_extension": ".py",
   "mimetype": "text/x-python",
   "name": "python",
   "nbconvert_exporter": "python",
   "pygments_lexer": "ipython3",
   "version": "3.5.2"
  }
 },
 "nbformat": 4,
 "nbformat_minor": 2
}
