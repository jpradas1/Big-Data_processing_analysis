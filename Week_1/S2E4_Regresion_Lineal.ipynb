{
 "cells": [
  {
   "cell_type": "markdown",
   "metadata": {
    "collapsed": true
   },
   "source": [
    "# Modelo de Regresión Simple"
   ]
  },
  {
   "cell_type": "code",
   "execution_count": 1,
   "metadata": {
    "collapsed": true
   },
   "outputs": [],
   "source": [
    "#from pyspark import SparkContext\n",
    "#sc = SparkContext()\n",
    "#from pyspark.sql import SQLContext\n",
    "#sqlContext=SQLContext(sc)"
   ]
  },
  {
   "cell_type": "code",
   "execution_count": 1,
   "metadata": {
    "collapsed": true
   },
   "outputs": [],
   "source": [
    "bd5 = sqlContext.read.format(\n",
    "    \"com.databricks.spark.csv\"\n",
    ").option(\"header\", \"true\").load(\"bd5.csv\", inferSchema=True)\n",
    "sqlContext.registerDataFrameAsTable(bd5, \"bd5\")"
   ]
  },
  {
   "cell_type": "markdown",
   "metadata": {},
   "source": [
    "## Descripción Previa de la Base de Datos"
   ]
  },
  {
   "cell_type": "markdown",
   "metadata": {},
   "source": [
    "Resumen Numérico"
   ]
  },
  {
   "cell_type": "code",
   "execution_count": 2,
   "metadata": {
    "collapsed": false
   },
   "outputs": [
    {
     "data": {
      "text/html": [
       "<div>\n",
       "<table border=\"1\" class=\"dataframe\">\n",
       "  <thead>\n",
       "    <tr style=\"text-align: right;\">\n",
       "      <th></th>\n",
       "      <th>Horario</th>\n",
       "      <th>ArrDelay</th>\n",
       "      <th>DepDelay</th>\n",
       "      <th>RetrasoNeto</th>\n",
       "    </tr>\n",
       "  </thead>\n",
       "  <tbody>\n",
       "    <tr>\n",
       "      <th>Horario</th>\n",
       "      <td>1.000000</td>\n",
       "      <td>0.135776</td>\n",
       "      <td>0.120853</td>\n",
       "      <td>0.081756</td>\n",
       "    </tr>\n",
       "    <tr>\n",
       "      <th>ArrDelay</th>\n",
       "      <td>0.135776</td>\n",
       "      <td>1.000000</td>\n",
       "      <td>0.959762</td>\n",
       "      <td>0.371824</td>\n",
       "    </tr>\n",
       "    <tr>\n",
       "      <th>DepDelay</th>\n",
       "      <td>0.120853</td>\n",
       "      <td>0.959762</td>\n",
       "      <td>1.000000</td>\n",
       "      <td>0.096182</td>\n",
       "    </tr>\n",
       "    <tr>\n",
       "      <th>RetrasoNeto</th>\n",
       "      <td>0.081756</td>\n",
       "      <td>0.371824</td>\n",
       "      <td>0.096182</td>\n",
       "      <td>1.000000</td>\n",
       "    </tr>\n",
       "  </tbody>\n",
       "</table>\n",
       "</div>"
      ],
      "text/plain": [
       "              Horario  ArrDelay  DepDelay  RetrasoNeto\n",
       "Horario      1.000000  0.135776  0.120853     0.081756\n",
       "ArrDelay     0.135776  1.000000  0.959762     0.371824\n",
       "DepDelay     0.120853  0.959762  1.000000     0.096182\n",
       "RetrasoNeto  0.081756  0.371824  0.096182     1.000000"
      ]
     },
     "execution_count": 2,
     "metadata": {},
     "output_type": "execute_result"
    }
   ],
   "source": [
    "pdf4 = bd5.sample(False, 0.1, 0).select('Dest','Horario','ArrDelay','DepDelay','RetrasoNeto').toPandas()\n",
    "pdf4.corr()"
   ]
  },
  {
   "cell_type": "markdown",
   "metadata": {},
   "source": [
    "Resumen Gráfico"
   ]
  },
  {
   "cell_type": "code",
   "execution_count": 3,
   "metadata": {
    "collapsed": false
   },
   "outputs": [
    {
     "data": {
      "text/plain": [
       "<seaborn.axisgrid.JointGrid at 0x7f2711970b00>"
      ]
     },
     "execution_count": 3,
     "metadata": {},
     "output_type": "execute_result"
    },
    {
     "data": {
      "image/png": "[encoded data removed]",
      "text/plain": [
       "<matplotlib.figure.Figure at 0x7f2711970c50>"
      ]
     },
     "metadata": {},
     "output_type": "display_data"
    }
   ],
   "source": [
    "import seaborn as sns\n",
    "%matplotlib inline\n",
    "sns.jointplot(x=\"DepDelay\", y=\"ArrDelay\", data=pdf4)"
   ]
  },
  {
   "cell_type": "markdown",
   "metadata": {},
   "source": [
    "## Configuración de la base de datos"
   ]
  },
  {
   "cell_type": "code",
   "execution_count": 5,
   "metadata": {
    "collapsed": false
   },
   "outputs": [
    {
     "name": "stdout",
     "output_type": "stream",
     "text": [
      "+-----+--------+\n",
      "|label|features|\n",
      "+-----+--------+\n",
      "| -7.0|  [-5.0]|\n",
      "| -3.0|   [5.0]|\n",
      "| -3.0|  [-3.0]|\n",
      "| -2.0|  [-7.0]|\n",
      "| -2.0|  [-6.0]|\n",
      "|  0.0|  [-1.0]|\n",
      "| -6.0|   [0.0]|\n",
      "|  7.0|   [0.0]|\n",
      "| -9.0|  [-1.0]|\n",
      "| -2.0|  [-1.0]|\n",
      "| 13.0|   [1.0]|\n",
      "|-16.0|  [-2.0]|\n",
      "|-21.0|  [-4.0]|\n",
      "|-16.0|  [-1.0]|\n",
      "|-11.0|   [0.0]|\n",
      "| -8.0|   [0.0]|\n",
      "| -4.0|  [13.0]|\n",
      "|  0.0|  [17.0]|\n",
      "| -2.0|  [12.0]|\n",
      "|  2.0|  [19.0]|\n",
      "+-----+--------+\n",
      "only showing top 20 rows\n",
      "\n"
     ]
    }
   ],
   "source": [
    "from pyspark.ml.feature import VectorAssembler\n",
    "from pyspark.sql.functions import col\n",
    "\n",
    "assembler = VectorAssembler(\n",
    "    inputCols=['DepDelay'],\n",
    "    outputCol='features')\n",
    "\n",
    "bd6 = assembler.transform(bd5).select(col(\"ArrDelay\").alias(\"label\"),'features')\n",
    "bd6.show()"
   ]
  },
  {
   "cell_type": "markdown",
   "metadata": {},
   "source": [
    "### Ajuste del modelo"
   ]
  },
  {
   "cell_type": "code",
   "execution_count": 6,
   "metadata": {
    "collapsed": false
   },
   "outputs": [
    {
     "name": "stderr",
     "output_type": "stream",
     "text": [
      "/usr/lib/spark/python/pyspark/ml/regression.py:123: UserWarning: weights is deprecated. Use coefficients instead.\n",
      "  warnings.warn(\"weights is deprecated. Use coefficients instead.\")\n"
     ]
    }
   ],
   "source": [
    "from pyspark.ml.regression import LinearRegression\n",
    "lr = LinearRegression()\n",
    "model = lr.fit(bd6)\n",
    "pred = model.transform(bd6)"
   ]
  },
  {
   "cell_type": "markdown",
   "metadata": {},
   "source": [
    "Coeficientes"
   ]
  },
  {
   "cell_type": "code",
   "execution_count": 7,
   "metadata": {
    "collapsed": false
   },
   "outputs": [
    {
     "name": "stdout",
     "output_type": "stream",
     "text": [
      "-4.3994410804913295 [1.02786002478]\n"
     ]
    }
   ],
   "source": [
    "print(model.intercept,model.coefficients)"
   ]
  },
  {
   "cell_type": "markdown",
   "metadata": {},
   "source": [
    "Modelo Teórico:\n",
    "\n",
    "__ArrDelay = $\\beta_0$ + $\\beta_1$*DepDelay + $\\epsilon$__ \n",
    "\n",
    "\n",
    "Modelo Predictivo:\n",
    "\n",
    "__ArrDelay = -4.4 + 1.03*DepDelay__\n",
    "\n",
    "\n"
   ]
  },
  {
   "cell_type": "markdown",
   "metadata": {},
   "source": [
    "Valores Predichos y Residuos"
   ]
  },
  {
   "cell_type": "code",
   "execution_count": 8,
   "metadata": {
    "collapsed": false
   },
   "outputs": [
    {
     "name": "stdout",
     "output_type": "stream",
     "text": [
      "+-----+--------+-------------------+-------------------+\n",
      "|label|features|         prediction|           residual|\n",
      "+-----+--------+-------------------+-------------------+\n",
      "| -7.0|  [-5.0]| -9.538741204370066| 2.5387412043700657|\n",
      "| -3.0|   [5.0]| 0.7398590433874066|-3.7398590433874066|\n",
      "| -3.0|  [-3.0]| -7.483021154818571|  4.483021154818571|\n",
      "| -2.0|  [-7.0]| -11.59446125392156|   9.59446125392156|\n",
      "| -2.0|  [-6.0]|-10.566601229145814|  8.566601229145814|\n",
      "|  0.0|  [-1.0]| -5.427301105267077|  5.427301105267077|\n",
      "| -6.0|   [0.0]|-4.3994410804913295|-1.6005589195086705|\n",
      "|  7.0|   [0.0]|-4.3994410804913295| 11.399441080491329|\n",
      "| -9.0|  [-1.0]| -5.427301105267077|-3.5726988947329232|\n",
      "| -2.0|  [-1.0]| -5.427301105267077| 3.4273011052670768|\n",
      "| 13.0|   [1.0]|-3.3715810557155823|  16.37158105571558|\n",
      "|-16.0|  [-2.0]| -6.455161130042824| -9.544838869957175|\n",
      "|-21.0|  [-4.0]| -8.510881179594318|-12.489118820405682|\n",
      "|-16.0|  [-1.0]| -5.427301105267077|-10.572698894732923|\n",
      "|-11.0|   [0.0]|-4.3994410804913295|-6.6005589195086705|\n",
      "| -8.0|   [0.0]|-4.3994410804913295|-3.6005589195086705|\n",
      "| -4.0|  [13.0]|  8.962739241593386|-12.962739241593386|\n",
      "|  0.0|  [17.0]| 13.074179340696375|-13.074179340696375|\n",
      "| -2.0|  [12.0]|  7.934879216817637| -9.934879216817638|\n",
      "|  2.0|  [19.0]| 15.129899390247868|-13.129899390247868|\n",
      "+-----+--------+-------------------+-------------------+\n",
      "only showing top 20 rows\n",
      "\n"
     ]
    }
   ],
   "source": [
    "pred = pred.withColumn('residual', pred.label-pred.prediction)\n",
    "pred.show()"
   ]
  },
  {
   "cell_type": "markdown",
   "metadata": {},
   "source": [
    "Representación gráfica de resultados"
   ]
  },
  {
   "cell_type": "code",
   "execution_count": 11,
   "metadata": {
    "collapsed": false
   },
   "outputs": [
    {
     "data": {
      "text/plain": [
       "<seaborn.axisgrid.JointGrid at 0x7f57cca1d198>"
      ]
     },
     "execution_count": 11,
     "metadata": {},
     "output_type": "execute_result"
    },
    {
     "data": {
      "image/png": "[encoded data removed]",
      "text/plain": [
       "<matplotlib.figure.Figure at 0x7f57cca1d470>"
      ]
     },
     "metadata": {},
     "output_type": "display_data"
    }
   ],
   "source": [
    "pdpred = pred.toPandas()\n",
    "sns.jointplot(x=\"prediction\", y=\"label\", data=pdpred)"
   ]
  },
  {
   "cell_type": "code",
   "execution_count": 12,
   "metadata": {
    "collapsed": false
   },
   "outputs": [
    {
     "data": {
      "text/plain": [
       "<seaborn.axisgrid.JointGrid at 0x7f5807785518>"
      ]
     },
     "execution_count": 12,
     "metadata": {},
     "output_type": "execute_result"
    },
    {
     "data": {
      "image/png": "[encoded data removed]",
      "text/plain": [
       "<matplotlib.figure.Figure at 0x7f57cc9dc0f0>"
      ]
     },
     "metadata": {},
     "output_type": "display_data"
    }
   ],
   "source": [
    "sns.jointplot(x=\"prediction\", y=\"residual\", data=pdpred)"
   ]
  },
  {
   "cell_type": "markdown",
   "metadata": {},
   "source": [
    "Métricas de Evaluación (R2, RMSE, MAE)"
   ]
  },
  {
   "cell_type": "code",
   "execution_count": 9,
   "metadata": {
    "collapsed": false
   },
   "outputs": [
    {
     "name": "stdout",
     "output_type": "stream",
     "text": [
      "15.498421344920246\n",
      "0.9161065747950511\n"
     ]
    }
   ],
   "source": [
    "from pyspark.ml.evaluation import RegressionEvaluator\n",
    "\n",
    "print(RegressionEvaluator(metricName=\"rmse\").evaluate(pred))\n",
    "print(RegressionEvaluator(metricName=\"r2\").evaluate(pred))\n"
   ]
  },
  {
   "cell_type": "markdown",
   "metadata": {},
   "source": [
    "Otros parámetros opcionales del modelo"
   ]
  },
  {
   "cell_type": "code",
   "execution_count": 10,
   "metadata": {
    "collapsed": true
   },
   "outputs": [],
   "source": [
    "#lr = LinearRegression()\n",
    "#lr = LinearRegression(\n",
    "    #maxIter=5, \n",
    "    #regParam=0.0,\n",
    "    #elasticNetParam=0.0,\n",
    "    #solver=\"normal\", \n",
    "    #weightCol=\"weight\")"
   ]
  }
 ],
 "metadata": {
  "anaconda-cloud": {},
  "kernelspec": {
   "display_name": "Python [default]",
   "language": "python",
   "name": "python3"
  },
  "language_info": {
   "codemirror_mode": {
    "name": "ipython",
    "version": 3
   },
   "file_extension": ".py",
   "mimetype": "text/x-python",
   "name": "python",
   "nbconvert_exporter": "python",
   "pygments_lexer": "ipython3",
   "version": "3.5.2"
  }
 },
 "nbformat": 4,
 "nbformat_minor": 2
}
