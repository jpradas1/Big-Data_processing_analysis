{
 "cells": [
  {
   "cell_type": "markdown",
   "metadata": {
    "collapsed": true
   },
   "source": [
    "# Análisis Exploratorio de Datos (1)"
   ]
  },
  {
   "cell_type": "markdown",
   "metadata": {},
   "source": [
    "## Posibles Objectivos:\n",
    "\n",
    "* **Predecir  el retraso de los vuelos**\n",
    "* Analizar factores relacionados con los vuelos causantes de retraso\n",
    "* Analizar factores relacionados con vuelos con retraso atribuible a la aerolínea.\n",
    "* Classificar Aeropuertos\n",
    "* Classificar Aerolíneas\n",
    "\n"
   ]
  },
  {
   "cell_type": "markdown",
   "metadata": {},
   "source": [
    "## Lectura inicial"
   ]
  },
  {
   "cell_type": "markdown",
   "metadata": {},
   "source": [
    "Definir SparkContext y SQLContext"
   ]
  },
  {
   "cell_type": "code",
   "execution_count": 1,
   "metadata": {
    "collapsed": true
   },
   "outputs": [],
   "source": [
    "#from pyspark import SparkContext\n",
    "#sc = SparkContext()\n",
    "#from pyspark.sql import SQLContext\n",
    "#sqlContext=SQLContext(sc)"
   ]
  },
  {
   "cell_type": "markdown",
   "metadata": {},
   "source": [
    "Lectura del fichero de trabajo"
   ]
  },
  {
   "cell_type": "code",
   "execution_count": 2,
   "metadata": {
    "collapsed": false
   },
   "outputs": [],
   "source": [
    "bd = sqlContext.read.format(\"com.databricks.spark.csv\"\n",
    ").option(\"header\", \"true\"\n",
    ").load(\"On_Time_On_Time_Performance_2016_12.csv\", inferSchema=True\n",
    ")"
   ]
  },
  {
   "cell_type": "markdown",
   "metadata": {},
   "source": [
    "## Pre-proceso inicial"
   ]
  },
  {
   "cell_type": "markdown",
   "metadata": {},
   "source": [
    "Filtro variables de interés y principales aeropuertos"
   ]
  },
  {
   "cell_type": "code",
   "execution_count": 3,
   "metadata": {
    "collapsed": true
   },
   "outputs": [],
   "source": [
    "bd=bd.select('YEAR','MONTH','DAY_OF_MONTH','DAY_OF_WEEK','CRS_DEP_TIME',\n",
    "             'OP_UNIQUE_CARRIER', 'TAIL_NUM', 'ARR_DELAY','DEP_DELAY',\n",
    "             'ORIGIN','DEST','DISTANCE','CANCELLED', 'DIVERTED','CARRIER_DELAY',\n",
    "             'WEATHER_DELAY','NAS_DELAY','SECURITY_DELAY',\n",
    "             'LATE_AIRCRAFT_DELAY') "
   ]
  },
  {
   "cell_type": "code",
   "execution_count": 4,
   "metadata": {
    "collapsed": true
   },
   "outputs": [],
   "source": [
    "sqlContext.registerDataFrameAsTable(bd, \"bd\")\n",
    "bd2 = sqlContext.sql(\"select * from bd \\\n",
    "            where ORIGIN in ('ATL','ORD','DEN','LAX','DFW','SFO','PHX','LAS') \\\n",
    "            and DEST in ('ATL','ORD','DEN','LAX','DFW','SFO','PHX','LAS')\")\n",
    "sqlContext.registerDataFrameAsTable(bd2, \"bd2\")"
   ]
  },
  {
   "cell_type": "markdown",
   "metadata": {},
   "source": [
    "# Exploración de Variables\n",
    "Los datos (variables) son características observables de los individuos de una población. Éstas variables pueden ser:\n",
    "\n",
    "* __CUALITATIVAS__: etiquetas (numéricas o no) que representan el grupo o categoría al cual pertenece un individuo. Se puede diferenciar entre nominales y ordinales.\n",
    "\n",
    "* __CUANTITATIVAS__: valores numéricos para los cuales tiene sentido hacer aritmética. Se puede diferenciar entre valores enteros  (discretos) y valores medidos en cierta escala (continuos).\n"
   ]
  },
  {
   "cell_type": "markdown",
   "metadata": {},
   "source": [
    "## Exploración de Variables Cualitativas\n",
    "* Número de casos disponibles\n",
    "* Número de categorías\n",
    "* Frecuencias relativas\n",
    "* Frecuencias absolutas\n",
    "* Frec. relativa acumulada\n",
    "* Frec. absoluta acumulada"
   ]
  },
  {
   "cell_type": "code",
   "execution_count": 5,
   "metadata": {
    "collapsed": false
   },
   "outputs": [
    {
     "data": {
      "text/plain": [
       "30965"
      ]
     },
     "execution_count": 5,
     "metadata": {},
     "output_type": "execute_result"
    }
   ],
   "source": [
    "bd2.count()"
   ]
  },
  {
   "cell_type": "code",
   "execution_count": 6,
   "metadata": {
    "collapsed": false
   },
   "outputs": [
    {
     "data": {
      "text/plain": [
       "8"
      ]
     },
     "execution_count": 6,
     "metadata": {},
     "output_type": "execute_result"
    }
   ],
   "source": [
    "bd2.select(\"Dest\").distinct().count()"
   ]
  },
  {
   "cell_type": "code",
   "execution_count": 7,
   "metadata": {
    "collapsed": false
   },
   "outputs": [
    {
     "name": "stdout",
     "output_type": "stream",
     "text": [
      "+----+-----+\n",
      "|Dest|count|\n",
      "+----+-----+\n",
      "| ORD| 3829|\n",
      "| LAS| 3726|\n",
      "| LAX| 5342|\n",
      "| ATL| 3094|\n",
      "| DEN| 3967|\n",
      "| PHX| 3302|\n",
      "| DFW| 3275|\n",
      "| SFO| 4430|\n",
      "+----+-----+\n",
      "\n"
     ]
    }
   ],
   "source": [
    "bd2.groupBy(\"Dest\").count().show()"
   ]
  },
  {
   "cell_type": "code",
   "execution_count": 8,
   "metadata": {
    "collapsed": false
   },
   "outputs": [
    {
     "name": "stdout",
     "output_type": "stream",
     "text": [
      "+----+----+-----+\n",
      "|Dest|   n|    p|\n",
      "+----+----+-----+\n",
      "| ORD|3829|12.37|\n",
      "| LAS|3726|12.03|\n",
      "| LAX|5342|17.25|\n",
      "| ATL|3094| 9.99|\n",
      "| DEN|3967|12.81|\n",
      "| PHX|3302|10.66|\n",
      "| DFW|3275|10.58|\n",
      "| SFO|4430|14.31|\n",
      "+----+----+-----+\n",
      "\n"
     ]
    }
   ],
   "source": [
    "sqlContext.sql(\"select Dest, count(*) as n , round(  100*count(*)/30965  ,2) as p \\\n",
    "                from bd2 \\\n",
    "                group by Dest  \").show()"
   ]
  },
  {
   "cell_type": "code",
   "execution_count": 9,
   "metadata": {
    "collapsed": false
   },
   "outputs": [
    {
     "name": "stdout",
     "output_type": "stream",
     "text": [
      "+----+----+------------------+\n",
      "|Dest|   n|                 p|\n",
      "+----+----+------------------+\n",
      "| ORD|3829|12.365574035201034|\n",
      "| LAS|3726|12.032940416599386|\n",
      "| LAX|5342|17.251735830776685|\n",
      "| ATL|3094| 9.991926368480543|\n",
      "| DEN|3967|12.811238495075084|\n",
      "| PHX|3302|10.663652510899402|\n",
      "| DFW|3275|10.576457290489262|\n",
      "| SFO|4430|14.306475052478605|\n",
      "+----+----+------------------+\n",
      "\n"
     ]
    }
   ],
   "source": [
    "sqlContext.sql(\"select t1.Dest , t1.n , 100*t1.n/t2.t as p\\\n",
    "               from (select Dest, count(*) as n from bd2 group by Dest ) as t1 , \\\n",
    "               (select count(*) as t from bd2) as t2\").show()"
   ]
  },
  {
   "cell_type": "markdown",
   "metadata": {},
   "source": [
    "## Exploración de Variables Cuantitativas\n",
    "\n",
    "* Número de casos disponibles\n",
    "* Medidas de localización\n",
    "  * Media: centro de masas\n",
    "  * Mediana: punto medio (50% de la muestra)\n",
    "* Medidas de dispersión  \n",
    "  * Varianza / desviación estándar\n",
    "  * Cuartiles Q3 y Q1 (25% y 75% de la muestra)\n",
    "  * Rango Intercuartílico: IQR = Q3 – Q1\n",
    "  * Rango = max – min\n",
    "* Valores extremos\n",
    "  * Máximo y Mínimo;  Top y Bottom\n",
    "  * Percentiles (1%, 99%)\n",
    "  * Porcentaje de casos 'por encima/debajo de'."
   ]
  },
  {
   "cell_type": "code",
   "execution_count": 11,
   "metadata": {
    "collapsed": false
   },
   "outputs": [
    {
     "name": "stdout",
     "output_type": "stream",
     "text": [
      "+-------+------------------+\n",
      "|summary|         ARR_DELAY|\n",
      "+-------+------------------+\n",
      "|  count|             30466|\n",
      "|   mean|13.300695857677411|\n",
      "| stddev|53.509467381637556|\n",
      "|    min|             -53.0|\n",
      "|    max|            2028.0|\n",
      "+-------+------------------+\n",
      "\n"
     ]
    }
   ],
   "source": [
    "bd2.describe(\"ARR_DELAY\").show()"
   ]
  },
  {
   "cell_type": "code",
   "execution_count": 12,
   "metadata": {
    "collapsed": false
   },
   "outputs": [
    {
     "data": {
      "text/plain": [
       "[Row(max(ARR_DELAY)=2028.0)]"
      ]
     },
     "execution_count": 12,
     "metadata": {},
     "output_type": "execute_result"
    }
   ],
   "source": [
    "bd2.select('ARR_DELAY').groupBy().max().collect()"
   ]
  },
  {
   "cell_type": "code",
   "execution_count": 13,
   "metadata": {
    "collapsed": false
   },
   "outputs": [
    {
     "name": "stdout",
     "output_type": "stream",
     "text": [
      "+-----+------+\n",
      "|  Min|   Max|\n",
      "+-----+------+\n",
      "|-53.0|2028.0|\n",
      "+-----+------+\n",
      "\n"
     ]
    }
   ],
   "source": [
    "sqlContext.sql(\"select min(ARR_DELAY) as Min, \\\n",
    "                max(ARR_DELAY) as Max from bd2\" ).show()"
   ]
  },
  {
   "cell_type": "code",
   "execution_count": 14,
   "metadata": {
    "collapsed": false
   },
   "outputs": [
    {
     "name": "stdout",
     "output_type": "stream",
     "text": [
      "+---------+\n",
      "|ARR_DELAY|\n",
      "+---------+\n",
      "|   2028.0|\n",
      "|   1505.0|\n",
      "|   1006.0|\n",
      "|    996.0|\n",
      "|    951.0|\n",
      "|    920.0|\n",
      "|    920.0|\n",
      "|    873.0|\n",
      "|    872.0|\n",
      "|    868.0|\n",
      "+---------+\n",
      "only showing top 10 rows\n",
      "\n"
     ]
    }
   ],
   "source": [
    "bd2.select('ARR_DELAY').orderBy('ARR_DELAY',ascending=False).show(10)"
   ]
  },
  {
   "cell_type": "code",
   "execution_count": 16,
   "metadata": {
    "collapsed": false
   },
   "outputs": [
    {
     "data": {
      "text/plain": [
       "Row(ARR_DELAY=103.0)"
      ]
     },
     "execution_count": 16,
     "metadata": {},
     "output_type": "execute_result"
    }
   ],
   "source": [
    "n=bd2.select('ARR_DELAY').count()\n",
    "P95=int(n*0.95)\n",
    "bd2.select('ARR_DELAY').sort('ARR_DELAY').collect()[P95]"
   ]
  },
  {
   "cell_type": "markdown",
   "metadata": {},
   "source": [
    "## Representación gráfica de Variables Cualitativas\n"
   ]
  },
  {
   "cell_type": "code",
   "execution_count": 17,
   "metadata": {
    "collapsed": false
   },
   "outputs": [
    {
     "name": "stderr",
     "output_type": "stream",
     "text": [
      "/home/cloudera/anaconda3/lib/python3.5/site-packages/matplotlib/font_manager.py:273: UserWarning: Matplotlib is building the font cache using fc-list. This may take a moment.\n",
      "  warnings.warn('Matplotlib is building the font cache using fc-list. This may take a moment.')\n",
      "/home/cloudera/anaconda3/lib/python3.5/site-packages/matplotlib/font_manager.py:273: UserWarning: Matplotlib is building the font cache using fc-list. This may take a moment.\n",
      "  warnings.warn('Matplotlib is building the font cache using fc-list. This may take a moment.')\n"
     ]
    }
   ],
   "source": [
    "import matplotlib.pyplot as plt\n",
    "%matplotlib inline"
   ]
  },
  {
   "cell_type": "code",
   "execution_count": 18,
   "metadata": {
    "collapsed": false
   },
   "outputs": [
    {
     "data": {
      "text/html": [
       "<div>\n",
       "<table border=\"1\" class=\"dataframe\">\n",
       "  <thead>\n",
       "    <tr style=\"text-align: right;\">\n",
       "      <th></th>\n",
       "      <th>Dest</th>\n",
       "      <th>n</th>\n",
       "    </tr>\n",
       "  </thead>\n",
       "  <tbody>\n",
       "    <tr>\n",
       "      <th>0</th>\n",
       "      <td>ORD</td>\n",
       "      <td>3829</td>\n",
       "    </tr>\n",
       "    <tr>\n",
       "      <th>1</th>\n",
       "      <td>LAS</td>\n",
       "      <td>3726</td>\n",
       "    </tr>\n",
       "    <tr>\n",
       "      <th>2</th>\n",
       "      <td>LAX</td>\n",
       "      <td>5342</td>\n",
       "    </tr>\n",
       "    <tr>\n",
       "      <th>3</th>\n",
       "      <td>ATL</td>\n",
       "      <td>3094</td>\n",
       "    </tr>\n",
       "    <tr>\n",
       "      <th>4</th>\n",
       "      <td>DEN</td>\n",
       "      <td>3967</td>\n",
       "    </tr>\n",
       "    <tr>\n",
       "      <th>5</th>\n",
       "      <td>PHX</td>\n",
       "      <td>3302</td>\n",
       "    </tr>\n",
       "    <tr>\n",
       "      <th>6</th>\n",
       "      <td>DFW</td>\n",
       "      <td>3275</td>\n",
       "    </tr>\n",
       "    <tr>\n",
       "      <th>7</th>\n",
       "      <td>SFO</td>\n",
       "      <td>4430</td>\n",
       "    </tr>\n",
       "  </tbody>\n",
       "</table>\n",
       "</div>"
      ],
      "text/plain": [
       "  Dest     n\n",
       "0  ORD  3829\n",
       "1  LAS  3726\n",
       "2  LAX  5342\n",
       "3  ATL  3094\n",
       "4  DEN  3967\n",
       "5  PHX  3302\n",
       "6  DFW  3275\n",
       "7  SFO  4430"
      ]
     },
     "execution_count": 18,
     "metadata": {},
     "output_type": "execute_result"
    }
   ],
   "source": [
    "g1=sqlContext.sql(\"select Dest, count(*) as n from bd2 group by Dest\")\n",
    "pdf1=g1.toPandas()\n",
    "pdf1"
   ]
  },
  {
   "cell_type": "code",
   "execution_count": 19,
   "metadata": {
    "collapsed": false
   },
   "outputs": [
    {
     "data": {
      "text/plain": [
       "<matplotlib.axes._subplots.AxesSubplot at 0x7f4692eec0b8>"
      ]
     },
     "execution_count": 19,
     "metadata": {},
     "output_type": "execute_result"
    },
    {
     "data": {
      "image/png": "[encoded data removed]",
      "text/plain": [
       "<matplotlib.figure.Figure at 0x7f4692ec79b0>"
      ]
     },
     "metadata": {},
     "output_type": "display_data"
    }
   ],
   "source": [
    "pdf1.plot(kind='bar',x='Dest',y='n')"
   ]
  },
  {
   "cell_type": "code",
   "execution_count": 20,
   "metadata": {
    "collapsed": false
   },
   "outputs": [
    {
     "data": {
      "text/plain": [
       "<matplotlib.axes._subplots.AxesSubplot at 0x7f4690b25828>"
      ]
     },
     "execution_count": 20,
     "metadata": {},
     "output_type": "execute_result"
    },
    {
     "data": {
      "image/png": "[encoded data removed]",
      "text/plain": [
       "<matplotlib.figure.Figure at 0x7f4690ad17f0>"
      ]
     },
     "metadata": {},
     "output_type": "display_data"
    }
   ],
   "source": [
    "pdf1.plot(kind='barh',x='Dest',y='n')"
   ]
  },
  {
   "cell_type": "code",
   "execution_count": 21,
   "metadata": {
    "collapsed": false
   },
   "outputs": [
    {
     "data": {
      "text/plain": [
       "<matplotlib.axes._subplots.AxesSubplot at 0x7f469804b048>"
      ]
     },
     "execution_count": 21,
     "metadata": {},
     "output_type": "execute_result"
    },
    {
     "data": {
      "image/png": "[encoded data removed]",
      "text/plain": [
       "<matplotlib.figure.Figure at 0x7f46931744e0>"
      ]
     },
     "metadata": {},
     "output_type": "display_data"
    }
   ],
   "source": [
    "pdf1.plot.pie(y='n',labels=pdf1['Dest'])"
   ]
  },
  {
   "cell_type": "markdown",
   "metadata": {},
   "source": [
    "## Representación gráfica de Variables Cuantitativas\n"
   ]
  },
  {
   "cell_type": "markdown",
   "metadata": {},
   "source": [
    "Sólo se representan los datos de una muestra"
   ]
  },
  {
   "cell_type": "code",
   "execution_count": 22,
   "metadata": {
    "collapsed": true
   },
   "outputs": [],
   "source": [
    "#pdf2 = bd2.select('ArrDelay').toPandas()\n",
    "pdf2 = bd2.sample(False, 0.1, 0).select('ARR_DELAY').toPandas()"
   ]
  },
  {
   "cell_type": "code",
   "execution_count": 23,
   "metadata": {
    "collapsed": false
   },
   "outputs": [
    {
     "data": {
      "text/plain": [
       "<matplotlib.axes._subplots.AxesSubplot at 0x7f46907e1048>"
      ]
     },
     "execution_count": 23,
     "metadata": {},
     "output_type": "execute_result"
    },
    {
     "data": {
      "image/png": "[encoded data removed]",
      "text/plain": [
       "<matplotlib.figure.Figure at 0x7f46907e62e8>"
      ]
     },
     "metadata": {},
     "output_type": "display_data"
    }
   ],
   "source": [
    "pdf2.plot.hist(bins=20)"
   ]
  },
  {
   "cell_type": "code",
   "execution_count": 24,
   "metadata": {
    "collapsed": false
   },
   "outputs": [
    {
     "data": {
      "text/plain": [
       "<matplotlib.axes._subplots.AxesSubplot at 0x7f4690641d30>"
      ]
     },
     "execution_count": 24,
     "metadata": {},
     "output_type": "execute_result"
    },
    {
     "data": {
      "image/png": "[encoded data removed]",
      "text/plain": [
       "<matplotlib.figure.Figure at 0x7f469063d908>"
      ]
     },
     "metadata": {},
     "output_type": "display_data"
    }
   ],
   "source": [
    "pdf2.plot.box()"
   ]
  }
 ],
 "metadata": {
  "anaconda-cloud": {},
  "kernelspec": {
   "display_name": "Python [default]",
   "language": "python",
   "name": "python3"
  },
  "language_info": {
   "codemirror_mode": {
    "name": "ipython",
    "version": 3
   },
   "file_extension": ".py",
   "mimetype": "text/x-python",
   "name": "python",
   "nbconvert_exporter": "python",
   "pygments_lexer": "ipython3",
   "version": "3.5.2"
  }
 },
 "nbformat": 4,
 "nbformat_minor": 2
}
