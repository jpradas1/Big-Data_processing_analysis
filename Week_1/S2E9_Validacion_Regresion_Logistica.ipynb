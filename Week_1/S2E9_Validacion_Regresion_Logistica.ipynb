{
 "cells": [
  {
   "cell_type": "markdown",
   "metadata": {
    "collapsed": true
   },
   "source": [
    "# Validación del Modelo de Regresión Logística"
   ]
  },
  {
   "cell_type": "code",
   "execution_count": 1,
   "metadata": {
    "collapsed": true
   },
   "outputs": [],
   "source": [
    "#from pyspark import SparkContext\n",
    "#sc = SparkContext()\n",
    "#from pyspark.sql import SQLContext\n",
    "#sqlContext=SQLContext(sc)\n"
   ]
  },
  {
   "cell_type": "code",
   "execution_count": 2,
   "metadata": {
    "collapsed": true
   },
   "outputs": [],
   "source": [
    "bd5 = sqlContext.read.format(\n",
    "    \"com.databricks.spark.csv\"\n",
    ").option(\"header\", \"true\").load(\"bd5.csv\", inferSchema=True)\n",
    "sqlContext.registerDataFrameAsTable(bd5, \"bd5\")"
   ]
  },
  {
   "cell_type": "code",
   "execution_count": 3,
   "metadata": {
    "collapsed": true
   },
   "outputs": [],
   "source": [
    "from pyspark.ml.feature import VectorAssembler\n",
    "\n",
    "bd5 = bd5.withColumn('Horario1',(bd5.Horario==1) \n",
    ").withColumn('Horario2',(bd5.Horario==2) \n",
    ").withColumn('Horario3',(bd5.Horario==3))\n",
    "\n",
    "# Términos cuadráticos añadidos manualmente\n",
    "bd5 = bd5.withColumn('DepDelay2',(bd5.DepDelay**2)\n",
    ").withColumn('DepD_Distance',(bd5.DepDelay * bd5.Distance)) "
   ]
  },
  {
   "cell_type": "markdown",
   "metadata": {},
   "source": [
    "Configuración de la Base de Datos"
   ]
  },
  {
   "cell_type": "code",
   "execution_count": 4,
   "metadata": {
    "collapsed": false
   },
   "outputs": [],
   "source": [
    "from pyspark.sql.functions import col\n",
    "\n",
    "a1  = VectorAssembler(\n",
    "    inputCols=['DepDelay','Distance','DayOfWeek',\n",
    "               'CRSDepTime','Horario1','Horario2',\n",
    "               'Horario3','DepDelay2','DepD_Distance'],\n",
    "    outputCol='features')\n",
    "\n",
    "bd6 = a1.transform(bd5).select(col(\"Retraso\").cast('double').alias(\"label\"),'features')"
   ]
  },
  {
   "cell_type": "markdown",
   "metadata": {},
   "source": [
    "## Ajuste del modelo"
   ]
  },
  {
   "cell_type": "code",
   "execution_count": 5,
   "metadata": {
    "collapsed": false
   },
   "outputs": [],
   "source": [
    "from pyspark.ml.classification import LogisticRegression\n",
    "\n",
    "lgr = LogisticRegression(maxIter=10, \n",
    "     labelCol=\"label\", \n",
    "     featuresCol=\"features\",\n",
    "     threshold=0.5)\n",
    "                        \n",
    "model = lgr.fit(bd6)"
   ]
  },
  {
   "cell_type": "code",
   "execution_count": 6,
   "metadata": {
    "collapsed": false
   },
   "outputs": [
    {
     "name": "stdout",
     "output_type": "stream",
     "text": [
      "-1.6228762950366733 [0.0174818630425,-0.000153907645432,0.00622037724017,0.000243814478493,-0.18527035429,0.0280656797875,0.0553254124157,1.4042617353e-06,9.64852764749e-06]\n"
     ]
    }
   ],
   "source": [
    "print(model.intercept,model.coefficients)"
   ]
  },
  {
   "cell_type": "code",
   "execution_count": 7,
   "metadata": {
    "collapsed": false
   },
   "outputs": [
    {
     "name": "stderr",
     "output_type": "stream",
     "text": [
      "/usr/lib/spark/python/pyspark/ml/classification.py:207: UserWarning: weights is deprecated. Use coefficients instead.\n",
      "  warnings.warn(\"weights is deprecated. Use coefficients instead.\")\n"
     ]
    }
   ],
   "source": [
    "pred = model.transform(bd6)\n",
    "\n"
   ]
  },
  {
   "cell_type": "code",
   "execution_count": 8,
   "metadata": {
    "collapsed": false
   },
   "outputs": [
    {
     "name": "stdout",
     "output_type": "stream",
     "text": [
      "+-----+--------------------+--------------------+--------------------+----------+\n",
      "|label|            features|       rawPrediction|         probability|prediction|\n",
      "+-----+--------------------+--------------------+--------------------+----------+\n",
      "|  0.0|[-5.0,1235.0,4.0,...|[1.70093568096363...|[0.84565690072126...|       0.0|\n",
      "|  0.0|[5.0,1235.0,5.0,8...|[1.40073735685147...|[0.80230086988420...|       0.0|\n",
      "|  0.0|[-3.0,1235.0,6.0,...|[1.62972180529665...|[0.83613152532732...|       0.0|\n",
      "|  0.0|[-7.0,1235.0,7.0,...|[1.74103643633586...|[0.85081866429966...|       0.0|\n",
      "|  0.0|[-6.0,1235.0,1.0,...|[1.74897916049225...|[0.85182399800571...|       0.0|\n",
      "|  0.0|[-1.0,1235.0,2.0,...|[1.59581895897683...|[0.83143321551653...|       0.0|\n",
      "|  0.0|(9,[1,2,3,5],[123...|[1.56020219131119...|[0.82638236420325...|       0.0|\n",
      "|  0.0|(9,[1,2,3,5],[123...|[1.55398181407102...|[0.82548808566343...|       0.0|\n",
      "|  0.0|[-1.0,1235.0,5.0,...|[1.57715782725631...|[0.82880162030731...|       0.0|\n",
      "|  0.0|[-1.0,1235.0,6.0,...|[1.57093745001614...|[0.82791720811509...|       0.0|\n",
      "+-----+--------------------+--------------------+--------------------+----------+\n",
      "only showing top 10 rows\n",
      "\n"
     ]
    }
   ],
   "source": [
    "pred.show(10)"
   ]
  },
  {
   "cell_type": "markdown",
   "metadata": {},
   "source": [
    "Los valores de *probability* son transformados a *prediction* empleando un punto de corte. \n",
    "\n",
    "Por defecto: 0.5"
   ]
  },
  {
   "cell_type": "markdown",
   "metadata": {},
   "source": [
    "## Confussion Matrix"
   ]
  },
  {
   "cell_type": "code",
   "execution_count": 9,
   "metadata": {
    "collapsed": false
   },
   "outputs": [
    {
     "data": {
      "text/plain": [
       "30466"
      ]
     },
     "execution_count": 9,
     "metadata": {},
     "output_type": "execute_result"
    }
   ],
   "source": [
    "pred.count()"
   ]
  },
  {
   "cell_type": "code",
   "execution_count": 10,
   "metadata": {
    "collapsed": false
   },
   "outputs": [
    {
     "name": "stdout",
     "output_type": "stream",
     "text": [
      "+-----+----------+-----+\n",
      "|label|prediction|count|\n",
      "+-----+----------+-----+\n",
      "|  0.0|       0.0|22056|\n",
      "|  0.0|       1.0|    9|\n",
      "|  1.0|       0.0| 5119|\n",
      "|  1.0|       1.0| 3282|\n",
      "+-----+----------+-----+\n",
      "\n"
     ]
    }
   ],
   "source": [
    "cm = pred.groupBy('label','prediction').count().sort('label','prediction')\n",
    "cm.show()"
   ]
  },
  {
   "cell_type": "code",
   "execution_count": 11,
   "metadata": {
    "collapsed": false
   },
   "outputs": [
    {
     "name": "stdout",
     "output_type": "stream",
     "text": [
      "Prev= 0.2757500164117377\n",
      "Sens= 0.3906677776455184\n",
      "Esp= 0.9995921142080217\n",
      "Recall= 0.3906677776455184\n",
      "Precision= 0.9972652689152234\n",
      "Acc= 0.8316812184074049\n",
      "Acc= 0.8316812184074049\n"
     ]
    }
   ],
   "source": [
    "TN = cm.filter((cm.label == 0) & (cm.prediction == 0)).collect()[0][2]\n",
    "FP = cm.filter((cm.label == 0) & (cm.prediction == 1)).collect()[0][2]\n",
    "FN = cm.filter((cm.label == 1) & (cm.prediction == 0)).collect()[0][2]\n",
    "TP = cm.filter((cm.label == 1) & (cm.prediction == 1)).collect()[0][2]\n",
    "\n",
    "N=TN+FP+TP+FN\n",
    "\n",
    "Prev = (TP + FN) / N  \n",
    "Sens = TPR = Recall = TP / (TP + FN) \n",
    "Esp  = TN / (TN + FP) #= (1 - FPR)\n",
    "Precision = PPV = TP / (TP + FP) \n",
    "Acc = (TP+TN) / N\n",
    "\n",
    "print('Prev=',Prev)\n",
    "print('Sens=',Sens)\n",
    "print('Esp=',Esp)\n",
    "print('Recall=',Recall)\n",
    "print('Precision=',Precision)\n",
    "print('Acc=',Acc)\n",
    "\n",
    "from pyspark.ml.evaluation import MulticlassClassificationEvaluator as MCE\n",
    "print('Acc=',MCE(metricName=\"weightedRecall\").evaluate(pred))"
   ]
  },
  {
   "cell_type": "markdown",
   "metadata": {},
   "source": [
    "## Modificacion del Punto de Corte"
   ]
  },
  {
   "cell_type": "code",
   "execution_count": 12,
   "metadata": {
    "collapsed": false,
    "scrolled": true
   },
   "outputs": [
    {
     "name": "stderr",
     "output_type": "stream",
     "text": [
      "/usr/lib/spark/python/pyspark/ml/classification.py:207: UserWarning: weights is deprecated. Use coefficients instead.\n",
      "  warnings.warn(\"weights is deprecated. Use coefficients instead.\")\n"
     ]
    },
    {
     "name": "stdout",
     "output_type": "stream",
     "text": [
      "+-----+----------+-----+\n",
      "|label|prediction|count|\n",
      "+-----+----------+-----+\n",
      "|  0.0|       0.0|20464|\n",
      "|  0.0|       1.0| 1601|\n",
      "|  1.0|       0.0| 1803|\n",
      "|  1.0|       1.0| 6598|\n",
      "+-----+----------+-----+\n",
      "\n",
      "Acc= 0.8882688899100637\n"
     ]
    }
   ],
   "source": [
    "lgr = LogisticRegression(maxIter=10, \n",
    "     labelCol=\"label\", \n",
    "     featuresCol=\"features\",                         \n",
    "     threshold=0.27)\n",
    "#threshold=Prev\n",
    "\n",
    "model = lgr.fit(bd6)\n",
    "pred = model.transform(bd6)\n",
    "\n",
    "\n",
    "cm = pred.groupBy('label','prediction').count().sort('label','prediction')\n",
    "cm.show()\n",
    "\n",
    "print('Acc=',MCE(metricName=\"weightedRecall\").evaluate(pred))"
   ]
  },
  {
   "cell_type": "markdown",
   "metadata": {},
   "source": [
    "## Curva ROC"
   ]
  },
  {
   "cell_type": "code",
   "execution_count": 13,
   "metadata": {
    "collapsed": false
   },
   "outputs": [
    {
     "name": "stdout",
     "output_type": "stream",
     "text": [
      "+-----+--------------------+--------------------+--------------------+----------+----------+\n",
      "|label|            features|       rawPrediction|         probability|prediction|     probs|\n",
      "+-----+--------------------+--------------------+--------------------+----------+----------+\n",
      "|  0.0|[-5.0,1235.0,4.0,...|[1.70093568096363...|[0.84565690072126...|       0.0| 0.1543431|\n",
      "|  0.0|[5.0,1235.0,5.0,8...|[1.40073735685147...|[0.80230086988420...|       0.0|0.19769913|\n",
      "|  0.0|[-3.0,1235.0,6.0,...|[1.62972180529665...|[0.83613152532732...|       0.0|0.16386847|\n",
      "|  0.0|[-7.0,1235.0,7.0,...|[1.74103643633586...|[0.85081866429966...|       0.0|0.14918134|\n",
      "|  0.0|[-6.0,1235.0,1.0,...|[1.74897916049225...|[0.85182399800571...|       0.0|  0.148176|\n",
      "|  0.0|[-1.0,1235.0,2.0,...|[1.59581895897683...|[0.83143321551653...|       0.0|0.16856678|\n",
      "|  0.0|(9,[1,2,3,5],[123...|[1.56020219131119...|[0.82638236420325...|       0.0|0.17361763|\n",
      "|  0.0|(9,[1,2,3,5],[123...|[1.55398181407102...|[0.82548808566343...|       0.0|0.17451191|\n",
      "|  0.0|[-1.0,1235.0,5.0,...|[1.57715782725631...|[0.82880162030731...|       0.0|0.17119838|\n",
      "|  0.0|[-1.0,1235.0,6.0,...|[1.57093745001614...|[0.82791720811509...|       0.0| 0.1720828|\n",
      "+-----+--------------------+--------------------+--------------------+----------+----------+\n",
      "only showing top 10 rows\n",
      "\n"
     ]
    }
   ],
   "source": [
    "from pyspark.sql.functions import udf\n",
    "from pyspark.sql.types import FloatType\n",
    "\n",
    "secondelement=udf(lambda v:float(v[1]),FloatType())\n",
    "pred2=pred.withColumn('probs',secondelement('probability'))\n",
    "\n",
    "pred2.show(10)"
   ]
  },
  {
   "cell_type": "code",
   "execution_count": 14,
   "metadata": {
    "collapsed": false
   },
   "outputs": [
    {
     "data": {
      "image/png": "[encoded data removed]",
      "text/plain": [
       "<matplotlib.figure.Figure at 0x7fde6deeecf8>"
      ]
     },
     "metadata": {},
     "output_type": "display_data"
    }
   ],
   "source": [
    "import matplotlib.pyplot as plt\n",
    "from sklearn.metrics import roc_curve\n",
    "import seaborn as sns\n",
    "\n",
    "pd5 = pred2.sample(False,0.1).select('label','probs').toPandas()\n",
    "\n",
    "fpr, tpr, _ = roc_curve( pd5['label'], pd5['probs'])\n",
    "\n",
    "plt.plot(fpr, tpr)\n",
    "plt.plot([0, 1], [0, 1], color='navy', linestyle='--')\n",
    "plt.xlabel('1 - Esp (FPR)')\n",
    "plt.ylabel('Sens (TPR)')\n",
    "plt.title('Curva ROC')\n",
    "plt.show()"
   ]
  },
  {
   "cell_type": "markdown",
   "metadata": {},
   "source": [
    "## Área Bajo la Curva ROC"
   ]
  },
  {
   "cell_type": "code",
   "execution_count": 17,
   "metadata": {
    "collapsed": false
   },
   "outputs": [
    {
     "name": "stdout",
     "output_type": "stream",
     "text": [
      "AUC= 0.9053308831809765\n",
      "AUC= 0.9053308831809694\n"
     ]
    }
   ],
   "source": [
    "from pyspark.ml.evaluation import BinaryClassificationEvaluator as BCE\n",
    "\n",
    "print('AUC=',BCE(metricName=\"areaUnderROC\",rawPredictionCol = 'probability').evaluate(pred))\n",
    "print('AUC=',BCE(metricName=\"areaUnderROC\").evaluate(pred))"
   ]
  },
  {
   "cell_type": "code",
   "execution_count": 16,
   "metadata": {
    "collapsed": true
   },
   "outputs": [],
   "source": [
    "#LogisticRegression(maxIter=10, \n",
    "#     labelCol=\"label\", \n",
    "#     featuresCol=\"features\",\n",
    "#     predictionCol=\"prediction\", \n",
    "#     regParam=0.1, \n",
    "#     elasticNetParam=0.0, \n",
    "#     fitIntercept=True, \n",
    "#     threshold=0.5, \n",
    "#     probabilityCol=\"probability\", \n",
    "#     rawPredictionCol=\"rawPrediction\", \n",
    "#     standardization=True, \n",
    "#     weightCol=None)"
   ]
  }
 ],
 "metadata": {
  "anaconda-cloud": {},
  "kernelspec": {
   "display_name": "Python [default]",
   "language": "python",
   "name": "python3"
  },
  "language_info": {
   "codemirror_mode": {
    "name": "ipython",
    "version": 3
   },
   "file_extension": ".py",
   "mimetype": "text/x-python",
   "name": "python",
   "nbconvert_exporter": "python",
   "pygments_lexer": "ipython3",
   "version": "3.5.2"
  }
 },
 "nbformat": 4,
 "nbformat_minor": 2
}
