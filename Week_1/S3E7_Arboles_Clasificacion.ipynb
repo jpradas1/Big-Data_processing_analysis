{
 "cells": [
  {
   "cell_type": "markdown",
   "metadata": {
    "collapsed": true
   },
   "source": [
    "# Árboles de Clasificación"
   ]
  },
  {
   "cell_type": "code",
   "execution_count": 1,
   "metadata": {
    "collapsed": false
   },
   "outputs": [],
   "source": [
    "#from pyspark import SparkContext\n",
    "#sc = SparkContext()\n",
    "#from pyspark.sql import SQLContext\n",
    "#sqlContext=SQLContext(sc)"
   ]
  },
  {
   "cell_type": "code",
   "execution_count": 2,
   "metadata": {
    "collapsed": true
   },
   "outputs": [],
   "source": [
    "bd5 = sqlContext.read.format(\n",
    "    \"com.databricks.spark.csv\"\n",
    ").option(\"header\", \"true\").load(\"bd5.csv\", inferSchema=True)\n",
    "sqlContext.registerDataFrameAsTable(bd5, \"bd5\")"
   ]
  },
  {
   "cell_type": "code",
   "execution_count": 3,
   "metadata": {
    "collapsed": false
   },
   "outputs": [
    {
     "name": "stdout",
     "output_type": "stream",
     "text": [
      "+-------------+------------------+-----+\n",
      "|UniqueCarrier|IndexUniqueCarrier|count|\n",
      "+-------------+------------------+-----+\n",
      "|           AA|               0.0| 8853|\n",
      "|           UA|               1.0| 6112|\n",
      "|           WN|               2.0| 5395|\n",
      "|           DL|               3.0| 4239|\n",
      "|           VX|               4.0| 1703|\n",
      "|           NK|               5.0| 1581|\n",
      "|           F9|               6.0| 1295|\n",
      "|           OO|               7.0| 1166|\n",
      "|           B6|               8.0|  121|\n",
      "|           EV|               9.0|    1|\n",
      "+-------------+------------------+-----+\n",
      "\n"
     ]
    }
   ],
   "source": [
    "from pyspark.ml.feature import StringIndexer\n",
    "\n",
    "indexer = StringIndexer(inputCol='UniqueCarrier',outputCol='IndexUniqueCarrier') #el índice empieza en el 0!\n",
    "bd6=indexer.fit(bd5).transform(bd5)\n",
    "\n",
    "bd6.groupBy('UniqueCarrier','IndexUniqueCarrier').count().sort('IndexUniqueCarrier').show()\n"
   ]
  },
  {
   "cell_type": "markdown",
   "metadata": {},
   "source": [
    "## Ajuste del modelo"
   ]
  },
  {
   "cell_type": "code",
   "execution_count": 4,
   "metadata": {
    "collapsed": false
   },
   "outputs": [],
   "source": [
    "from pyspark.ml.feature import VectorAssembler, StringIndexer\n",
    "from pyspark.sql.functions import col\n",
    "\n",
    "a1  = VectorAssembler(\n",
    "    inputCols=['DepDelay','Distance','DayOfWeek',\n",
    "               'CRSDepTime','IndexUniqueCarrier'],\n",
    "    outputCol='features')\n",
    "\n",
    "bd7 = a1.transform(bd6).select(col(\"Retraso\").cast('double').alias(\"label\"),'features')\n",
    "\n",
    "stringIndexer = StringIndexer(inputCol = 'label', outputCol = 'label2')\n",
    "sI = stringIndexer.fit(bd7)\n",
    "bd7 = sI.transform(bd7)\n",
    "\n"
   ]
  },
  {
   "cell_type": "markdown",
   "metadata": {},
   "source": [
    "### Partición Test - Train"
   ]
  },
  {
   "cell_type": "code",
   "execution_count": 5,
   "metadata": {
    "collapsed": false
   },
   "outputs": [
    {
     "name": "stdout",
     "output_type": "stream",
     "text": [
      "21334\n",
      "9132\n"
     ]
    }
   ],
   "source": [
    "(bd_train, bd_test) = bd7.randomSplit([0.7, 0.3],seed=123)\n",
    "print(bd_train.count())\n",
    "print(bd_test.count())"
   ]
  },
  {
   "cell_type": "code",
   "execution_count": 6,
   "metadata": {
    "collapsed": false
   },
   "outputs": [],
   "source": [
    "from pyspark.ml.classification import DecisionTreeClassifier as DTC\n",
    "\n",
    "rt = DTC(maxDepth=5, labelCol = 'label2')\n",
    "\n",
    "model = rt.fit(bd_train)\n",
    "pred = model.transform(bd_train)"
   ]
  },
  {
   "cell_type": "code",
   "execution_count": 7,
   "metadata": {
    "collapsed": false
   },
   "outputs": [
    {
     "name": "stdout",
     "output_type": "stream",
     "text": [
      "+-----+--------------------+------+--------------+--------------------+----------+\n",
      "|label|            features|label2| rawPrediction|         probability|prediction|\n",
      "+-----+--------------------+------+--------------+--------------------+----------+\n",
      "|  0.0|[-21.0,868.0,6.0,...|   0.0|[7186.0,290.0]|[0.96120920278223...|       0.0|\n",
      "|  0.0|[-17.0,888.0,7.0,...|   0.0|[7186.0,290.0]|[0.96120920278223...|       0.0|\n",
      "|  0.0|[-17.0,1440.0,1.0...|   0.0|[7186.0,290.0]|[0.96120920278223...|       0.0|\n",
      "|  0.0|[-17.0,1744.0,1.0...|   0.0| [923.0,114.0]|[0.89006750241080...|       0.0|\n",
      "|  0.0|[-16.0,641.0,6.0,...|   0.0|[7186.0,290.0]|[0.96120920278223...|       0.0|\n",
      "|  0.0|[-16.0,888.0,3.0,...|   0.0|[7186.0,290.0]|[0.96120920278223...|       0.0|\n",
      "|  0.0|[-15.0,731.0,4.0,...|   0.0|[7186.0,290.0]|[0.96120920278223...|       0.0|\n",
      "|  0.0|[-15.0,868.0,3.0,...|   0.0|[7186.0,290.0]|[0.96120920278223...|       0.0|\n",
      "|  0.0|[-15.0,888.0,4.0,...|   0.0|[7186.0,290.0]|[0.96120920278223...|       0.0|\n",
      "|  0.0|[-15.0,888.0,5.0,...|   0.0|[7186.0,290.0]|[0.96120920278223...|       0.0|\n",
      "|  0.0|[-14.0,236.0,4.0,...|   0.0|[2320.0,174.0]|[0.93023255813953...|       0.0|\n",
      "|  0.0|[-14.0,255.0,3.0,...|   0.0|[2320.0,174.0]|[0.93023255813953...|       0.0|\n",
      "|  0.0|[-14.0,370.0,2.0,...|   0.0|[2320.0,174.0]|[0.93023255813953...|       0.0|\n",
      "|  0.0|[-14.0,414.0,2.0,...|   0.0|[7186.0,290.0]|[0.96120920278223...|       0.0|\n",
      "|  0.0|[-14.0,414.0,3.0,...|   0.0|[7186.0,290.0]|[0.96120920278223...|       0.0|\n",
      "|  0.0|[-14.0,414.0,6.0,...|   0.0|[7186.0,290.0]|[0.96120920278223...|       0.0|\n",
      "|  0.0|[-14.0,628.0,1.0,...|   0.0|[7186.0,290.0]|[0.96120920278223...|       0.0|\n",
      "|  0.0|[-14.0,628.0,1.0,...|   0.0|[7186.0,290.0]|[0.96120920278223...|       0.0|\n",
      "|  0.0|[-14.0,868.0,3.0,...|   0.0|[7186.0,290.0]|[0.96120920278223...|       0.0|\n",
      "|  0.0|[-14.0,888.0,2.0,...|   0.0|[7186.0,290.0]|[0.96120920278223...|       0.0|\n",
      "+-----+--------------------+------+--------------+--------------------+----------+\n",
      "only showing top 20 rows\n",
      "\n"
     ]
    }
   ],
   "source": [
    "pred.show()"
   ]
  },
  {
   "cell_type": "code",
   "execution_count": 8,
   "metadata": {
    "collapsed": false
   },
   "outputs": [
    {
     "name": "stdout",
     "output_type": "stream",
     "text": [
      "+--------------------+-----+\n",
      "|         probability|count|\n",
      "+--------------------+-----+\n",
      "|[0.89006750241080...| 1037|\n",
      "|[0.19105691056910...|  246|\n",
      "|[0.37651821862348...|  247|\n",
      "|[0.73431734317343...| 1084|\n",
      "|[0.45070422535211...|  426|\n",
      "|       [0.075,0.925]|   40|\n",
      "|[0.72289156626506...|   83|\n",
      "|[0.03358208955223...|  268|\n",
      "|[0.35714285714285...|   56|\n",
      "|[0.16049382716049...|   81|\n",
      "|           [0.0,1.0]| 2492|\n",
      "|[0.89127218934911...| 1352|\n",
      "|[0.56684491978609...|  374|\n",
      "|[0.89622641509433...|  106|\n",
      "|           [0.5,0.5]|   38|\n",
      "|[0.00297619047619...|  336|\n",
      "|[0.93023255813953...| 2494|\n",
      "|[0.09821428571428...|  112|\n",
      "|[0.68695652173913...|  115|\n",
      "|[0.96551724137931...|   29|\n",
      "|[0.96120920278223...| 7476|\n",
      "|[0.79834254143646...|  362|\n",
      "|[0.94207096307023...| 1381|\n",
      "|[0.71111111111111...|   45|\n",
      "|[0.23376623376623...|   77|\n",
      "|[0.24193548387096...|   62|\n",
      "|         [0.05,0.95]|   40|\n",
      "|[0.03703703703703...|  216|\n",
      "|[0.83218390804597...|  435|\n",
      "|[0.54910714285714...|  224|\n",
      "+--------------------+-----+\n",
      "\n"
     ]
    }
   ],
   "source": [
    "pred.groupBy('probability').count().show(50)\n"
   ]
  },
  {
   "cell_type": "code",
   "execution_count": 9,
   "metadata": {
    "collapsed": false
   },
   "outputs": [
    {
     "name": "stdout",
     "output_type": "stream",
     "text": [
      "+-----+----------+-----+\n",
      "|label|prediction|count|\n",
      "+-----+----------+-----+\n",
      "|  1.0|       1.0| 4267|\n",
      "|  0.0|       0.0|15030|\n",
      "|  0.0|       1.0|  432|\n",
      "|  1.0|       0.0| 1605|\n",
      "+-----+----------+-----+\n",
      "\n"
     ]
    }
   ],
   "source": [
    "pred.groupBy('label','prediction').count().show()\n",
    "#threshold = 0.5"
   ]
  },
  {
   "cell_type": "markdown",
   "metadata": {},
   "source": [
    "### Curva ROC"
   ]
  },
  {
   "cell_type": "code",
   "execution_count": 10,
   "metadata": {
    "collapsed": false
   },
   "outputs": [
    {
     "name": "stdout",
     "output_type": "stream",
     "text": [
      "+-----+--------------------+------+--------------+--------------------+----------+-----------+\n",
      "|label|            features|label2| rawPrediction|         probability|prediction|      probs|\n",
      "+-----+--------------------+------+--------------+--------------------+----------+-----------+\n",
      "|  0.0|[-21.0,868.0,6.0,...|   0.0|[7186.0,290.0]|[0.96120920278223...|       0.0|0.038790796|\n",
      "|  0.0|[-17.0,888.0,7.0,...|   0.0|[7186.0,290.0]|[0.96120920278223...|       0.0|0.038790796|\n",
      "|  0.0|[-17.0,1440.0,1.0...|   0.0|[7186.0,290.0]|[0.96120920278223...|       0.0|0.038790796|\n",
      "|  0.0|[-17.0,1744.0,1.0...|   0.0| [923.0,114.0]|[0.89006750241080...|       0.0|  0.1099325|\n",
      "|  0.0|[-16.0,641.0,6.0,...|   0.0|[7186.0,290.0]|[0.96120920278223...|       0.0|0.038790796|\n",
      "|  0.0|[-16.0,888.0,3.0,...|   0.0|[7186.0,290.0]|[0.96120920278223...|       0.0|0.038790796|\n",
      "|  0.0|[-15.0,731.0,4.0,...|   0.0|[7186.0,290.0]|[0.96120920278223...|       0.0|0.038790796|\n",
      "|  0.0|[-15.0,868.0,3.0,...|   0.0|[7186.0,290.0]|[0.96120920278223...|       0.0|0.038790796|\n",
      "|  0.0|[-15.0,888.0,4.0,...|   0.0|[7186.0,290.0]|[0.96120920278223...|       0.0|0.038790796|\n",
      "|  0.0|[-15.0,888.0,5.0,...|   0.0|[7186.0,290.0]|[0.96120920278223...|       0.0|0.038790796|\n",
      "+-----+--------------------+------+--------------+--------------------+----------+-----------+\n",
      "only showing top 10 rows\n",
      "\n"
     ]
    }
   ],
   "source": [
    "from pyspark.sql.functions import udf\n",
    "from pyspark.sql.types import FloatType\n",
    "\n",
    "secondelement=udf(lambda v:float(v[1]),FloatType())\n",
    "pred2=pred.withColumn('probs',secondelement('probability'))\n",
    "\n",
    "pred2.show(10)"
   ]
  },
  {
   "cell_type": "code",
   "execution_count": 11,
   "metadata": {
    "collapsed": false
   },
   "outputs": [
    {
     "data": {
      "image/png": "[encoded data removed]",
      "text/plain": [
       "<matplotlib.figure.Figure at 0x7fb358410ef0>"
      ]
     },
     "metadata": {},
     "output_type": "display_data"
    }
   ],
   "source": [
    "import matplotlib.pyplot as plt\n",
    "from sklearn.metrics import roc_curve\n",
    "import seaborn as sns\n",
    "\n",
    "pd5 = pred2.sample(False,0.1).select('label','probs').toPandas()\n",
    "\n",
    "fpr, tpr, _ = roc_curve( pd5['label'], pd5['probs'])\n",
    "\n",
    "plt.plot(fpr, tpr)\n",
    "plt.plot([0, 1], [0, 1], color='navy', linestyle='--')\n",
    "plt.xlabel('1 - Esp (FPR)')\n",
    "plt.ylabel('Sens (TPR)')\n",
    "plt.title('Curva ROC')\n",
    "plt.show()"
   ]
  },
  {
   "cell_type": "code",
   "execution_count": 12,
   "metadata": {
    "collapsed": false
   },
   "outputs": [
    {
     "name": "stdout",
     "output_type": "stream",
     "text": [
      "AUC= 0.921873535127166\n"
     ]
    }
   ],
   "source": [
    "from pyspark.ml.evaluation import BinaryClassificationEvaluator as BCE\n",
    "\n",
    "print('AUC=',BCE(metricName=\"areaUnderROC\",rawPredictionCol = 'probability').evaluate(pred))\n"
   ]
  },
  {
   "cell_type": "code",
   "execution_count": 13,
   "metadata": {
    "collapsed": true
   },
   "outputs": [],
   "source": [
    "# DecisionTreeClassifier(featuresCol=\"features\",\n",
    "#    labelCol=\"label\",\n",
    "#    predictionCol=\"prediction\",\n",
    "#    probabilityCol=\"probability\",\n",
    "#    rawPredictionCol=\"rawPrediction\",\n",
    "#    maxDepth=5,\n",
    "#    maxBins=32,\n",
    "#    minInstancesPerNode=1,\n",
    "#    minInfoGain=0.0,\n",
    "#    maxMemoryInMB=256,\n",
    "#    impurity=\"gini\"  / impurity=\"entropy\" )"
   ]
  },
  {
   "cell_type": "code",
   "execution_count": 14,
   "metadata": {
    "collapsed": false
   },
   "outputs": [
    {
     "name": "stdout",
     "output_type": "stream",
     "text": [
      "AUC= 0.9995613642058918\n"
     ]
    }
   ],
   "source": [
    "rt = DTC(maxDepth=20, labelCol = 'label2')\n",
    "model = rt.fit(bd_train)\n",
    "pred = model.transform(bd_train)\n",
    "\n",
    "print('AUC=',BCE(metricName=\"areaUnderROC\", rawPredictionCol = 'probability').evaluate(pred))"
   ]
  },
  {
   "cell_type": "markdown",
   "metadata": {},
   "source": [
    "### Validación externa"
   ]
  },
  {
   "cell_type": "code",
   "execution_count": 15,
   "metadata": {
    "collapsed": false
   },
   "outputs": [
    {
     "name": "stdout",
     "output_type": "stream",
     "text": [
      "AUC= 0.8240007911857168\n"
     ]
    }
   ],
   "source": [
    "predtest = model.transform(bd_test)\n",
    "\n",
    "print('AUC=',BCE(metricName=\"areaUnderROC\",rawPredictionCol = 'probability').evaluate(predtest))"
   ]
  }
 ],
 "metadata": {
  "anaconda-cloud": {},
  "kernelspec": {
   "display_name": "Python [default]",
   "language": "python",
   "name": "python3"
  },
  "language_info": {
   "codemirror_mode": {
    "name": "ipython",
    "version": 3
   },
   "file_extension": ".py",
   "mimetype": "text/x-python",
   "name": "python",
   "nbconvert_exporter": "python",
   "pygments_lexer": "ipython3",
   "version": "3.5.2"
  }
 },
 "nbformat": 4,
 "nbformat_minor": 2
}
