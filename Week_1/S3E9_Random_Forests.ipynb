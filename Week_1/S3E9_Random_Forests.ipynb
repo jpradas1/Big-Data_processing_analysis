{
 "cells": [
  {
   "cell_type": "markdown",
   "metadata": {
    "collapsed": true
   },
   "source": [
    "# Random Forest: Bosques"
   ]
  },
  {
   "cell_type": "code",
   "execution_count": 1,
   "metadata": {
    "collapsed": true
   },
   "outputs": [],
   "source": [
    "#from pyspark import SparkContext\n",
    "#sc = SparkContext()\n",
    "#from pyspark.sql import SQLContext\n",
    "#sqlContext=SQLContext(sc)"
   ]
  },
  {
   "cell_type": "code",
   "execution_count": 2,
   "metadata": {
    "collapsed": true
   },
   "outputs": [],
   "source": [
    "bd5 = sqlContext.read.format(\n",
    "    \"com.databricks.spark.csv\"\n",
    ").option(\"header\", \"true\").load(\"bd5.csv\", inferSchema=True)\n",
    "sqlContext.registerDataFrameAsTable(bd5, \"bd5\")"
   ]
  },
  {
   "cell_type": "code",
   "execution_count": 3,
   "metadata": {
    "collapsed": false
   },
   "outputs": [
    {
     "data": {
      "text/plain": [
       "[('Year', 'int'),\n",
       " ('Month', 'int'),\n",
       " ('DayofMonth', 'int'),\n",
       " ('DayOfWeek', 'int'),\n",
       " ('CRSDepTime', 'int'),\n",
       " ('UniqueCarrier', 'string'),\n",
       " ('TailNum', 'string'),\n",
       " ('ArrDelay', 'double'),\n",
       " ('DepDelay', 'double'),\n",
       " ('Origin', 'string'),\n",
       " ('Dest', 'string'),\n",
       " ('Distance', 'double'),\n",
       " ('Cancelled', 'double'),\n",
       " ('Diverted', 'double'),\n",
       " ('CarrierDelay', 'double'),\n",
       " ('WeatherDelay', 'double'),\n",
       " ('NASDelay', 'double'),\n",
       " ('SecurityDelay', 'double'),\n",
       " ('LateAircraftDelay', 'double'),\n",
       " ('LogD', 'double'),\n",
       " ('Retraso', 'int'),\n",
       " ('RetrasoNeto', 'double'),\n",
       " ('Horario', 'int')]"
      ]
     },
     "execution_count": 3,
     "metadata": {},
     "output_type": "execute_result"
    }
   ],
   "source": [
    "bd5.dtypes"
   ]
  },
  {
   "cell_type": "code",
   "execution_count": 4,
   "metadata": {
    "collapsed": false
   },
   "outputs": [
    {
     "name": "stdout",
     "output_type": "stream",
     "text": [
      "+-------------+------------------+-----+\n",
      "|UniqueCarrier|IndexUniqueCarrier|count|\n",
      "+-------------+------------------+-----+\n",
      "|           AA|               0.0| 8853|\n",
      "|           UA|               1.0| 6112|\n",
      "|           WN|               2.0| 5395|\n",
      "|           DL|               3.0| 4239|\n",
      "|           VX|               4.0| 1703|\n",
      "|           NK|               5.0| 1581|\n",
      "|           F9|               6.0| 1295|\n",
      "|           OO|               7.0| 1166|\n",
      "|           B6|               8.0|  121|\n",
      "|           EV|               9.0|    1|\n",
      "+-------------+------------------+-----+\n",
      "\n"
     ]
    }
   ],
   "source": [
    "from pyspark.ml.feature import StringIndexer\n",
    "\n",
    "indexer = StringIndexer(inputCol='UniqueCarrier',outputCol='IndexUniqueCarrier') #el índice empieza en el 0!\n",
    "bd6=indexer.fit(bd5).transform(bd5)\n",
    "\n",
    "bd6.groupBy('UniqueCarrier','IndexUniqueCarrier').count().sort('IndexUniqueCarrier').show()\n"
   ]
  },
  {
   "cell_type": "markdown",
   "metadata": {},
   "source": [
    "## Regression Random Forest"
   ]
  },
  {
   "cell_type": "code",
   "execution_count": 5,
   "metadata": {
    "collapsed": false
   },
   "outputs": [],
   "source": [
    "from pyspark.ml.feature import VectorAssembler\n",
    "from pyspark.sql.functions import col\n",
    "\n",
    "a1  = VectorAssembler(\n",
    "    inputCols=['DepDelay','Distance','DayOfWeek',\n",
    "               'CRSDepTime','IndexUniqueCarrier'],\n",
    "    outputCol='features')\n",
    "\n",
    "bd7 = a1.transform(bd6).select(col(\"ArrDelay\").alias(\"label\"),'features')"
   ]
  },
  {
   "cell_type": "markdown",
   "metadata": {},
   "source": [
    "## Partición Test - Train"
   ]
  },
  {
   "cell_type": "code",
   "execution_count": 6,
   "metadata": {
    "collapsed": false
   },
   "outputs": [
    {
     "name": "stdout",
     "output_type": "stream",
     "text": [
      "21334\n",
      "9132\n"
     ]
    }
   ],
   "source": [
    "(bd_train, bd_test) = bd7.randomSplit([0.7, 0.3],seed=123)\n",
    "print(bd_train.count())\n",
    "print(bd_test.count())"
   ]
  },
  {
   "cell_type": "code",
   "execution_count": 7,
   "metadata": {
    "collapsed": false
   },
   "outputs": [
    {
     "name": "stdout",
     "output_type": "stream",
     "text": [
      "Time to train model: 37.509 seconds\n"
     ]
    }
   ],
   "source": [
    "from pyspark.ml.regression import RandomForestRegressor\n",
    "from time import time\n",
    "\n",
    "start_time = time()\n",
    "\n",
    "# Train a RandomForest model.\n",
    "rf = RandomForestRegressor(labelCol=\"label\", \n",
    "     featuresCol=\"features\", \n",
    "     numTrees=500,\n",
    "     maxDepth=5,\n",
    "     seed = 1,\n",
    "     subsamplingRate=1.0,\n",
    "     featureSubsetStrategy=\"auto\")\n",
    "     \n",
    "model = rf.fit(bd_train)\n",
    "\n",
    "end_time = time()\n",
    "elapsed_time = end_time - start_time\n",
    "print(\"Time to train model: %.3f seconds\" % elapsed_time)\n",
    "\n",
    "pred = model.transform(bd_train)"
   ]
  },
  {
   "cell_type": "code",
   "execution_count": 8,
   "metadata": {
    "collapsed": false
   },
   "outputs": [
    {
     "name": "stdout",
     "output_type": "stream",
     "text": [
      "+-----+--------------------+\n",
      "|label|          prediction|\n",
      "+-----+--------------------+\n",
      "|-53.0|  -0.313039908263667|\n",
      "|-47.0|  0.6786685848774878|\n",
      "|-46.0|-0.32094384577155743|\n",
      "|-46.0|   -2.56184150233535|\n",
      "|-46.0|  -5.457637214247127|\n",
      "|-44.0| -0.7942632797248129|\n",
      "|-44.0|-0.09748696899401113|\n",
      "|-44.0|   1.152007746530329|\n",
      "|-43.0|  3.1966528145820545|\n",
      "|-42.0|  -3.181110885273408|\n",
      "|-42.0| 0.10279044853437228|\n",
      "|-42.0|  -5.705594225939158|\n",
      "|-42.0|  1.8894521060256915|\n",
      "|-42.0|   3.227513473661244|\n",
      "|-42.0| -1.2474346140576684|\n",
      "|-42.0|  0.5776801690354412|\n",
      "|-41.0|-0.35742297386864175|\n",
      "|-41.0|  -6.142186418022908|\n",
      "|-41.0| -2.3233224544649675|\n",
      "|-40.0|  -6.201194776178803|\n",
      "+-----+--------------------+\n",
      "only showing top 20 rows\n",
      "\n"
     ]
    }
   ],
   "source": [
    "pred.select('label','prediction').show()"
   ]
  },
  {
   "cell_type": "code",
   "execution_count": 9,
   "metadata": {
    "collapsed": false
   },
   "outputs": [
    {
     "name": "stdout",
     "output_type": "stream",
     "text": [
      "0.636557060656907\n"
     ]
    }
   ],
   "source": [
    "from pyspark.ml.evaluation import RegressionEvaluator\n",
    "\n",
    "print(RegressionEvaluator(metricName=\"r2\").evaluate(pred))"
   ]
  },
  {
   "cell_type": "code",
   "execution_count": 10,
   "metadata": {
    "collapsed": false
   },
   "outputs": [
    {
     "name": "stdout",
     "output_type": "stream",
     "text": [
      "0.6065254513838018\n"
     ]
    }
   ],
   "source": [
    "pred2 = model.transform(bd_test)\n",
    "print(RegressionEvaluator(metricName=\"r2\").evaluate(pred2))"
   ]
  },
  {
   "cell_type": "code",
   "execution_count": 11,
   "metadata": {
    "collapsed": true
   },
   "outputs": [],
   "source": [
    "# RandomForestRegressor(featuresCol=\"features\", \n",
    "#    labelCol=\"label\",\n",
    "#    predictionCol=\"prediction\",\n",
    "#    maxDepth=5,\n",
    "#    maxBins=32,\n",
    "#    minInstancesPerNode=1,\n",
    "#    minInfoGain=0.0,\n",
    "#    maxMemoryInMB=256, \n",
    "#    impurity=\"variance\", \n",
    "#    subsamplingRate=1.0, \n",
    "#    seed=None, \n",
    "#    numTrees=20,\n",
    "#    featureSubsetStrategy=\"auto\"  / \"sqrt\" / \"onethird\" / \"log2\" / \"all\")"
   ]
  },
  {
   "cell_type": "markdown",
   "metadata": {},
   "source": [
    "## Classification Random Forest"
   ]
  },
  {
   "cell_type": "code",
   "execution_count": 12,
   "metadata": {
    "collapsed": true
   },
   "outputs": [],
   "source": [
    "from pyspark.ml.feature import VectorAssembler, StringIndexer\n",
    "\n",
    "a1  = VectorAssembler(\n",
    "    inputCols=['DepDelay','Distance','DayOfWeek',\n",
    "               'CRSDepTime','IndexUniqueCarrier'],\n",
    "    outputCol='features')\n",
    "\n",
    "bd7 = a1.transform(bd6).select(col(\"Retraso\").cast('double').alias(\"label\"),'features')\n",
    "\n",
    "stringIndexer = StringIndexer(inputCol = 'label', outputCol = 'indexed')\n",
    "sI = stringIndexer.fit(bd7)\n",
    "bd7 = sI.transform(bd7)"
   ]
  },
  {
   "cell_type": "code",
   "execution_count": 13,
   "metadata": {
    "collapsed": false
   },
   "outputs": [
    {
     "name": "stdout",
     "output_type": "stream",
     "text": [
      "21334\n",
      "9132\n"
     ]
    }
   ],
   "source": [
    "(bd_train, bd_test) = bd7.randomSplit([0.7, 0.3],seed=123)\n",
    "print(bd_train.count())\n",
    "print(bd_test.count())"
   ]
  },
  {
   "cell_type": "code",
   "execution_count": 14,
   "metadata": {
    "collapsed": false
   },
   "outputs": [
    {
     "name": "stdout",
     "output_type": "stream",
     "text": [
      "Time to train model: 9.966 seconds\n"
     ]
    }
   ],
   "source": [
    "from pyspark.ml.classification import RandomForestClassifier\n",
    "\n",
    "start_time = time()\n",
    "\n",
    "# Train a RandomForest model.\n",
    "rf = RandomForestClassifier(labelCol=\"indexed\", \n",
    "     featuresCol=\"features\", \n",
    "     numTrees=500,\n",
    "     maxDepth=3, \n",
    "     seed = 1,\n",
    "     featureSubsetStrategy=\"sqrt\",\n",
    "     impurity='gini') \n",
    "\n",
    "model = rf.fit(bd_train)\n",
    "\n",
    "end_time = time()\n",
    "elapsed_time = end_time - start_time\n",
    "print(\"Time to train model: %.3f seconds\" % elapsed_time)\n",
    "\n",
    "pred = model.transform(bd_train)\n"
   ]
  },
  {
   "cell_type": "code",
   "execution_count": 15,
   "metadata": {
    "collapsed": false
   },
   "outputs": [
    {
     "name": "stdout",
     "output_type": "stream",
     "text": [
      "+-----+----------+\n",
      "|label|prediction|\n",
      "+-----+----------+\n",
      "|  0.0|       0.0|\n",
      "|  0.0|       0.0|\n",
      "|  0.0|       0.0|\n",
      "|  0.0|       0.0|\n",
      "|  0.0|       0.0|\n",
      "|  0.0|       0.0|\n",
      "|  0.0|       0.0|\n",
      "|  0.0|       0.0|\n",
      "|  0.0|       0.0|\n",
      "|  0.0|       0.0|\n",
      "|  0.0|       0.0|\n",
      "|  0.0|       0.0|\n",
      "|  0.0|       0.0|\n",
      "|  0.0|       0.0|\n",
      "|  0.0|       0.0|\n",
      "|  0.0|       0.0|\n",
      "|  0.0|       0.0|\n",
      "|  0.0|       0.0|\n",
      "|  0.0|       0.0|\n",
      "|  0.0|       0.0|\n",
      "+-----+----------+\n",
      "only showing top 20 rows\n",
      "\n"
     ]
    }
   ],
   "source": [
    "pred.select('label','prediction').show()"
   ]
  },
  {
   "cell_type": "code",
   "execution_count": 16,
   "metadata": {
    "collapsed": false
   },
   "outputs": [
    {
     "name": "stdout",
     "output_type": "stream",
     "text": [
      "+-----+----------+-----+\n",
      "|label|prediction|count|\n",
      "+-----+----------+-----+\n",
      "|  1.0|       1.0| 4233|\n",
      "|  0.0|       0.0|15013|\n",
      "|  0.0|       1.0|  449|\n",
      "|  1.0|       0.0| 1639|\n",
      "+-----+----------+-----+\n",
      "\n"
     ]
    }
   ],
   "source": [
    "pred.groupBy('label','prediction').count().show()"
   ]
  },
  {
   "cell_type": "markdown",
   "metadata": {},
   "source": [
    "### Curva ROC\n"
   ]
  },
  {
   "cell_type": "code",
   "execution_count": 28,
   "metadata": {
    "collapsed": false
   },
   "outputs": [
    {
     "data": {
      "image/png": "[encoded data removed]",
      "text/plain": [
       "<matplotlib.figure.Figure at 0x7fdfb831dac8>"
      ]
     },
     "metadata": {},
     "output_type": "display_data"
    }
   ],
   "source": [
    "from pyspark.sql.functions import udf\n",
    "from pyspark.sql.types import FloatType\n",
    "import matplotlib.pyplot as plt\n",
    "from sklearn.metrics import roc_curve\n",
    "\n",
    "secondelement=udf(lambda v:float(v[1]),FloatType())\n",
    "pred2=pred.withColumn('probs',secondelement('probability'))\n",
    "\n",
    "\n",
    "#Dibujamos la curva ROC\n",
    "\n",
    "pd5 = pred2.sample(False,0.1).select('label','probs').toPandas()\n",
    "fpr, tpr, _ = roc_curve( pd5['label'], pd5['probs'])\n",
    "\n",
    "plt.plot(fpr, tpr)\n",
    "plt.plot([0, 1], [0, 1], color='navy', linestyle='--')\n",
    "plt.xlabel('1 - Esp (FPR)')\n",
    "plt.ylabel('Sens (TPR)')\n",
    "plt.title('Curva ROC')\n",
    "plt.show()"
   ]
  },
  {
   "cell_type": "code",
   "execution_count": 29,
   "metadata": {
    "collapsed": false
   },
   "outputs": [
    {
     "name": "stdout",
     "output_type": "stream",
     "text": [
      "+-----+--------------------+-------+--------------------+--------------------+----------+-----------+\n",
      "|label|            features|indexed|       rawPrediction|         probability|prediction|      probs|\n",
      "+-----+--------------------+-------+--------------------+--------------------+----------+-----------+\n",
      "|  0.0|[-21.0,868.0,6.0,...|    0.0|[463.904354561326...|[0.92780870912265...|       0.0| 0.07219129|\n",
      "|  0.0|[-17.0,888.0,7.0,...|    0.0|[446.202338054965...|[0.89240467610993...|       0.0|0.107595325|\n",
      "|  0.0|[-17.0,1440.0,1.0...|    0.0|[463.662725445575...|[0.92732545089115...|       0.0| 0.07267455|\n",
      "|  0.0|[-17.0,1744.0,1.0...|    0.0|[464.344563272082...|[0.92868912654416...|       0.0| 0.07131087|\n",
      "|  0.0|[-16.0,641.0,6.0,...|    0.0|[448.237154237273...|[0.89647430847454...|       0.0| 0.10352569|\n",
      "|  0.0|[-16.0,888.0,3.0,...|    0.0|[446.067963818024...|[0.89213592763604...|       0.0|0.107864074|\n",
      "|  0.0|[-15.0,731.0,4.0,...|    0.0|[448.322652525504...|[0.89664530505100...|       0.0| 0.10335469|\n",
      "|  0.0|[-15.0,868.0,3.0,...|    0.0|[464.003440034962...|[0.92800688006992...|       0.0| 0.07199312|\n",
      "|  0.0|[-15.0,888.0,4.0,...|    0.0|[445.747612848846...|[0.89149522569769...|       0.0| 0.10850477|\n",
      "|  0.0|[-15.0,888.0,5.0,...|    0.0|[445.411627173968...|[0.89082325434793...|       0.0| 0.10917675|\n",
      "|  0.0|[-14.0,236.0,4.0,...|    0.0|[461.172611160427...|[0.92234522232085...|       0.0| 0.07765478|\n",
      "|  0.0|[-14.0,255.0,3.0,...|    0.0|[441.481324644276...|[0.88296264928855...|       0.0| 0.11703735|\n",
      "|  0.0|[-14.0,370.0,2.0,...|    0.0|[464.637974100551...|[0.92927594820110...|       0.0|0.070724055|\n",
      "|  0.0|[-14.0,414.0,2.0,...|    0.0|[467.167660125880...|[0.93433532025175...|       0.0| 0.06566468|\n",
      "|  0.0|[-14.0,414.0,3.0,...|    0.0|[443.697574751656...|[0.88739514950331...|       0.0| 0.11260485|\n",
      "|  0.0|[-14.0,414.0,6.0,...|    0.0|[443.828147928475...|[0.88765629585695...|       0.0|0.112343706|\n",
      "|  0.0|[-14.0,628.0,1.0,...|    0.0|[448.511672496870...|[0.89702334499374...|       0.0| 0.10297666|\n",
      "|  0.0|[-14.0,628.0,1.0,...|    0.0|[448.317082379346...|[0.89663416475869...|       0.0| 0.10336584|\n",
      "|  0.0|[-14.0,868.0,3.0,...|    0.0|[464.003440034962...|[0.92800688006992...|       0.0| 0.07199312|\n",
      "|  0.0|[-14.0,888.0,2.0,...|    0.0|[446.513998465604...|[0.89302799693120...|       0.0|   0.106972|\n",
      "+-----+--------------------+-------+--------------------+--------------------+----------+-----------+\n",
      "only showing top 20 rows\n",
      "\n"
     ]
    }
   ],
   "source": [
    "pred2.show()"
   ]
  },
  {
   "cell_type": "code",
   "execution_count": 31,
   "metadata": {
    "collapsed": false
   },
   "outputs": [
    {
     "name": "stdout",
     "output_type": "stream",
     "text": [
      "AUC= 0.9183324583747017\n",
      "AUC= 0.9163139356896335\n"
     ]
    }
   ],
   "source": [
    "predtest = model.transform(bd_test)\n",
    "\n",
    "from pyspark.ml.evaluation import BinaryClassificationEvaluator as BCE\n",
    "print('AUC=',BCE(metricName=\"areaUnderROC\",rawPredictionCol = 'probability').evaluate(pred))\n",
    "print('AUC=',BCE(metricName=\"areaUnderROC\",rawPredictionCol = 'probability').evaluate(predtest))\n"
   ]
  }
 ],
 "metadata": {
  "anaconda-cloud": {},
  "kernelspec": {
   "display_name": "Python [default]",
   "language": "python",
   "name": "python3"
  },
  "language_info": {
   "codemirror_mode": {
    "name": "ipython",
    "version": 3
   },
   "file_extension": ".py",
   "mimetype": "text/x-python",
   "name": "python",
   "nbconvert_exporter": "python",
   "pygments_lexer": "ipython3",
   "version": "3.5.2"
  }
 },
 "nbformat": 4,
 "nbformat_minor": 2
}
