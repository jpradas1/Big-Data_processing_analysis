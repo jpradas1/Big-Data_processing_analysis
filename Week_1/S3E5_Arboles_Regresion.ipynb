{
 "cells": [
  {
   "cell_type": "markdown",
   "metadata": {
    "collapsed": true
   },
   "source": [
    "# Árboles de Regresión"
   ]
  },
  {
   "cell_type": "code",
   "execution_count": 34,
   "metadata": {
    "collapsed": true
   },
   "outputs": [],
   "source": [
    "#from pyspark import SparkContext\n",
    "#sc = SparkContext()\n",
    "#from pyspark.sql import SQLContext\n",
    "#sqlContext=SQLContext(sc)"
   ]
  },
  {
   "cell_type": "code",
   "execution_count": 35,
   "metadata": {
    "collapsed": true
   },
   "outputs": [],
   "source": [
    "bd5 = sqlContext.read.format(\n",
    "    \"com.databricks.spark.csv\"\n",
    ").option(\"header\", \"true\").load(\"bd5.csv\", inferSchema=True)\n",
    "sqlContext.registerDataFrameAsTable(bd5, \"bd5\")"
   ]
  },
  {
   "cell_type": "code",
   "execution_count": 36,
   "metadata": {
    "collapsed": false
   },
   "outputs": [
    {
     "data": {
      "text/plain": [
       "[('Year', 'int'),\n",
       " ('Month', 'int'),\n",
       " ('DayofMonth', 'int'),\n",
       " ('DayOfWeek', 'int'),\n",
       " ('CRSDepTime', 'int'),\n",
       " ('UniqueCarrier', 'string'),\n",
       " ('TailNum', 'string'),\n",
       " ('ArrDelay', 'double'),\n",
       " ('DepDelay', 'double'),\n",
       " ('Origin', 'string'),\n",
       " ('Dest', 'string'),\n",
       " ('Distance', 'double'),\n",
       " ('Cancelled', 'double'),\n",
       " ('Diverted', 'double'),\n",
       " ('CarrierDelay', 'double'),\n",
       " ('WeatherDelay', 'double'),\n",
       " ('NASDelay', 'double'),\n",
       " ('SecurityDelay', 'double'),\n",
       " ('LateAircraftDelay', 'double'),\n",
       " ('LogD', 'double'),\n",
       " ('Retraso', 'int'),\n",
       " ('RetrasoNeto', 'double'),\n",
       " ('Horario', 'int')]"
      ]
     },
     "execution_count": 36,
     "metadata": {},
     "output_type": "execute_result"
    }
   ],
   "source": [
    "bd5.dtypes"
   ]
  },
  {
   "cell_type": "code",
   "execution_count": 37,
   "metadata": {
    "collapsed": false
   },
   "outputs": [
    {
     "name": "stdout",
     "output_type": "stream",
     "text": [
      "+-------------+------------------+-----+\n",
      "|UniqueCarrier|IndexUniqueCarrier|count|\n",
      "+-------------+------------------+-----+\n",
      "|           AA|               0.0| 8853|\n",
      "|           UA|               1.0| 6112|\n",
      "|           WN|               2.0| 5395|\n",
      "|           DL|               3.0| 4239|\n",
      "|           VX|               4.0| 1703|\n",
      "|           NK|               5.0| 1581|\n",
      "|           F9|               6.0| 1295|\n",
      "|           OO|               7.0| 1166|\n",
      "|           B6|               8.0|  121|\n",
      "|           EV|               9.0|    1|\n",
      "+-------------+------------------+-----+\n",
      "\n"
     ]
    }
   ],
   "source": [
    "from pyspark.ml.feature import StringIndexer\n",
    "indexer = StringIndexer(inputCol='UniqueCarrier',outputCol='IndexUniqueCarrier') #el índice empieza en el 0!\n",
    "bd6=indexer.fit(bd5).transform(bd5)\n",
    "\n",
    "bd6.groupBy('UniqueCarrier','IndexUniqueCarrier').count().sort('IndexUniqueCarrier').show()\n"
   ]
  },
  {
   "cell_type": "markdown",
   "metadata": {},
   "source": [
    "## Ajuste del modelo"
   ]
  },
  {
   "cell_type": "code",
   "execution_count": 38,
   "metadata": {
    "collapsed": false
   },
   "outputs": [],
   "source": [
    "from pyspark.ml.feature import VectorAssembler\n",
    "from pyspark.sql.functions import col\n",
    "\n",
    "a1  = VectorAssembler(\n",
    "    inputCols=['DepDelay','Distance','DayOfWeek',\n",
    "               'CRSDepTime','IndexUniqueCarrier'],\n",
    "    outputCol='features')\n",
    "\n",
    "bd7 = a1.transform(bd6).select(col(\"ArrDelay\").alias(\"label\"),'features')"
   ]
  },
  {
   "cell_type": "markdown",
   "metadata": {},
   "source": [
    "### Partición Test - Train"
   ]
  },
  {
   "cell_type": "code",
   "execution_count": 39,
   "metadata": {
    "collapsed": false
   },
   "outputs": [
    {
     "name": "stdout",
     "output_type": "stream",
     "text": [
      "21334\n",
      "9132\n"
     ]
    }
   ],
   "source": [
    "(bd_train, bd_test) = bd7.randomSplit([0.7, 0.3],seed=123)\n",
    "print(bd_train.count())\n",
    "print(bd_test.count())"
   ]
  },
  {
   "cell_type": "code",
   "execution_count": 40,
   "metadata": {
    "collapsed": false
   },
   "outputs": [],
   "source": [
    "from pyspark.ml.regression import DecisionTreeRegressor as DTR\n",
    "\n",
    "rt = DTR(maxDepth=5)\n",
    "\n",
    "model = rt.fit(bd_train)\n",
    "pred = model.transform(bd7)"
   ]
  },
  {
   "cell_type": "code",
   "execution_count": 41,
   "metadata": {
    "collapsed": false
   },
   "outputs": [
    {
     "name": "stdout",
     "output_type": "stream",
     "text": [
      "+-----+--------------------+-------------------+\n",
      "|label|            features|         prediction|\n",
      "+-----+--------------------+-------------------+\n",
      "| -7.0|[-5.0,1235.0,4.0,...| -8.462875769648678|\n",
      "| -3.0|[5.0,1235.0,5.0,8...| -4.140765233821446|\n",
      "| -3.0|[-3.0,1235.0,6.0,...| -8.462875769648678|\n",
      "| -2.0|[-7.0,1235.0,7.0,...|-12.166792168674698|\n",
      "| -2.0|[-6.0,1235.0,1.0,...|-12.166792168674698|\n",
      "|  0.0|[-1.0,1235.0,2.0,...| -4.140765233821446|\n",
      "| -6.0|[0.0,1235.0,3.0,8...| -4.140765233821446|\n",
      "|  7.0|[0.0,1235.0,4.0,8...| -4.140765233821446|\n",
      "| -9.0|[-1.0,1235.0,5.0,...| -4.140765233821446|\n",
      "| -2.0|[-1.0,1235.0,6.0,...| -4.140765233821446|\n",
      "| 13.0|[1.0,1235.0,7.0,8...| -4.140765233821446|\n",
      "|-16.0|[-2.0,1235.0,1.0,...| -8.462875769648678|\n",
      "|-21.0|[-4.0,1235.0,2.0,...| -8.462875769648678|\n",
      "|-16.0|[-1.0,1235.0,3.0,...| -4.140765233821446|\n",
      "|-11.0|[0.0,1235.0,4.0,8...| -4.140765233821446|\n",
      "| -8.0|[0.0,1235.0,5.0,8...| -4.140765233821446|\n",
      "| -4.0|[13.0,1235.0,6.0,...|  9.349387755102041|\n",
      "|  0.0|[17.0,1235.0,7.0,...|  14.88088088088088|\n",
      "| -2.0|[12.0,1235.0,1.0,...|  9.349387755102041|\n",
      "|  2.0|[19.0,1235.0,2.0,...|  14.88088088088088|\n",
      "+-----+--------------------+-------------------+\n",
      "only showing top 20 rows\n",
      "\n"
     ]
    }
   ],
   "source": [
    "pred.show()"
   ]
  },
  {
   "cell_type": "code",
   "execution_count": 42,
   "metadata": {
    "collapsed": false
   },
   "outputs": [
    {
     "name": "stdout",
     "output_type": "stream",
     "text": [
      "+-------------------+-----+\n",
      "|         prediction|count|\n",
      "+-------------------+-----+\n",
      "|  75.76502732240438|  275|\n",
      "|              118.0|    8|\n",
      "| -4.140765233821446| 6016|\n",
      "|  88.06382978723404|   66|\n",
      "| 112.08609271523179|  208|\n",
      "| 1.1689497716894977| 1266|\n",
      "|  270.8888888888889|   14|\n",
      "|  32.38095238095238|  260|\n",
      "|  68.85744234800839|  714|\n",
      "| 34.535545023696685|  620|\n",
      "| 354.55555555555554|   35|\n",
      "| 100.23643410852713|  359|\n",
      "|  148.2941176470588|   23|\n",
      "|  188.1904761904762|  208|\n",
      "|  14.88088088088088| 1449|\n",
      "|  99.46666666666667|   59|\n",
      "| 109.22222222222223|   38|\n",
      "|   48.2593984962406|  800|\n",
      "| 212.28961748633878|  240|\n",
      "| 24.178368121442126|  772|\n",
      "|  234.5977653631285|  252|\n",
      "| 22.905405405405407|  408|\n",
      "|  9.349387755102041| 1725|\n",
      "|  56.70224719101124|  241|\n",
      "| 179.04794520547946|  208|\n",
      "|              164.0|    9|\n",
      "|  3.354341736694678| 2076|\n",
      "| 42.541666666666664|  291|\n",
      "| 106.39495798319328|  164|\n",
      "| -8.462875769648678| 7864|\n",
      "|-12.166792168674698| 3791|\n",
      "|  542.2857142857143|    7|\n",
      "+-------------------+-----+\n",
      "\n"
     ]
    }
   ],
   "source": [
    "pred.groupBy('prediction').count().show(50)\n"
   ]
  },
  {
   "cell_type": "code",
   "execution_count": 43,
   "metadata": {
    "collapsed": false
   },
   "outputs": [
    {
     "name": "stdout",
     "output_type": "stream",
     "text": [
      "0.7229091634348275\n"
     ]
    }
   ],
   "source": [
    "from pyspark.ml.evaluation import RegressionEvaluator\n",
    "print(RegressionEvaluator(metricName=\"r2\").evaluate(pred))"
   ]
  },
  {
   "cell_type": "markdown",
   "metadata": {},
   "source": [
    "## Tuneado de parámetros"
   ]
  },
  {
   "cell_type": "code",
   "execution_count": 44,
   "metadata": {
    "collapsed": true
   },
   "outputs": [],
   "source": [
    "# DecisionTreeRegressor(featuresCol=\"features\", \n",
    "#    labelCol=\"label\", \n",
    "#    predictionCol=\"prediction\", \n",
    "#    maxDepth=5, \n",
    "#    maxBins=32, \n",
    "#    minInstancesPerNode=1, \n",
    "#    minInfoGain=0.0, \n",
    "#    maxMemoryInMB=256, \n",
    "#    impurity=\"variance\")"
   ]
  },
  {
   "cell_type": "code",
   "execution_count": 45,
   "metadata": {
    "collapsed": false
   },
   "outputs": [
    {
     "name": "stdout",
     "output_type": "stream",
     "text": [
      "0.783032295751161\n"
     ]
    }
   ],
   "source": [
    "rt = DTR(maxDepth=20,minInstancesPerNode=10,maxBins=50)\n",
    "model = rt.fit(bd_train)\n",
    "pred = model.transform(bd7)\n",
    "print(RegressionEvaluator(metricName=\"r2\").evaluate(pred))"
   ]
  },
  {
   "cell_type": "markdown",
   "metadata": {},
   "source": [
    "### Validación externa"
   ]
  },
  {
   "cell_type": "code",
   "execution_count": 46,
   "metadata": {
    "collapsed": false
   },
   "outputs": [
    {
     "name": "stdout",
     "output_type": "stream",
     "text": [
      "0.7221506330431235\n"
     ]
    }
   ],
   "source": [
    "pred2 = model.transform(bd_test)\n",
    "print(RegressionEvaluator(metricName=\"r2\").evaluate(pred2))"
   ]
  }
 ],
 "metadata": {
  "anaconda-cloud": {},
  "kernelspec": {
   "display_name": "Python [default]",
   "language": "python",
   "name": "python3"
  },
  "language_info": {
   "codemirror_mode": {
    "name": "ipython",
    "version": 3
   },
   "file_extension": ".py",
   "mimetype": "text/x-python",
   "name": "python",
   "nbconvert_exporter": "python",
   "pygments_lexer": "ipython3",
   "version": "3.5.2"
  }
 },
 "nbformat": 4,
 "nbformat_minor": 2
}
