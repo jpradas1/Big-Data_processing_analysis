{
 "cells": [
  {
   "cell_type": "markdown",
   "metadata": {
    "collapsed": true
   },
   "source": [
    "# Pre-Proceso (2)\n",
    "\n",
    "Creación de nuevas variables"
   ]
  },
  {
   "cell_type": "markdown",
   "metadata": {},
   "source": [
    "Definir SparkContext y SQLContext"
   ]
  },
  {
   "cell_type": "code",
   "execution_count": 1,
   "metadata": {
    "collapsed": true
   },
   "outputs": [],
   "source": [
    "#from pyspark import SparkContext\n",
    "#sc = SparkContext()\n",
    "#from pyspark.sql import SQLContext\n",
    "#sqlContext=SQLContext(sc)\n"
   ]
  },
  {
   "cell_type": "code",
   "execution_count": 2,
   "metadata": {
    "collapsed": true
   },
   "outputs": [],
   "source": [
    "bd = sqlContext.read.format(\"com.databricks.spark.csv\"\n",
    ").option(\"header\", \"true\"\n",
    ").load(\"On_Time_On_Time_Performance_2016_12.csv\", \n",
    "       inferSchema=True)"
   ]
  },
  {
   "cell_type": "code",
   "execution_count": 3,
   "metadata": {
    "collapsed": true
   },
   "outputs": [],
   "source": [
    "bd=bd.select('YEAR','MONTH','DAY_OF_MONTH','DAY_OF_WEEK','CRS_DEP_TIME',\n",
    "             'OP_UNIQUE_CARRIER', 'TAIL_NUM', 'ARR_DELAY','DEP_DELAY',\n",
    "             'ORIGIN','DEST','DISTANCE','CANCELLED', 'DIVERTED','CARRIER_DELAY',\n",
    "             'WEATHER_DELAY','NAS_DELAY','SECURITY_DELAY',\n",
    "             'LATE_AIRCRAFT_DELAY') "
   ]
  },
  {
   "cell_type": "code",
   "execution_count": 5,
   "metadata": {
    "collapsed": false
   },
   "outputs": [],
   "source": [
    "bd2 = bd.filter( bd.ORIGIN.isin('ATL','ORD','DEN','LAX','DFW','SFO','PHX','LAS') & bd.DEST.isin(\n",
    "    'ATL','ORD','DEN','LAX','DFW','SFO','PHX','LAS') )\n",
    "\n",
    "sqlContext.registerDataFrameAsTable(bd2, \"bd2\")"
   ]
  },
  {
   "cell_type": "code",
   "execution_count": 6,
   "metadata": {
    "collapsed": true
   },
   "outputs": [],
   "source": [
    "bd3 = bd2.filter(bd2.CANCELLED==0\n",
    ").filter(bd2.DIVERTED==0)"
   ]
  },
  {
   "cell_type": "code",
   "execution_count": 7,
   "metadata": {
    "collapsed": true
   },
   "outputs": [],
   "source": [
    "bd4 = bd3.na.fill({'CARRIER_DELAY':0, 'WEATHER_DELAY':0,'NAS_DELAY':0,\n",
    "                   'SECURITY_DELAY':0, 'LATE_AIRCRAFT_DELAY':0})\n",
    "#bd4 = bd3.na.fill(0)\n",
    "#bd4 = bd3.na.drop()"
   ]
  },
  {
   "cell_type": "markdown",
   "metadata": {},
   "source": [
    "## Transformación y Creación de nuevas variables"
   ]
  },
  {
   "cell_type": "code",
   "execution_count": 9,
   "metadata": {
    "collapsed": false
   },
   "outputs": [],
   "source": [
    "from pyspark.sql.functions import log\n",
    "\n",
    "bd4 = bd4.withColumn('LogD', log(10.0, 'Distance'))"
   ]
  },
  {
   "cell_type": "code",
   "execution_count": 11,
   "metadata": {
    "collapsed": false
   },
   "outputs": [],
   "source": [
    "bd4 = bd4.withColumn('Retraso', (bd4.ARR_DELAY >=15).cast('int'))"
   ]
  },
  {
   "cell_type": "code",
   "execution_count": 12,
   "metadata": {
    "collapsed": true
   },
   "outputs": [],
   "source": [
    "bd4 = bd4.withColumn('RetrasoNeto', bd4.ARR_DELAY-bd4.DEP_DELAY)"
   ]
  },
  {
   "cell_type": "code",
   "execution_count": 13,
   "metadata": {
    "collapsed": false
   },
   "outputs": [
    {
     "data": {
      "text/plain": [
       "[('YEAR', 'int'),\n",
       " ('MONTH', 'int'),\n",
       " ('DAY_OF_MONTH', 'int'),\n",
       " ('DAY_OF_WEEK', 'int'),\n",
       " ('CRS_DEP_TIME', 'int'),\n",
       " ('OP_UNIQUE_CARRIER', 'string'),\n",
       " ('TAIL_NUM', 'string'),\n",
       " ('ARR_DELAY', 'double'),\n",
       " ('DEP_DELAY', 'double'),\n",
       " ('ORIGIN', 'string'),\n",
       " ('DEST', 'string'),\n",
       " ('DISTANCE', 'double'),\n",
       " ('CANCELLED', 'double'),\n",
       " ('DIVERTED', 'double'),\n",
       " ('CARRIER_DELAY', 'double'),\n",
       " ('WEATHER_DELAY', 'double'),\n",
       " ('NAS_DELAY', 'double'),\n",
       " ('SECURITY_DELAY', 'double'),\n",
       " ('LATE_AIRCRAFT_DELAY', 'double'),\n",
       " ('LogD', 'double'),\n",
       " ('Retraso', 'int'),\n",
       " ('RetrasoNeto', 'double')]"
      ]
     },
     "execution_count": 13,
     "metadata": {},
     "output_type": "execute_result"
    }
   ],
   "source": [
    "bd4.dtypes"
   ]
  },
  {
   "cell_type": "code",
   "execution_count": 14,
   "metadata": {
    "collapsed": false
   },
   "outputs": [
    {
     "name": "stdout",
     "output_type": "stream",
     "text": [
      "+-------+------------------+-------------------+------------------+------------------+\n",
      "|summary|         ARR_DELAY|               LogD|           Retraso|       RetrasoNeto|\n",
      "+-------+------------------+-------------------+------------------+------------------+\n",
      "|  count|             30466|              30466|             30466|             30466|\n",
      "|   mean|13.300695857677411| 2.8860074541722383|0.2757500164117377|-3.919680955819602|\n",
      "| stddev|53.509467381637556|0.28179267734674984|0.4468987584631848|15.560721063721385|\n",
      "|    min|             -53.0| 2.3729120029701067|                 0|             -48.0|\n",
      "|    max|            2028.0|  3.330210784571528|                 1|             229.0|\n",
      "+-------+------------------+-------------------+------------------+------------------+\n",
      "\n"
     ]
    }
   ],
   "source": [
    "bd4.describe('ARR_DELAY','LogD','Retraso','RetrasoNeto').show()"
   ]
  },
  {
   "cell_type": "code",
   "execution_count": 15,
   "metadata": {
    "collapsed": false
   },
   "outputs": [
    {
     "data": {
      "text/html": [
       "<div>\n",
       "<table border=\"1\" class=\"dataframe\">\n",
       "  <thead>\n",
       "    <tr style=\"text-align: right;\">\n",
       "      <th></th>\n",
       "      <th>summary</th>\n",
       "      <th>ARR_DELAY</th>\n",
       "      <th>LogD</th>\n",
       "      <th>Retraso</th>\n",
       "      <th>RetrasoNeto</th>\n",
       "    </tr>\n",
       "  </thead>\n",
       "  <tbody>\n",
       "    <tr>\n",
       "      <th>0</th>\n",
       "      <td>count</td>\n",
       "      <td>30466</td>\n",
       "      <td>30466</td>\n",
       "      <td>30466</td>\n",
       "      <td>30466</td>\n",
       "    </tr>\n",
       "    <tr>\n",
       "      <th>1</th>\n",
       "      <td>mean</td>\n",
       "      <td>13.300695857677411</td>\n",
       "      <td>2.8860074541722383</td>\n",
       "      <td>0.2757500164117377</td>\n",
       "      <td>-3.919680955819602</td>\n",
       "    </tr>\n",
       "    <tr>\n",
       "      <th>2</th>\n",
       "      <td>stddev</td>\n",
       "      <td>53.509467381637556</td>\n",
       "      <td>0.28179267734674984</td>\n",
       "      <td>0.4468987584631848</td>\n",
       "      <td>15.560721063721385</td>\n",
       "    </tr>\n",
       "    <tr>\n",
       "      <th>3</th>\n",
       "      <td>min</td>\n",
       "      <td>-53.0</td>\n",
       "      <td>2.3729120029701067</td>\n",
       "      <td>0</td>\n",
       "      <td>-48.0</td>\n",
       "    </tr>\n",
       "    <tr>\n",
       "      <th>4</th>\n",
       "      <td>max</td>\n",
       "      <td>2028.0</td>\n",
       "      <td>3.330210784571528</td>\n",
       "      <td>1</td>\n",
       "      <td>229.0</td>\n",
       "    </tr>\n",
       "  </tbody>\n",
       "</table>\n",
       "</div>"
      ],
      "text/plain": [
       "  summary           ARR_DELAY                 LogD             Retraso  \\\n",
       "0   count               30466                30466               30466   \n",
       "1    mean  13.300695857677411   2.8860074541722383  0.2757500164117377   \n",
       "2  stddev  53.509467381637556  0.28179267734674984  0.4468987584631848   \n",
       "3     min               -53.0   2.3729120029701067                   0   \n",
       "4     max              2028.0    3.330210784571528                   1   \n",
       "\n",
       "          RetrasoNeto  \n",
       "0               30466  \n",
       "1  -3.919680955819602  \n",
       "2  15.560721063721385  \n",
       "3               -48.0  \n",
       "4               229.0  "
      ]
     },
     "execution_count": 15,
     "metadata": {},
     "output_type": "execute_result"
    }
   ],
   "source": [
    "bd4.describe('ARR_DELAY','LogD','Retraso','RetrasoNeto').toPandas()"
   ]
  },
  {
   "cell_type": "code",
   "execution_count": 17,
   "metadata": {
    "collapsed": false
   },
   "outputs": [],
   "source": [
    "sqlContext.registerDataFrameAsTable(bd4, \"bd4\")\n",
    "\n",
    "bd5 = sqlContext.sql(\"select *, case \\\n",
    "               when CRS_DEP_TIME <= 800 then 1 \\\n",
    "               when 800 < CRS_DEP_TIME and CRS_DEP_TIME <= 1200 then 2 \\\n",
    "               when 1200 < CRS_DEP_TIME and CRS_DEP_TIME <= 1600 then 3 \\\n",
    "               when 1600 < CRS_DEP_TIME and CRS_DEP_TIME <= 2100 then 4 \\\n",
    "               else 1 end as Horario \\\n",
    "               from bd4\")"
   ]
  },
  {
   "cell_type": "code",
   "execution_count": 18,
   "metadata": {
    "collapsed": false
   },
   "outputs": [
    {
     "name": "stdout",
     "output_type": "stream",
     "text": [
      "+-------+-----------------+\n",
      "|summary|          Horario|\n",
      "+-------+-----------------+\n",
      "|  count|            30466|\n",
      "|   mean|2.539322523468785|\n",
      "| stddev|1.136901609153113|\n",
      "|    min|                1|\n",
      "|    max|                4|\n",
      "+-------+-----------------+\n",
      "\n"
     ]
    }
   ],
   "source": [
    "bd5.select('Horario').describe().show()"
   ]
  },
  {
   "cell_type": "code",
   "execution_count": 19,
   "metadata": {
    "collapsed": false
   },
   "outputs": [
    {
     "name": "stdout",
     "output_type": "stream",
     "text": [
      "+-------+-----+\n",
      "|Horario|count|\n",
      "+-------+-----+\n",
      "|      1| 7519|\n",
      "|      2| 7382|\n",
      "|      3| 7180|\n",
      "|      4| 8385|\n",
      "+-------+-----+\n",
      "\n"
     ]
    }
   ],
   "source": [
    "bd5.select('Horario').groupBy('Horario').count().show()"
   ]
  },
  {
   "cell_type": "markdown",
   "metadata": {},
   "source": [
    "## Exportar la base de datos  a HDFS"
   ]
  },
  {
   "cell_type": "code",
   "execution_count": 20,
   "metadata": {
    "collapsed": true
   },
   "outputs": [],
   "source": [
    "bd5.write.format(\n",
    "    \"com.databricks.spark.csv\"\n",
    ").option(\n",
    "    \"header\", \"true\"\n",
    ").mode('overwrite').save('/user/cloudera/bd5.csv') \n"
   ]
  }
 ],
 "metadata": {
  "anaconda-cloud": {},
  "kernelspec": {
   "display_name": "Python [default]",
   "language": "python",
   "name": "python3"
  },
  "language_info": {
   "codemirror_mode": {
    "name": "ipython",
    "version": 3
   },
   "file_extension": ".py",
   "mimetype": "text/x-python",
   "name": "python",
   "nbconvert_exporter": "python",
   "pygments_lexer": "ipython3",
   "version": "3.5.2"
  }
 },
 "nbformat": 4,
 "nbformat_minor": 2
}
