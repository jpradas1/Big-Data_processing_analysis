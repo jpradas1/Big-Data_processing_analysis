{
 "cells": [
  {
   "cell_type": "markdown",
   "metadata": {
    "collapsed": true
   },
   "source": [
    "# Árboles de Clasificación"
   ]
  },
  {
   "cell_type": "code",
   "execution_count": 1,
   "metadata": {
    "collapsed": false
   },
   "outputs": [],
   "source": [
    "#from pyspark import SparkContext\n",
    "#sc = SparkContext()\n",
    "#from pyspark.sql import SQLContext\n",
    "#sqlContext=SQLContext(sc)"
   ]
  },
  {
   "cell_type": "code",
   "execution_count": 2,
   "metadata": {
    "collapsed": true
   },
   "outputs": [],
   "source": [
    "bd5 = sqlContext.read.format(\n",
    "    \"com.databricks.spark.csv\"\n",
    ").option(\"header\", \"true\").load(\"bd5.csv\", inferSchema=True)\n",
    "sqlContext.registerDataFrameAsTable(bd5, \"bd5\")"
   ]
  },
  {
   "cell_type": "code",
   "execution_count": 3,
   "metadata": {
    "collapsed": false
   },
   "outputs": [
    {
     "name": "stdout",
     "output_type": "stream",
     "text": [
      "+-----------------+------------------+-----+\n",
      "|OP_UNIQUE_CARRIER|IndexUniqueCarrier|count|\n",
      "+-----------------+------------------+-----+\n",
      "|               AA|               0.0| 8853|\n",
      "|               UA|               1.0| 6112|\n",
      "|               WN|               2.0| 5395|\n",
      "|               DL|               3.0| 4239|\n",
      "|               VX|               4.0| 1703|\n",
      "|               NK|               5.0| 1581|\n",
      "|               F9|               6.0| 1295|\n",
      "|               OO|               7.0| 1166|\n",
      "|               B6|               8.0|  121|\n",
      "|               EV|               9.0|    1|\n",
      "+-----------------+------------------+-----+\n",
      "\n"
     ]
    }
   ],
   "source": [
    "from pyspark.ml.feature import StringIndexer\n",
    "\n",
    "indexer = StringIndexer(inputCol='OP_UNIQUE_CARRIER',\n",
    "                        outputCol='IndexUniqueCarrier') #el índice empieza en el 0!\n",
    "bd6=indexer.fit(bd5).transform(bd5)\n",
    "\n",
    "bd6.groupBy('OP_UNIQUE_CARRIER','IndexUniqueCarrier').count().sort('IndexUniqueCarrier').show()\n"
   ]
  },
  {
   "cell_type": "markdown",
   "metadata": {},
   "source": [
    "## Ajuste del modelo"
   ]
  },
  {
   "cell_type": "code",
   "execution_count": 4,
   "metadata": {
    "collapsed": false
   },
   "outputs": [],
   "source": [
    "from pyspark.ml.feature import VectorAssembler, StringIndexer\n",
    "from pyspark.sql.functions import col\n",
    "\n",
    "a1  = VectorAssembler(\n",
    "    inputCols=['DEP_DELAY','DISTANCE','DAY_OF_WEEK',\n",
    "               'CRS_DEP_TIME','IndexUniqueCarrier'],\n",
    "    outputCol='features')\n",
    "\n",
    "bd7 = a1.transform(bd6).select(col(\"Retraso\").cast('double').alias(\"label\"),'features')\n",
    "\n",
    "stringIndexer = StringIndexer(inputCol = 'label', outputCol = 'label2')\n",
    "sI = stringIndexer.fit(bd7)\n",
    "bd7 = sI.transform(bd7)\n",
    "\n"
   ]
  },
  {
   "cell_type": "markdown",
   "metadata": {},
   "source": [
    "### Partición Test - Train"
   ]
  },
  {
   "cell_type": "code",
   "execution_count": 5,
   "metadata": {
    "collapsed": false
   },
   "outputs": [
    {
     "name": "stdout",
     "output_type": "stream",
     "text": [
      "21278\n",
      "9188\n"
     ]
    }
   ],
   "source": [
    "(bd_train, bd_test) = bd7.randomSplit([0.7, 0.3],seed=123)\n",
    "print(bd_train.count())\n",
    "print(bd_test.count())"
   ]
  },
  {
   "cell_type": "code",
   "execution_count": 6,
   "metadata": {
    "collapsed": false
   },
   "outputs": [],
   "source": [
    "from pyspark.ml.classification import DecisionTreeClassifier as DTC\n",
    "\n",
    "rt = DTC(maxDepth=5, labelCol = 'label2')\n",
    "\n",
    "model = rt.fit(bd_train)\n",
    "pred = model.transform(bd_train)"
   ]
  },
  {
   "cell_type": "code",
   "execution_count": 7,
   "metadata": {
    "collapsed": false
   },
   "outputs": [
    {
     "name": "stdout",
     "output_type": "stream",
     "text": [
      "+-----+--------------------+------+--------------+--------------------+----------+\n",
      "|label|            features|label2| rawPrediction|         probability|prediction|\n",
      "+-----+--------------------+------+--------------+--------------------+----------+\n",
      "|  0.0|[-20.0,602.0,3.0,...|   0.0|[7207.0,296.0]|[0.96054911368785...|       0.0|\n",
      "|  0.0|[-16.0,641.0,1.0,...|   0.0|[7207.0,296.0]|[0.96054911368785...|       0.0|\n",
      "|  0.0|[-16.0,641.0,6.0,...|   0.0|[7207.0,296.0]|[0.96054911368785...|       0.0|\n",
      "|  0.0|[-16.0,868.0,6.0,...|   0.0|[7207.0,296.0]|[0.96054911368785...|       0.0|\n",
      "|  0.0|[-16.0,888.0,3.0,...|   0.0|[7207.0,296.0]|[0.96054911368785...|       0.0|\n",
      "|  0.0|[-15.0,731.0,1.0,...|   0.0|[7207.0,296.0]|[0.96054911368785...|       0.0|\n",
      "|  0.0|[-15.0,888.0,4.0,...|   0.0|[7207.0,296.0]|[0.96054911368785...|       0.0|\n",
      "|  0.0|[-15.0,888.0,5.0,...|   0.0|[7207.0,296.0]|[0.96054911368785...|       0.0|\n",
      "|  0.0|[-15.0,967.0,3.0,...|   0.0|[7207.0,296.0]|[0.96054911368785...|       0.0|\n",
      "|  0.0|[-15.0,1464.0,6.0...|   0.0|[7207.0,296.0]|[0.96054911368785...|       0.0|\n",
      "|  0.0|[-14.0,236.0,3.0,...|   0.0|[2347.0,165.0]|[0.93431528662420...|       0.0|\n",
      "|  0.0|[-14.0,236.0,4.0,...|   0.0|[2347.0,165.0]|[0.93431528662420...|       0.0|\n",
      "|  0.0|[-14.0,337.0,1.0,...|   0.0|[2347.0,165.0]|[0.93431528662420...|       0.0|\n",
      "|  0.0|[-14.0,337.0,1.0,...|   0.0|[2347.0,165.0]|[0.93431528662420...|       0.0|\n",
      "|  0.0|[-14.0,337.0,1.0,...|   0.0|[2347.0,165.0]|[0.93431528662420...|       0.0|\n",
      "|  0.0|[-14.0,337.0,2.0,...|   0.0|[2347.0,165.0]|[0.93431528662420...|       0.0|\n",
      "|  0.0|[-14.0,414.0,2.0,...|   0.0|[7207.0,296.0]|[0.96054911368785...|       0.0|\n",
      "|  0.0|[-14.0,628.0,1.0,...|   0.0|[7207.0,296.0]|[0.96054911368785...|       0.0|\n",
      "|  0.0|[-14.0,731.0,5.0,...|   0.0|[7207.0,296.0]|[0.96054911368785...|       0.0|\n",
      "|  0.0|[-14.0,868.0,3.0,...|   0.0|[7207.0,296.0]|[0.96054911368785...|       0.0|\n",
      "+-----+--------------------+------+--------------+--------------------+----------+\n",
      "only showing top 20 rows\n",
      "\n"
     ]
    }
   ],
   "source": [
    "pred.show()"
   ]
  },
  {
   "cell_type": "code",
   "execution_count": 8,
   "metadata": {
    "collapsed": false
   },
   "outputs": [
    {
     "name": "stdout",
     "output_type": "stream",
     "text": [
      "+--------------------+-----+\n",
      "|         probability|count|\n",
      "+--------------------+-----+\n",
      "|[0.12149532710280...|  107|\n",
      "|[0.69696969696969...|   33|\n",
      "|[0.07692307692307...|   39|\n",
      "|[0.94122079879427...| 1327|\n",
      "|[0.89046270066100...| 1059|\n",
      "|   [0.78125,0.21875]|  128|\n",
      "|[0.51086956521739...|   92|\n",
      "|[0.31034482758620...|   87|\n",
      "|[0.93431528662420...| 2512|\n",
      "|[0.07438016528925...|  121|\n",
      "|           [0.0,1.0]| 2635|\n",
      "|[0.34693877551020...|   49|\n",
      "|[0.14655172413793...|  116|\n",
      "|[0.96054911368785...| 7503|\n",
      "|[0.02158273381294...|  139|\n",
      "|[0.87884378843788...| 1626|\n",
      "|[0.76311605723370...|  629|\n",
      "|[0.79834254143646...|  362|\n",
      "|[0.68522072936660...|  521|\n",
      "|[0.33720930232558...|   86|\n",
      "|[0.49253731343283...|   67|\n",
      "|[0.45604395604395...|  364|\n",
      "|[0.20247933884297...|  242|\n",
      "|[0.63035019455252...|  514|\n",
      "|[0.71428571428571...|    7|\n",
      "|[0.19298245614035...|  171|\n",
      "|[0.00777202072538...|  386|\n",
      "|[0.89898989898989...|   99|\n",
      "|[0.35080645161290...|  248|\n",
      "|[0.88888888888888...|    9|\n",
      "+--------------------+-----+\n",
      "\n"
     ]
    }
   ],
   "source": [
    "pred.groupBy('probability').count().show(50)\n"
   ]
  },
  {
   "cell_type": "code",
   "execution_count": 9,
   "metadata": {
    "collapsed": false
   },
   "outputs": [
    {
     "name": "stdout",
     "output_type": "stream",
     "text": [
      "+-----+----------+-----+\n",
      "|label|prediction|count|\n",
      "+-----+----------+-----+\n",
      "|  1.0|       1.0| 4368|\n",
      "|  0.0|       0.0|14897|\n",
      "|  0.0|       1.0|  489|\n",
      "|  1.0|       0.0| 1524|\n",
      "+-----+----------+-----+\n",
      "\n"
     ]
    }
   ],
   "source": [
    "pred.groupBy('label','prediction').count().show()\n",
    "#threshold = 0.5"
   ]
  },
  {
   "cell_type": "markdown",
   "metadata": {},
   "source": [
    "### Curva ROC"
   ]
  },
  {
   "cell_type": "code",
   "execution_count": 10,
   "metadata": {
    "collapsed": false
   },
   "outputs": [
    {
     "name": "stdout",
     "output_type": "stream",
     "text": [
      "+-----+--------------------+------+--------------+--------------------+----------+-----------+\n",
      "|label|            features|label2| rawPrediction|         probability|prediction|      probs|\n",
      "+-----+--------------------+------+--------------+--------------------+----------+-----------+\n",
      "|  0.0|[-20.0,602.0,3.0,...|   0.0|[7207.0,296.0]|[0.96054911368785...|       0.0|0.039450888|\n",
      "|  0.0|[-16.0,641.0,1.0,...|   0.0|[7207.0,296.0]|[0.96054911368785...|       0.0|0.039450888|\n",
      "|  0.0|[-16.0,641.0,6.0,...|   0.0|[7207.0,296.0]|[0.96054911368785...|       0.0|0.039450888|\n",
      "|  0.0|[-16.0,868.0,6.0,...|   0.0|[7207.0,296.0]|[0.96054911368785...|       0.0|0.039450888|\n",
      "|  0.0|[-16.0,888.0,3.0,...|   0.0|[7207.0,296.0]|[0.96054911368785...|       0.0|0.039450888|\n",
      "|  0.0|[-15.0,731.0,1.0,...|   0.0|[7207.0,296.0]|[0.96054911368785...|       0.0|0.039450888|\n",
      "|  0.0|[-15.0,888.0,4.0,...|   0.0|[7207.0,296.0]|[0.96054911368785...|       0.0|0.039450888|\n",
      "|  0.0|[-15.0,888.0,5.0,...|   0.0|[7207.0,296.0]|[0.96054911368785...|       0.0|0.039450888|\n",
      "|  0.0|[-15.0,967.0,3.0,...|   0.0|[7207.0,296.0]|[0.96054911368785...|       0.0|0.039450888|\n",
      "|  0.0|[-15.0,1464.0,6.0...|   0.0|[7207.0,296.0]|[0.96054911368785...|       0.0|0.039450888|\n",
      "+-----+--------------------+------+--------------+--------------------+----------+-----------+\n",
      "only showing top 10 rows\n",
      "\n"
     ]
    }
   ],
   "source": [
    "from pyspark.sql.functions import udf\n",
    "from pyspark.sql.types import FloatType\n",
    "\n",
    "secondelement=udf(lambda v:float(v[1]),FloatType())\n",
    "pred2=pred.withColumn('probs',secondelement('probability'))\n",
    "\n",
    "pred2.show(10)"
   ]
  },
  {
   "cell_type": "code",
   "execution_count": 11,
   "metadata": {
    "collapsed": false
   },
   "outputs": [
    {
     "data": {
      "image/png": "[encoded data removed]",
      "text/plain": [
       "<matplotlib.figure.Figure at 0x7f786a0300f0>"
      ]
     },
     "metadata": {},
     "output_type": "display_data"
    }
   ],
   "source": [
    "import matplotlib.pyplot as plt\n",
    "from sklearn.metrics import roc_curve\n",
    "import seaborn as sns\n",
    "\n",
    "pd5 = pred2.sample(False,0.1).select('label','probs').toPandas()\n",
    "\n",
    "fpr, tpr, _ = roc_curve( pd5['label'], pd5['probs'])\n",
    "\n",
    "plt.plot(fpr, tpr)\n",
    "plt.plot([0, 1], [0, 1], color='navy', linestyle='--')\n",
    "plt.xlabel('1 - Esp (FPR)')\n",
    "plt.ylabel('Sens (TPR)')\n",
    "plt.title('Curva ROC')\n",
    "plt.show()"
   ]
  },
  {
   "cell_type": "code",
   "execution_count": 12,
   "metadata": {
    "collapsed": false
   },
   "outputs": [
    {
     "name": "stdout",
     "output_type": "stream",
     "text": [
      "AUC= 0.9222584966504406\n"
     ]
    }
   ],
   "source": [
    "from pyspark.ml.evaluation import BinaryClassificationEvaluator as BCE\n",
    "\n",
    "print('AUC=',BCE(metricName=\"areaUnderROC\",rawPredictionCol = 'probability').evaluate(pred))\n"
   ]
  },
  {
   "cell_type": "code",
   "execution_count": 13,
   "metadata": {
    "collapsed": true
   },
   "outputs": [],
   "source": [
    "# DecisionTreeClassifier(featuresCol=\"features\",\n",
    "#    labelCol=\"label\",\n",
    "#    predictionCol=\"prediction\",\n",
    "#    probabilityCol=\"probability\",\n",
    "#    rawPredictionCol=\"rawPrediction\",\n",
    "#    maxDepth=5,\n",
    "#    maxBins=32,\n",
    "#    minInstancesPerNode=1,\n",
    "#    minInfoGain=0.0,\n",
    "#    maxMemoryInMB=256,\n",
    "#    impurity=\"gini\"  / impurity=\"entropy\" )"
   ]
  },
  {
   "cell_type": "code",
   "execution_count": 14,
   "metadata": {
    "collapsed": false
   },
   "outputs": [
    {
     "name": "stdout",
     "output_type": "stream",
     "text": [
      "AUC= 0.999437809422678\n"
     ]
    }
   ],
   "source": [
    "rt = DTC(maxDepth=20, labelCol = 'label2')\n",
    "model = rt.fit(bd_train)\n",
    "pred = model.transform(bd_train)\n",
    "\n",
    "print('AUC=',BCE(metricName=\"areaUnderROC\", rawPredictionCol = 'probability').evaluate(pred))"
   ]
  },
  {
   "cell_type": "markdown",
   "metadata": {},
   "source": [
    "### Validación externa"
   ]
  },
  {
   "cell_type": "code",
   "execution_count": 15,
   "metadata": {
    "collapsed": false
   },
   "outputs": [
    {
     "name": "stdout",
     "output_type": "stream",
     "text": [
      "AUC= 0.8206132723811288\n"
     ]
    }
   ],
   "source": [
    "predtest = model.transform(bd_test)\n",
    "\n",
    "print('AUC=',BCE(metricName=\"areaUnderROC\",rawPredictionCol = 'probability').evaluate(predtest))"
   ]
  }
 ],
 "metadata": {
  "anaconda-cloud": {},
  "kernelspec": {
   "display_name": "Python [default]",
   "language": "python",
   "name": "python3"
  },
  "language_info": {
   "codemirror_mode": {
    "name": "ipython",
    "version": 3
   },
   "file_extension": ".py",
   "mimetype": "text/x-python",
   "name": "python",
   "nbconvert_exporter": "python",
   "pygments_lexer": "ipython3",
   "version": "3.5.2"
  }
 },
 "nbformat": 4,
 "nbformat_minor": 2
}
