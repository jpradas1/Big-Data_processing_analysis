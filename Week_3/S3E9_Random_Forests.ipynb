{
 "cells": [
  {
   "cell_type": "markdown",
   "metadata": {
    "collapsed": true
   },
   "source": [
    "# Random Forest: Bosques"
   ]
  },
  {
   "cell_type": "code",
   "execution_count": 1,
   "metadata": {
    "collapsed": true
   },
   "outputs": [],
   "source": [
    "#from pyspark import SparkContext\n",
    "#sc = SparkContext()\n",
    "#from pyspark.sql import SQLContext\n",
    "#sqlContext=SQLContext(sc)"
   ]
  },
  {
   "cell_type": "code",
   "execution_count": 2,
   "metadata": {
    "collapsed": true
   },
   "outputs": [],
   "source": [
    "bd5 = sqlContext.read.format(\n",
    "    \"com.databricks.spark.csv\"\n",
    ").option(\"header\", \"true\").load(\"bd5.csv\", inferSchema=True)\n",
    "sqlContext.registerDataFrameAsTable(bd5, \"bd5\")"
   ]
  },
  {
   "cell_type": "code",
   "execution_count": 3,
   "metadata": {
    "collapsed": false
   },
   "outputs": [
    {
     "data": {
      "text/plain": [
       "[('YEAR', 'int'),\n",
       " ('MONTH', 'int'),\n",
       " ('DAY_OF_MONTH', 'int'),\n",
       " ('DAY_OF_WEEK', 'int'),\n",
       " ('CRS_DEP_TIME', 'int'),\n",
       " ('OP_UNIQUE_CARRIER', 'string'),\n",
       " ('TAIL_NUM', 'string'),\n",
       " ('ARR_DELAY', 'double'),\n",
       " ('DEP_DELAY', 'double'),\n",
       " ('ORIGIN', 'string'),\n",
       " ('DEST', 'string'),\n",
       " ('DISTANCE', 'double'),\n",
       " ('CANCELLED', 'double'),\n",
       " ('DIVERTED', 'double'),\n",
       " ('CARRIER_DELAY', 'double'),\n",
       " ('WEATHER_DELAY', 'double'),\n",
       " ('NAS_DELAY', 'double'),\n",
       " ('SECURITY_DELAY', 'double'),\n",
       " ('LATE_AIRCRAFT_DELAY', 'double'),\n",
       " ('LogD', 'double'),\n",
       " ('Retraso', 'int'),\n",
       " ('RetrasoNeto', 'double'),\n",
       " ('Horario', 'int')]"
      ]
     },
     "execution_count": 3,
     "metadata": {},
     "output_type": "execute_result"
    }
   ],
   "source": [
    "bd5.dtypes"
   ]
  },
  {
   "cell_type": "code",
   "execution_count": 5,
   "metadata": {
    "collapsed": false
   },
   "outputs": [
    {
     "name": "stdout",
     "output_type": "stream",
     "text": [
      "+-----------------+------------------+-----+\n",
      "|OP_UNIQUE_CARRIER|IndexUniqueCarrier|count|\n",
      "+-----------------+------------------+-----+\n",
      "|               AA|               0.0| 8853|\n",
      "|               UA|               1.0| 6112|\n",
      "|               WN|               2.0| 5395|\n",
      "|               DL|               3.0| 4239|\n",
      "|               VX|               4.0| 1703|\n",
      "|               NK|               5.0| 1581|\n",
      "|               F9|               6.0| 1295|\n",
      "|               OO|               7.0| 1166|\n",
      "|               B6|               8.0|  121|\n",
      "|               EV|               9.0|    1|\n",
      "+-----------------+------------------+-----+\n",
      "\n"
     ]
    }
   ],
   "source": [
    "from pyspark.ml.feature import StringIndexer\n",
    "\n",
    "indexer = StringIndexer(inputCol='OP_UNIQUE_CARRIER',outputCol='IndexUniqueCarrier') #el índice empieza en el 0!\n",
    "bd6=indexer.fit(bd5).transform(bd5)\n",
    "\n",
    "bd6.groupBy('OP_UNIQUE_CARRIER','IndexUniqueCarrier').count().sort('IndexUniqueCarrier').show()\n"
   ]
  },
  {
   "cell_type": "markdown",
   "metadata": {},
   "source": [
    "## Regression Random Forest"
   ]
  },
  {
   "cell_type": "code",
   "execution_count": 6,
   "metadata": {
    "collapsed": false
   },
   "outputs": [],
   "source": [
    "from pyspark.ml.feature import VectorAssembler\n",
    "from pyspark.sql.functions import col\n",
    "\n",
    "a1  = VectorAssembler(\n",
    "    inputCols=['DEP_DELAY','DISTANCE','DAY_OF_WEEK',\n",
    "               'CRS_DEP_TIME','IndexUniqueCarrier'],\n",
    "    outputCol='features')\n",
    "\n",
    "bd7 = a1.transform(bd6).select(col(\"ARR_DELAY\").alias(\"label\"),'features')"
   ]
  },
  {
   "cell_type": "markdown",
   "metadata": {},
   "source": [
    "## Partición Test - Train"
   ]
  },
  {
   "cell_type": "code",
   "execution_count": 7,
   "metadata": {
    "collapsed": false
   },
   "outputs": [
    {
     "name": "stdout",
     "output_type": "stream",
     "text": [
      "21278\n",
      "9188\n"
     ]
    }
   ],
   "source": [
    "(bd_train, bd_test) = bd7.randomSplit([0.7, 0.3],seed=123)\n",
    "print(bd_train.count())\n",
    "print(bd_test.count())"
   ]
  },
  {
   "cell_type": "code",
   "execution_count": 8,
   "metadata": {
    "collapsed": false
   },
   "outputs": [
    {
     "name": "stdout",
     "output_type": "stream",
     "text": [
      "Time to train model: 26.190 seconds\n"
     ]
    }
   ],
   "source": [
    "from pyspark.ml.regression import RandomForestRegressor\n",
    "from time import time\n",
    "\n",
    "start_time = time()\n",
    "\n",
    "# Train a RandomForest model.\n",
    "rf = RandomForestRegressor(labelCol=\"label\", \n",
    "     featuresCol=\"features\", \n",
    "     numTrees=500,\n",
    "     maxDepth=5,\n",
    "     seed = 1,\n",
    "     subsamplingRate=1.0,\n",
    "     featureSubsetStrategy=\"auto\")\n",
    "     \n",
    "model = rf.fit(bd_train)\n",
    "\n",
    "end_time = time()\n",
    "elapsed_time = end_time - start_time\n",
    "print(\"Time to train model: %.3f seconds\" % elapsed_time)\n",
    "\n",
    "pred = model.transform(bd_train)"
   ]
  },
  {
   "cell_type": "code",
   "execution_count": 9,
   "metadata": {
    "collapsed": false
   },
   "outputs": [
    {
     "name": "stdout",
     "output_type": "stream",
     "text": [
      "+-----+--------------------+\n",
      "|label|          prediction|\n",
      "+-----+--------------------+\n",
      "|-53.0|-0.01852378745273549|\n",
      "|-48.0| -3.5402990884487666|\n",
      "|-48.0|  -5.652301846500719|\n",
      "|-48.0|  -7.698597537875928|\n",
      "|-47.0|  1.2425699347973582|\n",
      "|-46.0|  3.7581030885124074|\n",
      "|-46.0|  2.0322216548060625|\n",
      "|-46.0|  -7.138596284923306|\n",
      "|-46.0|  -4.196239535112512|\n",
      "|-46.0|  -7.760721970548488|\n",
      "|-44.0|  1.0920410866454207|\n",
      "|-44.0| 0.22660581505914854|\n",
      "|-44.0|  -7.610972566071329|\n",
      "|-44.0|   4.467259059274749|\n",
      "|-44.0|-0.12493747726818692|\n",
      "|-44.0|   1.224551180046195|\n",
      "|-43.0|   4.714052974810402|\n",
      "|-43.0|  -5.291012174842159|\n",
      "|-43.0| -0.6892407459025099|\n",
      "|-42.0|   -5.05883709799669|\n",
      "+-----+--------------------+\n",
      "only showing top 20 rows\n",
      "\n"
     ]
    }
   ],
   "source": [
    "pred.select('label','prediction').show()"
   ]
  },
  {
   "cell_type": "code",
   "execution_count": 10,
   "metadata": {
    "collapsed": false
   },
   "outputs": [
    {
     "name": "stdout",
     "output_type": "stream",
     "text": [
      "0.6215888540115793\n"
     ]
    }
   ],
   "source": [
    "from pyspark.ml.evaluation import RegressionEvaluator\n",
    "\n",
    "print(RegressionEvaluator(metricName=\"r2\").evaluate(pred))"
   ]
  },
  {
   "cell_type": "code",
   "execution_count": 11,
   "metadata": {
    "collapsed": false
   },
   "outputs": [
    {
     "name": "stdout",
     "output_type": "stream",
     "text": [
      "0.6664914093883155\n"
     ]
    }
   ],
   "source": [
    "pred2 = model.transform(bd_test)\n",
    "print(RegressionEvaluator(metricName=\"r2\").evaluate(pred2))"
   ]
  },
  {
   "cell_type": "code",
   "execution_count": 12,
   "metadata": {
    "collapsed": true
   },
   "outputs": [],
   "source": [
    "# RandomForestRegressor(featuresCol=\"features\", \n",
    "#    labelCol=\"label\",\n",
    "#    predictionCol=\"prediction\",\n",
    "#    maxDepth=5,\n",
    "#    maxBins=32,\n",
    "#    minInstancesPerNode=1,\n",
    "#    minInfoGain=0.0,\n",
    "#    maxMemoryInMB=256, \n",
    "#    impurity=\"variance\", \n",
    "#    subsamplingRate=1.0, \n",
    "#    seed=None, \n",
    "#    numTrees=20,\n",
    "#    featureSubsetStrategy=\"auto\"  / \"sqrt\" / \"onethird\" / \"log2\" / \"all\")"
   ]
  },
  {
   "cell_type": "markdown",
   "metadata": {},
   "source": [
    "## Classification Random Forest"
   ]
  },
  {
   "cell_type": "code",
   "execution_count": 13,
   "metadata": {
    "collapsed": true
   },
   "outputs": [],
   "source": [
    "from pyspark.ml.feature import VectorAssembler, StringIndexer\n",
    "\n",
    "a1  = VectorAssembler(\n",
    "    inputCols=['DEP_DELAY','DISTANCE','DAY_OF_WEEK',\n",
    "               'CRS_DEP_TIME','IndexUniqueCarrier'],\n",
    "    outputCol='features')\n",
    "\n",
    "bd7 = a1.transform(bd6).select(col(\"Retraso\").cast('double').alias(\"label\"),'features')\n",
    "\n",
    "stringIndexer = StringIndexer(inputCol = 'label', outputCol = 'indexed')\n",
    "sI = stringIndexer.fit(bd7)\n",
    "bd7 = sI.transform(bd7)"
   ]
  },
  {
   "cell_type": "code",
   "execution_count": 14,
   "metadata": {
    "collapsed": false
   },
   "outputs": [
    {
     "name": "stdout",
     "output_type": "stream",
     "text": [
      "21278\n",
      "9188\n"
     ]
    }
   ],
   "source": [
    "(bd_train, bd_test) = bd7.randomSplit([0.7, 0.3],seed=123)\n",
    "print(bd_train.count())\n",
    "print(bd_test.count())"
   ]
  },
  {
   "cell_type": "code",
   "execution_count": 15,
   "metadata": {
    "collapsed": false
   },
   "outputs": [
    {
     "name": "stdout",
     "output_type": "stream",
     "text": [
      "Time to train model: 10.334 seconds\n"
     ]
    }
   ],
   "source": [
    "from pyspark.ml.classification import RandomForestClassifier\n",
    "\n",
    "start_time = time()\n",
    "\n",
    "# Train a RandomForest model.\n",
    "rf = RandomForestClassifier(labelCol=\"indexed\", \n",
    "     featuresCol=\"features\", \n",
    "     numTrees=500,\n",
    "     maxDepth=3, \n",
    "     seed = 1,\n",
    "     featureSubsetStrategy=\"sqrt\",\n",
    "     impurity='gini') \n",
    "\n",
    "model = rf.fit(bd_train)\n",
    "\n",
    "end_time = time()\n",
    "elapsed_time = end_time - start_time\n",
    "print(\"Time to train model: %.3f seconds\" % elapsed_time)\n",
    "\n",
    "pred = model.transform(bd_train)\n"
   ]
  },
  {
   "cell_type": "code",
   "execution_count": 16,
   "metadata": {
    "collapsed": false
   },
   "outputs": [
    {
     "name": "stdout",
     "output_type": "stream",
     "text": [
      "+-----+----------+\n",
      "|label|prediction|\n",
      "+-----+----------+\n",
      "|  0.0|       0.0|\n",
      "|  0.0|       0.0|\n",
      "|  0.0|       0.0|\n",
      "|  0.0|       0.0|\n",
      "|  0.0|       0.0|\n",
      "|  0.0|       0.0|\n",
      "|  0.0|       0.0|\n",
      "|  0.0|       0.0|\n",
      "|  0.0|       0.0|\n",
      "|  0.0|       0.0|\n",
      "|  0.0|       0.0|\n",
      "|  0.0|       0.0|\n",
      "|  0.0|       0.0|\n",
      "|  0.0|       0.0|\n",
      "|  0.0|       0.0|\n",
      "|  0.0|       0.0|\n",
      "|  0.0|       0.0|\n",
      "|  0.0|       0.0|\n",
      "|  0.0|       0.0|\n",
      "|  0.0|       0.0|\n",
      "+-----+----------+\n",
      "only showing top 20 rows\n",
      "\n"
     ]
    }
   ],
   "source": [
    "pred.select('label','prediction').show()"
   ]
  },
  {
   "cell_type": "code",
   "execution_count": 17,
   "metadata": {
    "collapsed": false
   },
   "outputs": [
    {
     "name": "stdout",
     "output_type": "stream",
     "text": [
      "+-----+----------+-----+\n",
      "|label|prediction|count|\n",
      "+-----+----------+-----+\n",
      "|  1.0|       1.0| 4248|\n",
      "|  0.0|       0.0|14963|\n",
      "|  0.0|       1.0|  423|\n",
      "|  1.0|       0.0| 1644|\n",
      "+-----+----------+-----+\n",
      "\n"
     ]
    }
   ],
   "source": [
    "pred.groupBy('label','prediction').count().show()"
   ]
  },
  {
   "cell_type": "markdown",
   "metadata": {},
   "source": [
    "### Curva ROC\n"
   ]
  },
  {
   "cell_type": "code",
   "execution_count": 18,
   "metadata": {
    "collapsed": false
   },
   "outputs": [
    {
     "data": {
      "image/png": "[encoded data removed]",
      "text/plain": [
       "<matplotlib.figure.Figure at 0x7fd074125e80>"
      ]
     },
     "metadata": {},
     "output_type": "display_data"
    }
   ],
   "source": [
    "from pyspark.sql.functions import udf\n",
    "from pyspark.sql.types import FloatType\n",
    "import matplotlib.pyplot as plt\n",
    "from sklearn.metrics import roc_curve\n",
    "\n",
    "secondelement=udf(lambda v:float(v[1]),FloatType())\n",
    "pred2=pred.withColumn('probs',secondelement('probability'))\n",
    "\n",
    "\n",
    "#Dibujamos la curva ROC\n",
    "\n",
    "pd5 = pred2.sample(False,0.1).select('label','probs').toPandas()\n",
    "fpr, tpr, _ = roc_curve( pd5['label'], pd5['probs'])\n",
    "\n",
    "plt.plot(fpr, tpr)\n",
    "plt.plot([0, 1], [0, 1], color='navy', linestyle='--')\n",
    "plt.xlabel('1 - Esp (FPR)')\n",
    "plt.ylabel('Sens (TPR)')\n",
    "plt.title('Curva ROC')\n",
    "plt.show()"
   ]
  },
  {
   "cell_type": "code",
   "execution_count": 19,
   "metadata": {
    "collapsed": false
   },
   "outputs": [
    {
     "name": "stdout",
     "output_type": "stream",
     "text": [
      "+-----+--------------------+-------+--------------------+--------------------+----------+-----------+\n",
      "|label|            features|indexed|       rawPrediction|         probability|prediction|      probs|\n",
      "+-----+--------------------+-------+--------------------+--------------------+----------+-----------+\n",
      "|  0.0|[-20.0,602.0,3.0,...|    0.0|[460.383174383508...|[0.92076634876701...|       0.0|0.079233654|\n",
      "|  0.0|[-16.0,641.0,1.0,...|    0.0|[448.894688702618...|[0.89778937740523...|       0.0|0.102210626|\n",
      "|  0.0|[-16.0,641.0,6.0,...|    0.0|[447.486863775704...|[0.89497372755140...|       0.0|0.105026275|\n",
      "|  0.0|[-16.0,868.0,6.0,...|    0.0|[461.374714684961...|[0.92274942936992...|       0.0| 0.07725057|\n",
      "|  0.0|[-16.0,888.0,3.0,...|    0.0|[445.194887419026...|[0.89038977483805...|       0.0| 0.10961022|\n",
      "|  0.0|[-15.0,731.0,1.0,...|    0.0|[448.894688702618...|[0.89778937740523...|       0.0|0.102210626|\n",
      "|  0.0|[-15.0,888.0,4.0,...|    0.0|[445.194887419026...|[0.89038977483805...|       0.0| 0.10961022|\n",
      "|  0.0|[-15.0,888.0,5.0,...|    0.0|[444.987111821522...|[0.88997422364304...|       0.0| 0.11002578|\n",
      "|  0.0|[-15.0,967.0,3.0,...|    0.0|[452.472065502377...|[0.90494413100475...|       0.0| 0.09505587|\n",
      "|  0.0|[-15.0,1464.0,6.0...|    0.0|[446.976109904925...|[0.89395221980985...|       0.0| 0.10604778|\n",
      "|  0.0|[-14.0,236.0,3.0,...|    0.0|[440.352832716469...|[0.88070566543294...|       0.0| 0.11929434|\n",
      "|  0.0|[-14.0,236.0,4.0,...|    0.0|[447.826113766146...|[0.89565222753229...|       0.0| 0.10434777|\n",
      "|  0.0|[-14.0,337.0,1.0,...|    0.0|[439.278201225699...|[0.87855640245139...|       0.0|  0.1214436|\n",
      "|  0.0|[-14.0,337.0,1.0,...|    0.0|[441.519646376999...|[0.88303929275400...|       0.0|0.116960704|\n",
      "|  0.0|[-14.0,337.0,1.0,...|    0.0|[439.278201225699...|[0.87855640245139...|       0.0|  0.1214436|\n",
      "|  0.0|[-14.0,337.0,2.0,...|    0.0|[465.811265324143...|[0.93162253064828...|       0.0| 0.06837747|\n",
      "|  0.0|[-14.0,414.0,2.0,...|    0.0|[467.512097285575...|[0.93502419457115...|       0.0|0.064975806|\n",
      "|  0.0|[-14.0,628.0,1.0,...|    0.0|[447.054664352134...|[0.89410932870426...|       0.0| 0.10589067|\n",
      "|  0.0|[-14.0,731.0,5.0,...|    0.0|[448.726877723835...|[0.89745375544767...|       0.0|0.102546245|\n",
      "|  0.0|[-14.0,868.0,3.0,...|    0.0|[445.194887419026...|[0.89038977483805...|       0.0| 0.10961022|\n",
      "+-----+--------------------+-------+--------------------+--------------------+----------+-----------+\n",
      "only showing top 20 rows\n",
      "\n"
     ]
    }
   ],
   "source": [
    "pred2.show()"
   ]
  },
  {
   "cell_type": "code",
   "execution_count": 20,
   "metadata": {
    "collapsed": false
   },
   "outputs": [
    {
     "name": "stdout",
     "output_type": "stream",
     "text": [
      "AUC= 0.9179488064505984\n",
      "AUC= 0.9139069107165663\n"
     ]
    }
   ],
   "source": [
    "predtest = model.transform(bd_test)\n",
    "\n",
    "from pyspark.ml.evaluation import BinaryClassificationEvaluator as BCE\n",
    "print('AUC=',BCE(metricName=\"areaUnderROC\",rawPredictionCol = 'probability').evaluate(pred))\n",
    "print('AUC=',BCE(metricName=\"areaUnderROC\",rawPredictionCol = 'probability').evaluate(predtest))\n"
   ]
  }
 ],
 "metadata": {
  "anaconda-cloud": {},
  "kernelspec": {
   "display_name": "Python [default]",
   "language": "python",
   "name": "python3"
  },
  "language_info": {
   "codemirror_mode": {
    "name": "ipython",
    "version": 3
   },
   "file_extension": ".py",
   "mimetype": "text/x-python",
   "name": "python",
   "nbconvert_exporter": "python",
   "pygments_lexer": "ipython3",
   "version": "3.5.2"
  }
 },
 "nbformat": 4,
 "nbformat_minor": 2
}
