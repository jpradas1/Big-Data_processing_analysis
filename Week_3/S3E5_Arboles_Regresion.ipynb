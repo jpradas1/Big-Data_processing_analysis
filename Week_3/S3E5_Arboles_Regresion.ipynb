{
 "cells": [
  {
   "cell_type": "markdown",
   "metadata": {
    "collapsed": true
   },
   "source": [
    "# Árboles de Regresión"
   ]
  },
  {
   "cell_type": "code",
   "execution_count": 1,
   "metadata": {
    "collapsed": true
   },
   "outputs": [],
   "source": [
    "#from pyspark import SparkContext\n",
    "#sc = SparkContext()\n",
    "#from pyspark.sql import SQLContext\n",
    "#sqlContext=SQLContext(sc)"
   ]
  },
  {
   "cell_type": "code",
   "execution_count": 2,
   "metadata": {
    "collapsed": true
   },
   "outputs": [],
   "source": [
    "bd5 = sqlContext.read.format(\n",
    "    \"com.databricks.spark.csv\"\n",
    ").option(\"header\", \"true\").load(\"bd5.csv\", inferSchema=True)\n",
    "sqlContext.registerDataFrameAsTable(bd5, \"bd5\")"
   ]
  },
  {
   "cell_type": "code",
   "execution_count": 3,
   "metadata": {
    "collapsed": false
   },
   "outputs": [
    {
     "data": {
      "text/plain": [
       "[('YEAR', 'int'),\n",
       " ('MONTH', 'int'),\n",
       " ('DAY_OF_MONTH', 'int'),\n",
       " ('DAY_OF_WEEK', 'int'),\n",
       " ('CRS_DEP_TIME', 'int'),\n",
       " ('OP_UNIQUE_CARRIER', 'string'),\n",
       " ('TAIL_NUM', 'string'),\n",
       " ('ARR_DELAY', 'double'),\n",
       " ('DEP_DELAY', 'double'),\n",
       " ('ORIGIN', 'string'),\n",
       " ('DEST', 'string'),\n",
       " ('DISTANCE', 'double'),\n",
       " ('CANCELLED', 'double'),\n",
       " ('DIVERTED', 'double'),\n",
       " ('CARRIER_DELAY', 'double'),\n",
       " ('WEATHER_DELAY', 'double'),\n",
       " ('NAS_DELAY', 'double'),\n",
       " ('SECURITY_DELAY', 'double'),\n",
       " ('LATE_AIRCRAFT_DELAY', 'double'),\n",
       " ('LogD', 'double'),\n",
       " ('Retraso', 'int'),\n",
       " ('RetrasoNeto', 'double'),\n",
       " ('Horario', 'int')]"
      ]
     },
     "execution_count": 3,
     "metadata": {},
     "output_type": "execute_result"
    }
   ],
   "source": [
    "bd5.dtypes"
   ]
  },
  {
   "cell_type": "code",
   "execution_count": 4,
   "metadata": {
    "collapsed": false
   },
   "outputs": [
    {
     "name": "stdout",
     "output_type": "stream",
     "text": [
      "+-----------------+------------------+-----+\n",
      "|OP_UNIQUE_CARRIER|IndexUniqueCarrier|count|\n",
      "+-----------------+------------------+-----+\n",
      "|               AA|               0.0| 8853|\n",
      "|               UA|               1.0| 6112|\n",
      "|               WN|               2.0| 5395|\n",
      "|               DL|               3.0| 4239|\n",
      "|               VX|               4.0| 1703|\n",
      "|               NK|               5.0| 1581|\n",
      "|               F9|               6.0| 1295|\n",
      "|               OO|               7.0| 1166|\n",
      "|               B6|               8.0|  121|\n",
      "|               EV|               9.0|    1|\n",
      "+-----------------+------------------+-----+\n",
      "\n"
     ]
    }
   ],
   "source": [
    "from pyspark.ml.feature import StringIndexer\n",
    "indexer = StringIndexer(inputCol='OP_UNIQUE_CARRIER',outputCol='IndexUniqueCarrier') #el índice empieza en el 0!\n",
    "bd6=indexer.fit(bd5).transform(bd5)\n",
    "\n",
    "bd6.groupBy('OP_UNIQUE_CARRIER','IndexUniqueCarrier').count().sort('IndexUniqueCarrier').show()\n"
   ]
  },
  {
   "cell_type": "markdown",
   "metadata": {},
   "source": [
    "## Ajuste del modelo"
   ]
  },
  {
   "cell_type": "code",
   "execution_count": 5,
   "metadata": {
    "collapsed": false
   },
   "outputs": [],
   "source": [
    "from pyspark.ml.feature import VectorAssembler\n",
    "from pyspark.sql.functions import col\n",
    "\n",
    "a1  = VectorAssembler(\n",
    "    inputCols=['DEP_DELAY','DISTANCE','DAY_OF_WEEK',\n",
    "               'CRS_DEP_TIME','IndexUniqueCarrier'],\n",
    "    outputCol='features')\n",
    "\n",
    "bd7 = a1.transform(bd6).select(col(\"ARR_DELAY\").alias(\"label\"),'features')"
   ]
  },
  {
   "cell_type": "markdown",
   "metadata": {},
   "source": [
    "### Partición Test - Train"
   ]
  },
  {
   "cell_type": "code",
   "execution_count": 6,
   "metadata": {
    "collapsed": false
   },
   "outputs": [
    {
     "name": "stdout",
     "output_type": "stream",
     "text": [
      "21278\n",
      "9188\n"
     ]
    }
   ],
   "source": [
    "(bd_train, bd_test) = bd7.randomSplit([0.7, 0.3],seed=123)\n",
    "print(bd_train.count())\n",
    "print(bd_test.count())"
   ]
  },
  {
   "cell_type": "code",
   "execution_count": 7,
   "metadata": {
    "collapsed": false
   },
   "outputs": [],
   "source": [
    "from pyspark.ml.regression import DecisionTreeRegressor as DTR\n",
    "\n",
    "rt = DTR(maxDepth=5)\n",
    "\n",
    "model = rt.fit(bd_train)\n",
    "pred = model.transform(bd7)"
   ]
  },
  {
   "cell_type": "code",
   "execution_count": 8,
   "metadata": {
    "collapsed": false
   },
   "outputs": [
    {
     "name": "stdout",
     "output_type": "stream",
     "text": [
      "+-----+--------------------+--------------------+\n",
      "|label|            features|          prediction|\n",
      "+-----+--------------------+--------------------+\n",
      "|-19.0|[-8.0,236.0,4.0,1...| -11.634247284014485|\n",
      "|  7.0|[6.0,236.0,4.0,12...|-0.49661508704061896|\n",
      "|-12.0|[-5.0,236.0,4.0,1...| -11.634247284014485|\n",
      "|-14.0|[-6.0,236.0,4.0,8...| -11.634247284014485|\n",
      "|-15.0|[-5.0,651.0,4.0,2...| -11.634247284014485|\n",
      "|  0.0|[-5.0,370.0,4.0,1...| -11.634247284014485|\n",
      "|-23.0|[-8.0,868.0,4.0,1...| -11.634247284014485|\n",
      "|-16.0|[-6.0,1464.0,4.0,...| -11.634247284014485|\n",
      "| -3.0|[-3.0,1464.0,4.0,...|  -7.959116541353383|\n",
      "|  3.0|[-6.0,1055.0,4.0,...| -11.634247284014485|\n",
      "|-16.0|[-11.0,255.0,4.0,...| -11.634247284014485|\n",
      "|-11.0|[0.0,1440.0,4.0,1...|  -4.694469357249626|\n",
      "|  0.0|[1.0,641.0,4.0,22...|  -4.694469357249626|\n",
      "| -4.0|[2.0,1440.0,4.0,1...|-0.49661508704061896|\n",
      "|  3.0|[-9.0,1055.0,4.0,...| -11.634247284014485|\n",
      "| -7.0|[5.0,1055.0,4.0,1...|-0.49661508704061896|\n",
      "| 18.0|[7.0,370.0,4.0,20...|   10.05084745762712|\n",
      "|-10.0|[-4.0,1055.0,4.0,...|  -7.959116541353383|\n",
      "|-15.0|[-2.0,1055.0,4.0,...|  -7.959116541353383|\n",
      "|-19.0|[-7.0,1464.0,4.0,...| -11.634247284014485|\n",
      "+-----+--------------------+--------------------+\n",
      "only showing top 20 rows\n",
      "\n"
     ]
    }
   ],
   "source": [
    "pred.show()"
   ]
  },
  {
   "cell_type": "code",
   "execution_count": 9,
   "metadata": {
    "collapsed": false
   },
   "outputs": [
    {
     "name": "stdout",
     "output_type": "stream",
     "text": [
      "+--------------------+-----+\n",
      "|          prediction|count|\n",
      "+--------------------+-----+\n",
      "|   81.25139664804469|  256|\n",
      "|  49.261538461538464|   90|\n",
      "|   296.5596330275229|  148|\n",
      "|  106.18518518518519|   80|\n",
      "|   34.88826815642458|  252|\n",
      "|  13.069019607843137| 1840|\n",
      "|    3.99789029535865| 2025|\n",
      "|  -4.694469357249626| 4809|\n",
      "|               116.0|    3|\n",
      "|   222.1494252873563|  113|\n",
      "|   20.07672301690507| 1091|\n",
      "|   137.3181818181818|   32|\n",
      "|  100.92307692307692|   14|\n",
      "|  38.726384364820845|  867|\n",
      "|   10.05084745762712|  509|\n",
      "|  223.48591549295776|  209|\n",
      "|   180.7741935483871|   92|\n",
      "|  59.922680412371136|  287|\n",
      "|               248.0|    2|\n",
      "|  -7.959116541353383| 6140|\n",
      "|              319.25|   30|\n",
      "|  26.604417670682732|  685|\n",
      "| -11.634247284014485| 5515|\n",
      "|   73.29629629629629|  667|\n",
      "|              52.194|  722|\n",
      "|  112.34075723830735|  617|\n",
      "|   888.6666666666666|    5|\n",
      "|-0.49661508704061896| 2959|\n",
      "|   95.57894736842105|   29|\n",
      "|  141.56521739130434|   34|\n",
      "|   93.73684210526316|   58|\n",
      "|   190.8042328042328|  286|\n",
      "+--------------------+-----+\n",
      "\n"
     ]
    }
   ],
   "source": [
    "pred.groupBy('prediction').count().show(50)\n"
   ]
  },
  {
   "cell_type": "code",
   "execution_count": 10,
   "metadata": {
    "collapsed": false
   },
   "outputs": [
    {
     "name": "stdout",
     "output_type": "stream",
     "text": [
      "0.7232582316927613\n"
     ]
    }
   ],
   "source": [
    "from pyspark.ml.evaluation import RegressionEvaluator\n",
    "print(RegressionEvaluator(metricName=\"r2\").evaluate(pred))"
   ]
  },
  {
   "cell_type": "markdown",
   "metadata": {},
   "source": [
    "## Tuneado de parámetros"
   ]
  },
  {
   "cell_type": "code",
   "execution_count": 11,
   "metadata": {
    "collapsed": true
   },
   "outputs": [],
   "source": [
    "# DecisionTreeRegressor(featuresCol=\"features\", \n",
    "#    labelCol=\"label\", \n",
    "#    predictionCol=\"prediction\", \n",
    "#    maxDepth=5, \n",
    "#    maxBins=32, \n",
    "#    minInstancesPerNode=1, \n",
    "#    minInfoGain=0.0, \n",
    "#    maxMemoryInMB=256, \n",
    "#    impurity=\"variance\")"
   ]
  },
  {
   "cell_type": "code",
   "execution_count": 12,
   "metadata": {
    "collapsed": false
   },
   "outputs": [
    {
     "name": "stdout",
     "output_type": "stream",
     "text": [
      "0.7844910947404549\n"
     ]
    }
   ],
   "source": [
    "rt = DTR(maxDepth=20,minInstancesPerNode=10,maxBins=50)\n",
    "model = rt.fit(bd_train)\n",
    "pred = model.transform(bd7)\n",
    "print(RegressionEvaluator(metricName=\"r2\").evaluate(pred))"
   ]
  },
  {
   "cell_type": "markdown",
   "metadata": {},
   "source": [
    "### Validación externa"
   ]
  },
  {
   "cell_type": "code",
   "execution_count": 13,
   "metadata": {
    "collapsed": false
   },
   "outputs": [
    {
     "name": "stdout",
     "output_type": "stream",
     "text": [
      "0.7575124312762554\n"
     ]
    }
   ],
   "source": [
    "pred2 = model.transform(bd_test)\n",
    "print(RegressionEvaluator(metricName=\"r2\").evaluate(pred2))"
   ]
  },
  {
   "cell_type": "code",
   "execution_count": null,
   "metadata": {
    "collapsed": true
   },
   "outputs": [],
   "source": []
  }
 ],
 "metadata": {
  "anaconda-cloud": {},
  "kernelspec": {
   "display_name": "Python [default]",
   "language": "python",
   "name": "python3"
  },
  "language_info": {
   "codemirror_mode": {
    "name": "ipython",
    "version": 3
   },
   "file_extension": ".py",
   "mimetype": "text/x-python",
   "name": "python",
   "nbconvert_exporter": "python",
   "pygments_lexer": "ipython3",
   "version": "3.5.2"
  }
 },
 "nbformat": 4,
 "nbformat_minor": 2
}
