{
 "cells": [
  {
   "cell_type": "markdown",
   "metadata": {},
   "source": [
    "# Final Assignment"
   ]
  },
  {
   "cell_type": "markdown",
   "metadata": {},
   "source": [
    "In this notebook we are going to analyze the data from departures and arrives in USA in Aug 2017"
   ]
  },
  {
   "cell_type": "markdown",
   "metadata": {},
   "source": [
    "Let's begin by defining the SparkContext and the SQLContext"
   ]
  },
  {
   "cell_type": "code",
   "execution_count": 1,
   "metadata": {
    "collapsed": true
   },
   "outputs": [],
   "source": [
    "# In this case, these lines are commented since Spark and SQL context are\n",
    "# defined already by default\n",
    "\n",
    "# from pyspark import SparkContext\n",
    "# sc = SparkContext()\n",
    "# from pyspark.sql import SQLContext\n",
    "# sqlContext=SQLContext(sc)"
   ]
  },
  {
   "cell_type": "markdown",
   "metadata": {},
   "source": [
    "Let's bring in the dataset through databricks. The dataset has to be located in hdfs hadoop system"
   ]
  },
  {
   "cell_type": "code",
   "execution_count": 2,
   "metadata": {
    "collapsed": false
   },
   "outputs": [
    {
     "data": {
      "text/plain": [
       "DataFrame[Year: int, Quarter: int, Month: int, DayofMonth: int, DayOfWeek: int, FlightDate: string, UniqueCarrier: string, AirlineID: int, Carrier: string, TailNum: string, FlightNum: int, OriginAirportID: int, OriginAirportSeqID: int, OriginCityMarketID: int, Origin: string, OriginCityName: string, OriginState: string, OriginStateFips: int, OriginStateName: string, OriginWac: int, DestAirportID: int, DestAirportSeqID: int, DestCityMarketID: int, Dest: string, DestCityName: string, DestState: string, DestStateFips: int, DestStateName: string, DestWac: int, CRSDepTime: int, DepTime: int, DepDelay: double, DepDelayMinutes: double, DepDel15: double, DepartureDelayGroups: int, DepTimeBlk: string, TaxiOut: double, WheelsOff: int, WheelsOn: int, TaxiIn: double, CRSArrTime: int, ArrTime: int, ArrDelay: double, ArrDelayMinutes: double, ArrDel15: double, ArrivalDelayGroups: int, ArrTimeBlk: string, Cancelled: double, CancellationCode: string, Diverted: double, CRSElapsedTime: double, ActualElapsedTime: double, AirTime: double, Flights: double, Distance: double, DistanceGroup: int, CarrierDelay: double, WeatherDelay: double, NASDelay: double, SecurityDelay: double, LateAircraftDelay: double, FirstDepTime: int, TotalAddGTime: double, LongestAddGTime: double, DivAirportLandings: int, DivReachedDest: double, DivActualElapsedTime: double, DivArrDelay: double, DivDistance: double, Div1Airport: string, Div1AirportID: int, Div1AirportSeqID: int, Div1WheelsOn: int, Div1TotalGTime: double, Div1LongestGTime: double, Div1WheelsOff: int, Div1TailNum: string, Div2Airport: string, Div2AirportID: int, Div2AirportSeqID: int, Div2WheelsOn: int, Div2TotalGTime: double, Div2LongestGTime: double, Div2WheelsOff: int, Div2TailNum: string, Div3Airport: string, Div3AirportID: string, Div3AirportSeqID: string, Div3WheelsOn: string, Div3TotalGTime: string, Div3LongestGTime: string, Div3WheelsOff: string, Div3TailNum: string, Div4Airport: string, Div4AirportID: string, Div4AirportSeqID: string, Div4WheelsOn: string, Div4TotalGTime: string, Div4LongestGTime: string, Div4WheelsOff: string, Div4TailNum: string, Div5Airport: string, Div5AirportID: string, Div5AirportSeqID: string, Div5WheelsOn: string, Div5TotalGTime: string, Div5LongestGTime: string, Div5WheelsOff: string, Div5TailNum: string, : string]"
      ]
     },
     "execution_count": 2,
     "metadata": {},
     "output_type": "execute_result"
    }
   ],
   "source": [
    "bd = sqlContext.read.format(\"com.databricks.spark.csv\"\n",
    ").option(\"header\", \"true\"\n",
    ").load(\"On_Time_On_Time_Performance_2017_8.csv\", inferSchema=True)\n",
    "\n",
    "bd"
   ]
  },
  {
   "cell_type": "markdown",
   "metadata": {},
   "source": [
    "There's a lot of variable we are not intersted in, so let's choose the relevant features to out analysis"
   ]
  },
  {
   "cell_type": "code",
   "execution_count": 3,
   "metadata": {
    "collapsed": false
   },
   "outputs": [
    {
     "data": {
      "text/plain": [
       "[('Year', 'int'),\n",
       " ('Month', 'int'),\n",
       " ('DayofMonth', 'int'),\n",
       " ('DayOfWeek', 'int'),\n",
       " ('CRSDepTime', 'int'),\n",
       " ('UniqueCarrier', 'string'),\n",
       " ('TailNum', 'string'),\n",
       " ('ArrDelay', 'double'),\n",
       " ('DepDelay', 'double'),\n",
       " ('Origin', 'string'),\n",
       " ('Dest', 'string'),\n",
       " ('Distance', 'double'),\n",
       " ('Cancelled', 'double'),\n",
       " ('Diverted', 'double'),\n",
       " ('CarrierDelay', 'double'),\n",
       " ('WeatherDelay', 'double'),\n",
       " ('NASDelay', 'double'),\n",
       " ('SecurityDelay', 'double'),\n",
       " ('LateAircraftDelay', 'double')]"
      ]
     },
     "execution_count": 3,
     "metadata": {},
     "output_type": "execute_result"
    }
   ],
   "source": [
    "bd=bd.select('Year','Month','DayofMonth','DayOfWeek','CRSDepTime',\n",
    "             'UniqueCarrier', 'TailNum', 'ArrDelay','DepDelay','Origin',\n",
    "             'Dest','Distance','Cancelled', 'Diverted', 'CarrierDelay',\n",
    "             'WeatherDelay','NASDelay','SecurityDelay','LateAircraftDelay')\n",
    "bd.dtypes"
   ]
  },
  {
   "cell_type": "code",
   "execution_count": 4,
   "metadata": {
    "collapsed": false
   },
   "outputs": [
    {
     "data": {
      "text/plain": [
       "510451"
      ]
     },
     "execution_count": 4,
     "metadata": {},
     "output_type": "execute_result"
    }
   ],
   "source": [
    "# number of lines\n",
    "bd.count()"
   ]
  },
  {
   "cell_type": "markdown",
   "metadata": {},
   "source": [
    "# Analysis I"
   ]
  },
  {
   "cell_type": "markdown",
   "metadata": {},
   "source": [
    "In the first analysis we work with the cancelled flights, so we start by dropping the diverted flights, namely we want the lines where 'Diverted' == 0"
   ]
  },
  {
   "cell_type": "code",
   "execution_count": 5,
   "metadata": {
    "collapsed": false
   },
   "outputs": [
    {
     "data": {
      "text/plain": [
       "509165"
      ]
     },
     "execution_count": 5,
     "metadata": {},
     "output_type": "execute_result"
    }
   ],
   "source": [
    "bd = bd.filter(bd.Diverted == 0)\n",
    "bd.count()"
   ]
  },
  {
   "cell_type": "markdown",
   "metadata": {},
   "source": [
    "Also the database has nan values in columns such as CarrierDelay, WeatherDelay, NASDelay, SecurityDelay, y LateAircraftDelay, which we replace them by 0"
   ]
  },
  {
   "cell_type": "code",
   "execution_count": 6,
   "metadata": {
    "collapsed": true
   },
   "outputs": [],
   "source": [
    "bd = bd.na.fill({'CarrierDelay':0, 'WeatherDelay':0,'NASDelay':0,\n",
    "                 'SecurityDelay':0, 'LateAircraftDelay':0})"
   ]
  },
  {
   "cell_type": "markdown",
   "metadata": {},
   "source": [
    "Create a new column to know whether or not the flight has been in the afternoon"
   ]
  },
  {
   "cell_type": "code",
   "execution_count": 7,
   "metadata": {
    "collapsed": false
   },
   "outputs": [
    {
     "data": {
      "text/html": [
       "<div>\n",
       "<table border=\"1\" class=\"dataframe\">\n",
       "  <thead>\n",
       "    <tr style=\"text-align: right;\">\n",
       "      <th></th>\n",
       "      <th>Year</th>\n",
       "      <th>Month</th>\n",
       "      <th>DayofMonth</th>\n",
       "      <th>DayOfWeek</th>\n",
       "      <th>CRSDepTime</th>\n",
       "      <th>UniqueCarrier</th>\n",
       "      <th>TailNum</th>\n",
       "      <th>ArrDelay</th>\n",
       "      <th>DepDelay</th>\n",
       "      <th>Origin</th>\n",
       "      <th>Dest</th>\n",
       "      <th>Distance</th>\n",
       "      <th>Cancelled</th>\n",
       "      <th>Diverted</th>\n",
       "      <th>CarrierDelay</th>\n",
       "      <th>WeatherDelay</th>\n",
       "      <th>NASDelay</th>\n",
       "      <th>SecurityDelay</th>\n",
       "      <th>LateAircraftDelay</th>\n",
       "      <th>Afternoon</th>\n",
       "    </tr>\n",
       "  </thead>\n",
       "  <tbody>\n",
       "    <tr>\n",
       "      <th>0</th>\n",
       "      <td>2017</td>\n",
       "      <td>8</td>\n",
       "      <td>25</td>\n",
       "      <td>5</td>\n",
       "      <td>2318</td>\n",
       "      <td>UA</td>\n",
       "      <td>N66831</td>\n",
       "      <td>-1.0</td>\n",
       "      <td>-7.0</td>\n",
       "      <td>SFO</td>\n",
       "      <td>RDU</td>\n",
       "      <td>2400.0</td>\n",
       "      <td>0.0</td>\n",
       "      <td>0.0</td>\n",
       "      <td>0.0</td>\n",
       "      <td>0.0</td>\n",
       "      <td>0.0</td>\n",
       "      <td>0.0</td>\n",
       "      <td>0.0</td>\n",
       "      <td>False</td>\n",
       "    </tr>\n",
       "    <tr>\n",
       "      <th>1</th>\n",
       "      <td>2017</td>\n",
       "      <td>8</td>\n",
       "      <td>25</td>\n",
       "      <td>5</td>\n",
       "      <td>1235</td>\n",
       "      <td>UA</td>\n",
       "      <td>N76288</td>\n",
       "      <td>-3.0</td>\n",
       "      <td>-1.0</td>\n",
       "      <td>ORD</td>\n",
       "      <td>MSY</td>\n",
       "      <td>837.0</td>\n",
       "      <td>0.0</td>\n",
       "      <td>0.0</td>\n",
       "      <td>0.0</td>\n",
       "      <td>0.0</td>\n",
       "      <td>0.0</td>\n",
       "      <td>0.0</td>\n",
       "      <td>0.0</td>\n",
       "      <td>False</td>\n",
       "    </tr>\n",
       "    <tr>\n",
       "      <th>2</th>\n",
       "      <td>2017</td>\n",
       "      <td>8</td>\n",
       "      <td>25</td>\n",
       "      <td>5</td>\n",
       "      <td>2110</td>\n",
       "      <td>UA</td>\n",
       "      <td>N17244</td>\n",
       "      <td>0.0</td>\n",
       "      <td>-1.0</td>\n",
       "      <td>ITO</td>\n",
       "      <td>LAX</td>\n",
       "      <td>2449.0</td>\n",
       "      <td>0.0</td>\n",
       "      <td>0.0</td>\n",
       "      <td>0.0</td>\n",
       "      <td>0.0</td>\n",
       "      <td>0.0</td>\n",
       "      <td>0.0</td>\n",
       "      <td>0.0</td>\n",
       "      <td>False</td>\n",
       "    </tr>\n",
       "    <tr>\n",
       "      <th>3</th>\n",
       "      <td>2017</td>\n",
       "      <td>8</td>\n",
       "      <td>25</td>\n",
       "      <td>5</td>\n",
       "      <td>737</td>\n",
       "      <td>UA</td>\n",
       "      <td>N439UA</td>\n",
       "      <td>-22.0</td>\n",
       "      <td>-9.0</td>\n",
       "      <td>JAC</td>\n",
       "      <td>ORD</td>\n",
       "      <td>1162.0</td>\n",
       "      <td>0.0</td>\n",
       "      <td>0.0</td>\n",
       "      <td>0.0</td>\n",
       "      <td>0.0</td>\n",
       "      <td>0.0</td>\n",
       "      <td>0.0</td>\n",
       "      <td>0.0</td>\n",
       "      <td>False</td>\n",
       "    </tr>\n",
       "    <tr>\n",
       "      <th>4</th>\n",
       "      <td>2017</td>\n",
       "      <td>8</td>\n",
       "      <td>25</td>\n",
       "      <td>5</td>\n",
       "      <td>618</td>\n",
       "      <td>UA</td>\n",
       "      <td>N72405</td>\n",
       "      <td>-21.0</td>\n",
       "      <td>-6.0</td>\n",
       "      <td>MCI</td>\n",
       "      <td>IAH</td>\n",
       "      <td>643.0</td>\n",
       "      <td>0.0</td>\n",
       "      <td>0.0</td>\n",
       "      <td>0.0</td>\n",
       "      <td>0.0</td>\n",
       "      <td>0.0</td>\n",
       "      <td>0.0</td>\n",
       "      <td>0.0</td>\n",
       "      <td>False</td>\n",
       "    </tr>\n",
       "  </tbody>\n",
       "</table>\n",
       "</div>"
      ],
      "text/plain": [
       "   Year  Month  DayofMonth  DayOfWeek  CRSDepTime UniqueCarrier TailNum  \\\n",
       "0  2017      8          25          5        2318            UA  N66831   \n",
       "1  2017      8          25          5        1235            UA  N76288   \n",
       "2  2017      8          25          5        2110            UA  N17244   \n",
       "3  2017      8          25          5         737            UA  N439UA   \n",
       "4  2017      8          25          5         618            UA  N72405   \n",
       "\n",
       "   ArrDelay  DepDelay Origin Dest  Distance  Cancelled  Diverted  \\\n",
       "0      -1.0      -7.0    SFO  RDU    2400.0        0.0       0.0   \n",
       "1      -3.0      -1.0    ORD  MSY     837.0        0.0       0.0   \n",
       "2       0.0      -1.0    ITO  LAX    2449.0        0.0       0.0   \n",
       "3     -22.0      -9.0    JAC  ORD    1162.0        0.0       0.0   \n",
       "4     -21.0      -6.0    MCI  IAH     643.0        0.0       0.0   \n",
       "\n",
       "   CarrierDelay  WeatherDelay  NASDelay  SecurityDelay  LateAircraftDelay  \\\n",
       "0           0.0           0.0       0.0            0.0                0.0   \n",
       "1           0.0           0.0       0.0            0.0                0.0   \n",
       "2           0.0           0.0       0.0            0.0                0.0   \n",
       "3           0.0           0.0       0.0            0.0                0.0   \n",
       "4           0.0           0.0       0.0            0.0                0.0   \n",
       "\n",
       "  Afternoon  \n",
       "0     False  \n",
       "1     False  \n",
       "2     False  \n",
       "3     False  \n",
       "4     False  "
      ]
     },
     "execution_count": 7,
     "metadata": {},
     "output_type": "execute_result"
    }
   ],
   "source": [
    "bd = bd.withColumn('Afternoon',(bd.CRSDepTime<2100)&(bd.CRSDepTime>=1600))\n",
    "\n",
    "# let's visualize data into table\n",
    "sqlContext.registerDataFrameAsTable(bd, \"bd\")\n",
    "df_db = sqlContext.sql(\"SELECT * FROM bd\")\n",
    "df_db.toPandas().head(5)"
   ]
  },
  {
   "cell_type": "markdown",
   "metadata": {},
   "source": [
    "Let's answer the following questions:\n",
    "\n",
    "- What is the percent of afternoon flight has been cancelled? "
   ]
  },
  {
   "cell_type": "code",
   "execution_count": 25,
   "metadata": {
    "collapsed": false
   },
   "outputs": [
    {
     "data": {
      "text/html": [
       "<div>\n",
       "<table border=\"1\" class=\"dataframe\">\n",
       "  <thead>\n",
       "    <tr style=\"text-align: right;\">\n",
       "      <th></th>\n",
       "      <th>cnt</th>\n",
       "      <th>cnt</th>\n",
       "      <th>_c2</th>\n",
       "    </tr>\n",
       "  </thead>\n",
       "  <tbody>\n",
       "    <tr>\n",
       "      <th>0</th>\n",
       "      <td>143356</td>\n",
       "      <td>3629</td>\n",
       "      <td>2.53146</td>\n",
       "    </tr>\n",
       "  </tbody>\n",
       "</table>\n",
       "</div>"
      ],
      "text/plain": [
       "      cnt   cnt      _c2\n",
       "0  143356  3629  2.53146"
      ]
     },
     "execution_count": 25,
     "metadata": {},
     "output_type": "execute_result"
    }
   ],
   "source": [
    "df_afternoon = sqlContext.sql(\"SELECT q1.cnt, q2.cnt, q2.cnt/q1.cnt * 100 \\\n",
    "                                FROM (SELECT COUNT(*) as cnt FROM bd \\\n",
    "                                WHERE Afternoon = True) AS q1, \\\n",
    "                                (SELECT COUNT(*) as cnt FROM bd \\\n",
    "                                WHERE Afternoon = True AND Cancelled = 1.0) AS q2\")\n",
    "df_afternoon.toPandas()"
   ]
  },
  {
   "cell_type": "markdown",
   "metadata": {},
   "source": [
    "- What is the average distance for the cancelled flights?"
   ]
  },
  {
   "cell_type": "code",
   "execution_count": 10,
   "metadata": {
    "collapsed": false
   },
   "outputs": [
    {
     "data": {
      "text/html": [
       "<div>\n",
       "<table border=\"1\" class=\"dataframe\">\n",
       "  <thead>\n",
       "    <tr style=\"text-align: right;\">\n",
       "      <th></th>\n",
       "      <th>_c0</th>\n",
       "    </tr>\n",
       "  </thead>\n",
       "  <tbody>\n",
       "    <tr>\n",
       "      <th>0</th>\n",
       "      <td>749.870569</td>\n",
       "    </tr>\n",
       "  </tbody>\n",
       "</table>\n",
       "</div>"
      ],
      "text/plain": [
       "          _c0\n",
       "0  749.870569"
      ]
     },
     "execution_count": 10,
     "metadata": {},
     "output_type": "execute_result"
    }
   ],
   "source": [
    "df_distance = sqlContext.sql(\"SELECT AVG(Distance) FROM bd \\\n",
    "                                WHERE Cancelled = 1.0\")\n",
    "df_distance.toPandas()"
   ]
  },
  {
   "cell_type": "markdown",
   "metadata": {},
   "source": [
    "- Which airport has the greatest rate of cancelled flights?"
   ]
  },
  {
   "cell_type": "code",
   "execution_count": 21,
   "metadata": {
    "collapsed": false
   },
   "outputs": [
    {
     "data": {
      "text/html": [
       "<div>\n",
       "<table border=\"1\" class=\"dataframe\">\n",
       "  <thead>\n",
       "    <tr style=\"text-align: right;\">\n",
       "      <th></th>\n",
       "      <th>Origin</th>\n",
       "      <th>cnt</th>\n",
       "      <th>cnt</th>\n",
       "      <th>rate</th>\n",
       "    </tr>\n",
       "  </thead>\n",
       "  <tbody>\n",
       "    <tr>\n",
       "      <th>0</th>\n",
       "      <td>CRP</td>\n",
       "      <td>205</td>\n",
       "      <td>45</td>\n",
       "      <td>21.951220</td>\n",
       "    </tr>\n",
       "    <tr>\n",
       "      <th>1</th>\n",
       "      <td>HOU</td>\n",
       "      <td>4724</td>\n",
       "      <td>896</td>\n",
       "      <td>18.966977</td>\n",
       "    </tr>\n",
       "    <tr>\n",
       "      <th>2</th>\n",
       "      <td>LCH</td>\n",
       "      <td>82</td>\n",
       "      <td>15</td>\n",
       "      <td>18.292683</td>\n",
       "    </tr>\n",
       "    <tr>\n",
       "      <th>3</th>\n",
       "      <td>HRL</td>\n",
       "      <td>208</td>\n",
       "      <td>38</td>\n",
       "      <td>18.269231</td>\n",
       "    </tr>\n",
       "    <tr>\n",
       "      <th>4</th>\n",
       "      <td>HOB</td>\n",
       "      <td>55</td>\n",
       "      <td>10</td>\n",
       "      <td>18.181818</td>\n",
       "    </tr>\n",
       "    <tr>\n",
       "      <th>5</th>\n",
       "      <td>IAH</td>\n",
       "      <td>11103</td>\n",
       "      <td>1949</td>\n",
       "      <td>17.553814</td>\n",
       "    </tr>\n",
       "    <tr>\n",
       "      <th>6</th>\n",
       "      <td>BRO</td>\n",
       "      <td>81</td>\n",
       "      <td>14</td>\n",
       "      <td>17.283951</td>\n",
       "    </tr>\n",
       "    <tr>\n",
       "      <th>7</th>\n",
       "      <td>AEX</td>\n",
       "      <td>94</td>\n",
       "      <td>14</td>\n",
       "      <td>14.893617</td>\n",
       "    </tr>\n",
       "    <tr>\n",
       "      <th>8</th>\n",
       "      <td>MTJ</td>\n",
       "      <td>42</td>\n",
       "      <td>6</td>\n",
       "      <td>14.285714</td>\n",
       "    </tr>\n",
       "    <tr>\n",
       "      <th>9</th>\n",
       "      <td>CLL</td>\n",
       "      <td>98</td>\n",
       "      <td>12</td>\n",
       "      <td>12.244898</td>\n",
       "    </tr>\n",
       "  </tbody>\n",
       "</table>\n",
       "</div>"
      ],
      "text/plain": [
       "  Origin    cnt   cnt       rate\n",
       "0    CRP    205    45  21.951220\n",
       "1    HOU   4724   896  18.966977\n",
       "2    LCH     82    15  18.292683\n",
       "3    HRL    208    38  18.269231\n",
       "4    HOB     55    10  18.181818\n",
       "5    IAH  11103  1949  17.553814\n",
       "6    BRO     81    14  17.283951\n",
       "7    AEX     94    14  14.893617\n",
       "8    MTJ     42     6  14.285714\n",
       "9    CLL     98    12  12.244898"
      ]
     },
     "execution_count": 21,
     "metadata": {},
     "output_type": "execute_result"
    }
   ],
   "source": [
    "df_cancelled = sqlContext.sql(\"SELECT q1.Origin, q1.cnt, q2.cnt, q2.cnt/q1.cnt*100 as rate \\\n",
    "                                FROM (SELECT Origin, COUNT(*) as cnt FROM bd \\\n",
    "                                        GROUP BY Origin) AS q1\\\n",
    "                                JOIN (SELECT Origin, COUNT(*) as cnt FROM bd \\\n",
    "                                        WHERE Cancelled = 1.0\\\n",
    "                                        GROUP BY Origin) AS q2\\\n",
    "                                ON q2.Origin = q1.Origin\\\n",
    "                                ORDER BY rate DESC\\\n",
    "                                LIMIT 10\")\n",
    "df_cancelled.toPandas()"
   ]
  },
  {
   "cell_type": "markdown",
   "metadata": {},
   "source": [
    "Now let's define the dataset we are going to use to train and test the Machine Learning Model"
   ]
  },
  {
   "cell_type": "code",
   "execution_count": 8,
   "metadata": {
    "collapsed": false
   },
   "outputs": [],
   "source": [
    "from pyspark.ml.feature import VectorAssembler\n",
    "from pyspark.sql.functions import col\n",
    "\n",
    "# these're the columns we use\n",
    "a1 = VectorAssembler(inputCols=['DayofMonth','DayOfWeek',\"Afternoon\",'Distance'],outputCol='features')\n",
    "# Cancelled is the target variable\n",
    "bd2 = a1.transform(bd).select(col(\"Cancelled\").cast('double').alias(\"label\"), 'features')"
   ]
  },
  {
   "cell_type": "markdown",
   "metadata": {},
   "source": [
    "Then we split data into train and test data"
   ]
  },
  {
   "cell_type": "code",
   "execution_count": 9,
   "metadata": {
    "collapsed": false
   },
   "outputs": [
    {
     "name": "stdout",
     "output_type": "stream",
     "text": [
      "356250\n",
      "152915\n"
     ]
    }
   ],
   "source": [
    "(bd2_train, bd2_test) = bd2.randomSplit([0.7, 0.3],seed=123)\n",
    "print(bd2_train.count())\n",
    "print(bd2_test.count())"
   ]
  },
  {
   "cell_type": "markdown",
   "metadata": {},
   "source": [
    "## Training Models\n",
    "\n",
    "### Logistic Regression"
   ]
  },
  {
   "cell_type": "code",
   "execution_count": 28,
   "metadata": {
    "collapsed": true
   },
   "outputs": [],
   "source": [
    "from pyspark.ml.classification import LogisticRegression\n",
    "\n",
    "lgr = LogisticRegression(maxIter=10, \n",
    "     labelCol=\"label\", \n",
    "     featuresCol=\"features\",\n",
    "     threshold=0.5)\n",
    "                        \n",
    "model_lgr = lgr.fit(bd2_train)"
   ]
  },
  {
   "cell_type": "code",
   "execution_count": 29,
   "metadata": {
    "collapsed": false
   },
   "outputs": [
    {
     "name": "stdout",
     "output_type": "stream",
     "text": [
      "-3.9162457845787597 [0.00990094371515,-0.00480166397927,0.0403291777531,-5.02347797691e-05]\n"
     ]
    }
   ],
   "source": [
    "print(model_lgr.intercept,model_lgr.coefficients)"
   ]
  },
  {
   "cell_type": "markdown",
   "metadata": {},
   "source": [
    "Let's see the performance of this model using the AUC metric"
   ]
  },
  {
   "cell_type": "code",
   "execution_count": 30,
   "metadata": {
    "collapsed": false
   },
   "outputs": [
    {
     "name": "stderr",
     "output_type": "stream",
     "text": [
      "/usr/lib/spark/python/pyspark/ml/classification.py:207: UserWarning: weights is deprecated. Use coefficients instead.\n",
      "  warnings.warn(\"weights is deprecated. Use coefficients instead.\")\n"
     ]
    },
    {
     "name": "stdout",
     "output_type": "stream",
     "text": [
      "+-----+------------------+--------------------+--------------------+----------+-----------+\n",
      "|label|          features|       rawPrediction|         probability|prediction|      probs|\n",
      "+-----+------------------+--------------------+--------------------+----------+-----------+\n",
      "|  0.0|[1.0,2.0,0.0,31.0]|[3.91750544699499...|[0.98049727079217...|       0.0| 0.01950273|\n",
      "|  0.0|[1.0,2.0,0.0,66.0]|[3.91926366428691...|[0.98053086369007...|       0.0|0.019469136|\n",
      "|  0.0|[1.0,2.0,0.0,66.0]|[3.91926366428691...|[0.98053086369007...|       0.0|0.019469136|\n",
      "|  0.0|[1.0,2.0,0.0,67.0]|[3.91931389906668...|[0.98053182265334...|       0.0|0.019468177|\n",
      "|  0.0|[1.0,2.0,0.0,67.0]|[3.91931389906668...|[0.98053182265334...|       0.0|0.019468177|\n",
      "|  0.0|[1.0,2.0,0.0,67.0]|[3.91931389906668...|[0.98053182265334...|       0.0|0.019468177|\n",
      "|  0.0|[1.0,2.0,0.0,67.0]|[3.91931389906668...|[0.98053182265334...|       0.0|0.019468177|\n",
      "|  0.0|[1.0,2.0,0.0,67.0]|[3.91931389906668...|[0.98053182265334...|       0.0|0.019468177|\n",
      "|  0.0|[1.0,2.0,0.0,69.0]|[3.91941436862621...|[0.98053374044099...|       0.0| 0.01946626|\n",
      "|  0.0|[1.0,2.0,0.0,73.0]|[3.91961530774529...|[0.98053757546080...|       0.0|0.019462425|\n",
      "+-----+------------------+--------------------+--------------------+----------+-----------+\n",
      "only showing top 10 rows\n",
      "\n"
     ]
    }
   ],
   "source": [
    "from pyspark.sql.functions import udf\n",
    "from pyspark.sql.types import FloatType\n",
    "\n",
    "pred = model.transform(bd2_test)\n",
    "\n",
    "secondelement=udf(lambda v:float(v[1]),FloatType())\n",
    "pred2=pred.withColumn('probs',secondelement('probability'))\n",
    "\n",
    "pred2.show(10)"
   ]
  },
  {
   "cell_type": "code",
   "execution_count": 31,
   "metadata": {
    "collapsed": false
   },
   "outputs": [
    {
     "data": {
      "image/png": "[encoded data removed]",
      "text/plain": [
       "<matplotlib.figure.Figure at 0x7f4c91e8dba8>"
      ]
     },
     "metadata": {},
     "output_type": "display_data"
    }
   ],
   "source": [
    "import matplotlib.pyplot as plt\n",
    "from sklearn.metrics import roc_curve\n",
    "import seaborn as sns\n",
    "\n",
    "df = pred2.sample(False,0.1).select('label','probs').toPandas()\n",
    "\n",
    "fpr, tpr, _ = roc_curve( df['label'], df['probs'])\n",
    "\n",
    "plt.plot(fpr, tpr)\n",
    "plt.plot([0, 1], [0, 1], color='navy', linestyle='--')\n",
    "plt.xlabel('1 - Esp (FPR)')\n",
    "plt.ylabel('Sens (TPR)')\n",
    "plt.title('Curva ROC')\n",
    "plt.show()"
   ]
  },
  {
   "cell_type": "code",
   "execution_count": 32,
   "metadata": {
    "collapsed": false
   },
   "outputs": [
    {
     "name": "stdout",
     "output_type": "stream",
     "text": [
      "AUC= 0.6384399164674139\n",
      "AUC= 0.6384399164674162\n"
     ]
    }
   ],
   "source": [
    "from pyspark.ml.evaluation import BinaryClassificationEvaluator as BCE\n",
    "\n",
    "print('AUC=',BCE(metricName=\"areaUnderROC\",rawPredictionCol = 'probability').evaluate(pred))\n",
    "print('AUC=',BCE(metricName=\"areaUnderROC\").evaluate(pred))"
   ]
  },
  {
   "cell_type": "markdown",
   "metadata": {},
   "source": [
    "### Random Forest"
   ]
  },
  {
   "cell_type": "code",
   "execution_count": 11,
   "metadata": {
    "collapsed": false
   },
   "outputs": [
    {
     "name": "stdout",
     "output_type": "stream",
     "text": [
      "356250\n",
      "152915\n"
     ]
    }
   ],
   "source": [
    "from pyspark.ml.feature import StringIndexer\n",
    "\n",
    "stringIndexer = StringIndexer(inputCol = 'label', outputCol = 'indexed')\n",
    "bd3 = stringIndexer.fit(bd2).transform(bd2)\n",
    "\n",
    "(bd3_train, bd3_test) = bd3.randomSplit([0.7, 0.3],seed=123)\n",
    "print(bd3_train.count())\n",
    "print(bd3_test.count())"
   ]
  },
  {
   "cell_type": "code",
   "execution_count": 37,
   "metadata": {
    "collapsed": false
   },
   "outputs": [
    {
     "name": "stdout",
     "output_type": "stream",
     "text": [
      "Time to train model: 156.299 seconds\n"
     ]
    }
   ],
   "source": [
    "from pyspark.ml.classification import RandomForestClassifier\n",
    "from time import time\n",
    "\n",
    "start_time = time()\n",
    "\n",
    "# Train a RandomForest model.\n",
    "RF = RandomForestClassifier(\n",
    "    labelCol=\"indexed\",\n",
    "    featuresCol=\"features\",\n",
    "    numTrees=500,\n",
    "    maxDepth=3,\n",
    "    seed =123,\n",
    "    featureSubsetStrategy=\"sqrt\",\n",
    "    impurity='gini')\n",
    "\n",
    "model = RF.fit(bd3_train)\n",
    "\n",
    "end_time = time()\n",
    "elapsed_time = end_time - start_time\n",
    "print(\"Time to train model: %.3f seconds\" % elapsed_time)"
   ]
  },
  {
   "cell_type": "code",
   "execution_count": 38,
   "metadata": {
    "collapsed": false
   },
   "outputs": [
    {
     "name": "stdout",
     "output_type": "stream",
     "text": [
      "AUC= 0.781371785359251\n"
     ]
    }
   ],
   "source": [
    "pred_rf = model.transform(bd3_test)\n",
    "print('AUC=',BCE(metricName=\"areaUnderROC\",rawPredictionCol = 'probability').evaluate(pred_rf))"
   ]
  },
  {
   "cell_type": "markdown",
   "metadata": {
    "collapsed": true
   },
   "source": [
    "### Neural Networks"
   ]
  },
  {
   "cell_type": "code",
   "execution_count": 12,
   "metadata": {
    "collapsed": false
   },
   "outputs": [
    {
     "data": {
      "text/plain": [
       "0.9787529019389857"
      ]
     },
     "execution_count": 12,
     "metadata": {},
     "output_type": "execute_result"
    }
   ],
   "source": [
    "from pyspark.ml.classification import MultilayerPerceptronClassifier\n",
    "from pyspark.ml.evaluation import MulticlassClassificationEvaluator as MCCE\n",
    "\n",
    "MLC = MultilayerPerceptronClassifier(\n",
    "    labelCol=\"label\",\n",
    "    featuresCol=\"features\",\n",
    "    maxIter=100,\n",
    "    layers=[4, 5, 2],\n",
    "    seed=123)\n",
    "\n",
    "model_nn = MLC.fit(bd3_train)\n",
    "\n",
    "pred_nn = model_nn.transform(bd3_test)\n",
    "\n",
    "precision_nn = MCCE(metricName=\"precision\")\n",
    "precision_nn.evaluate(pred_nn)"
   ]
  },
  {
   "cell_type": "markdown",
   "metadata": {},
   "source": [
    "# Analysis II\n",
    "\n",
    "For this second analysis let's work on delay flights, so canceled and diverted flights are putted away"
   ]
  },
  {
   "cell_type": "code",
   "execution_count": 34,
   "metadata": {
    "collapsed": false
   },
   "outputs": [
    {
     "data": {
      "text/plain": [
       "498163"
      ]
     },
     "execution_count": 34,
     "metadata": {},
     "output_type": "execute_result"
    }
   ],
   "source": [
    "# the actual db has already filtered diverted flights\n",
    "bd = bd.filter((bd.Diverted == 0) & (bd.Cancelled == 0))\n",
    "bd.count()"
   ]
  },
  {
   "cell_type": "markdown",
   "metadata": {},
   "source": [
    "and let's define a new effective delay (ArrDelay - LateAircraftDelay)"
   ]
  },
  {
   "cell_type": "code",
   "execution_count": 35,
   "metadata": {
    "collapsed": false
   },
   "outputs": [
    {
     "data": {
      "text/html": [
       "<div>\n",
       "<table border=\"1\" class=\"dataframe\">\n",
       "  <thead>\n",
       "    <tr style=\"text-align: right;\">\n",
       "      <th></th>\n",
       "      <th>Year</th>\n",
       "      <th>Month</th>\n",
       "      <th>DayofMonth</th>\n",
       "      <th>DayOfWeek</th>\n",
       "      <th>CRSDepTime</th>\n",
       "      <th>UniqueCarrier</th>\n",
       "      <th>TailNum</th>\n",
       "      <th>ArrDelay</th>\n",
       "      <th>DepDelay</th>\n",
       "      <th>Origin</th>\n",
       "      <th>...</th>\n",
       "      <th>Distance</th>\n",
       "      <th>Cancelled</th>\n",
       "      <th>Diverted</th>\n",
       "      <th>CarrierDelay</th>\n",
       "      <th>WeatherDelay</th>\n",
       "      <th>NASDelay</th>\n",
       "      <th>SecurityDelay</th>\n",
       "      <th>LateAircraftDelay</th>\n",
       "      <th>Afternoon</th>\n",
       "      <th>Effective_Delay</th>\n",
       "    </tr>\n",
       "  </thead>\n",
       "  <tbody>\n",
       "    <tr>\n",
       "      <th>0</th>\n",
       "      <td>2017</td>\n",
       "      <td>8</td>\n",
       "      <td>25</td>\n",
       "      <td>5</td>\n",
       "      <td>2318</td>\n",
       "      <td>UA</td>\n",
       "      <td>N66831</td>\n",
       "      <td>-1.0</td>\n",
       "      <td>-7.0</td>\n",
       "      <td>SFO</td>\n",
       "      <td>...</td>\n",
       "      <td>2400.0</td>\n",
       "      <td>0.0</td>\n",
       "      <td>0.0</td>\n",
       "      <td>0.0</td>\n",
       "      <td>0.0</td>\n",
       "      <td>0.0</td>\n",
       "      <td>0.0</td>\n",
       "      <td>0.0</td>\n",
       "      <td>False</td>\n",
       "      <td>-1.0</td>\n",
       "    </tr>\n",
       "    <tr>\n",
       "      <th>1</th>\n",
       "      <td>2017</td>\n",
       "      <td>8</td>\n",
       "      <td>25</td>\n",
       "      <td>5</td>\n",
       "      <td>1235</td>\n",
       "      <td>UA</td>\n",
       "      <td>N76288</td>\n",
       "      <td>-3.0</td>\n",
       "      <td>-1.0</td>\n",
       "      <td>ORD</td>\n",
       "      <td>...</td>\n",
       "      <td>837.0</td>\n",
       "      <td>0.0</td>\n",
       "      <td>0.0</td>\n",
       "      <td>0.0</td>\n",
       "      <td>0.0</td>\n",
       "      <td>0.0</td>\n",
       "      <td>0.0</td>\n",
       "      <td>0.0</td>\n",
       "      <td>False</td>\n",
       "      <td>-3.0</td>\n",
       "    </tr>\n",
       "    <tr>\n",
       "      <th>2</th>\n",
       "      <td>2017</td>\n",
       "      <td>8</td>\n",
       "      <td>25</td>\n",
       "      <td>5</td>\n",
       "      <td>2110</td>\n",
       "      <td>UA</td>\n",
       "      <td>N17244</td>\n",
       "      <td>0.0</td>\n",
       "      <td>-1.0</td>\n",
       "      <td>ITO</td>\n",
       "      <td>...</td>\n",
       "      <td>2449.0</td>\n",
       "      <td>0.0</td>\n",
       "      <td>0.0</td>\n",
       "      <td>0.0</td>\n",
       "      <td>0.0</td>\n",
       "      <td>0.0</td>\n",
       "      <td>0.0</td>\n",
       "      <td>0.0</td>\n",
       "      <td>False</td>\n",
       "      <td>0.0</td>\n",
       "    </tr>\n",
       "    <tr>\n",
       "      <th>3</th>\n",
       "      <td>2017</td>\n",
       "      <td>8</td>\n",
       "      <td>25</td>\n",
       "      <td>5</td>\n",
       "      <td>737</td>\n",
       "      <td>UA</td>\n",
       "      <td>N439UA</td>\n",
       "      <td>-22.0</td>\n",
       "      <td>-9.0</td>\n",
       "      <td>JAC</td>\n",
       "      <td>...</td>\n",
       "      <td>1162.0</td>\n",
       "      <td>0.0</td>\n",
       "      <td>0.0</td>\n",
       "      <td>0.0</td>\n",
       "      <td>0.0</td>\n",
       "      <td>0.0</td>\n",
       "      <td>0.0</td>\n",
       "      <td>0.0</td>\n",
       "      <td>False</td>\n",
       "      <td>-22.0</td>\n",
       "    </tr>\n",
       "    <tr>\n",
       "      <th>4</th>\n",
       "      <td>2017</td>\n",
       "      <td>8</td>\n",
       "      <td>25</td>\n",
       "      <td>5</td>\n",
       "      <td>618</td>\n",
       "      <td>UA</td>\n",
       "      <td>N72405</td>\n",
       "      <td>-21.0</td>\n",
       "      <td>-6.0</td>\n",
       "      <td>MCI</td>\n",
       "      <td>...</td>\n",
       "      <td>643.0</td>\n",
       "      <td>0.0</td>\n",
       "      <td>0.0</td>\n",
       "      <td>0.0</td>\n",
       "      <td>0.0</td>\n",
       "      <td>0.0</td>\n",
       "      <td>0.0</td>\n",
       "      <td>0.0</td>\n",
       "      <td>False</td>\n",
       "      <td>-21.0</td>\n",
       "    </tr>\n",
       "  </tbody>\n",
       "</table>\n",
       "<p>5 rows × 21 columns</p>\n",
       "</div>"
      ],
      "text/plain": [
       "   Year  Month  DayofMonth  DayOfWeek  CRSDepTime UniqueCarrier TailNum  \\\n",
       "0  2017      8          25          5        2318            UA  N66831   \n",
       "1  2017      8          25          5        1235            UA  N76288   \n",
       "2  2017      8          25          5        2110            UA  N17244   \n",
       "3  2017      8          25          5         737            UA  N439UA   \n",
       "4  2017      8          25          5         618            UA  N72405   \n",
       "\n",
       "   ArrDelay  DepDelay Origin       ...       Distance  Cancelled  Diverted  \\\n",
       "0      -1.0      -7.0    SFO       ...         2400.0        0.0       0.0   \n",
       "1      -3.0      -1.0    ORD       ...          837.0        0.0       0.0   \n",
       "2       0.0      -1.0    ITO       ...         2449.0        0.0       0.0   \n",
       "3     -22.0      -9.0    JAC       ...         1162.0        0.0       0.0   \n",
       "4     -21.0      -6.0    MCI       ...          643.0        0.0       0.0   \n",
       "\n",
       "   CarrierDelay  WeatherDelay  NASDelay  SecurityDelay  LateAircraftDelay  \\\n",
       "0           0.0           0.0       0.0            0.0                0.0   \n",
       "1           0.0           0.0       0.0            0.0                0.0   \n",
       "2           0.0           0.0       0.0            0.0                0.0   \n",
       "3           0.0           0.0       0.0            0.0                0.0   \n",
       "4           0.0           0.0       0.0            0.0                0.0   \n",
       "\n",
       "   Afternoon Effective_Delay  \n",
       "0      False            -1.0  \n",
       "1      False            -3.0  \n",
       "2      False             0.0  \n",
       "3      False           -22.0  \n",
       "4      False           -21.0  \n",
       "\n",
       "[5 rows x 21 columns]"
      ]
     },
     "execution_count": 35,
     "metadata": {},
     "output_type": "execute_result"
    }
   ],
   "source": [
    "bd = bd.withColumn('Effective_Delay',(bd.ArrDelay - bd.LateAircraftDelay))\n",
    "sqlContext.registerDataFrameAsTable(bd, \"bd\")\n",
    "df_db = sqlContext.sql(\"SELECT * FROM bd\")\n",
    "df_db.toPandas().head(5)"
   ]
  },
  {
   "cell_type": "markdown",
   "metadata": {},
   "source": [
    "- What is the average on Effective Delay?"
   ]
  },
  {
   "cell_type": "code",
   "execution_count": 15,
   "metadata": {
    "collapsed": false
   },
   "outputs": [
    {
     "data": {
      "text/html": [
       "<div>\n",
       "<table border=\"1\" class=\"dataframe\">\n",
       "  <thead>\n",
       "    <tr style=\"text-align: right;\">\n",
       "      <th></th>\n",
       "      <th>_c0</th>\n",
       "    </tr>\n",
       "  </thead>\n",
       "  <tbody>\n",
       "    <tr>\n",
       "      <th>0</th>\n",
       "      <td>1.2536</td>\n",
       "    </tr>\n",
       "  </tbody>\n",
       "</table>\n",
       "</div>"
      ],
      "text/plain": [
       "      _c0\n",
       "0  1.2536"
      ]
     },
     "execution_count": 15,
     "metadata": {},
     "output_type": "execute_result"
    }
   ],
   "source": [
    "df_avg = sqlContext.sql(\"SELECT AVG(Effective_Delay) FROM bd\")\n",
    "df_avg.toPandas()"
   ]
  },
  {
   "cell_type": "markdown",
   "metadata": {},
   "source": [
    "- Which origin airport has the greatest mean effective delay?"
   ]
  },
  {
   "cell_type": "code",
   "execution_count": 17,
   "metadata": {
    "collapsed": false
   },
   "outputs": [
    {
     "data": {
      "text/html": [
       "<div>\n",
       "<table border=\"1\" class=\"dataframe\">\n",
       "  <thead>\n",
       "    <tr style=\"text-align: right;\">\n",
       "      <th></th>\n",
       "      <th>Origin</th>\n",
       "      <th>eff_delay</th>\n",
       "    </tr>\n",
       "  </thead>\n",
       "  <tbody>\n",
       "    <tr>\n",
       "      <th>0</th>\n",
       "      <td>RDD</td>\n",
       "      <td>35.887640</td>\n",
       "    </tr>\n",
       "    <tr>\n",
       "      <th>1</th>\n",
       "      <td>PIB</td>\n",
       "      <td>32.262295</td>\n",
       "    </tr>\n",
       "    <tr>\n",
       "      <th>2</th>\n",
       "      <td>BGR</td>\n",
       "      <td>29.550725</td>\n",
       "    </tr>\n",
       "    <tr>\n",
       "      <th>3</th>\n",
       "      <td>WYS</td>\n",
       "      <td>25.440678</td>\n",
       "    </tr>\n",
       "    <tr>\n",
       "      <th>4</th>\n",
       "      <td>STS</td>\n",
       "      <td>24.268456</td>\n",
       "    </tr>\n",
       "    <tr>\n",
       "      <th>5</th>\n",
       "      <td>ADK</td>\n",
       "      <td>23.777778</td>\n",
       "    </tr>\n",
       "    <tr>\n",
       "      <th>6</th>\n",
       "      <td>CIU</td>\n",
       "      <td>22.157895</td>\n",
       "    </tr>\n",
       "    <tr>\n",
       "      <th>7</th>\n",
       "      <td>MVY</td>\n",
       "      <td>19.270270</td>\n",
       "    </tr>\n",
       "    <tr>\n",
       "      <th>8</th>\n",
       "      <td>ESC</td>\n",
       "      <td>17.888889</td>\n",
       "    </tr>\n",
       "    <tr>\n",
       "      <th>9</th>\n",
       "      <td>BQK</td>\n",
       "      <td>17.405405</td>\n",
       "    </tr>\n",
       "  </tbody>\n",
       "</table>\n",
       "</div>"
      ],
      "text/plain": [
       "  Origin  eff_delay\n",
       "0    RDD  35.887640\n",
       "1    PIB  32.262295\n",
       "2    BGR  29.550725\n",
       "3    WYS  25.440678\n",
       "4    STS  24.268456\n",
       "5    ADK  23.777778\n",
       "6    CIU  22.157895\n",
       "7    MVY  19.270270\n",
       "8    ESC  17.888889\n",
       "9    BQK  17.405405"
      ]
     },
     "execution_count": 17,
     "metadata": {},
     "output_type": "execute_result"
    }
   ],
   "source": [
    "df_oa = sqlContext.sql(\"SELECT Origin, AVG(Effective_Delay) as eff_delay FROM bd\\\n",
    "                        GROUP BY Origin\\\n",
    "                        ORDER BY eff_delay DESC\\\n",
    "                        LIMIT 10\")\n",
    "df_oa.toPandas()"
   ]
  },
  {
   "cell_type": "markdown",
   "metadata": {},
   "source": [
    "- What is the correlation between DepDelay and Effective Delay?"
   ]
  },
  {
   "cell_type": "code",
   "execution_count": 19,
   "metadata": {
    "collapsed": false
   },
   "outputs": [
    {
     "data": {
      "text/html": [
       "<div>\n",
       "<table border=\"1\" class=\"dataframe\">\n",
       "  <thead>\n",
       "    <tr style=\"text-align: right;\">\n",
       "      <th></th>\n",
       "      <th>DepDelay</th>\n",
       "      <th>Effective_Delay</th>\n",
       "    </tr>\n",
       "  </thead>\n",
       "  <tbody>\n",
       "    <tr>\n",
       "      <th>DepDelay</th>\n",
       "      <td>1.000000</td>\n",
       "      <td>0.779268</td>\n",
       "    </tr>\n",
       "    <tr>\n",
       "      <th>Effective_Delay</th>\n",
       "      <td>0.779268</td>\n",
       "      <td>1.000000</td>\n",
       "    </tr>\n",
       "  </tbody>\n",
       "</table>\n",
       "</div>"
      ],
      "text/plain": [
       "                 DepDelay  Effective_Delay\n",
       "DepDelay         1.000000         0.779268\n",
       "Effective_Delay  0.779268         1.000000"
      ]
     },
     "execution_count": 19,
     "metadata": {},
     "output_type": "execute_result"
    }
   ],
   "source": [
    "df_corr = bd.sample(False, 0.1, 0).select('DepDelay','Effective_Delay').toPandas()\n",
    "df_corr.corr()"
   ]
  },
  {
   "cell_type": "code",
   "execution_count": 36,
   "metadata": {
    "collapsed": false
   },
   "outputs": [
    {
     "name": "stdout",
     "output_type": "stream",
     "text": [
      "+-----+--------------------+\n",
      "|label|            features|\n",
      "+-----+--------------------+\n",
      "| -1.0|[25.0,5.0,0.0,240...|\n",
      "| -3.0|[25.0,5.0,0.0,837.0]|\n",
      "|  0.0|[25.0,5.0,0.0,244...|\n",
      "|-22.0|[25.0,5.0,0.0,116...|\n",
      "|-21.0|[25.0,5.0,0.0,643.0]|\n",
      "|  6.0|[25.0,5.0,1.0,733.0]|\n",
      "|-17.0|[25.0,5.0,1.0,117...|\n",
      "|-11.0|[25.0,5.0,0.0,133...|\n",
      "|-14.0|[25.0,5.0,1.0,937.0]|\n",
      "| 59.0|[25.0,5.0,0.0,447.0]|\n",
      "|-13.0|[25.0,5.0,1.0,414.0]|\n",
      "|-30.0|[25.0,5.0,1.0,146...|\n",
      "|-22.0|[25.0,5.0,0.0,258...|\n",
      "| -9.0|[25.0,5.0,1.0,250...|\n",
      "|  0.0|[25.0,5.0,1.0,305.0]|\n",
      "| 41.0|[25.0,5.0,0.0,213...|\n",
      "|-20.0|[25.0,5.0,0.0,236...|\n",
      "|-22.0|[25.0,5.0,0.0,334.0]|\n",
      "|  0.0|[25.0,5.0,1.0,925.0]|\n",
      "|-12.0|[25.0,5.0,1.0,236...|\n",
      "+-----+--------------------+\n",
      "only showing top 20 rows\n",
      "\n"
     ]
    }
   ],
   "source": [
    "from pyspark.ml.feature import VectorAssembler\n",
    "from pyspark.sql.functions import col\n",
    "\n",
    "# these're the columns we use\n",
    "a2 = VectorAssembler(inputCols=['DayofMonth','DayOfWeek',\"Afternoon\",'Distance'],outputCol='features')\n",
    "# Cancelled is the target variable\n",
    "bd5 = a2.transform(bd).select(col(\"Effective_Delay\").cast('double').alias(\"label\"), 'features')\n",
    "\n",
    "bd5.show()"
   ]
  },
  {
   "cell_type": "code",
   "execution_count": 37,
   "metadata": {
    "collapsed": false
   },
   "outputs": [
    {
     "name": "stdout",
     "output_type": "stream",
     "text": [
      "348793\n",
      "149370\n"
     ]
    }
   ],
   "source": [
    "# split data\n",
    "(bd5_train, bd5_test) = bd5.randomSplit([0.7, 0.3],seed=456)\n",
    "print(bd5_train.count())\n",
    "print(bd5_test.count())"
   ]
  },
  {
   "cell_type": "markdown",
   "metadata": {},
   "source": [
    "## Training Models\n",
    "\n",
    "### Linear Regression"
   ]
  },
  {
   "cell_type": "code",
   "execution_count": 40,
   "metadata": {
    "collapsed": false
   },
   "outputs": [
    {
     "name": "stdout",
     "output_type": "stream",
     "text": [
      "5.882600960496099 [-0.286602380218,-0.205341563383,4.55967715014,-0.000686724049529]\n"
     ]
    }
   ],
   "source": [
    "from pyspark.ml.regression import LinearRegression\n",
    "\n",
    "lr = LinearRegression()\n",
    "model_lr = lr.fit(bd5_train)\n",
    "\n",
    "print(model_lr.intercept,model_lr.coefficients)"
   ]
  },
  {
   "cell_type": "code",
   "execution_count": 43,
   "metadata": {
    "collapsed": false
   },
   "outputs": [
    {
     "name": "stdout",
     "output_type": "stream",
     "text": [
      "RMSE = 36.93974095780497\n",
      "R2 = 0.0080028055571707\n"
     ]
    }
   ],
   "source": [
    "from pyspark.ml.evaluation import RegressionEvaluator\n",
    "\n",
    "pred_train = model_lr.transform(bd5_train)\n",
    "\n",
    "print('RMSE =', RegressionEvaluator(metricName=\"rmse\").evaluate(pred_train))\n",
    "print('R2 =', RegressionEvaluator(metricName=\"r2\").evaluate(pred_train))"
   ]
  },
  {
   "cell_type": "code",
   "execution_count": 44,
   "metadata": {
    "collapsed": false
   },
   "outputs": [
    {
     "name": "stdout",
     "output_type": "stream",
     "text": [
      "R2_test = 0.007609280359122228\n"
     ]
    }
   ],
   "source": [
    "pred_test = model_lr.transformsform(bd5_test)\n",
    "print('R2_test =', RegressionEvaluator(metricName=\"r2\").evaluate(pred_test))"
   ]
  },
  {
   "cell_type": "markdown",
   "metadata": {},
   "source": [
    "### Decision Trees"
   ]
  },
  {
   "cell_type": "code",
   "execution_count": 42,
   "metadata": {
    "collapsed": false
   },
   "outputs": [
    {
     "name": "stdout",
     "output_type": "stream",
     "text": [
      "R2_train = 0.026350129846489545\n",
      "R2_test = 0.01913367467939564\n"
     ]
    }
   ],
   "source": [
    "from pyspark.ml.regression import DecisionTreeRegressor as DTR\n",
    "from pyspark.ml.evaluation import RegressionEvaluator\n",
    "\n",
    "rt = DTR(maxDepth=10)\n",
    "model_rt = rt.fit(bd5_train)\n",
    "\n",
    "pred_train = model_rt.transform(bd5_train)\n",
    "pred_test = model_rt.transform(bd5_test)\n",
    "\n",
    "print('R2_train =', RegressionEvaluator(metricName=\"r2\").evaluate(pred_train))\n",
    "print('R2_test =', RegressionEvaluator(metricName=\"r2\").evaluate(pred_test))"
   ]
  },
  {
   "cell_type": "code",
   "execution_count": null,
   "metadata": {
    "collapsed": true
   },
   "outputs": [],
   "source": []
  }
 ],
 "metadata": {
  "anaconda-cloud": {},
  "kernelspec": {
   "display_name": "Python [default]",
   "language": "python",
   "name": "python3"
  },
  "language_info": {
   "codemirror_mode": {
    "name": "ipython",
    "version": 3
   },
   "file_extension": ".py",
   "mimetype": "text/x-python",
   "name": "python",
   "nbconvert_exporter": "python",
   "pygments_lexer": "ipython3",
   "version": "3.5.2"
  }
 },
 "nbformat": 4,
 "nbformat_minor": 1
}
