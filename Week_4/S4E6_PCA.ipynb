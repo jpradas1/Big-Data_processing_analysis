{
 "cells": [
  {
   "cell_type": "markdown",
   "metadata": {
    "collapsed": true
   },
   "source": [
    "# Reducción de la dimensionalidad"
   ]
  },
  {
   "cell_type": "code",
   "execution_count": 1,
   "metadata": {
    "collapsed": false
   },
   "outputs": [],
   "source": [
    "#from pyspark import SparkContext\n",
    "#sc = SparkContext()\n",
    "#from pyspark.sql import SQLContext\n",
    "#sqlContext=SQLContext(sc)"
   ]
  },
  {
   "cell_type": "code",
   "execution_count": 2,
   "metadata": {
    "collapsed": true
   },
   "outputs": [],
   "source": [
    "bd5 = sqlContext.read.format(\n",
    "    \"com.databricks.spark.csv\"\n",
    ").option(\"header\", \"true\").load(\"bd5.csv\", inferSchema=True)\n",
    "sqlContext.registerDataFrameAsTable(bd5, \"bd5\")"
   ]
  },
  {
   "cell_type": "markdown",
   "metadata": {},
   "source": [
    "## Reducción de dimensionalidad: PCA"
   ]
  },
  {
   "cell_type": "code",
   "execution_count": 3,
   "metadata": {
    "collapsed": false
   },
   "outputs": [
    {
     "data": {
      "text/plain": [
       "[('YEAR', 'int'),\n",
       " ('MONTH', 'int'),\n",
       " ('DAY_OF_MONTH', 'int'),\n",
       " ('DAY_OF_WEEK', 'int'),\n",
       " ('CRS_DEP_TIME', 'int'),\n",
       " ('OP_UNIQUE_CARRIER', 'string'),\n",
       " ('TAIL_NUM', 'string'),\n",
       " ('ARR_DELAY', 'double'),\n",
       " ('DEP_DELAY', 'double'),\n",
       " ('ORIGIN', 'string'),\n",
       " ('DEST', 'string'),\n",
       " ('DISTANCE', 'double'),\n",
       " ('CANCELLED', 'double'),\n",
       " ('DIVERTED', 'double'),\n",
       " ('CARRIER_DELAY', 'double'),\n",
       " ('WEATHER_DELAY', 'double'),\n",
       " ('NAS_DELAY', 'double'),\n",
       " ('SECURITY_DELAY', 'double'),\n",
       " ('LATE_AIRCRAFT_DELAY', 'double'),\n",
       " ('LogD', 'double'),\n",
       " ('Retraso', 'int'),\n",
       " ('RetrasoNeto', 'double'),\n",
       " ('Horario', 'int')]"
      ]
     },
     "execution_count": 3,
     "metadata": {},
     "output_type": "execute_result"
    }
   ],
   "source": [
    "bd5.dtypes"
   ]
  },
  {
   "cell_type": "code",
   "execution_count": 4,
   "metadata": {
    "collapsed": true
   },
   "outputs": [],
   "source": [
    "from pyspark.ml.feature import VectorAssembler\n",
    "\n",
    "a1  = VectorAssembler(\n",
    "    inputCols=['DEP_DELAY','DISTANCE','DAY_OF_WEEK',\n",
    "               'CRS_DEP_TIME','Horario','LogD'],\n",
    "    outputCol='features')\n",
    "\n",
    "bd6 = a1.transform(bd5)"
   ]
  },
  {
   "cell_type": "code",
   "execution_count": 5,
   "metadata": {
    "collapsed": false
   },
   "outputs": [
    {
     "data": {
      "text/plain": [
       "DataFrame[YEAR: int, MONTH: int, DAY_OF_MONTH: int, DAY_OF_WEEK: int, CRS_DEP_TIME: int, OP_UNIQUE_CARRIER: string, TAIL_NUM: string, ARR_DELAY: double, DEP_DELAY: double, ORIGIN: string, DEST: string, DISTANCE: double, CANCELLED: double, DIVERTED: double, CARRIER_DELAY: double, WEATHER_DELAY: double, NAS_DELAY: double, SECURITY_DELAY: double, LATE_AIRCRAFT_DELAY: double, LogD: double, Retraso: int, RetrasoNeto: double, Horario: int, features: vector]"
      ]
     },
     "execution_count": 5,
     "metadata": {},
     "output_type": "execute_result"
    }
   ],
   "source": [
    "bd6"
   ]
  },
  {
   "cell_type": "markdown",
   "metadata": {},
   "source": [
    "## PCA sin estandarización"
   ]
  },
  {
   "cell_type": "code",
   "execution_count": 6,
   "metadata": {
    "collapsed": true
   },
   "outputs": [],
   "source": [
    "from pyspark.ml.feature import PCA\n",
    "\n",
    "#2 componentes\n",
    "pca=PCA(k=2,inputCol='features',outputCol='pca_features')"
   ]
  },
  {
   "cell_type": "code",
   "execution_count": 7,
   "metadata": {
    "collapsed": false
   },
   "outputs": [
    {
     "name": "stdout",
     "output_type": "stream",
     "text": [
      "+--------------------+--------------------+\n",
      "|            features|        pca_features|\n",
      "+--------------------+--------------------+\n",
      "|[-8.0,236.0,4.0,1...|[-377.10827923344...|\n",
      "|[6.0,236.0,4.0,12...|[-294.90822681198...|\n",
      "|[-5.0,236.0,4.0,1...|[-206.02454360753...|\n",
      "|[-6.0,236.0,4.0,8...|[-122.11787625733...|\n",
      "|[-5.0,651.0,4.0,2...|[-280.57987586646...|\n",
      "|[-5.0,370.0,4.0,1...|[-333.12511833861...|\n",
      "|[-8.0,868.0,4.0,1...|[-14.500940557834...|\n",
      "|[-6.0,1464.0,4.0,...|[984.861368360190...|\n",
      "|[-3.0,1464.0,4.0,...|[863.108091742342...|\n",
      "|[-6.0,1055.0,4.0,...|[367.342882157714...|\n",
      "|[-11.0,255.0,4.0,...|[-444.09198996144...|\n",
      "|[0.0,1440.0,4.0,1...|[510.132577158998...|\n",
      "|[1.0,641.0,4.0,22...|[-323.85625864009...|\n",
      "|[2.0,1440.0,4.0,1...|[901.259605069138...|\n",
      "|[-9.0,1055.0,4.0,...|[447.556161089783...|\n",
      "|[5.0,1055.0,4.0,1...|[369.354242249321...|\n",
      "|[7.0,370.0,4.0,20...|[-507.97131150795...|\n",
      "|[-4.0,1055.0,4.0,...|[669.631895215097...|\n",
      "|[-2.0,1055.0,4.0,...|[608.341328002556...|\n",
      "|[-7.0,1464.0,4.0,...|[1313.89574368136...|\n",
      "+--------------------+--------------------+\n",
      "only showing top 20 rows\n",
      "\n"
     ]
    }
   ],
   "source": [
    "model=pca.fit(bd6)\n",
    "bd6pca=model.transform(bd6)\n",
    "bd6pca.select('features','pca_features').show()"
   ]
  },
  {
   "cell_type": "code",
   "execution_count": 8,
   "metadata": {
    "collapsed": false
   },
   "outputs": [],
   "source": [
    "#Extraemos la primera y segunda componentes\n",
    "\n",
    "from pyspark.sql.functions import udf\n",
    "from pyspark.sql.types import FloatType\n",
    "\n",
    "p1=udf(lambda v:float(v[0]),FloatType())\n",
    "p2=udf(lambda v:float(v[1]),FloatType())\n",
    "\n",
    "bd6pca=bd6pca.withColumn('pca1',p1('pca_features')).withColumn('pca2',p2('pca_features'))\n"
   ]
  },
  {
   "cell_type": "code",
   "execution_count": 9,
   "metadata": {
    "collapsed": false
   },
   "outputs": [
    {
     "name": "stdout",
     "output_type": "stream",
     "text": [
      "+-------+------------------+-------------------+\n",
      "|summary|              pca1|               pca2|\n",
      "+-------+------------------+-------------------+\n",
      "|  count|             30466|              30466|\n",
      "|   mean|300.93254488836135|-1601.4748862329209|\n",
      "| stddev| 557.2501211351527| 495.72119764117116|\n",
      "|    min|        -731.57623|         -2935.9211|\n",
      "|    max|          1751.152|         -487.57773|\n",
      "+-------+------------------+-------------------+\n",
      "\n"
     ]
    }
   ],
   "source": [
    "bd6pca.select('pca1','pca2').describe().show()"
   ]
  },
  {
   "cell_type": "markdown",
   "metadata": {},
   "source": [
    "## PCA con estandarización"
   ]
  },
  {
   "cell_type": "code",
   "execution_count": 10,
   "metadata": {
    "collapsed": false
   },
   "outputs": [
    {
     "name": "stdout",
     "output_type": "stream",
     "text": [
      "+--------------------+--------------------+\n",
      "|            features|      scaledFeatures|\n",
      "+--------------------+--------------------+\n",
      "|[-8.0,236.0,4.0,1...|[-0.5061531206197...|\n",
      "|[6.0,236.0,4.0,12...|[-0.2251841350618...|\n",
      "|[-5.0,236.0,4.0,1...|[-0.4459454808573...|\n",
      "|[-6.0,236.0,4.0,8...|[-0.4660146941114...|\n",
      "|[-5.0,651.0,4.0,2...|[-0.4459454808573...|\n",
      "|[-5.0,370.0,4.0,1...|[-0.4459454808573...|\n",
      "|[-8.0,868.0,4.0,1...|[-0.5061531206197...|\n",
      "|[-6.0,1464.0,4.0,...|[-0.4660146941114...|\n",
      "|[-3.0,1464.0,4.0,...|[-0.4058070543490...|\n",
      "|[-6.0,1055.0,4.0,...|[-0.4660146941114...|\n",
      "|[-11.0,255.0,4.0,...|[-0.5663607603821...|\n",
      "|[0.0,1440.0,4.0,1...|[-0.3455994145866...|\n",
      "|[1.0,641.0,4.0,22...|[-0.3255302013325...|\n",
      "|[2.0,1440.0,4.0,1...|[-0.3054609880783...|\n",
      "|[-9.0,1055.0,4.0,...|[-0.5262223338738...|\n",
      "|[5.0,1055.0,4.0,1...|[-0.2452533483159...|\n",
      "|[7.0,370.0,4.0,20...|[-0.2051149218077...|\n",
      "|[-4.0,1055.0,4.0,...|[-0.4258762676032...|\n",
      "|[-2.0,1055.0,4.0,...|[-0.3857378410949...|\n",
      "|[-7.0,1464.0,4.0,...|[-0.4860839073656...|\n",
      "+--------------------+--------------------+\n",
      "only showing top 20 rows\n",
      "\n"
     ]
    }
   ],
   "source": [
    "from pyspark.ml.feature import StandardScaler\n",
    "\n",
    "scaler = StandardScaler(inputCol=\"features\", outputCol=\"scaledFeatures\",\n",
    "                        withStd=True, withMean=True)\n",
    "scalerModel = scaler.fit(bd6)\n",
    "bd6std = scalerModel.transform(bd6)\n",
    "\n",
    "bd6std.select('features','scaledFeatures').show()"
   ]
  },
  {
   "cell_type": "code",
   "execution_count": 11,
   "metadata": {
    "collapsed": true
   },
   "outputs": [],
   "source": [
    "from pyspark.ml.feature import PCA\n",
    "\n",
    "#2 componentes\n",
    "pca2=PCA(k=2,inputCol='scaledFeatures',outputCol='pca_scaledfeatures')"
   ]
  },
  {
   "cell_type": "code",
   "execution_count": 12,
   "metadata": {
    "collapsed": false
   },
   "outputs": [
    {
     "name": "stdout",
     "output_type": "stream",
     "text": [
      "+--------------------+\n",
      "|  pca_scaledfeatures|\n",
      "+--------------------+\n",
      "|[-2.1481167921052...|\n",
      "|[-2.0580632199285...|\n",
      "|[-1.6945582244580...|\n",
      "|[-1.5824805413590...|\n",
      "|[-0.5458187260638...|\n",
      "|[-1.8750035509122...|\n",
      "|[-0.5990634736882...|\n",
      "|[1.69894829802062...|\n",
      "|[1.53427565410245...|\n",
      "|[0.32786666838261...|\n",
      "|[-2.3865997873638...|\n",
      "|[0.58471397283816...|\n",
      "|[-0.6262974930119...|\n",
      "|[1.56173170587968...|\n",
      "|[0.43770513210056...|\n",
      "|[0.31602276092994...|\n",
      "|[-2.1216234060703...|\n",
      "|[1.18761526357020...|\n",
      "|[0.87239689347422...|\n",
      "|[2.36627932235609...|\n",
      "+--------------------+\n",
      "only showing top 20 rows\n",
      "\n"
     ]
    }
   ],
   "source": [
    "model2=pca2.fit(bd6std)\n",
    "bd6pca2=model2.transform(bd6std)\n",
    "bd6pca2.select('pca_scaledfeatures').show()\n"
   ]
  },
  {
   "cell_type": "code",
   "execution_count": 13,
   "metadata": {
    "collapsed": false
   },
   "outputs": [
    {
     "data": {
      "text/html": [
       "<div>\n",
       "<table border=\"1\" class=\"dataframe\">\n",
       "  <thead>\n",
       "    <tr style=\"text-align: right;\">\n",
       "      <th></th>\n",
       "      <th>summary</th>\n",
       "      <th>pca1</th>\n",
       "      <th>pca2</th>\n",
       "    </tr>\n",
       "  </thead>\n",
       "  <tbody>\n",
       "    <tr>\n",
       "      <th>0</th>\n",
       "      <td>count</td>\n",
       "      <td>30466</td>\n",
       "      <td>30466</td>\n",
       "    </tr>\n",
       "    <tr>\n",
       "      <th>1</th>\n",
       "      <td>mean</td>\n",
       "      <td>1.4992589980211245E-10</td>\n",
       "      <td>-2.386263811770431E-11</td>\n",
       "    </tr>\n",
       "    <tr>\n",
       "      <th>2</th>\n",
       "      <td>stddev</td>\n",
       "      <td>1.4247512515634866</td>\n",
       "      <td>1.2476208654224723</td>\n",
       "    </tr>\n",
       "    <tr>\n",
       "      <th>3</th>\n",
       "      <td>min</td>\n",
       "      <td>-3.9466622</td>\n",
       "      <td>-9.316214</td>\n",
       "    </tr>\n",
       "    <tr>\n",
       "      <th>4</th>\n",
       "      <td>max</td>\n",
       "      <td>3.2699375</td>\n",
       "      <td>2.831249</td>\n",
       "    </tr>\n",
       "  </tbody>\n",
       "</table>\n",
       "</div>"
      ],
      "text/plain": [
       "  summary                    pca1                    pca2\n",
       "0   count                   30466                   30466\n",
       "1    mean  1.4992589980211245E-10  -2.386263811770431E-11\n",
       "2  stddev      1.4247512515634866      1.2476208654224723\n",
       "3     min              -3.9466622               -9.316214\n",
       "4     max               3.2699375                2.831249"
      ]
     },
     "execution_count": 13,
     "metadata": {},
     "output_type": "execute_result"
    }
   ],
   "source": [
    "bd6pca2=bd6pca2.withColumn('pca1',p1('pca_scaledfeatures')).withColumn('pca2',p2('pca_scaledfeatures')) \n",
    "bd6pca2.select('pca1','pca2').describe().toPandas()"
   ]
  },
  {
   "cell_type": "markdown",
   "metadata": {},
   "source": [
    "Nota: Las componentes obtenidas también se pueden estandarizar de nuevo."
   ]
  },
  {
   "cell_type": "code",
   "execution_count": 14,
   "metadata": {
    "collapsed": false
   },
   "outputs": [
    {
     "data": {
      "text/html": [
       "<div>\n",
       "<table border=\"1\" class=\"dataframe\">\n",
       "  <thead>\n",
       "    <tr style=\"text-align: right;\">\n",
       "      <th></th>\n",
       "      <th>DEP_DELAY</th>\n",
       "      <th>DISTANCE</th>\n",
       "      <th>DAY_OF_WEEK</th>\n",
       "      <th>CRS_DEP_TIME</th>\n",
       "      <th>Horario</th>\n",
       "      <th>LogD</th>\n",
       "      <th>pca1</th>\n",
       "      <th>pca2</th>\n",
       "    </tr>\n",
       "  </thead>\n",
       "  <tbody>\n",
       "    <tr>\n",
       "      <th>DEP_DELAY</th>\n",
       "      <td>1.000000</td>\n",
       "      <td>0.006070</td>\n",
       "      <td>0.025261</td>\n",
       "      <td>0.159572</td>\n",
       "      <td>0.119988</td>\n",
       "      <td>0.002001</td>\n",
       "      <td>-0.090915</td>\n",
       "      <td>-0.319393</td>\n",
       "    </tr>\n",
       "    <tr>\n",
       "      <th>DISTANCE</th>\n",
       "      <td>0.006070</td>\n",
       "      <td>1.000000</td>\n",
       "      <td>-0.024106</td>\n",
       "      <td>-0.075962</td>\n",
       "      <td>-0.083686</td>\n",
       "      <td>0.957575</td>\n",
       "      <td>0.926214</td>\n",
       "      <td>-0.342577</td>\n",
       "    </tr>\n",
       "    <tr>\n",
       "      <th>DAY_OF_WEEK</th>\n",
       "      <td>0.025261</td>\n",
       "      <td>-0.024106</td>\n",
       "      <td>1.000000</td>\n",
       "      <td>-0.008006</td>\n",
       "      <td>-0.009551</td>\n",
       "      <td>-0.021388</td>\n",
       "      <td>-0.027716</td>\n",
       "      <td>-0.007033</td>\n",
       "    </tr>\n",
       "    <tr>\n",
       "      <th>CRS_DEP_TIME</th>\n",
       "      <td>0.159572</td>\n",
       "      <td>-0.075962</td>\n",
       "      <td>-0.008006</td>\n",
       "      <td>1.000000</td>\n",
       "      <td>0.591198</td>\n",
       "      <td>-0.085800</td>\n",
       "      <td>-0.386719</td>\n",
       "      <td>-0.794837</td>\n",
       "    </tr>\n",
       "    <tr>\n",
       "      <th>Horario</th>\n",
       "      <td>0.119988</td>\n",
       "      <td>-0.083686</td>\n",
       "      <td>-0.009551</td>\n",
       "      <td>0.591198</td>\n",
       "      <td>1.000000</td>\n",
       "      <td>-0.083825</td>\n",
       "      <td>-0.384042</td>\n",
       "      <td>-0.786727</td>\n",
       "    </tr>\n",
       "    <tr>\n",
       "      <th>LogD</th>\n",
       "      <td>0.002001</td>\n",
       "      <td>0.957575</td>\n",
       "      <td>-0.021388</td>\n",
       "      <td>-0.085800</td>\n",
       "      <td>-0.083825</td>\n",
       "      <td>1.000000</td>\n",
       "      <td>0.928296</td>\n",
       "      <td>-0.336689</td>\n",
       "    </tr>\n",
       "    <tr>\n",
       "      <th>pca1</th>\n",
       "      <td>-0.090915</td>\n",
       "      <td>0.926214</td>\n",
       "      <td>-0.027716</td>\n",
       "      <td>-0.386719</td>\n",
       "      <td>-0.384042</td>\n",
       "      <td>0.928296</td>\n",
       "      <td>1.000000</td>\n",
       "      <td>0.004890</td>\n",
       "    </tr>\n",
       "    <tr>\n",
       "      <th>pca2</th>\n",
       "      <td>-0.319393</td>\n",
       "      <td>-0.342577</td>\n",
       "      <td>-0.007033</td>\n",
       "      <td>-0.794837</td>\n",
       "      <td>-0.786727</td>\n",
       "      <td>-0.336689</td>\n",
       "      <td>0.004890</td>\n",
       "      <td>1.000000</td>\n",
       "    </tr>\n",
       "  </tbody>\n",
       "</table>\n",
       "</div>"
      ],
      "text/plain": [
       "              DEP_DELAY  DISTANCE  DAY_OF_WEEK  CRS_DEP_TIME   Horario  \\\n",
       "DEP_DELAY      1.000000  0.006070     0.025261      0.159572  0.119988   \n",
       "DISTANCE       0.006070  1.000000    -0.024106     -0.075962 -0.083686   \n",
       "DAY_OF_WEEK    0.025261 -0.024106     1.000000     -0.008006 -0.009551   \n",
       "CRS_DEP_TIME   0.159572 -0.075962    -0.008006      1.000000  0.591198   \n",
       "Horario        0.119988 -0.083686    -0.009551      0.591198  1.000000   \n",
       "LogD           0.002001  0.957575    -0.021388     -0.085800 -0.083825   \n",
       "pca1          -0.090915  0.926214    -0.027716     -0.386719 -0.384042   \n",
       "pca2          -0.319393 -0.342577    -0.007033     -0.794837 -0.786727   \n",
       "\n",
       "                  LogD      pca1      pca2  \n",
       "DEP_DELAY     0.002001 -0.090915 -0.319393  \n",
       "DISTANCE      0.957575  0.926214 -0.342577  \n",
       "DAY_OF_WEEK  -0.021388 -0.027716 -0.007033  \n",
       "CRS_DEP_TIME -0.085800 -0.386719 -0.794837  \n",
       "Horario      -0.083825 -0.384042 -0.786727  \n",
       "LogD          1.000000  0.928296 -0.336689  \n",
       "pca1          0.928296  1.000000  0.004890  \n",
       "pca2         -0.336689  0.004890  1.000000  "
      ]
     },
     "execution_count": 14,
     "metadata": {},
     "output_type": "execute_result"
    }
   ],
   "source": [
    "pdf6 = bd6pca2.sample(False,0.1).select('DEP_DELAY','DISTANCE','DAY_OF_WEEK',\n",
    "               'CRS_DEP_TIME','Horario','LogD','pca1','pca2').toPandas()\n",
    "\n",
    "pdf6.corr()"
   ]
  }
 ],
 "metadata": {
  "anaconda-cloud": {},
  "kernelspec": {
   "display_name": "Python [default]",
   "language": "python",
   "name": "python3"
  },
  "language_info": {
   "codemirror_mode": {
    "name": "ipython",
    "version": 3
   },
   "file_extension": ".py",
   "mimetype": "text/x-python",
   "name": "python",
   "nbconvert_exporter": "python",
   "pygments_lexer": "ipython3",
   "version": "3.5.2"
  }
 },
 "nbformat": 4,
 "nbformat_minor": 2
}
