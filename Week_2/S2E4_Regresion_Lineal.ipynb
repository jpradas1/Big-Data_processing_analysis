{
 "cells": [
  {
   "cell_type": "markdown",
   "metadata": {
    "collapsed": true
   },
   "source": [
    "# Modelo de Regresión Simple"
   ]
  },
  {
   "cell_type": "code",
   "execution_count": 1,
   "metadata": {
    "collapsed": true
   },
   "outputs": [],
   "source": [
    "#from pyspark import SparkContext\n",
    "#sc = SparkContext()\n",
    "#from pyspark.sql import SQLContext\n",
    "#sqlContext=SQLContext(sc)"
   ]
  },
  {
   "cell_type": "code",
   "execution_count": 2,
   "metadata": {
    "collapsed": true
   },
   "outputs": [],
   "source": [
    "bd5 = sqlContext.read.format(\n",
    "    \"com.databricks.spark.csv\"\n",
    ").option(\"header\", \"true\").load(\"bd5.csv\", inferSchema=True)\n",
    "sqlContext.registerDataFrameAsTable(bd5, \"bd5\")"
   ]
  },
  {
   "cell_type": "markdown",
   "metadata": {},
   "source": [
    "## Descripción Previa de la Base de Datos"
   ]
  },
  {
   "cell_type": "markdown",
   "metadata": {},
   "source": [
    "Resumen Numérico"
   ]
  },
  {
   "cell_type": "code",
   "execution_count": 3,
   "metadata": {
    "collapsed": false
   },
   "outputs": [
    {
     "data": {
      "text/html": [
       "<div>\n",
       "<table border=\"1\" class=\"dataframe\">\n",
       "  <thead>\n",
       "    <tr style=\"text-align: right;\">\n",
       "      <th></th>\n",
       "      <th>Horario</th>\n",
       "      <th>ARR_DELAY</th>\n",
       "      <th>DEP_DELAY</th>\n",
       "      <th>RetrasoNeto</th>\n",
       "    </tr>\n",
       "  </thead>\n",
       "  <tbody>\n",
       "    <tr>\n",
       "      <th>Horario</th>\n",
       "      <td>1.000000</td>\n",
       "      <td>0.087638</td>\n",
       "      <td>0.081273</td>\n",
       "      <td>0.044104</td>\n",
       "    </tr>\n",
       "    <tr>\n",
       "      <th>ARR_DELAY</th>\n",
       "      <td>0.087638</td>\n",
       "      <td>1.000000</td>\n",
       "      <td>0.973316</td>\n",
       "      <td>0.313102</td>\n",
       "    </tr>\n",
       "    <tr>\n",
       "      <th>DEP_DELAY</th>\n",
       "      <td>0.081273</td>\n",
       "      <td>0.973316</td>\n",
       "      <td>1.000000</td>\n",
       "      <td>0.086816</td>\n",
       "    </tr>\n",
       "    <tr>\n",
       "      <th>RetrasoNeto</th>\n",
       "      <td>0.044104</td>\n",
       "      <td>0.313102</td>\n",
       "      <td>0.086816</td>\n",
       "      <td>1.000000</td>\n",
       "    </tr>\n",
       "  </tbody>\n",
       "</table>\n",
       "</div>"
      ],
      "text/plain": [
       "              Horario  ARR_DELAY  DEP_DELAY  RetrasoNeto\n",
       "Horario      1.000000   0.087638   0.081273     0.044104\n",
       "ARR_DELAY    0.087638   1.000000   0.973316     0.313102\n",
       "DEP_DELAY    0.081273   0.973316   1.000000     0.086816\n",
       "RetrasoNeto  0.044104   0.313102   0.086816     1.000000"
      ]
     },
     "execution_count": 3,
     "metadata": {},
     "output_type": "execute_result"
    }
   ],
   "source": [
    "pdf4 = bd5.sample(False, 0.1, 0).select('DEST','Horario','ARR_DELAY',\n",
    "                                        'DEP_DELAY','RetrasoNeto').toPandas()\n",
    "pdf4.corr()"
   ]
  },
  {
   "cell_type": "markdown",
   "metadata": {},
   "source": [
    "Resumen Gráfico"
   ]
  },
  {
   "cell_type": "code",
   "execution_count": 4,
   "metadata": {
    "collapsed": false
   },
   "outputs": [
    {
     "data": {
      "text/plain": [
       "<seaborn.axisgrid.JointGrid at 0x7f13acad44a8>"
      ]
     },
     "execution_count": 4,
     "metadata": {},
     "output_type": "execute_result"
    },
    {
     "data": {
      "image/png": "[encoded data removed]",
      "text/plain": [
       "<matplotlib.figure.Figure at 0x7f13acbb06a0>"
      ]
     },
     "metadata": {},
     "output_type": "display_data"
    }
   ],
   "source": [
    "import seaborn as sns\n",
    "%matplotlib inline\n",
    "sns.jointplot(x=\"DEP_DELAY\", y=\"ARR_DELAY\", data=pdf4)"
   ]
  },
  {
   "cell_type": "markdown",
   "metadata": {},
   "source": [
    "## Configuración de la base de datos"
   ]
  },
  {
   "cell_type": "code",
   "execution_count": 5,
   "metadata": {
    "collapsed": false
   },
   "outputs": [
    {
     "name": "stdout",
     "output_type": "stream",
     "text": [
      "+-----+--------+\n",
      "|label|features|\n",
      "+-----+--------+\n",
      "|-19.0|  [-8.0]|\n",
      "|  7.0|   [6.0]|\n",
      "|-12.0|  [-5.0]|\n",
      "|-14.0|  [-6.0]|\n",
      "|-15.0|  [-5.0]|\n",
      "|  0.0|  [-5.0]|\n",
      "|-23.0|  [-8.0]|\n",
      "|-16.0|  [-6.0]|\n",
      "| -3.0|  [-3.0]|\n",
      "|  3.0|  [-6.0]|\n",
      "|-16.0| [-11.0]|\n",
      "|-11.0|   [0.0]|\n",
      "|  0.0|   [1.0]|\n",
      "| -4.0|   [2.0]|\n",
      "|  3.0|  [-9.0]|\n",
      "| -7.0|   [5.0]|\n",
      "| 18.0|   [7.0]|\n",
      "|-10.0|  [-4.0]|\n",
      "|-15.0|  [-2.0]|\n",
      "|-19.0|  [-7.0]|\n",
      "+-----+--------+\n",
      "only showing top 20 rows\n",
      "\n"
     ]
    }
   ],
   "source": [
    "from pyspark.ml.feature import VectorAssembler\n",
    "from pyspark.sql.functions import col\n",
    "\n",
    "assembler = VectorAssembler(\n",
    "    inputCols=['DEP_DELAY'],\n",
    "    outputCol='features')\n",
    "\n",
    "bd6 = assembler.transform(bd5).select(col(\"ARR_DELAY\").alias(\"label\"),'features')\n",
    "bd6.show()"
   ]
  },
  {
   "cell_type": "markdown",
   "metadata": {},
   "source": [
    "### Ajuste del modelo"
   ]
  },
  {
   "cell_type": "code",
   "execution_count": 6,
   "metadata": {
    "collapsed": false
   },
   "outputs": [
    {
     "name": "stderr",
     "output_type": "stream",
     "text": [
      "/usr/lib/spark/python/pyspark/ml/regression.py:123: UserWarning: weights is deprecated. Use coefficients instead.\n",
      "  warnings.warn(\"weights is deprecated. Use coefficients instead.\")\n"
     ]
    }
   ],
   "source": [
    "from pyspark.ml.regression import LinearRegression\n",
    "lr = LinearRegression()\n",
    "model = lr.fit(bd6)\n",
    "pred = model.transform(bd6)"
   ]
  },
  {
   "cell_type": "markdown",
   "metadata": {},
   "source": [
    "Coeficientes"
   ]
  },
  {
   "cell_type": "code",
   "execution_count": 7,
   "metadata": {
    "collapsed": false
   },
   "outputs": [
    {
     "name": "stdout",
     "output_type": "stream",
     "text": [
      "-4.3994410804913295 [1.02786002478]\n"
     ]
    }
   ],
   "source": [
    "print(model.intercept,model.coefficients)"
   ]
  },
  {
   "cell_type": "markdown",
   "metadata": {},
   "source": [
    "Modelo Teórico:\n",
    "\n",
    "__ArrDelay = $\\beta_0$ + $\\beta_1$*DepDelay + $\\epsilon$__ \n",
    "\n",
    "\n",
    "Modelo Predictivo:\n",
    "\n",
    "__ArrDelay = -4.4 + 1.03*DepDelay__\n",
    "\n",
    "\n"
   ]
  },
  {
   "cell_type": "markdown",
   "metadata": {},
   "source": [
    "Valores Predichos y Residuos"
   ]
  },
  {
   "cell_type": "code",
   "execution_count": 8,
   "metadata": {
    "collapsed": false
   },
   "outputs": [
    {
     "name": "stdout",
     "output_type": "stream",
     "text": [
      "+-----+--------+-------------------+--------------------+\n",
      "|label|features|         prediction|            residual|\n",
      "+-----+--------+-------------------+--------------------+\n",
      "|-19.0|  [-8.0]|-12.622321278697306| -6.3776787213026935|\n",
      "|  7.0|   [6.0]| 1.7677190681631538|   5.232280931836846|\n",
      "|-12.0|  [-5.0]| -9.538741204370066| -2.4612587956299343|\n",
      "|-14.0|  [-6.0]|-10.566601229145814|  -3.433398770854186|\n",
      "|-15.0|  [-5.0]| -9.538741204370066|  -5.461258795629934|\n",
      "|  0.0|  [-5.0]| -9.538741204370066|   9.538741204370066|\n",
      "|-23.0|  [-8.0]|-12.622321278697306| -10.377678721302694|\n",
      "|-16.0|  [-6.0]|-10.566601229145814|  -5.433398770854186|\n",
      "| -3.0|  [-3.0]| -7.483021154818571|   4.483021154818571|\n",
      "|  3.0|  [-6.0]|-10.566601229145814|  13.566601229145814|\n",
      "|-16.0| [-11.0]|-15.705901353024547|-0.29409864697545274|\n",
      "|-11.0|   [0.0]|-4.3994410804913295| -6.6005589195086705|\n",
      "|  0.0|   [1.0]|-3.3715810557155823|  3.3715810557155823|\n",
      "| -4.0|   [2.0]| -2.343721030939835|  -1.656278969060165|\n",
      "|  3.0|  [-9.0]|-13.650181303473055|  16.650181303473055|\n",
      "| -7.0|   [5.0]| 0.7398590433874066|  -7.739859043387407|\n",
      "| 18.0|   [7.0]|  2.795579092938901|  15.204420907061099|\n",
      "|-10.0|  [-4.0]| -8.510881179594318| -1.4891188204056824|\n",
      "|-15.0|  [-2.0]| -6.455161130042824|  -8.544838869957175|\n",
      "|-19.0|  [-7.0]| -11.59446125392156|   -7.40553874607844|\n",
      "+-----+--------+-------------------+--------------------+\n",
      "only showing top 20 rows\n",
      "\n"
     ]
    }
   ],
   "source": [
    "pred = pred.withColumn('residual', pred.label-pred.prediction)\n",
    "pred.show()"
   ]
  },
  {
   "cell_type": "markdown",
   "metadata": {},
   "source": [
    "Representación gráfica de resultados"
   ]
  },
  {
   "cell_type": "code",
   "execution_count": 9,
   "metadata": {
    "collapsed": false
   },
   "outputs": [
    {
     "data": {
      "text/plain": [
       "<seaborn.axisgrid.JointGrid at 0x7f13acba6828>"
      ]
     },
     "execution_count": 9,
     "metadata": {},
     "output_type": "execute_result"
    },
    {
     "data": {
      "image/png": "[encoded data removed]",
      "text/plain": [
       "<matplotlib.figure.Figure at 0x7f1372031208>"
      ]
     },
     "metadata": {},
     "output_type": "display_data"
    }
   ],
   "source": [
    "pdpred = pred.toPandas()\n",
    "sns.jointplot(x=\"prediction\", y=\"label\", data=pdpred)"
   ]
  },
  {
   "cell_type": "code",
   "execution_count": 10,
   "metadata": {
    "collapsed": false
   },
   "outputs": [
    {
     "data": {
      "text/plain": [
       "<seaborn.axisgrid.JointGrid at 0x7f1371fdfdd8>"
      ]
     },
     "execution_count": 10,
     "metadata": {},
     "output_type": "execute_result"
    },
    {
     "data": {
      "image/png": "[encoded data removed]",
      "text/plain": [
       "<matplotlib.figure.Figure at 0x7f1371ea6588>"
      ]
     },
     "metadata": {},
     "output_type": "display_data"
    }
   ],
   "source": [
    "sns.jointplot(x=\"prediction\", y=\"residual\", data=pdpred)"
   ]
  },
  {
   "cell_type": "markdown",
   "metadata": {},
   "source": [
    "Métricas de Evaluación (R2, RMSE, MAE)"
   ]
  },
  {
   "cell_type": "code",
   "execution_count": 11,
   "metadata": {
    "collapsed": false
   },
   "outputs": [
    {
     "name": "stdout",
     "output_type": "stream",
     "text": [
      "15.498421344920349\n",
      "0.9161065747950505\n"
     ]
    }
   ],
   "source": [
    "from pyspark.ml.evaluation import RegressionEvaluator\n",
    "\n",
    "print(RegressionEvaluator(metricName=\"rmse\").evaluate(pred))\n",
    "print(RegressionEvaluator(metricName=\"r2\").evaluate(pred))\n"
   ]
  },
  {
   "cell_type": "markdown",
   "metadata": {},
   "source": [
    "Otros parámetros opcionales del modelo"
   ]
  },
  {
   "cell_type": "code",
   "execution_count": 10,
   "metadata": {
    "collapsed": true
   },
   "outputs": [],
   "source": [
    "#lr = LinearRegression()\n",
    "#lr = LinearRegression(\n",
    "    #maxIter=5, \n",
    "    #regParam=0.0,\n",
    "    #elasticNetParam=0.0,\n",
    "    #solver=\"normal\", \n",
    "    #weightCol=\"weight\")"
   ]
  }
 ],
 "metadata": {
  "anaconda-cloud": {},
  "kernelspec": {
   "display_name": "Python [default]",
   "language": "python",
   "name": "python3"
  },
  "language_info": {
   "codemirror_mode": {
    "name": "ipython",
    "version": 3
   },
   "file_extension": ".py",
   "mimetype": "text/x-python",
   "name": "python",
   "nbconvert_exporter": "python",
   "pygments_lexer": "ipython3",
   "version": "3.5.2"
  }
 },
 "nbformat": 4,
 "nbformat_minor": 2
}
