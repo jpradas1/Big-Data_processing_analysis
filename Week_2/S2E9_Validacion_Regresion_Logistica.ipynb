{
 "cells": [
  {
   "cell_type": "markdown",
   "metadata": {
    "collapsed": true
   },
   "source": [
    "# Validación del Modelo de Regresión Logística"
   ]
  },
  {
   "cell_type": "code",
   "execution_count": 1,
   "metadata": {
    "collapsed": true
   },
   "outputs": [],
   "source": [
    "#from pyspark import SparkContext\n",
    "#sc = SparkContext()\n",
    "#from pyspark.sql import SQLContext\n",
    "#sqlContext=SQLContext(sc)\n"
   ]
  },
  {
   "cell_type": "code",
   "execution_count": 2,
   "metadata": {
    "collapsed": true
   },
   "outputs": [],
   "source": [
    "bd5 = sqlContext.read.format(\n",
    "    \"com.databricks.spark.csv\"\n",
    ").option(\"header\", \"true\").load(\"bd5.csv\", inferSchema=True)\n",
    "sqlContext.registerDataFrameAsTable(bd5, \"bd5\")"
   ]
  },
  {
   "cell_type": "code",
   "execution_count": 3,
   "metadata": {
    "collapsed": true
   },
   "outputs": [],
   "source": [
    "from pyspark.ml.feature import VectorAssembler\n",
    "\n",
    "bd5 = bd5.withColumn('Horario1',(bd5.Horario==1) \n",
    ").withColumn('Horario2',(bd5.Horario==2) \n",
    ").withColumn('Horario3',(bd5.Horario==3))\n",
    "\n",
    "# Términos cuadráticos añadidos manualmente\n",
    "bd5 = bd5.withColumn('DepDelay2',(bd5.DEP_DELAY**2)\n",
    ").withColumn('DepD_Distance',(bd5.DEP_DELAY * bd5.DISTANCE)) "
   ]
  },
  {
   "cell_type": "markdown",
   "metadata": {},
   "source": [
    "Configuración de la Base de Datos"
   ]
  },
  {
   "cell_type": "code",
   "execution_count": 4,
   "metadata": {
    "collapsed": false
   },
   "outputs": [],
   "source": [
    "from pyspark.sql.functions import col\n",
    "\n",
    "a1  = VectorAssembler(\n",
    "    inputCols=['DEP_DELAY','DISTANCE','DAY_OF_WEEK',\n",
    "               'CRS_DEP_TIME','Horario1','Horario2',\n",
    "               'Horario3','DepDelay2','DepD_Distance'],\n",
    "    outputCol='features')\n",
    "\n",
    "bd6 = a1.transform(bd5).select(col(\"Retraso\").cast('double').alias(\"label\"),'features')"
   ]
  },
  {
   "cell_type": "markdown",
   "metadata": {},
   "source": [
    "## Ajuste del modelo"
   ]
  },
  {
   "cell_type": "code",
   "execution_count": 5,
   "metadata": {
    "collapsed": false
   },
   "outputs": [],
   "source": [
    "from pyspark.ml.classification import LogisticRegression\n",
    "\n",
    "lgr = LogisticRegression(maxIter=10, \n",
    "     labelCol=\"label\", \n",
    "     featuresCol=\"features\",\n",
    "     threshold=0.5)\n",
    "                        \n",
    "model = lgr.fit(bd6)"
   ]
  },
  {
   "cell_type": "code",
   "execution_count": 6,
   "metadata": {
    "collapsed": false
   },
   "outputs": [
    {
     "name": "stdout",
     "output_type": "stream",
     "text": [
      "-1.6228762950365914 [0.0174818630425,-0.000153907645432,0.00622037724017,0.000243814478493,-0.18527035429,0.0280656797874,0.0553254124157,1.4042617353e-06,9.64852764749e-06]\n"
     ]
    }
   ],
   "source": [
    "print(model.intercept,model.coefficients)"
   ]
  },
  {
   "cell_type": "code",
   "execution_count": 7,
   "metadata": {
    "collapsed": false
   },
   "outputs": [
    {
     "name": "stderr",
     "output_type": "stream",
     "text": [
      "/usr/lib/spark/python/pyspark/ml/classification.py:207: UserWarning: weights is deprecated. Use coefficients instead.\n",
      "  warnings.warn(\"weights is deprecated. Use coefficients instead.\")\n"
     ]
    }
   ],
   "source": [
    "pred = model.transform(bd6)\n",
    "\n"
   ]
  },
  {
   "cell_type": "code",
   "execution_count": 8,
   "metadata": {
    "collapsed": false
   },
   "outputs": [
    {
     "name": "stdout",
     "output_type": "stream",
     "text": [
      "+-----+--------------------+--------------------+--------------------+----------+\n",
      "|label|            features|       rawPrediction|         probability|prediction|\n",
      "+-----+--------------------+--------------------+--------------------+----------+\n",
      "|  0.0|[-8.0,236.0,4.0,1...|[1.38588018074077...|[0.79993372290508...|       0.0|\n",
      "|  0.0|[6.0,236.0,4.0,12...|[1.15805757782493...|[0.76097958746655...|       0.0|\n",
      "|  0.0|[-5.0,236.0,4.0,1...|[1.45534475592752...|[0.81081963453715...|       0.0|\n",
      "|  0.0|[-6.0,236.0,4.0,8...|[1.52482637822825...|[0.82124809014486...|       0.0|\n",
      "|  0.0|[-5.0,651.0,4.0,2...|[1.48413341690803...|[0.81519609728737...|       0.0|\n",
      "|  0.0|[-5.0,370.0,4.0,1...|[1.36274699976021...|[0.79620579443903...|       0.0|\n",
      "|  0.0|[-8.0,868.0,4.0,1...|[1.46071846651767...|[0.81164253777179...|       0.0|\n",
      "|  0.0|[-6.0,1464.0,4.0,...|[1.77760088417091...|[0.85540037083745...|       0.0|\n",
      "|  0.0|[-3.0,1464.0,4.0,...|[1.61064779104856...|[0.83350130426781...|       0.0|\n",
      "|  0.0|[-6.0,1055.0,4.0,...|[1.51864582301092...|[0.82033898458456...|       0.0|\n",
      "+-----+--------------------+--------------------+--------------------+----------+\n",
      "only showing top 10 rows\n",
      "\n"
     ]
    }
   ],
   "source": [
    "pred.show(10)"
   ]
  },
  {
   "cell_type": "markdown",
   "metadata": {},
   "source": [
    "Los valores de *probability* son transformados a *prediction* empleando un punto de corte. \n",
    "\n",
    "Por defecto: 0.5"
   ]
  },
  {
   "cell_type": "markdown",
   "metadata": {},
   "source": [
    "## Confussion Matrix"
   ]
  },
  {
   "cell_type": "code",
   "execution_count": 9,
   "metadata": {
    "collapsed": false
   },
   "outputs": [
    {
     "data": {
      "text/plain": [
       "30466"
      ]
     },
     "execution_count": 9,
     "metadata": {},
     "output_type": "execute_result"
    }
   ],
   "source": [
    "pred.count()"
   ]
  },
  {
   "cell_type": "code",
   "execution_count": 10,
   "metadata": {
    "collapsed": false
   },
   "outputs": [
    {
     "name": "stdout",
     "output_type": "stream",
     "text": [
      "+-----+----------+-----+\n",
      "|label|prediction|count|\n",
      "+-----+----------+-----+\n",
      "|  0.0|       0.0|22056|\n",
      "|  0.0|       1.0|    9|\n",
      "|  1.0|       0.0| 5119|\n",
      "|  1.0|       1.0| 3282|\n",
      "+-----+----------+-----+\n",
      "\n"
     ]
    }
   ],
   "source": [
    "cm = pred.groupBy('label','prediction').count().sort('label','prediction')\n",
    "cm.show()"
   ]
  },
  {
   "cell_type": "code",
   "execution_count": 11,
   "metadata": {
    "collapsed": false
   },
   "outputs": [
    {
     "name": "stdout",
     "output_type": "stream",
     "text": [
      "Prev= 0.2757500164117377\n",
      "Sens= 0.3906677776455184\n",
      "Esp= 0.9995921142080217\n",
      "Recall= 0.3906677776455184\n",
      "Precision= 0.9972652689152234\n",
      "Acc= 0.8316812184074049\n",
      "Acc= 0.8316812184074049\n"
     ]
    }
   ],
   "source": [
    "TN = cm.filter((cm.label == 0) & (cm.prediction == 0)).collect()[0][2]\n",
    "FP = cm.filter((cm.label == 0) & (cm.prediction == 1)).collect()[0][2]\n",
    "FN = cm.filter((cm.label == 1) & (cm.prediction == 0)).collect()[0][2]\n",
    "TP = cm.filter((cm.label == 1) & (cm.prediction == 1)).collect()[0][2]\n",
    "\n",
    "N=TN+FP+TP+FN\n",
    "\n",
    "Prev = (TP + FN) / N  \n",
    "Sens = TPR = Recall = TP / (TP + FN) \n",
    "Esp  = TN / (TN + FP) #= (1 - FPR)\n",
    "Precision = PPV = TP / (TP + FP) \n",
    "Acc = (TP+TN) / N\n",
    "\n",
    "print('Prev=',Prev)\n",
    "print('Sens=',Sens)\n",
    "print('Esp=',Esp)\n",
    "print('Recall=',Recall)\n",
    "print('Precision=',Precision)\n",
    "print('Acc=',Acc)\n",
    "\n",
    "from pyspark.ml.evaluation import MulticlassClassificationEvaluator as MCE\n",
    "print('Acc=',MCE(metricName=\"weightedRecall\").evaluate(pred))"
   ]
  },
  {
   "cell_type": "markdown",
   "metadata": {},
   "source": [
    "## Modificacion del Punto de Corte"
   ]
  },
  {
   "cell_type": "code",
   "execution_count": 12,
   "metadata": {
    "collapsed": false,
    "scrolled": true
   },
   "outputs": [
    {
     "name": "stderr",
     "output_type": "stream",
     "text": [
      "/usr/lib/spark/python/pyspark/ml/classification.py:207: UserWarning: weights is deprecated. Use coefficients instead.\n",
      "  warnings.warn(\"weights is deprecated. Use coefficients instead.\")\n"
     ]
    },
    {
     "name": "stdout",
     "output_type": "stream",
     "text": [
      "+-----+----------+-----+\n",
      "|label|prediction|count|\n",
      "+-----+----------+-----+\n",
      "|  0.0|       0.0|20464|\n",
      "|  0.0|       1.0| 1601|\n",
      "|  1.0|       0.0| 1803|\n",
      "|  1.0|       1.0| 6598|\n",
      "+-----+----------+-----+\n",
      "\n",
      "Acc= 0.8882688899100637\n"
     ]
    }
   ],
   "source": [
    "lgr = LogisticRegression(maxIter=10, \n",
    "     labelCol=\"label\", \n",
    "     featuresCol=\"features\",                         \n",
    "     threshold=0.27)\n",
    "#threshold=Prev\n",
    "\n",
    "model = lgr.fit(bd6)\n",
    "pred = model.transform(bd6)\n",
    "\n",
    "\n",
    "cm = pred.groupBy('label','prediction').count().sort('label','prediction')\n",
    "cm.show()\n",
    "\n",
    "print('Acc=',MCE(metricName=\"weightedRecall\").evaluate(pred))"
   ]
  },
  {
   "cell_type": "markdown",
   "metadata": {},
   "source": [
    "## Curva ROC"
   ]
  },
  {
   "cell_type": "code",
   "execution_count": 13,
   "metadata": {
    "collapsed": false
   },
   "outputs": [
    {
     "name": "stdout",
     "output_type": "stream",
     "text": [
      "+-----+--------------------+--------------------+--------------------+----------+----------+\n",
      "|label|            features|       rawPrediction|         probability|prediction|     probs|\n",
      "+-----+--------------------+--------------------+--------------------+----------+----------+\n",
      "|  0.0|[-8.0,236.0,4.0,1...|[1.38588018074077...|[0.79993372290508...|       0.0|0.20006628|\n",
      "|  0.0|[6.0,236.0,4.0,12...|[1.15805757782493...|[0.76097958746655...|       0.0| 0.2390204|\n",
      "|  0.0|[-5.0,236.0,4.0,1...|[1.45534475592752...|[0.81081963453715...|       0.0|0.18918036|\n",
      "|  0.0|[-6.0,236.0,4.0,8...|[1.52482637822825...|[0.82124809014486...|       0.0|0.17875192|\n",
      "|  0.0|[-5.0,651.0,4.0,2...|[1.48413341690803...|[0.81519609728737...|       0.0| 0.1848039|\n",
      "|  0.0|[-5.0,370.0,4.0,1...|[1.36274699976021...|[0.79620579443903...|       0.0|0.20379421|\n",
      "|  0.0|[-8.0,868.0,4.0,1...|[1.46071846651767...|[0.81164253777179...|       0.0|0.18835746|\n",
      "|  0.0|[-6.0,1464.0,4.0,...|[1.77760088417091...|[0.85540037083745...|       0.0|0.14459963|\n",
      "|  0.0|[-3.0,1464.0,4.0,...|[1.61064779104856...|[0.83350130426781...|       0.0|0.16649869|\n",
      "|  0.0|[-6.0,1055.0,4.0,...|[1.51864582301092...|[0.82033898458456...|       0.0|0.17966102|\n",
      "+-----+--------------------+--------------------+--------------------+----------+----------+\n",
      "only showing top 10 rows\n",
      "\n"
     ]
    }
   ],
   "source": [
    "from pyspark.sql.functions import udf\n",
    "from pyspark.sql.types import FloatType\n",
    "\n",
    "secondelement=udf(lambda v:float(v[1]),FloatType())\n",
    "pred2=pred.withColumn('probs',secondelement('probability'))\n",
    "\n",
    "pred2.show(10)"
   ]
  },
  {
   "cell_type": "code",
   "execution_count": 14,
   "metadata": {
    "collapsed": false
   },
   "outputs": [
    {
     "data": {
      "image/png": "[encoded data removed]",
      "text/plain": [
       "<matplotlib.figure.Figure at 0x7ffba5e20080>"
      ]
     },
     "metadata": {},
     "output_type": "display_data"
    }
   ],
   "source": [
    "import matplotlib.pyplot as plt\n",
    "from sklearn.metrics import roc_curve\n",
    "import seaborn as sns\n",
    "\n",
    "pd5 = pred2.sample(False,0.1).select('label','probs').toPandas()\n",
    "\n",
    "fpr, tpr, _ = roc_curve( pd5['label'], pd5['probs'])\n",
    "\n",
    "plt.plot(fpr, tpr)\n",
    "plt.plot([0, 1], [0, 1], color='navy', linestyle='--')\n",
    "plt.xlabel('1 - Esp (FPR)')\n",
    "plt.ylabel('Sens (TPR)')\n",
    "plt.title('Curva ROC')\n",
    "plt.show()"
   ]
  },
  {
   "cell_type": "markdown",
   "metadata": {},
   "source": [
    "## Área Bajo la Curva ROC"
   ]
  },
  {
   "cell_type": "code",
   "execution_count": 15,
   "metadata": {
    "collapsed": false
   },
   "outputs": [
    {
     "name": "stdout",
     "output_type": "stream",
     "text": [
      "AUC= 0.9053308831809359\n",
      "AUC= 0.9053308831809805\n"
     ]
    }
   ],
   "source": [
    "from pyspark.ml.evaluation import BinaryClassificationEvaluator as BCE\n",
    "\n",
    "print('AUC=',BCE(metricName=\"areaUnderROC\",rawPredictionCol = 'probability').evaluate(pred))\n",
    "print('AUC=',BCE(metricName=\"areaUnderROC\").evaluate(pred))"
   ]
  },
  {
   "cell_type": "code",
   "execution_count": 16,
   "metadata": {
    "collapsed": true
   },
   "outputs": [],
   "source": [
    "#LogisticRegression(maxIter=10, \n",
    "#     labelCol=\"label\", \n",
    "#     featuresCol=\"features\",\n",
    "#     predictionCol=\"prediction\", \n",
    "#     regParam=0.1, \n",
    "#     elasticNetParam=0.0, \n",
    "#     fitIntercept=True, \n",
    "#     threshold=0.5, \n",
    "#     probabilityCol=\"probability\", \n",
    "#     rawPredictionCol=\"rawPrediction\", \n",
    "#     standardization=True, \n",
    "#     weightCol=None)"
   ]
  }
 ],
 "metadata": {
  "anaconda-cloud": {},
  "kernelspec": {
   "display_name": "Python [default]",
   "language": "python",
   "name": "python3"
  },
  "language_info": {
   "codemirror_mode": {
    "name": "ipython",
    "version": 3
   },
   "file_extension": ".py",
   "mimetype": "text/x-python",
   "name": "python",
   "nbconvert_exporter": "python",
   "pygments_lexer": "ipython3",
   "version": "3.5.2"
  }
 },
 "nbformat": 4,
 "nbformat_minor": 2
}
