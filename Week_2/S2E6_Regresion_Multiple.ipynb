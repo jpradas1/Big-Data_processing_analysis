{
 "cells": [
  {
   "cell_type": "markdown",
   "metadata": {
    "collapsed": true
   },
   "source": [
    "# Modelo de Regresión Múltiple"
   ]
  },
  {
   "cell_type": "code",
   "execution_count": 1,
   "metadata": {
    "collapsed": true
   },
   "outputs": [],
   "source": [
    "#from pyspark import SparkContext\n",
    "#sc = SparkContext()\n",
    "#from pyspark.sql import SQLContext\n",
    "#sqlContext=SQLContext(sc)"
   ]
  },
  {
   "cell_type": "code",
   "execution_count": 2,
   "metadata": {
    "collapsed": true
   },
   "outputs": [],
   "source": [
    "bd5 = sqlContext.read.format(\n",
    "    \"com.databricks.spark.csv\"\n",
    ").option(\"header\", \"true\").load(\"bd5.csv\", inferSchema=True)\n",
    "sqlContext.registerDataFrameAsTable(bd5, \"bd5\")\n",
    "\n",
    "bd5 = bd5.withColumn('Horario1',(bd5.Horario==1) \n",
    ").withColumn('Horario2',(bd5.Horario==2) \n",
    ").withColumn('Horario3',(bd5.Horario==3))\n",
    "\n",
    "bd5 = bd5.withColumn('DepDelay2',(bd5.DEP_DELAY**2)\n",
    ").withColumn('DepD_Distance',(bd5.DEP_DELAY * bd5.DISTANCE)) "
   ]
  },
  {
   "cell_type": "markdown",
   "metadata": {},
   "source": [
    "## Descripción Previa de la Base de Datos"
   ]
  },
  {
   "cell_type": "markdown",
   "metadata": {},
   "source": [
    "Resumen Numérico"
   ]
  },
  {
   "cell_type": "code",
   "execution_count": 4,
   "metadata": {
    "collapsed": false
   },
   "outputs": [
    {
     "data": {
      "text/html": [
       "<div>\n",
       "<table border=\"1\" class=\"dataframe\">\n",
       "  <thead>\n",
       "    <tr style=\"text-align: right;\">\n",
       "      <th></th>\n",
       "      <th>ARR_DELAY</th>\n",
       "      <th>DEP_DELAY</th>\n",
       "      <th>DAY_OF_WEEK</th>\n",
       "      <th>CRS_DEP_TIME</th>\n",
       "      <th>DepDelay2</th>\n",
       "      <th>DepD_Distance</th>\n",
       "    </tr>\n",
       "  </thead>\n",
       "  <tbody>\n",
       "    <tr>\n",
       "      <th>ARR_DELAY</th>\n",
       "      <td>1.000000</td>\n",
       "      <td>0.973316</td>\n",
       "      <td>0.045201</td>\n",
       "      <td>0.100995</td>\n",
       "      <td>0.754650</td>\n",
       "      <td>0.857314</td>\n",
       "    </tr>\n",
       "    <tr>\n",
       "      <th>DEP_DELAY</th>\n",
       "      <td>0.973316</td>\n",
       "      <td>1.000000</td>\n",
       "      <td>0.040341</td>\n",
       "      <td>0.096217</td>\n",
       "      <td>0.781235</td>\n",
       "      <td>0.891246</td>\n",
       "    </tr>\n",
       "    <tr>\n",
       "      <th>DAY_OF_WEEK</th>\n",
       "      <td>0.045201</td>\n",
       "      <td>0.040341</td>\n",
       "      <td>1.000000</td>\n",
       "      <td>-0.012944</td>\n",
       "      <td>0.028567</td>\n",
       "      <td>0.040694</td>\n",
       "    </tr>\n",
       "    <tr>\n",
       "      <th>CRS_DEP_TIME</th>\n",
       "      <td>0.100995</td>\n",
       "      <td>0.096217</td>\n",
       "      <td>-0.012944</td>\n",
       "      <td>1.000000</td>\n",
       "      <td>0.008642</td>\n",
       "      <td>0.058397</td>\n",
       "    </tr>\n",
       "    <tr>\n",
       "      <th>DepDelay2</th>\n",
       "      <td>0.754650</td>\n",
       "      <td>0.781235</td>\n",
       "      <td>0.028567</td>\n",
       "      <td>0.008642</td>\n",
       "      <td>1.000000</td>\n",
       "      <td>0.801212</td>\n",
       "    </tr>\n",
       "    <tr>\n",
       "      <th>DepD_Distance</th>\n",
       "      <td>0.857314</td>\n",
       "      <td>0.891246</td>\n",
       "      <td>0.040694</td>\n",
       "      <td>0.058397</td>\n",
       "      <td>0.801212</td>\n",
       "      <td>1.000000</td>\n",
       "    </tr>\n",
       "  </tbody>\n",
       "</table>\n",
       "</div>"
      ],
      "text/plain": [
       "               ARR_DELAY  DEP_DELAY  DAY_OF_WEEK  CRS_DEP_TIME  DepDelay2  \\\n",
       "ARR_DELAY       1.000000   0.973316     0.045201      0.100995   0.754650   \n",
       "DEP_DELAY       0.973316   1.000000     0.040341      0.096217   0.781235   \n",
       "DAY_OF_WEEK     0.045201   0.040341     1.000000     -0.012944   0.028567   \n",
       "CRS_DEP_TIME    0.100995   0.096217    -0.012944      1.000000   0.008642   \n",
       "DepDelay2       0.754650   0.781235     0.028567      0.008642   1.000000   \n",
       "DepD_Distance   0.857314   0.891246     0.040694      0.058397   0.801212   \n",
       "\n",
       "               DepD_Distance  \n",
       "ARR_DELAY           0.857314  \n",
       "DEP_DELAY           0.891246  \n",
       "DAY_OF_WEEK         0.040694  \n",
       "CRS_DEP_TIME        0.058397  \n",
       "DepDelay2           0.801212  \n",
       "DepD_Distance       1.000000  "
      ]
     },
     "execution_count": 4,
     "metadata": {},
     "output_type": "execute_result"
    }
   ],
   "source": [
    "pdf5 = bd5.sample(False, 0.1, 0).select('ARR_DELAY','DEP_DELAY','DAY_OF_WEEK',\n",
    "                                        'CRS_DEP_TIME','DepDelay2','DepD_Distance').toPandas()\n",
    "pdf5.corr()"
   ]
  },
  {
   "cell_type": "markdown",
   "metadata": {},
   "source": [
    "Configuración de la Base de Datos"
   ]
  },
  {
   "cell_type": "code",
   "execution_count": 5,
   "metadata": {
    "collapsed": false
   },
   "outputs": [],
   "source": [
    "from pyspark.ml.feature import VectorAssembler\n",
    "\n",
    "a1  = VectorAssembler(\n",
    "    inputCols=['DEP_DELAY','DISTANCE','DAY_OF_WEEK',\n",
    "               'CRS_DEP_TIME','Horario1','Horario2',\n",
    "               'Horario3','DepDelay2','DepD_Distance'],\n",
    "    outputCol='features')\n",
    "bd6 = a1.transform(bd5)"
   ]
  },
  {
   "cell_type": "code",
   "execution_count": 6,
   "metadata": {
    "collapsed": false
   },
   "outputs": [
    {
     "name": "stdout",
     "output_type": "stream",
     "text": [
      "+-----+--------------------+\n",
      "|label|            features|\n",
      "+-----+--------------------+\n",
      "|-19.0|[-8.0,236.0,4.0,1...|\n",
      "|  7.0|[6.0,236.0,4.0,12...|\n",
      "|-12.0|[-5.0,236.0,4.0,1...|\n",
      "|-14.0|[-6.0,236.0,4.0,8...|\n",
      "|-15.0|[-5.0,651.0,4.0,2...|\n",
      "|  0.0|[-5.0,370.0,4.0,1...|\n",
      "|-23.0|[-8.0,868.0,4.0,1...|\n",
      "|-16.0|[-6.0,1464.0,4.0,...|\n",
      "| -3.0|[-3.0,1464.0,4.0,...|\n",
      "|  3.0|[-6.0,1055.0,4.0,...|\n",
      "|-16.0|[-11.0,255.0,4.0,...|\n",
      "|-11.0|(9,[1,2,3],[1440....|\n",
      "|  0.0|[1.0,641.0,4.0,22...|\n",
      "| -4.0|[2.0,1440.0,4.0,1...|\n",
      "|  3.0|[-9.0,1055.0,4.0,...|\n",
      "| -7.0|[5.0,1055.0,4.0,1...|\n",
      "| 18.0|[7.0,370.0,4.0,20...|\n",
      "|-10.0|[-4.0,1055.0,4.0,...|\n",
      "|-15.0|[-2.0,1055.0,4.0,...|\n",
      "|-19.0|[-7.0,1464.0,4.0,...|\n",
      "+-----+--------------------+\n",
      "only showing top 20 rows\n",
      "\n"
     ]
    }
   ],
   "source": [
    "from pyspark.sql.functions import col\n",
    "\n",
    "bd6 = bd6.select(col(\"ARR_DELAY\").alias(\"label\"),'features')\n",
    "bd6.show()"
   ]
  },
  {
   "cell_type": "markdown",
   "metadata": {},
   "source": [
    "## Ajuste del modelo"
   ]
  },
  {
   "cell_type": "code",
   "execution_count": 7,
   "metadata": {
    "collapsed": false
   },
   "outputs": [
    {
     "name": "stderr",
     "output_type": "stream",
     "text": [
      "/usr/lib/spark/python/pyspark/ml/regression.py:123: UserWarning: weights is deprecated. Use coefficients instead.\n",
      "  warnings.warn(\"weights is deprecated. Use coefficients instead.\")\n"
     ]
    }
   ],
   "source": [
    "from pyspark.ml.regression import LinearRegression\n",
    "\n",
    "# Define LinearRegression algorithm\n",
    "lr = LinearRegression()\n",
    "model = lr.fit(bd6)\n",
    "pred = model.transform(bd6)"
   ]
  },
  {
   "cell_type": "code",
   "execution_count": 8,
   "metadata": {
    "collapsed": false
   },
   "outputs": [
    {
     "name": "stdout",
     "output_type": "stream",
     "text": [
      "-4.635889634541887 [1.05553557286,-0.00289488941365,0.135668773288,0.00144922041931,-0.242298226852,1.62235576514,0.159579377181,-1.79458480022e-05,-2.10428631003e-05]\n"
     ]
    }
   ],
   "source": [
    "print(model.intercept,model.coefficients)"
   ]
  },
  {
   "cell_type": "markdown",
   "metadata": {},
   "source": [
    "Modelo Predictivo:\n",
    "\n",
    "$ Y_i = \\beta_0 + \\beta_1 X_{1i} + ... \\beta_p X_{pi} $"
   ]
  },
  {
   "cell_type": "code",
   "execution_count": 9,
   "metadata": {
    "collapsed": false,
    "scrolled": true
   },
   "outputs": [
    {
     "name": "stdout",
     "output_type": "stream",
     "text": [
      "+-----+--------------------+-------------------+-------------------+\n",
      "|label|            features|         prediction|           residual|\n",
      "+-----+--------------------+-------------------+-------------------+\n",
      "|-19.0|[-8.0,236.0,4.0,1...|-10.935655853645677| -8.064344146354323|\n",
      "|  7.0|[6.0,236.0,4.0,12...|  3.482974946599561|  3.517025053400439|\n",
      "|-12.0|[-5.0,236.0,4.0,1...|-6.9233469005418335|-5.0766530994581665|\n",
      "|-14.0|[-6.0,236.0,4.0,8...|  -8.26975472757754|  -5.73024527242246|\n",
      "|-15.0|[-5.0,651.0,4.0,2...| -8.350124376603809| -6.649875623396191|\n",
      "|  0.0|[-5.0,370.0,4.0,1...| -8.041291554730817|  8.041291554730817|\n",
      "|-23.0|[-8.0,868.0,4.0,1...|-12.066267226794213|-10.933732773205787|\n",
      "|-16.0|[-6.0,1464.0,4.0,...|-11.626158499631828| -4.373841500368172|\n",
      "| -3.0|[-3.0,1464.0,4.0,...| -8.122518253775802|  5.122518253775802|\n",
      "|  3.0|[-6.0,1055.0,4.0,...| -11.09427815396823|  14.09427815396823|\n",
      "|-16.0|[-11.0,255.0,4.0,...|-14.001481270182058|-1.9985187298179419|\n",
      "|-11.0|(9,[1,2,3],[1440....| -5.434426258966926| -5.565573741033074|\n",
      "|  0.0|[1.0,641.0,4.0,22...| -1.949229044788885|  1.949229044788885|\n",
      "| -4.0|[2.0,1440.0,4.0,1...| -3.139883195990686|-0.8601168040093139|\n",
      "|  3.0|[-9.0,1055.0,4.0,...|-14.477689755762267| 17.477689755762267|\n",
      "| -7.0|[5.0,1055.0,4.0,1...|0.26536202344885496| -7.265362023448855|\n",
      "| 18.0|[7.0,370.0,4.0,20...|  5.147192985283156| 12.852807014716845|\n",
      "|-10.0|[-4.0,1055.0,4.0,...|-10.494303144653696| 0.4943031446536956|\n",
      "|-15.0|[-2.0,1055.0,4.0,...|  -6.34682925543075|  -8.65317074456925|\n",
      "|-19.0|[-7.0,1464.0,4.0,...|-15.675150944374892|-3.3248490556251085|\n",
      "+-----+--------------------+-------------------+-------------------+\n",
      "only showing top 20 rows\n",
      "\n"
     ]
    }
   ],
   "source": [
    "pred = pred.withColumn('residual', pred.label-pred.prediction)\n",
    "pred.show()"
   ]
  },
  {
   "cell_type": "code",
   "execution_count": 10,
   "metadata": {
    "collapsed": false
   },
   "outputs": [
    {
     "name": "stdout",
     "output_type": "stream",
     "text": [
      "15.340617652785491\n",
      "10.60870150778022\n",
      "0.917806269789125\n"
     ]
    }
   ],
   "source": [
    "from pyspark.ml.evaluation import RegressionEvaluator\n",
    "\n",
    "print(RegressionEvaluator(metricName=\"rmse\").evaluate(pred))\n",
    "print(RegressionEvaluator(metricName=\"mae\").evaluate(pred))\n",
    "print(RegressionEvaluator(metricName=\"r2\").evaluate(pred))\n"
   ]
  },
  {
   "cell_type": "code",
   "execution_count": 11,
   "metadata": {
    "collapsed": false
   },
   "outputs": [
    {
     "data": {
      "text/plain": [
       "<seaborn.axisgrid.JointGrid at 0x7f0b25749c18>"
      ]
     },
     "execution_count": 11,
     "metadata": {},
     "output_type": "execute_result"
    },
    {
     "data": {
      "image/png": "[encoded data removed]",
      "text/plain": [
       "<matplotlib.figure.Figure at 0x7f0b2392e2e8>"
      ]
     },
     "metadata": {},
     "output_type": "display_data"
    }
   ],
   "source": [
    "import seaborn as sns\n",
    "%matplotlib inline\n",
    "\n",
    "pdpred = pred.toPandas()\n",
    "sns.jointplot(x=\"prediction\", y=\"residual\", data=pdpred)"
   ]
  },
  {
   "cell_type": "code",
   "execution_count": null,
   "metadata": {
    "collapsed": true
   },
   "outputs": [],
   "source": []
  }
 ],
 "metadata": {
  "anaconda-cloud": {},
  "kernelspec": {
   "display_name": "Python [default]",
   "language": "python",
   "name": "python3"
  },
  "language_info": {
   "codemirror_mode": {
    "name": "ipython",
    "version": 3
   },
   "file_extension": ".py",
   "mimetype": "text/x-python",
   "name": "python",
   "nbconvert_exporter": "python",
   "pygments_lexer": "ipython3",
   "version": "3.5.2"
  }
 },
 "nbformat": 4,
 "nbformat_minor": 2
}
