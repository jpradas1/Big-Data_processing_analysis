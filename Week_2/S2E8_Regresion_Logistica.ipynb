{
 "cells": [
  {
   "cell_type": "markdown",
   "metadata": {
    "collapsed": true
   },
   "source": [
    "# Modelo de Regresión Logística"
   ]
  },
  {
   "cell_type": "code",
   "execution_count": 1,
   "metadata": {
    "collapsed": true
   },
   "outputs": [],
   "source": [
    "#from pyspark import SparkContext\n",
    "#sc = SparkContext()\n",
    "#from pyspark.sql import SQLContext\n",
    "#sqlContext=SQLContext(sc)"
   ]
  },
  {
   "cell_type": "code",
   "execution_count": 2,
   "metadata": {
    "collapsed": true
   },
   "outputs": [],
   "source": [
    "bd5 = sqlContext.read.format(\n",
    "    \"com.databricks.spark.csv\"\n",
    ").option(\"header\", \"true\").load(\"bd5.csv\", inferSchema=True)\n",
    "sqlContext.registerDataFrameAsTable(bd5, \"bd5\")"
   ]
  },
  {
   "cell_type": "code",
   "execution_count": 3,
   "metadata": {
    "collapsed": true
   },
   "outputs": [],
   "source": [
    "from pyspark.ml.feature import VectorAssembler\n",
    "\n",
    "bd5 = bd5.withColumn('Horario1',(bd5.Horario==1) \n",
    ").withColumn('Horario2',(bd5.Horario==2) \n",
    ").withColumn('Horario3',(bd5.Horario==3))\n",
    "\n",
    "# Términos cuadráticos añadidos manualmente\n",
    "bd5 = bd5.withColumn('DepDelay2',(bd5.DEP_DELAY**2)\n",
    ").withColumn('DepD_Distance',(bd5.DEP_DELAY * bd5.DISTANCE)) "
   ]
  },
  {
   "cell_type": "markdown",
   "metadata": {},
   "source": [
    "## Descripción Previa de la Base de Datos"
   ]
  },
  {
   "cell_type": "markdown",
   "metadata": {},
   "source": [
    "Resumen Numérico"
   ]
  },
  {
   "cell_type": "code",
   "execution_count": 4,
   "metadata": {
    "collapsed": false
   },
   "outputs": [
    {
     "name": "stdout",
     "output_type": "stream",
     "text": [
      "+-------+------------------+\n",
      "|summary|           Retraso|\n",
      "+-------+------------------+\n",
      "|  count|             30466|\n",
      "|   mean|0.2757500164117377|\n",
      "| stddev|0.4468987584631848|\n",
      "|    min|                 0|\n",
      "|    max|                 1|\n",
      "+-------+------------------+\n",
      "\n"
     ]
    }
   ],
   "source": [
    "bd5.select('Retraso').describe().show()"
   ]
  },
  {
   "cell_type": "code",
   "execution_count": 5,
   "metadata": {
    "collapsed": false
   },
   "outputs": [
    {
     "data": {
      "text/html": [
       "<div>\n",
       "<table border=\"1\" class=\"dataframe\">\n",
       "  <thead>\n",
       "    <tr style=\"text-align: right;\">\n",
       "      <th></th>\n",
       "      <th>Retraso</th>\n",
       "      <th>ARR_DELAY</th>\n",
       "      <th>DEP_DELAY</th>\n",
       "      <th>DAY_OF_WEEK</th>\n",
       "      <th>CRS_DEP_TIME</th>\n",
       "    </tr>\n",
       "  </thead>\n",
       "  <tbody>\n",
       "    <tr>\n",
       "      <th>Retraso</th>\n",
       "      <td>1.000000</td>\n",
       "      <td>0.507981</td>\n",
       "      <td>0.437363</td>\n",
       "      <td>0.034566</td>\n",
       "      <td>0.124188</td>\n",
       "    </tr>\n",
       "    <tr>\n",
       "      <th>ARR_DELAY</th>\n",
       "      <td>0.507981</td>\n",
       "      <td>1.000000</td>\n",
       "      <td>0.973316</td>\n",
       "      <td>0.045201</td>\n",
       "      <td>0.100995</td>\n",
       "    </tr>\n",
       "    <tr>\n",
       "      <th>DEP_DELAY</th>\n",
       "      <td>0.437363</td>\n",
       "      <td>0.973316</td>\n",
       "      <td>1.000000</td>\n",
       "      <td>0.040341</td>\n",
       "      <td>0.096217</td>\n",
       "    </tr>\n",
       "    <tr>\n",
       "      <th>DAY_OF_WEEK</th>\n",
       "      <td>0.034566</td>\n",
       "      <td>0.045201</td>\n",
       "      <td>0.040341</td>\n",
       "      <td>1.000000</td>\n",
       "      <td>-0.012944</td>\n",
       "    </tr>\n",
       "    <tr>\n",
       "      <th>CRS_DEP_TIME</th>\n",
       "      <td>0.124188</td>\n",
       "      <td>0.100995</td>\n",
       "      <td>0.096217</td>\n",
       "      <td>-0.012944</td>\n",
       "      <td>1.000000</td>\n",
       "    </tr>\n",
       "  </tbody>\n",
       "</table>\n",
       "</div>"
      ],
      "text/plain": [
       "               Retraso  ARR_DELAY  DEP_DELAY  DAY_OF_WEEK  CRS_DEP_TIME\n",
       "Retraso       1.000000   0.507981   0.437363     0.034566      0.124188\n",
       "ARR_DELAY     0.507981   1.000000   0.973316     0.045201      0.100995\n",
       "DEP_DELAY     0.437363   0.973316   1.000000     0.040341      0.096217\n",
       "DAY_OF_WEEK   0.034566   0.045201   0.040341     1.000000     -0.012944\n",
       "CRS_DEP_TIME  0.124188   0.100995   0.096217    -0.012944      1.000000"
      ]
     },
     "execution_count": 5,
     "metadata": {},
     "output_type": "execute_result"
    }
   ],
   "source": [
    "pdf5 = bd5.sample(False, 0.1, 0).select('Retraso','ARR_DELAY','DEP_DELAY',\n",
    "                                        'DAY_OF_WEEK','CRS_DEP_TIME').toPandas()\n",
    "pdf5.corr()"
   ]
  },
  {
   "cell_type": "code",
   "execution_count": 6,
   "metadata": {
    "collapsed": false
   },
   "outputs": [
    {
     "data": {
      "text/plain": [
       "<matplotlib.axes._subplots.AxesSubplot at 0x7f3b88df8240>"
      ]
     },
     "execution_count": 6,
     "metadata": {},
     "output_type": "execute_result"
    },
    {
     "data": {
      "image/png": "[encoded data removed]",
      "text/plain": [
       "<matplotlib.figure.Figure at 0x7f3b8ac64780>"
      ]
     },
     "metadata": {},
     "output_type": "display_data"
    }
   ],
   "source": [
    "import seaborn as sns\n",
    "%matplotlib inline\n",
    "\n",
    "sns.boxplot(x='Retraso',y='DEP_DELAY',data=pdf5)"
   ]
  },
  {
   "cell_type": "markdown",
   "metadata": {},
   "source": [
    "Configuración de la Base de Datos"
   ]
  },
  {
   "cell_type": "code",
   "execution_count": 7,
   "metadata": {
    "collapsed": false
   },
   "outputs": [],
   "source": [
    "from pyspark.sql.functions import col\n",
    "\n",
    "a1  = VectorAssembler(\n",
    "    inputCols=['DEP_DELAY','DISTANCE','DAY_OF_WEEK',\n",
    "               'CRS_DEP_TIME','Horario1','Horario2',\n",
    "               'Horario3','DepDelay2','DepD_Distance'],\n",
    "    outputCol='features')\n",
    "\n",
    "bd6 = a1.transform(bd5).select(col(\"Retraso\").cast('double').alias(\"label\"),'features')"
   ]
  },
  {
   "cell_type": "code",
   "execution_count": 8,
   "metadata": {
    "collapsed": false
   },
   "outputs": [
    {
     "name": "stdout",
     "output_type": "stream",
     "text": [
      "+-----+--------------------+\n",
      "|label|            features|\n",
      "+-----+--------------------+\n",
      "|  0.0|[-8.0,236.0,4.0,1...|\n",
      "|  0.0|[6.0,236.0,4.0,12...|\n",
      "|  0.0|[-5.0,236.0,4.0,1...|\n",
      "|  0.0|[-6.0,236.0,4.0,8...|\n",
      "|  0.0|[-5.0,651.0,4.0,2...|\n",
      "|  0.0|[-5.0,370.0,4.0,1...|\n",
      "|  0.0|[-8.0,868.0,4.0,1...|\n",
      "|  0.0|[-6.0,1464.0,4.0,...|\n",
      "|  0.0|[-3.0,1464.0,4.0,...|\n",
      "|  0.0|[-6.0,1055.0,4.0,...|\n",
      "|  0.0|[-11.0,255.0,4.0,...|\n",
      "|  0.0|(9,[1,2,3],[1440....|\n",
      "|  0.0|[1.0,641.0,4.0,22...|\n",
      "|  0.0|[2.0,1440.0,4.0,1...|\n",
      "|  0.0|[-9.0,1055.0,4.0,...|\n",
      "|  0.0|[5.0,1055.0,4.0,1...|\n",
      "|  1.0|[7.0,370.0,4.0,20...|\n",
      "|  0.0|[-4.0,1055.0,4.0,...|\n",
      "|  0.0|[-2.0,1055.0,4.0,...|\n",
      "|  0.0|[-7.0,1464.0,4.0,...|\n",
      "+-----+--------------------+\n",
      "only showing top 20 rows\n",
      "\n"
     ]
    }
   ],
   "source": [
    "bd6.show()"
   ]
  },
  {
   "cell_type": "markdown",
   "metadata": {},
   "source": [
    "## Ajuste del modelo"
   ]
  },
  {
   "cell_type": "code",
   "execution_count": 9,
   "metadata": {
    "collapsed": false
   },
   "outputs": [],
   "source": [
    "from pyspark.ml.classification import LogisticRegression\n",
    "\n",
    "lgr = LogisticRegression(maxIter=10, \n",
    "     labelCol=\"label\", \n",
    "     featuresCol=\"features\",\n",
    "     threshold=0.5)\n",
    "                        \n",
    "model = lgr.fit(bd6)"
   ]
  },
  {
   "cell_type": "code",
   "execution_count": 10,
   "metadata": {
    "collapsed": false
   },
   "outputs": [
    {
     "name": "stdout",
     "output_type": "stream",
     "text": [
      "-1.6228762950365914 [0.0174818630425,-0.000153907645432,0.00622037724017,0.000243814478493,-0.18527035429,0.0280656797874,0.0553254124157,1.4042617353e-06,9.64852764749e-06]\n"
     ]
    }
   ],
   "source": [
    "print(model.intercept,model.coefficients)"
   ]
  },
  {
   "cell_type": "markdown",
   "metadata": {},
   "source": [
    "Los valores predichos se obtienen de:\n",
    "\n",
    "$p_i = \\frac{e^{X_i\\beta}}{1+e^{X_i\\beta}}$\n",
    "\n",
    "Siendo $X_i\\beta  = \\beta_0 + \\beta_1 X_{1i} + ... \\beta_p X_{pi}$ los valores de raw_prediction.\n",
    "\n",
    "Los valores de raw_prediction se obtienen a partir de los coeficientes del modelo y las correspondientes variables explicativas"
   ]
  },
  {
   "cell_type": "code",
   "execution_count": 11,
   "metadata": {
    "collapsed": false
   },
   "outputs": [
    {
     "name": "stderr",
     "output_type": "stream",
     "text": [
      "/usr/lib/spark/python/pyspark/ml/classification.py:207: UserWarning: weights is deprecated. Use coefficients instead.\n",
      "  warnings.warn(\"weights is deprecated. Use coefficients instead.\")\n"
     ]
    },
    {
     "name": "stdout",
     "output_type": "stream",
     "text": [
      "+--------------------+--------------------+\n",
      "|       rawPrediction|         probability|\n",
      "+--------------------+--------------------+\n",
      "|[1.38588018074077...|[0.79993372290508...|\n",
      "|[1.15805757782493...|[0.76097958746655...|\n",
      "|[1.45534475592752...|[0.81081963453715...|\n",
      "|[1.52482637822825...|[0.82124809014486...|\n",
      "|[1.48413341690803...|[0.81519609728737...|\n",
      "|[1.36274699976021...|[0.79620579443903...|\n",
      "|[1.46071846651767...|[0.81164253777179...|\n",
      "|[1.77760088417091...|[0.85540037083745...|\n",
      "|[1.61064779104856...|[0.83350130426781...|\n",
      "|[1.51864582301092...|[0.82033898458456...|\n",
      "|[1.45536111639015...|[0.81082214407465...|\n",
      "|[1.34393974795933...|[0.79313708498665...|\n",
      "|[1.31990959905058...|[0.78916666576687...|\n",
      "|[1.48498453446148...|[0.81532428495909...|\n",
      "|[1.64910963367082...|[0.83877067855847...|\n",
      "|[1.21560868546533...|[0.77128983651268...|\n",
      "|[1.00647032485384...|[0.73232881823788...|\n",
      "|[1.88315119722244...|[0.86797266035592...|\n",
      "|[1.57818153756871...|[0.82894682515774...|\n",
      "|[2.21757755315872...|[0.90181691326734...|\n",
      "+--------------------+--------------------+\n",
      "only showing top 20 rows\n",
      "\n"
     ]
    }
   ],
   "source": [
    "pred = model.transform(bd6)\n",
    "pred.select('rawPrediction','probability').show(20)\n"
   ]
  },
  {
   "cell_type": "markdown",
   "metadata": {},
   "source": [
    "Los valores de *probability* son transformados a *prediction* empleando un punto de corte. \n",
    "\n",
    "Por defecto: 0.5"
   ]
  },
  {
   "cell_type": "code",
   "execution_count": 12,
   "metadata": {
    "collapsed": false
   },
   "outputs": [
    {
     "name": "stdout",
     "output_type": "stream",
     "text": [
      "+-----+----------+--------------------+\n",
      "|label|prediction|         probability|\n",
      "+-----+----------+--------------------+\n",
      "|  0.0|       0.0|[0.79993372290508...|\n",
      "|  0.0|       0.0|[0.76097958746655...|\n",
      "|  0.0|       0.0|[0.81081963453715...|\n",
      "|  0.0|       0.0|[0.82124809014486...|\n",
      "|  0.0|       0.0|[0.81519609728737...|\n",
      "|  0.0|       0.0|[0.79620579443903...|\n",
      "|  0.0|       0.0|[0.81164253777179...|\n",
      "|  0.0|       0.0|[0.85540037083745...|\n",
      "|  0.0|       0.0|[0.83350130426781...|\n",
      "|  0.0|       0.0|[0.82033898458456...|\n",
      "|  0.0|       0.0|[0.81082214407465...|\n",
      "|  0.0|       0.0|[0.79313708498665...|\n",
      "|  0.0|       0.0|[0.78916666576687...|\n",
      "|  0.0|       0.0|[0.81532428495909...|\n",
      "|  0.0|       0.0|[0.83877067855847...|\n",
      "|  0.0|       0.0|[0.77128983651268...|\n",
      "|  1.0|       0.0|[0.73232881823788...|\n",
      "|  0.0|       0.0|[0.86797266035592...|\n",
      "|  0.0|       0.0|[0.82894682515774...|\n",
      "|  0.0|       0.0|[0.90181691326734...|\n",
      "+-----+----------+--------------------+\n",
      "only showing top 20 rows\n",
      "\n"
     ]
    }
   ],
   "source": [
    "pred.select('label','prediction','probability').show(20)"
   ]
  },
  {
   "cell_type": "code",
   "execution_count": 13,
   "metadata": {
    "collapsed": false
   },
   "outputs": [
    {
     "name": "stdout",
     "output_type": "stream",
     "text": [
      "+-------+------------------+-------------------+\n",
      "|summary|             label|         prediction|\n",
      "+-------+------------------+-------------------+\n",
      "|  count|             30466|              30466|\n",
      "|   mean|0.2757500164117377|0.10802205737543491|\n",
      "| stddev|0.4468987584631848|0.31041336190561725|\n",
      "|    min|               0.0|                0.0|\n",
      "|    max|               1.0|                1.0|\n",
      "+-------+------------------+-------------------+\n",
      "\n"
     ]
    }
   ],
   "source": [
    "pred.describe().show()"
   ]
  },
  {
   "cell_type": "markdown",
   "metadata": {},
   "source": [
    "### Ajuste"
   ]
  },
  {
   "cell_type": "code",
   "execution_count": 14,
   "metadata": {
    "collapsed": false
   },
   "outputs": [
    {
     "data": {
      "text/plain": [
       "0.9053308831809515"
      ]
     },
     "execution_count": 14,
     "metadata": {},
     "output_type": "execute_result"
    }
   ],
   "source": [
    "from pyspark.ml.evaluation import BinaryClassificationEvaluator as BCE\n",
    "\n",
    "evaluator=BCE(rawPredictionCol='rawPrediction',labelCol='label',\n",
    "              metricName = \"areaUnderROC\")\n",
    "#areaUnderPR\n",
    "evaluator.evaluate(pred)"
   ]
  },
  {
   "cell_type": "markdown",
   "metadata": {},
   "source": [
    "## Regularización y Selección de Variables"
   ]
  },
  {
   "cell_type": "markdown",
   "metadata": {},
   "source": [
    "regParam=0, sin penalización (OLS).\n",
    "\n",
    "elasticNetParam = 0, penalización L2 (Ridge). \n",
    "\n",
    "elasticNetParam = 1, penalización L1 (Lasso)."
   ]
  },
  {
   "cell_type": "markdown",
   "metadata": {},
   "source": [
    "Ridge Regression"
   ]
  },
  {
   "cell_type": "code",
   "execution_count": 15,
   "metadata": {
    "collapsed": false
   },
   "outputs": [
    {
     "name": "stdout",
     "output_type": "stream",
     "text": [
      "-1.3010322347928636 [0.00626416445529,-4.69845926539e-05,0.00776377758017,0.000137146605245,-0.108290451465,-0.00892144636168,0.0343034531299,9.52349580712e-07,3.75833657102e-06]\n"
     ]
    },
    {
     "name": "stderr",
     "output_type": "stream",
     "text": [
      "/usr/lib/spark/python/pyspark/ml/classification.py:207: UserWarning: weights is deprecated. Use coefficients instead.\n",
      "  warnings.warn(\"weights is deprecated. Use coefficients instead.\")\n"
     ]
    }
   ],
   "source": [
    "lgr = LogisticRegression(maxIter=10, \n",
    "     labelCol=\"label\", \n",
    "     featuresCol=\"features\",\n",
    "     regParam=0.5,\n",
    "     elasticNetParam=0.0)\n",
    "                        \n",
    "model = lgr.fit(bd6)\n",
    "pred = model.transform(bd6)\n",
    "print(model.intercept,model.coefficients)"
   ]
  },
  {
   "cell_type": "markdown",
   "metadata": {},
   "source": [
    "Lasso Regression"
   ]
  },
  {
   "cell_type": "code",
   "execution_count": 16,
   "metadata": {
    "collapsed": false
   },
   "outputs": [
    {
     "name": "stdout",
     "output_type": "stream",
     "text": [
      "-1.6402992418896536 (9,[0,1,2,8],[0.070204446606,-0.000311812101591,-0.014813395958,7.53966187495e-06])\n"
     ]
    },
    {
     "name": "stderr",
     "output_type": "stream",
     "text": [
      "/usr/lib/spark/python/pyspark/ml/classification.py:207: UserWarning: weights is deprecated. Use coefficients instead.\n",
      "  warnings.warn(\"weights is deprecated. Use coefficients instead.\")\n"
     ]
    }
   ],
   "source": [
    "lgr = LogisticRegression(maxIter=10, \n",
    "     labelCol=\"label\", \n",
    "     featuresCol=\"features\",\n",
    "     regParam=0.02,\n",
    "     elasticNetParam=1.0)\n",
    "                        \n",
    "model = lgr.fit(bd6)\n",
    "pred = model.transform(bd6)\n",
    "print(model.intercept,model.coefficients)"
   ]
  },
  {
   "cell_type": "code",
   "execution_count": null,
   "metadata": {
    "collapsed": true
   },
   "outputs": [],
   "source": []
  }
 ],
 "metadata": {
  "anaconda-cloud": {},
  "kernelspec": {
   "display_name": "Python [default]",
   "language": "python",
   "name": "python3"
  },
  "language_info": {
   "codemirror_mode": {
    "name": "ipython",
    "version": 3
   },
   "file_extension": ".py",
   "mimetype": "text/x-python",
   "name": "python",
   "nbconvert_exporter": "python",
   "pygments_lexer": "ipython3",
   "version": "3.5.2"
  }
 },
 "nbformat": 4,
 "nbformat_minor": 2
}
